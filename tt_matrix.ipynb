{
 "cells": [
  {
   "cell_type": "markdown",
   "source": [
    "This notebook is used to calculate the duration matrix. We use [Open Source Routing Engine](https://github.com/Project-OSRM/osrm-backend) running locally for imporved performance. We build on [Michael Yan's](https://www.thinkdatascience.com/post/2020-03-03-osrm/osrm/) tutorial"
   ],
   "metadata": {
    "collapsed": false
   }
  },
  {
   "cell_type": "code",
   "execution_count": 6,
   "metadata": {
    "collapsed": true
   },
   "outputs": [],
   "source": [
    "import requests\n",
    "import numpy as np\n",
    "import pandas as pd"
   ]
  },
  {
   "cell_type": "markdown",
   "source": [
    "## Testing\n",
    "This first test calculates"
   ],
   "metadata": {
    "collapsed": false
   }
  },
  {
   "cell_type": "code",
   "execution_count": 7,
   "outputs": [
    {
     "data": {
      "text/plain": "{'code': 'Ok',\n 'routes': [{'geometry': 'yzntGywaw@rao@rh`@xe[j~G|`]n~Wj~PtgBldNmmA|wOyuLhBghFfpBaeA`~A`gBr~P_R`kPruHv}Ac|JvsF{kIbdFa~j@~gGuzUxmHsdNsP_|FtlGu{ZkqAasM~sEamPnu@o}MdaRwxQ_PunBtaIuuEdUs`E',\n   'legs': [{'steps': [],\n     'summary': '',\n     'weight': 11506.3,\n     'duration': 11503,\n     'distance': 249685.6}],\n   'weight_name': 'routability',\n   'weight': 11506.3,\n   'duration': 11503,\n   'distance': 249685.6}],\n 'waypoints': [{'hint': 'voYggMCGIIBDAAAAAAAAAAAAAAAAAAAAjLe6QQAAAAAAAAAAAAAAACIAAAAAAAAAAAAAAAAAAAAkBgAAhjeMAGO9tQJ8OIwA7Lq1AgAATwtoxuqc',\n   'distance': 72.720137603,\n   'name': 'Via Silvio Pellico',\n   'location': [9.189254, 45.464931]},\n  {'hint': '_-oFgFHrBYAAAAAACQAAAAAAAABVAwAAAAAAACy4yEAAAAAA51QURAAAAAAJAAAAAAAAAFUDAAAkBgAAWRqZAFEeoAIQv54AcvCaAgAAjxFoxuqc',\n   'distance': 48020.159932619,\n   'name': 'Via Macchia',\n   'location': [10.033753, 44.047953]}]}"
     },
     "execution_count": 7,
     "metadata": {},
     "output_type": "execute_result"
    }
   ],
   "source": [
    "url = \"http://127.0.0.1:5000/route/v1/driving/9.1895,45.4643;10.4036000,43.7085300\"\n",
    "r = requests.get(url)\n",
    "res = r.json()\n",
    "res"
   ],
   "metadata": {
    "collapsed": false
   }
  },
  {
   "cell_type": "markdown",
   "source": [],
   "metadata": {
    "collapsed": false
   }
  },
  {
   "cell_type": "code",
   "execution_count": 19,
   "outputs": [],
   "source": [
    "def get_route(pickup_lon, pickup_lat, dropoff_lon, dropoff_lat):\n",
    "# car, bike or foot\n",
    "    loc = \"{},{};{},{}\".format(pickup_lon, pickup_lat, dropoff_lon, dropoff_lat)\n",
    "    url = \"http://127.0.0.1:5000/route/v1/driving/\"\n",
    "    r = requests.get(url + loc)\n",
    "    if r.status_code!= 200:\n",
    "        return {}\n",
    "\n",
    "    res = r.json()\n",
    "    duration = res['routes'][0]['duration']\n",
    "    distance = res['routes'][0]['distance']\n",
    "\n",
    "    dict_out = {'duration':duration,\n",
    "           'distance':distance\n",
    "           }\n",
    "\n",
    "    return duration"
   ],
   "metadata": {
    "collapsed": false
   }
  },
  {
   "cell_type": "code",
   "execution_count": 20,
   "outputs": [
    {
     "data": {
      "text/plain": "739.4"
     },
     "execution_count": 20,
     "metadata": {},
     "output_type": "execute_result"
    }
   ],
   "source": [
    "get_route(9.1930893, 45.5053767\t,9.23444555, 45.49610165\n",
    ")"
   ],
   "metadata": {
    "collapsed": false
   }
  },
  {
   "cell_type": "code",
   "execution_count": 10,
   "outputs": [],
   "source": [
    "lon1 = np.random.uniform(45.5025,45.4368, 1000).round(6)\n",
    "lon2 = np.random.uniform(45.5025,45.4368, 1000).round(6)\n",
    "lat1 = np.random.uniform(9.1459,9.3056, 1000).round(6)\n",
    "lat2 = np.random.uniform(9.1459,9.3056, 1000).round(6)\n",
    "df = pd.DataFrame({'pickup_lon': lon1,\n",
    "                   'pickup_lat': lat1,\n",
    "                   'dropoff_lon': lon2,\n",
    "                   'dropoff_lat': lat2,\n",
    "                   })"
   ],
   "metadata": {
    "collapsed": false
   }
  },
  {
   "cell_type": "code",
   "execution_count": 11,
   "outputs": [
    {
     "name": "stdout",
     "output_type": "stream",
     "text": [
      "4000\n"
     ]
    },
    {
     "data": {
      "text/plain": "   pickup_lon  pickup_lat  dropoff_lon  dropoff_lat\n0   45.455423    9.256895    45.463485     9.253923\n1   45.442228    9.262467    45.470793     9.196155\n2   45.489093    9.160466    45.457318     9.263810\n3   45.444680    9.284368    45.455228     9.260624\n4   45.440275    9.231305    45.445833     9.255078",
      "text/html": "<div>\n<style scoped>\n    .dataframe tbody tr th:only-of-type {\n        vertical-align: middle;\n    }\n\n    .dataframe tbody tr th {\n        vertical-align: top;\n    }\n\n    .dataframe thead th {\n        text-align: right;\n    }\n</style>\n<table border=\"1\" class=\"dataframe\">\n  <thead>\n    <tr style=\"text-align: right;\">\n      <th></th>\n      <th>pickup_lon</th>\n      <th>pickup_lat</th>\n      <th>dropoff_lon</th>\n      <th>dropoff_lat</th>\n    </tr>\n  </thead>\n  <tbody>\n    <tr>\n      <th>0</th>\n      <td>45.455423</td>\n      <td>9.256895</td>\n      <td>45.463485</td>\n      <td>9.253923</td>\n    </tr>\n    <tr>\n      <th>1</th>\n      <td>45.442228</td>\n      <td>9.262467</td>\n      <td>45.470793</td>\n      <td>9.196155</td>\n    </tr>\n    <tr>\n      <th>2</th>\n      <td>45.489093</td>\n      <td>9.160466</td>\n      <td>45.457318</td>\n      <td>9.263810</td>\n    </tr>\n    <tr>\n      <th>3</th>\n      <td>45.444680</td>\n      <td>9.284368</td>\n      <td>45.455228</td>\n      <td>9.260624</td>\n    </tr>\n    <tr>\n      <th>4</th>\n      <td>45.440275</td>\n      <td>9.231305</td>\n      <td>45.445833</td>\n      <td>9.255078</td>\n    </tr>\n  </tbody>\n</table>\n</div>"
     },
     "execution_count": 11,
     "metadata": {},
     "output_type": "execute_result"
    }
   ],
   "source": [
    "print(len(df)*4)\n",
    "df.head()"
   ],
   "metadata": {
    "collapsed": false
   }
  },
  {
   "cell_type": "code",
   "execution_count": 12,
   "outputs": [
    {
     "name": "stdout",
     "output_type": "stream",
     "text": [
      "CPU times: total: 2.83 s\n",
      "Wall time: 14.4 s\n"
     ]
    }
   ],
   "source": [
    "%%time\n",
    "df['routes'] = df.apply(lambda x: get_route(x['pickup_lon'],\n",
    "                                            x['pickup_lat'],\n",
    "                                            x['dropoff_lon'],\n",
    "                                            x['dropoff_lat']), axis=1)"
   ],
   "metadata": {
    "collapsed": false
   }
  }
 ],
 "metadata": {
  "kernelspec": {
   "display_name": "Python 3",
   "language": "python",
   "name": "python3"
  },
  "language_info": {
   "codemirror_mode": {
    "name": "ipython",
    "version": 2
   },
   "file_extension": ".py",
   "mimetype": "text/x-python",
   "name": "python",
   "nbconvert_exporter": "python",
   "pygments_lexer": "ipython2",
   "version": "2.7.6"
  }
 },
 "nbformat": 4,
 "nbformat_minor": 0
}
