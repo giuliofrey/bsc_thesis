{
 "cells": [
  {
   "cell_type": "code",
   "execution_count": 31,
   "metadata": {
    "collapsed": true
   },
   "outputs": [],
   "source": [
    "import pandas as pd\n",
    "from tabula.io import read_pdf\n",
    "from functools import reduce\n",
    "from geopy.geocoders import Nominatim"
   ]
  },
  {
   "cell_type": "code",
   "execution_count": 32,
   "outputs": [],
   "source": [
    "pdf_list=read_pdf('elenco.pdf', pages='all')"
   ],
   "metadata": {
    "collapsed": false
   }
  },
  {
   "cell_type": "code",
   "execution_count": 33,
   "outputs": [
    {
     "data": {
      "text/plain": "   CODICE COMPLESSO DENOMINAZIONE COMPLESSO  CODICE EDIFICIO  \\\n0            100017                   PONTI         10001708   \n1            100017                   PONTI         10001709   \n2            100017                   PONTI         10001710   \n3            100017                   PONTI         10001711   \n4            100017                   PONTI         10001712   \n\n      DENOMINAZIONE EDIFICIO         INDIRIZZO CIVICO  COMUNE CONDOMINIO  \n0  DEL TURCHINO 20 C-D (VIA)  VIA DEL TURCHINO     20  MILANO        NaN  \n1  DEL TURCHINO 20 E-F (VIA)  VIA DEL TURCHINO     20  MILANO        NaN  \n2    DEL TURCHINO 20 G (VIA)  VIA DEL TURCHINO     20  MILANO        NaN  \n3    DEL TURCHINO 20 H (VIA)  VIA DEL TURCHINO     20  MILANO        NaN  \n4    DEL TURCHINO 22 A (VIA)  VIA DEL TURCHINO     22  MILANO        NaN  ",
      "text/html": "<div>\n<style scoped>\n    .dataframe tbody tr th:only-of-type {\n        vertical-align: middle;\n    }\n\n    .dataframe tbody tr th {\n        vertical-align: top;\n    }\n\n    .dataframe thead th {\n        text-align: right;\n    }\n</style>\n<table border=\"1\" class=\"dataframe\">\n  <thead>\n    <tr style=\"text-align: right;\">\n      <th></th>\n      <th>CODICE COMPLESSO</th>\n      <th>DENOMINAZIONE COMPLESSO</th>\n      <th>CODICE EDIFICIO</th>\n      <th>DENOMINAZIONE EDIFICIO</th>\n      <th>INDIRIZZO</th>\n      <th>CIVICO</th>\n      <th>COMUNE</th>\n      <th>CONDOMINIO</th>\n    </tr>\n  </thead>\n  <tbody>\n    <tr>\n      <th>0</th>\n      <td>100017</td>\n      <td>PONTI</td>\n      <td>10001708</td>\n      <td>DEL TURCHINO 20 C-D (VIA)</td>\n      <td>VIA DEL TURCHINO</td>\n      <td>20</td>\n      <td>MILANO</td>\n      <td>NaN</td>\n    </tr>\n    <tr>\n      <th>1</th>\n      <td>100017</td>\n      <td>PONTI</td>\n      <td>10001709</td>\n      <td>DEL TURCHINO 20 E-F (VIA)</td>\n      <td>VIA DEL TURCHINO</td>\n      <td>20</td>\n      <td>MILANO</td>\n      <td>NaN</td>\n    </tr>\n    <tr>\n      <th>2</th>\n      <td>100017</td>\n      <td>PONTI</td>\n      <td>10001710</td>\n      <td>DEL TURCHINO 20 G (VIA)</td>\n      <td>VIA DEL TURCHINO</td>\n      <td>20</td>\n      <td>MILANO</td>\n      <td>NaN</td>\n    </tr>\n    <tr>\n      <th>3</th>\n      <td>100017</td>\n      <td>PONTI</td>\n      <td>10001711</td>\n      <td>DEL TURCHINO 20 H (VIA)</td>\n      <td>VIA DEL TURCHINO</td>\n      <td>20</td>\n      <td>MILANO</td>\n      <td>NaN</td>\n    </tr>\n    <tr>\n      <th>4</th>\n      <td>100017</td>\n      <td>PONTI</td>\n      <td>10001712</td>\n      <td>DEL TURCHINO 22 A (VIA)</td>\n      <td>VIA DEL TURCHINO</td>\n      <td>22</td>\n      <td>MILANO</td>\n      <td>NaN</td>\n    </tr>\n  </tbody>\n</table>\n</div>"
     },
     "execution_count": 33,
     "metadata": {},
     "output_type": "execute_result"
    }
   ],
   "source": [
    "len(pdf_list)\n",
    "pdf_list[1].columns\n",
    "df=pd.concat(pdf_list[1:13], axis=0)\n",
    "df.columns=['CODICE COMPLESSO', 'DENOMINAZIONE COMPLESSO', 'CODICE EDIFICIO',\n",
    "            'DENOMINAZIONE EDIFICIO', 'INDIRIZZO', 'CIVICO', 'COMUNE', 'CONDOMINIO']\n",
    "df.head()"
   ],
   "metadata": {
    "collapsed": false
   }
  },
  {
   "cell_type": "code",
   "execution_count": 34,
   "outputs": [
    {
     "data": {
      "text/plain": "980"
     },
     "execution_count": 34,
     "metadata": {},
     "output_type": "execute_result"
    }
   ],
   "source": [
    "len(df)"
   ],
   "metadata": {
    "collapsed": false
   }
  },
  {
   "cell_type": "code",
   "execution_count": 35,
   "outputs": [
    {
     "data": {
      "text/plain": "   CODICE COMPLESSO DENOMINAZIONE COMPLESSO  CODICE EDIFICIO  \\\n0            100017                   PONTI         10001708   \n1            100017                   PONTI         10001709   \n2            100017                   PONTI         10001710   \n3            100017                   PONTI         10001711   \n4            100017                   PONTI         10001712   \n\n      DENOMINAZIONE EDIFICIO         INDIRIZZO CIVICO  COMUNE CONDOMINIO  \\\n0  DEL TURCHINO 20 C-D (VIA)  VIA DEL TURCHINO     20  MILANO        NaN   \n1  DEL TURCHINO 20 E-F (VIA)  VIA DEL TURCHINO     20  MILANO        NaN   \n2    DEL TURCHINO 20 G (VIA)  VIA DEL TURCHINO     20  MILANO        NaN   \n3    DEL TURCHINO 20 H (VIA)  VIA DEL TURCHINO     20  MILANO        NaN   \n4    DEL TURCHINO 22 A (VIA)  VIA DEL TURCHINO     22  MILANO        NaN   \n\n                 full_address  \n0  VIA DEL TURCHINO 20 MILANO  \n1  VIA DEL TURCHINO 20 MILANO  \n2  VIA DEL TURCHINO 20 MILANO  \n3  VIA DEL TURCHINO 20 MILANO  \n4  VIA DEL TURCHINO 22 MILANO  ",
      "text/html": "<div>\n<style scoped>\n    .dataframe tbody tr th:only-of-type {\n        vertical-align: middle;\n    }\n\n    .dataframe tbody tr th {\n        vertical-align: top;\n    }\n\n    .dataframe thead th {\n        text-align: right;\n    }\n</style>\n<table border=\"1\" class=\"dataframe\">\n  <thead>\n    <tr style=\"text-align: right;\">\n      <th></th>\n      <th>CODICE COMPLESSO</th>\n      <th>DENOMINAZIONE COMPLESSO</th>\n      <th>CODICE EDIFICIO</th>\n      <th>DENOMINAZIONE EDIFICIO</th>\n      <th>INDIRIZZO</th>\n      <th>CIVICO</th>\n      <th>COMUNE</th>\n      <th>CONDOMINIO</th>\n      <th>full_address</th>\n    </tr>\n  </thead>\n  <tbody>\n    <tr>\n      <th>0</th>\n      <td>100017</td>\n      <td>PONTI</td>\n      <td>10001708</td>\n      <td>DEL TURCHINO 20 C-D (VIA)</td>\n      <td>VIA DEL TURCHINO</td>\n      <td>20</td>\n      <td>MILANO</td>\n      <td>NaN</td>\n      <td>VIA DEL TURCHINO 20 MILANO</td>\n    </tr>\n    <tr>\n      <th>1</th>\n      <td>100017</td>\n      <td>PONTI</td>\n      <td>10001709</td>\n      <td>DEL TURCHINO 20 E-F (VIA)</td>\n      <td>VIA DEL TURCHINO</td>\n      <td>20</td>\n      <td>MILANO</td>\n      <td>NaN</td>\n      <td>VIA DEL TURCHINO 20 MILANO</td>\n    </tr>\n    <tr>\n      <th>2</th>\n      <td>100017</td>\n      <td>PONTI</td>\n      <td>10001710</td>\n      <td>DEL TURCHINO 20 G (VIA)</td>\n      <td>VIA DEL TURCHINO</td>\n      <td>20</td>\n      <td>MILANO</td>\n      <td>NaN</td>\n      <td>VIA DEL TURCHINO 20 MILANO</td>\n    </tr>\n    <tr>\n      <th>3</th>\n      <td>100017</td>\n      <td>PONTI</td>\n      <td>10001711</td>\n      <td>DEL TURCHINO 20 H (VIA)</td>\n      <td>VIA DEL TURCHINO</td>\n      <td>20</td>\n      <td>MILANO</td>\n      <td>NaN</td>\n      <td>VIA DEL TURCHINO 20 MILANO</td>\n    </tr>\n    <tr>\n      <th>4</th>\n      <td>100017</td>\n      <td>PONTI</td>\n      <td>10001712</td>\n      <td>DEL TURCHINO 22 A (VIA)</td>\n      <td>VIA DEL TURCHINO</td>\n      <td>22</td>\n      <td>MILANO</td>\n      <td>NaN</td>\n      <td>VIA DEL TURCHINO 22 MILANO</td>\n    </tr>\n  </tbody>\n</table>\n</div>"
     },
     "execution_count": 35,
     "metadata": {},
     "output_type": "execute_result"
    }
   ],
   "source": [
    "df['full_address']=df['INDIRIZZO']+\" \"+df['CIVICO'].astype(str)+\" \"+df['COMUNE']\n",
    "df.head()"
   ],
   "metadata": {
    "collapsed": false
   }
  },
  {
   "cell_type": "code",
   "execution_count": 36,
   "outputs": [],
   "source": [
    "geolocator = Nominatim(user_agent=\"myApp\")\n",
    "\n",
    "def geo_lat(lat):\n",
    "    try:\n",
    "        return geolocator.geocode(lat).latitude\n",
    "    except:\n",
    "        return 'not found'\n",
    "\n",
    "def geo_long(long):\n",
    "    try:\n",
    "        return geolocator.geocode(long).longitude\n",
    "    except:\n",
    "        return 'not found'"
   ],
   "metadata": {
    "collapsed": false
   }
  },
  {
   "cell_type": "code",
   "execution_count": 37,
   "outputs": [],
   "source": [
    "df['lat']=df['full_address'].apply(lambda x: geo_lat(x))\n",
    "df['lon']=df['full_address'].apply(lambda x: geo_long(x))"
   ],
   "metadata": {
    "collapsed": false
   }
  },
  {
   "cell_type": "code",
   "execution_count": 38,
   "outputs": [
    {
     "data": {
      "text/plain": "116"
     },
     "execution_count": 38,
     "metadata": {},
     "output_type": "execute_result"
    }
   ],
   "source": [
    "(df.lat=='not found').sum()"
   ],
   "metadata": {
    "collapsed": false
   }
  },
  {
   "cell_type": "code",
   "execution_count": 39,
   "outputs": [
    {
     "data": {
      "text/plain": "    CODICE COMPLESSO DENOMINAZIONE COMPLESSO  CODICE EDIFICIO  \\\n0             100017                   PONTI         10001708   \n1             100017                   PONTI         10001709   \n2             100017                   PONTI         10001710   \n3             100017                   PONTI         10001711   \n4             100017                   PONTI         10001712   \n..               ...                     ...              ...   \n2             510394              SENIGALLIA         51039405   \n3             510394              SENIGALLIA         51039406   \n4             510394              SENIGALLIA         51039407   \n5             510394              SENIGALLIA         51039408   \n6             510394              SENIGALLIA         51039410   \n\n       DENOMINAZIONE EDIFICIO         INDIRIZZO CIVICO  COMUNE CONDOMINIO  \\\n0   DEL TURCHINO 20 C-D (VIA)  VIA DEL TURCHINO     20  MILANO        NaN   \n1   DEL TURCHINO 20 E-F (VIA)  VIA DEL TURCHINO     20  MILANO        NaN   \n2     DEL TURCHINO 20 G (VIA)  VIA DEL TURCHINO     20  MILANO        NaN   \n3     DEL TURCHINO 20 H (VIA)  VIA DEL TURCHINO     20  MILANO        NaN   \n4     DEL TURCHINO 22 A (VIA)  VIA DEL TURCHINO     22  MILANO        NaN   \n..                        ...               ...    ...     ...        ...   \n2        SENIGALLIA - CORPO F    VIA SENIGALLIA   60/G  MILANO        NaN   \n3       SENIGALLIA - CORPO P1    VIA SENIGALLIA     60  MILANO        NaN   \n4       SENIGALLIA - CORPO P2    VIA SENIGALLIA     60  MILANO        NaN   \n5       SENIGALLIA - CORPO P3    VIA SENIGALLIA     60  MILANO        NaN   \n6         POSTI AUTO SCOPERTI    VIA SENIGALLIA     60  MILANO        NaN   \n\n                  full_address        lat       lon  \n0   VIA DEL TURCHINO 20 MILANO  45.451893  9.228053  \n1   VIA DEL TURCHINO 20 MILANO  45.451893  9.228053  \n2   VIA DEL TURCHINO 20 MILANO  45.451893  9.228053  \n3   VIA DEL TURCHINO 20 MILANO  45.451893  9.228053  \n4   VIA DEL TURCHINO 22 MILANO  45.451893  9.228053  \n..                         ...        ...       ...  \n2   VIA SENIGALLIA 60/G MILANO  45.532143   9.16897  \n3     VIA SENIGALLIA 60 MILANO  45.532143   9.16897  \n4     VIA SENIGALLIA 60 MILANO  45.532143   9.16897  \n5     VIA SENIGALLIA 60 MILANO  45.532143   9.16897  \n6     VIA SENIGALLIA 60 MILANO  45.532143   9.16897  \n\n[980 rows x 11 columns]",
      "text/html": "<div>\n<style scoped>\n    .dataframe tbody tr th:only-of-type {\n        vertical-align: middle;\n    }\n\n    .dataframe tbody tr th {\n        vertical-align: top;\n    }\n\n    .dataframe thead th {\n        text-align: right;\n    }\n</style>\n<table border=\"1\" class=\"dataframe\">\n  <thead>\n    <tr style=\"text-align: right;\">\n      <th></th>\n      <th>CODICE COMPLESSO</th>\n      <th>DENOMINAZIONE COMPLESSO</th>\n      <th>CODICE EDIFICIO</th>\n      <th>DENOMINAZIONE EDIFICIO</th>\n      <th>INDIRIZZO</th>\n      <th>CIVICO</th>\n      <th>COMUNE</th>\n      <th>CONDOMINIO</th>\n      <th>full_address</th>\n      <th>lat</th>\n      <th>lon</th>\n    </tr>\n  </thead>\n  <tbody>\n    <tr>\n      <th>0</th>\n      <td>100017</td>\n      <td>PONTI</td>\n      <td>10001708</td>\n      <td>DEL TURCHINO 20 C-D (VIA)</td>\n      <td>VIA DEL TURCHINO</td>\n      <td>20</td>\n      <td>MILANO</td>\n      <td>NaN</td>\n      <td>VIA DEL TURCHINO 20 MILANO</td>\n      <td>45.451893</td>\n      <td>9.228053</td>\n    </tr>\n    <tr>\n      <th>1</th>\n      <td>100017</td>\n      <td>PONTI</td>\n      <td>10001709</td>\n      <td>DEL TURCHINO 20 E-F (VIA)</td>\n      <td>VIA DEL TURCHINO</td>\n      <td>20</td>\n      <td>MILANO</td>\n      <td>NaN</td>\n      <td>VIA DEL TURCHINO 20 MILANO</td>\n      <td>45.451893</td>\n      <td>9.228053</td>\n    </tr>\n    <tr>\n      <th>2</th>\n      <td>100017</td>\n      <td>PONTI</td>\n      <td>10001710</td>\n      <td>DEL TURCHINO 20 G (VIA)</td>\n      <td>VIA DEL TURCHINO</td>\n      <td>20</td>\n      <td>MILANO</td>\n      <td>NaN</td>\n      <td>VIA DEL TURCHINO 20 MILANO</td>\n      <td>45.451893</td>\n      <td>9.228053</td>\n    </tr>\n    <tr>\n      <th>3</th>\n      <td>100017</td>\n      <td>PONTI</td>\n      <td>10001711</td>\n      <td>DEL TURCHINO 20 H (VIA)</td>\n      <td>VIA DEL TURCHINO</td>\n      <td>20</td>\n      <td>MILANO</td>\n      <td>NaN</td>\n      <td>VIA DEL TURCHINO 20 MILANO</td>\n      <td>45.451893</td>\n      <td>9.228053</td>\n    </tr>\n    <tr>\n      <th>4</th>\n      <td>100017</td>\n      <td>PONTI</td>\n      <td>10001712</td>\n      <td>DEL TURCHINO 22 A (VIA)</td>\n      <td>VIA DEL TURCHINO</td>\n      <td>22</td>\n      <td>MILANO</td>\n      <td>NaN</td>\n      <td>VIA DEL TURCHINO 22 MILANO</td>\n      <td>45.451893</td>\n      <td>9.228053</td>\n    </tr>\n    <tr>\n      <th>...</th>\n      <td>...</td>\n      <td>...</td>\n      <td>...</td>\n      <td>...</td>\n      <td>...</td>\n      <td>...</td>\n      <td>...</td>\n      <td>...</td>\n      <td>...</td>\n      <td>...</td>\n      <td>...</td>\n    </tr>\n    <tr>\n      <th>2</th>\n      <td>510394</td>\n      <td>SENIGALLIA</td>\n      <td>51039405</td>\n      <td>SENIGALLIA - CORPO F</td>\n      <td>VIA SENIGALLIA</td>\n      <td>60/G</td>\n      <td>MILANO</td>\n      <td>NaN</td>\n      <td>VIA SENIGALLIA 60/G MILANO</td>\n      <td>45.532143</td>\n      <td>9.16897</td>\n    </tr>\n    <tr>\n      <th>3</th>\n      <td>510394</td>\n      <td>SENIGALLIA</td>\n      <td>51039406</td>\n      <td>SENIGALLIA - CORPO P1</td>\n      <td>VIA SENIGALLIA</td>\n      <td>60</td>\n      <td>MILANO</td>\n      <td>NaN</td>\n      <td>VIA SENIGALLIA 60 MILANO</td>\n      <td>45.532143</td>\n      <td>9.16897</td>\n    </tr>\n    <tr>\n      <th>4</th>\n      <td>510394</td>\n      <td>SENIGALLIA</td>\n      <td>51039407</td>\n      <td>SENIGALLIA - CORPO P2</td>\n      <td>VIA SENIGALLIA</td>\n      <td>60</td>\n      <td>MILANO</td>\n      <td>NaN</td>\n      <td>VIA SENIGALLIA 60 MILANO</td>\n      <td>45.532143</td>\n      <td>9.16897</td>\n    </tr>\n    <tr>\n      <th>5</th>\n      <td>510394</td>\n      <td>SENIGALLIA</td>\n      <td>51039408</td>\n      <td>SENIGALLIA - CORPO P3</td>\n      <td>VIA SENIGALLIA</td>\n      <td>60</td>\n      <td>MILANO</td>\n      <td>NaN</td>\n      <td>VIA SENIGALLIA 60 MILANO</td>\n      <td>45.532143</td>\n      <td>9.16897</td>\n    </tr>\n    <tr>\n      <th>6</th>\n      <td>510394</td>\n      <td>SENIGALLIA</td>\n      <td>51039410</td>\n      <td>POSTI AUTO SCOPERTI</td>\n      <td>VIA SENIGALLIA</td>\n      <td>60</td>\n      <td>MILANO</td>\n      <td>NaN</td>\n      <td>VIA SENIGALLIA 60 MILANO</td>\n      <td>45.532143</td>\n      <td>9.16897</td>\n    </tr>\n  </tbody>\n</table>\n<p>980 rows × 11 columns</p>\n</div>"
     },
     "execution_count": 39,
     "metadata": {},
     "output_type": "execute_result"
    }
   ],
   "source": [
    "df"
   ],
   "metadata": {
    "collapsed": false
   }
  },
  {
   "cell_type": "code",
   "execution_count": 40,
   "outputs": [],
   "source": [
    "df.to_csv('mm_dataset.csv')"
   ],
   "metadata": {
    "collapsed": false
   }
  }
 ],
 "metadata": {
  "kernelspec": {
   "display_name": "Python 3",
   "language": "python",
   "name": "python3"
  },
  "language_info": {
   "codemirror_mode": {
    "name": "ipython",
    "version": 2
   },
   "file_extension": ".py",
   "mimetype": "text/x-python",
   "name": "python",
   "nbconvert_exporter": "python",
   "pygments_lexer": "ipython2",
   "version": "2.7.6"
  }
 },
 "nbformat": 4,
 "nbformat_minor": 0
}
