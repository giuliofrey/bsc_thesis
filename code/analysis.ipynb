{
 "cells": [
  {
   "cell_type": "markdown",
   "source": [
    "# Analysis\n"
   ],
   "metadata": {
    "collapsed": false
   }
  },
  {
   "cell_type": "code",
   "execution_count": 91,
   "outputs": [],
   "source": [
    "import pandas as pd\n",
    "import numpy as np\n",
    "import matplotlib.pyplot as plt\n",
    "import fiona\n",
    "from shapely.geometry import MultiPoint, Point, Polygon,shape\n",
    "import random\n",
    "import warnings\n",
    "import statsmodels.api as sm\n",
    "from patsy import dmatrices\n",
    "import geopy.distance\n",
    "import pyperclip"
   ],
   "metadata": {
    "collapsed": false,
    "ExecuteTime": {
     "end_time": "2023-07-06T14:39:16.311327300Z",
     "start_time": "2023-07-06T14:39:16.267681500Z"
    }
   }
  },
  {
   "cell_type": "code",
   "execution_count": 114,
   "outputs": [],
   "source": [
    "labels={'acqua': 'Water fountains',\n",
    "        'biblio':   'Public libraries',\n",
    "        'ciclabili':'Bike lanes',\n",
    "        'consu':    'Family counselling',\n",
    "        'cult':\t    'Cultural POI',\n",
    "        'distr':    'Stores and Groceries',\n",
    "        'edicole':  'News-stands',\n",
    "        'farmacie':\t'Pharmacies',\n",
    "        'metro':    'Metro stations',\n",
    "        'parchi':\t'Public parks',\n",
    "        'posta':    'Postal offices',\n",
    "        'serd': \t'Addiction counselling',\n",
    "        'sinf':\t    'Kindergarten',\n",
    "        'sita':\t    'Italian schools',\n",
    "        'sport':\t'Sport facilities',\n",
    "        'sprim':\t'Elementary schools',\n",
    "        'ss2':      'High schools',\n",
    "        'ssec':     'Middle schools',\n",
    "        'treni':    'Train stations',\n",
    "        'uni':      'University buildings',\n",
    "        'df_name':  'Service',\n",
    "        'all': 'All services'\n",
    "        }\n",
    "\n",
    "col_list = ['acqua', 'biblio', 'ciclabili','consu','cult', 'edicole', 'farmacie', 'metro', 'parchi', 'posta', 'serd', 'sinf', 'sita', 'sport', 'sprim', 'ss2', 'ssec', 'treni', 'uni', 'wifi', 'distr','all']"
   ],
   "metadata": {
    "collapsed": false,
    "ExecuteTime": {
     "end_time": "2023-07-06T15:49:00.898336Z",
     "start_time": "2023-07-06T15:49:00.886085300Z"
    }
   }
  },
  {
   "cell_type": "markdown",
   "source": [
    "## Data Cleaning and preprocessing"
   ],
   "metadata": {
    "collapsed": false
   }
  },
  {
   "cell_type": "code",
   "execution_count": 6,
   "outputs": [
    {
     "data": {
      "text/plain": "                                               name      long        lat  \\\n0                                      FORZE ARMATE  9.107364  45.456290   \n1                                       LORENTEGGIO  9.125151  45.458188   \n2                                        BANDE NERE  9.136149  45.461792   \n3                                       GIAMBELLINO  9.153322  45.452348   \n4      GRATOSOGLIO - Q.RE MISSAGLIA - Q.RE TERRAZZE  9.171006  45.408128   \n...                                             ...       ...        ...   \n13264                      licenza madre ce palizzi  9.138032  45.507393   \n13265                                           NaN  9.097103  45.450728   \n13266                          la rinascente s.p.a.  9.151735  45.489729   \n13269                                           NaN  9.158760  45.479925   \n13271                          la rinascente s.p.a.  9.191865  45.465372   \n\n      df_name                        cat1 cat2             cat1_name  \\\n0       acqua                         NaN  NaN                   NaN   \n1       acqua                         NaN  NaN                   NaN   \n2       acqua                         NaN  NaN                   NaN   \n3       acqua                         NaN  NaN                   NaN   \n4       acqua                         NaN  NaN                   NaN   \n...       ...                         ...  ...                   ...   \n13264   distr   alimentare|non alimentare  NaN  settore_merceologico   \n13265   distr   alimentare|non alimentare  NaN  settore_merceologico   \n13266   distr   alimentare|non alimentare  NaN  settore_merceologico   \n13269   distr  Non Alimentare|Alimentare|  NaN  settore_merceologico   \n13271   distr   Alimentare|Non Alimentare  NaN  settore_merceologico   \n\n      cat2_name  10001708  10001709  ...  51039101  51039401  51039402  \\\n0           NaN    7540.1    7540.1  ...    4609.7    8467.6    8467.6   \n1           NaN    6445.5    6445.5  ...    3735.9    7593.8    7593.8   \n2           NaN    5797.8    5797.8  ...    3165.9    7023.8    7023.8   \n3           NaN    4673.6    4673.6  ...    3846.8    7651.5    7651.5   \n4           NaN    5655.9    5655.9  ...    8094.3   10803.3   10803.3   \n...         ...       ...       ...  ...       ...       ...       ...   \n13264       NaN    7640.8    7640.8  ...    1647.7    3452.3    3452.3   \n13265       NaN    8231.1    8231.1  ...    5498.1    9356.0    9356.0   \n13266       NaN    5841.5    5841.5  ...    1041.9    4315.4    4315.4   \n13269       NaN    5143.7    5143.7  ...    1948.4    5203.1    5203.1   \n13271       NaN    2627.3    2627.3  ...    4258.5    5986.6    5986.6   \n\n       51039403  51039404  51039405  51039406  51039407  51039408  51039410  \n0        8467.6    8467.6    8467.6    8467.6    8467.6    8467.6    8467.6  \n1        7593.8    7593.8    7593.8    7593.8    7593.8    7593.8    7593.8  \n2        7023.8    7023.8    7023.8    7023.8    7023.8    7023.8    7023.8  \n3        7651.5    7651.5    7651.5    7651.5    7651.5    7651.5    7651.5  \n4       10803.3   10803.3   10803.3   10803.3   10803.3   10803.3   10803.3  \n...         ...       ...       ...       ...       ...       ...       ...  \n13264    3452.3    3452.3    3452.3    3452.3    3452.3    3452.3    3452.3  \n13265    9356.0    9356.0    9356.0    9356.0    9356.0    9356.0    9356.0  \n13266    4315.4    4315.4    4315.4    4315.4    4315.4    4315.4    4315.4  \n13269    5203.1    5203.1    5203.1    5203.1    5203.1    5203.1    5203.1  \n13271    5986.6    5986.6    5986.6    5986.6    5986.6    5986.6    5986.6  \n\n[12760 rows x 988 columns]",
      "text/html": "<div>\n<style scoped>\n    .dataframe tbody tr th:only-of-type {\n        vertical-align: middle;\n    }\n\n    .dataframe tbody tr th {\n        vertical-align: top;\n    }\n\n    .dataframe thead th {\n        text-align: right;\n    }\n</style>\n<table border=\"1\" class=\"dataframe\">\n  <thead>\n    <tr style=\"text-align: right;\">\n      <th></th>\n      <th>name</th>\n      <th>long</th>\n      <th>lat</th>\n      <th>df_name</th>\n      <th>cat1</th>\n      <th>cat2</th>\n      <th>cat1_name</th>\n      <th>cat2_name</th>\n      <th>10001708</th>\n      <th>10001709</th>\n      <th>...</th>\n      <th>51039101</th>\n      <th>51039401</th>\n      <th>51039402</th>\n      <th>51039403</th>\n      <th>51039404</th>\n      <th>51039405</th>\n      <th>51039406</th>\n      <th>51039407</th>\n      <th>51039408</th>\n      <th>51039410</th>\n    </tr>\n  </thead>\n  <tbody>\n    <tr>\n      <th>0</th>\n      <td>FORZE ARMATE</td>\n      <td>9.107364</td>\n      <td>45.456290</td>\n      <td>acqua</td>\n      <td>NaN</td>\n      <td>NaN</td>\n      <td>NaN</td>\n      <td>NaN</td>\n      <td>7540.1</td>\n      <td>7540.1</td>\n      <td>...</td>\n      <td>4609.7</td>\n      <td>8467.6</td>\n      <td>8467.6</td>\n      <td>8467.6</td>\n      <td>8467.6</td>\n      <td>8467.6</td>\n      <td>8467.6</td>\n      <td>8467.6</td>\n      <td>8467.6</td>\n      <td>8467.6</td>\n    </tr>\n    <tr>\n      <th>1</th>\n      <td>LORENTEGGIO</td>\n      <td>9.125151</td>\n      <td>45.458188</td>\n      <td>acqua</td>\n      <td>NaN</td>\n      <td>NaN</td>\n      <td>NaN</td>\n      <td>NaN</td>\n      <td>6445.5</td>\n      <td>6445.5</td>\n      <td>...</td>\n      <td>3735.9</td>\n      <td>7593.8</td>\n      <td>7593.8</td>\n      <td>7593.8</td>\n      <td>7593.8</td>\n      <td>7593.8</td>\n      <td>7593.8</td>\n      <td>7593.8</td>\n      <td>7593.8</td>\n      <td>7593.8</td>\n    </tr>\n    <tr>\n      <th>2</th>\n      <td>BANDE NERE</td>\n      <td>9.136149</td>\n      <td>45.461792</td>\n      <td>acqua</td>\n      <td>NaN</td>\n      <td>NaN</td>\n      <td>NaN</td>\n      <td>NaN</td>\n      <td>5797.8</td>\n      <td>5797.8</td>\n      <td>...</td>\n      <td>3165.9</td>\n      <td>7023.8</td>\n      <td>7023.8</td>\n      <td>7023.8</td>\n      <td>7023.8</td>\n      <td>7023.8</td>\n      <td>7023.8</td>\n      <td>7023.8</td>\n      <td>7023.8</td>\n      <td>7023.8</td>\n    </tr>\n    <tr>\n      <th>3</th>\n      <td>GIAMBELLINO</td>\n      <td>9.153322</td>\n      <td>45.452348</td>\n      <td>acqua</td>\n      <td>NaN</td>\n      <td>NaN</td>\n      <td>NaN</td>\n      <td>NaN</td>\n      <td>4673.6</td>\n      <td>4673.6</td>\n      <td>...</td>\n      <td>3846.8</td>\n      <td>7651.5</td>\n      <td>7651.5</td>\n      <td>7651.5</td>\n      <td>7651.5</td>\n      <td>7651.5</td>\n      <td>7651.5</td>\n      <td>7651.5</td>\n      <td>7651.5</td>\n      <td>7651.5</td>\n    </tr>\n    <tr>\n      <th>4</th>\n      <td>GRATOSOGLIO - Q.RE MISSAGLIA - Q.RE TERRAZZE</td>\n      <td>9.171006</td>\n      <td>45.408128</td>\n      <td>acqua</td>\n      <td>NaN</td>\n      <td>NaN</td>\n      <td>NaN</td>\n      <td>NaN</td>\n      <td>5655.9</td>\n      <td>5655.9</td>\n      <td>...</td>\n      <td>8094.3</td>\n      <td>10803.3</td>\n      <td>10803.3</td>\n      <td>10803.3</td>\n      <td>10803.3</td>\n      <td>10803.3</td>\n      <td>10803.3</td>\n      <td>10803.3</td>\n      <td>10803.3</td>\n      <td>10803.3</td>\n    </tr>\n    <tr>\n      <th>...</th>\n      <td>...</td>\n      <td>...</td>\n      <td>...</td>\n      <td>...</td>\n      <td>...</td>\n      <td>...</td>\n      <td>...</td>\n      <td>...</td>\n      <td>...</td>\n      <td>...</td>\n      <td>...</td>\n      <td>...</td>\n      <td>...</td>\n      <td>...</td>\n      <td>...</td>\n      <td>...</td>\n      <td>...</td>\n      <td>...</td>\n      <td>...</td>\n      <td>...</td>\n      <td>...</td>\n    </tr>\n    <tr>\n      <th>13264</th>\n      <td>licenza madre ce palizzi</td>\n      <td>9.138032</td>\n      <td>45.507393</td>\n      <td>distr</td>\n      <td>alimentare|non alimentare</td>\n      <td>NaN</td>\n      <td>settore_merceologico</td>\n      <td>NaN</td>\n      <td>7640.8</td>\n      <td>7640.8</td>\n      <td>...</td>\n      <td>1647.7</td>\n      <td>3452.3</td>\n      <td>3452.3</td>\n      <td>3452.3</td>\n      <td>3452.3</td>\n      <td>3452.3</td>\n      <td>3452.3</td>\n      <td>3452.3</td>\n      <td>3452.3</td>\n      <td>3452.3</td>\n    </tr>\n    <tr>\n      <th>13265</th>\n      <td>NaN</td>\n      <td>9.097103</td>\n      <td>45.450728</td>\n      <td>distr</td>\n      <td>alimentare|non alimentare</td>\n      <td>NaN</td>\n      <td>settore_merceologico</td>\n      <td>NaN</td>\n      <td>8231.1</td>\n      <td>8231.1</td>\n      <td>...</td>\n      <td>5498.1</td>\n      <td>9356.0</td>\n      <td>9356.0</td>\n      <td>9356.0</td>\n      <td>9356.0</td>\n      <td>9356.0</td>\n      <td>9356.0</td>\n      <td>9356.0</td>\n      <td>9356.0</td>\n      <td>9356.0</td>\n    </tr>\n    <tr>\n      <th>13266</th>\n      <td>la rinascente s.p.a.</td>\n      <td>9.151735</td>\n      <td>45.489729</td>\n      <td>distr</td>\n      <td>alimentare|non alimentare</td>\n      <td>NaN</td>\n      <td>settore_merceologico</td>\n      <td>NaN</td>\n      <td>5841.5</td>\n      <td>5841.5</td>\n      <td>...</td>\n      <td>1041.9</td>\n      <td>4315.4</td>\n      <td>4315.4</td>\n      <td>4315.4</td>\n      <td>4315.4</td>\n      <td>4315.4</td>\n      <td>4315.4</td>\n      <td>4315.4</td>\n      <td>4315.4</td>\n      <td>4315.4</td>\n    </tr>\n    <tr>\n      <th>13269</th>\n      <td>NaN</td>\n      <td>9.158760</td>\n      <td>45.479925</td>\n      <td>distr</td>\n      <td>Non Alimentare|Alimentare|</td>\n      <td>NaN</td>\n      <td>settore_merceologico</td>\n      <td>NaN</td>\n      <td>5143.7</td>\n      <td>5143.7</td>\n      <td>...</td>\n      <td>1948.4</td>\n      <td>5203.1</td>\n      <td>5203.1</td>\n      <td>5203.1</td>\n      <td>5203.1</td>\n      <td>5203.1</td>\n      <td>5203.1</td>\n      <td>5203.1</td>\n      <td>5203.1</td>\n      <td>5203.1</td>\n    </tr>\n    <tr>\n      <th>13271</th>\n      <td>la rinascente s.p.a.</td>\n      <td>9.191865</td>\n      <td>45.465372</td>\n      <td>distr</td>\n      <td>Alimentare|Non Alimentare</td>\n      <td>NaN</td>\n      <td>settore_merceologico</td>\n      <td>NaN</td>\n      <td>2627.3</td>\n      <td>2627.3</td>\n      <td>...</td>\n      <td>4258.5</td>\n      <td>5986.6</td>\n      <td>5986.6</td>\n      <td>5986.6</td>\n      <td>5986.6</td>\n      <td>5986.6</td>\n      <td>5986.6</td>\n      <td>5986.6</td>\n      <td>5986.6</td>\n      <td>5986.6</td>\n    </tr>\n  </tbody>\n</table>\n<p>12760 rows × 988 columns</p>\n</div>"
     },
     "execution_count": 6,
     "metadata": {},
     "output_type": "execute_result"
    }
   ],
   "source": [
    "calc_df_fixed=pd.read_csv('../outputs/calc_fixed_df.csv', low_memory=False)\n",
    "mm_df=pd.read_csv('../outputs/mm_dataset.csv')\n",
    "#removing all non geolocated services\n",
    "calc_df_fixed = calc_df_fixed.drop(calc_df_fixed[calc_df_fixed['long'].isna()].index)\n",
    "calc_df_fixed"
   ],
   "metadata": {
    "collapsed": false,
    "ExecuteTime": {
     "end_time": "2023-07-06T07:52:58.343762600Z",
     "start_time": "2023-07-06T07:52:52.645844900Z"
    }
   }
  },
  {
   "cell_type": "markdown",
   "source": [
    "Cleaning all housing units outside of comune di milano"
   ],
   "metadata": {
    "collapsed": false
   }
  },
  {
   "cell_type": "code",
   "execution_count": null,
   "outputs": [],
   "source": [
    "multipol = fiona.open(r\"../datasets/milan_shape/L090102_ComuneMilano.shp\")\n",
    "multi = next(iter(multipol))\n",
    "\n",
    "found=False\n",
    "while not found:\n",
    "    a=random.uniform(8.8, 9.37)\n",
    "    b=random.uniform(45.35, 45.9)\n",
    "    point = Point(a, b)\n",
    "    found=point.within(shape(multi['geometry']))\n",
    "\n",
    "print(a, b)"
   ],
   "metadata": {
    "collapsed": false
   }
  },
  {
   "cell_type": "markdown",
   "source": [
    "multipol = fiona.open(r\"C:\\Users\\Jordi\\Downloads\\ESP_adm_shp\\ESP_adm0.shp\")\n",
    "multi = next(iter(multipol))\n",
    "\n",
    "point = Point(0,42)\n",
    "point.within(shape(multi['geometry']))"
   ],
   "metadata": {
    "collapsed": false
   }
  },
  {
   "cell_type": "markdown",
   "source": [
    "## Summary statistics"
   ],
   "metadata": {
    "collapsed": false
   }
  },
  {
   "cell_type": "code",
   "execution_count": null,
   "outputs": [],
   "source": [
    "desc_mm=calc_df_fixed.groupby('df_name').describe()\n",
    "desc_mm=desc_mm.drop(['long', 'lat'], axis=1)\n",
    "desc_mm=desc_mm.T\n",
    "desc_mm.head()"
   ],
   "metadata": {
    "collapsed": false
   }
  },
  {
   "cell_type": "code",
   "execution_count": null,
   "outputs": [],
   "source": [
    "min_services=calc_df_fixed.groupby('df_name').min()\n",
    "min_services=min_services.drop(['long', 'lat', 'cat1_name', 'cat2_name'], axis=1)\n",
    "desc_services=pd.DataFrame()\n",
    "desc_services['min']=min_services.min(axis=1)\n",
    "desc_services['id_min']=min_services.idxmin(axis=1)\n",
    "max_services=calc_df_fixed.groupby('df_name').min()\n",
    "max_services=max_services.drop(['long', 'lat', 'cat1_name', 'cat2_name'], axis=1)\n",
    "desc_services['max']=max_services.max(axis=1)\n",
    "desc_services['id_max']=max_services.idxmax(axis=1)\n",
    "avg_services=calc_df_fixed.groupby('df_name').mean()\n",
    "desc_services['avg']=avg_services.mean(axis=1)\n",
    "sd_services=calc_df_fixed.groupby('df_name').std()\n",
    "desc_services['sd']=avg_services.std(axis=1)\n",
    "desc_services"
   ],
   "metadata": {
    "collapsed": false
   }
  },
  {
   "cell_type": "code",
   "execution_count": null,
   "outputs": [],
   "source": [
    "max_20=calc_df_fixed.groupby('df_name').min()\n",
    "max_20=max_20.drop(['long', 'lat', 'cat1_name', 'cat2_name'], axis=1)\n",
    "max_20=max_20.T\n",
    "max_20"
   ],
   "metadata": {
    "collapsed": false
   }
  },
  {
   "cell_type": "code",
   "execution_count": null,
   "outputs": [],
   "source": [
    "plt.hist(max_20['ss2'])"
   ],
   "metadata": {
    "collapsed": false
   }
  },
  {
   "cell_type": "markdown",
   "source": [
    "# Index calculator\n",
    "\n",
    "We construct the index as illustrated in the paper, note that in this notebook we just prove the concept, the full calculation takes place in another file (index.py)"
   ],
   "metadata": {
    "collapsed": false
   }
  },
  {
   "cell_type": "code",
   "execution_count": 71,
   "outputs": [
    {
     "data": {
      "text/plain": "0.25"
     },
     "execution_count": 71,
     "metadata": {},
     "output_type": "execute_result"
    }
   ],
   "source": [
    "def penality_function(x, dhat):\n",
    "    if x <= dhat:\n",
    "        return 1\n",
    "    if x > dhat:\n",
    "        return 1/(x-dhat+1)\n",
    "\n",
    "def con_index(dist_list, dhat, n_max, alpha, beta):\n",
    "    if  alpha + beta != 1:\n",
    "        raise Exception(\"Alpha and Beta should sum to one\")\n",
    "    d_min = min(dist_list)\n",
    "    close_list=[d for d in dist_list if d <=dhat]\n",
    "    n = len(close_list)\n",
    "    CI = alpha*penality_function(d_min, dhat)+beta*(n/n_max)\n",
    "    return CI\n",
    "\n",
    "con_index([9,6,6,6,6], 5, 3, 0.5, 0.5)"
   ],
   "metadata": {
    "collapsed": false,
    "ExecuteTime": {
     "end_time": "2023-07-05T14:59:44.614498200Z",
     "start_time": "2023-07-05T14:59:44.568872900Z"
    }
   }
  },
  {
   "cell_type": "code",
   "execution_count": 57,
   "outputs": [
    {
     "data": {
      "text/plain": "3"
     },
     "execution_count": 57,
     "metadata": {},
     "output_type": "execute_result"
    }
   ],
   "source": [
    "def best_in_class(df_name, dhat, df=calc_df_fixed):\n",
    "    e_list=list(df.columns)\n",
    "    e_list=[item for item in e_list if item not in ['name', 'long', 'lat','df_name', 'cat1', 'cat2', 'cat1_name', 'cat2_name']]\n",
    "    nmax_dict=dict.fromkeys(e_list)\n",
    "    if df_name=='all':\n",
    "        pass\n",
    "    else:\n",
    "        df=df[df.df_name==df_name]\n",
    "    for elem in e_list:\n",
    "        dist_list=list(df[str(elem)])\n",
    "        close_list=[d for d in dist_list if d <=dhat]\n",
    "        nmax_dict[elem]=len(close_list)\n",
    "    return max(nmax_dict.values())\n",
    "\n",
    "best_in_class('biblio', 60*15)"
   ],
   "metadata": {
    "collapsed": false,
    "ExecuteTime": {
     "end_time": "2023-07-05T14:54:09.587604100Z",
     "start_time": "2023-07-05T14:54:09.570600Z"
    }
   }
  },
  {
   "cell_type": "code",
   "execution_count": null,
   "outputs": [],
   "source": [
    "min(calc_df_fixed['10002602'].to_list())"
   ],
   "metadata": {
    "collapsed": false
   }
  },
  {
   "cell_type": "code",
   "execution_count": 97,
   "outputs": [
    {
     "data": {
      "text/plain": "     CODICE EDIFICIO                full_address        lat       lon\n0           10001708  VIA DEL TURCHINO 20 MILANO  45.451893  9.228053\n1           10001709  VIA DEL TURCHINO 20 MILANO  45.451893  9.228053\n2           10001710  VIA DEL TURCHINO 20 MILANO  45.451893  9.228053\n3           10001711  VIA DEL TURCHINO 20 MILANO  45.451893  9.228053\n4           10001712  VIA DEL TURCHINO 22 MILANO  45.451893  9.228053\n..               ...                         ...        ...       ...\n975         51039405  VIA SENIGALLIA 60/G MILANO  45.532143  9.168970\n976         51039406    VIA SENIGALLIA 60 MILANO  45.532143  9.168970\n977         51039407    VIA SENIGALLIA 60 MILANO  45.532143  9.168970\n978         51039408    VIA SENIGALLIA 60 MILANO  45.532143  9.168970\n979         51039410    VIA SENIGALLIA 60 MILANO  45.532143  9.168970\n\n[980 rows x 4 columns]",
      "text/html": "<div>\n<style scoped>\n    .dataframe tbody tr th:only-of-type {\n        vertical-align: middle;\n    }\n\n    .dataframe tbody tr th {\n        vertical-align: top;\n    }\n\n    .dataframe thead th {\n        text-align: right;\n    }\n</style>\n<table border=\"1\" class=\"dataframe\">\n  <thead>\n    <tr style=\"text-align: right;\">\n      <th></th>\n      <th>CODICE EDIFICIO</th>\n      <th>full_address</th>\n      <th>lat</th>\n      <th>lon</th>\n    </tr>\n  </thead>\n  <tbody>\n    <tr>\n      <th>0</th>\n      <td>10001708</td>\n      <td>VIA DEL TURCHINO 20 MILANO</td>\n      <td>45.451893</td>\n      <td>9.228053</td>\n    </tr>\n    <tr>\n      <th>1</th>\n      <td>10001709</td>\n      <td>VIA DEL TURCHINO 20 MILANO</td>\n      <td>45.451893</td>\n      <td>9.228053</td>\n    </tr>\n    <tr>\n      <th>2</th>\n      <td>10001710</td>\n      <td>VIA DEL TURCHINO 20 MILANO</td>\n      <td>45.451893</td>\n      <td>9.228053</td>\n    </tr>\n    <tr>\n      <th>3</th>\n      <td>10001711</td>\n      <td>VIA DEL TURCHINO 20 MILANO</td>\n      <td>45.451893</td>\n      <td>9.228053</td>\n    </tr>\n    <tr>\n      <th>4</th>\n      <td>10001712</td>\n      <td>VIA DEL TURCHINO 22 MILANO</td>\n      <td>45.451893</td>\n      <td>9.228053</td>\n    </tr>\n    <tr>\n      <th>...</th>\n      <td>...</td>\n      <td>...</td>\n      <td>...</td>\n      <td>...</td>\n    </tr>\n    <tr>\n      <th>975</th>\n      <td>51039405</td>\n      <td>VIA SENIGALLIA 60/G MILANO</td>\n      <td>45.532143</td>\n      <td>9.168970</td>\n    </tr>\n    <tr>\n      <th>976</th>\n      <td>51039406</td>\n      <td>VIA SENIGALLIA 60 MILANO</td>\n      <td>45.532143</td>\n      <td>9.168970</td>\n    </tr>\n    <tr>\n      <th>977</th>\n      <td>51039407</td>\n      <td>VIA SENIGALLIA 60 MILANO</td>\n      <td>45.532143</td>\n      <td>9.168970</td>\n    </tr>\n    <tr>\n      <th>978</th>\n      <td>51039408</td>\n      <td>VIA SENIGALLIA 60 MILANO</td>\n      <td>45.532143</td>\n      <td>9.168970</td>\n    </tr>\n    <tr>\n      <th>979</th>\n      <td>51039410</td>\n      <td>VIA SENIGALLIA 60 MILANO</td>\n      <td>45.532143</td>\n      <td>9.168970</td>\n    </tr>\n  </tbody>\n</table>\n<p>980 rows × 4 columns</p>\n</div>"
     },
     "execution_count": 97,
     "metadata": {},
     "output_type": "execute_result"
    }
   ],
   "source": [
    "mm_columns_list=['CODICE EDIFICIO', 'full_address', 'lat', 'lon']\n",
    "index_df=mm_df[mm_columns_list]\n",
    "index_df"
   ],
   "metadata": {
    "collapsed": false,
    "ExecuteTime": {
     "end_time": "2023-07-05T15:48:09.146587100Z",
     "start_time": "2023-07-05T15:48:09.117363600Z"
    }
   }
  },
  {
   "cell_type": "code",
   "execution_count": 112,
   "outputs": [
    {
     "ename": "NameError",
     "evalue": "name 'best_in_class' is not defined",
     "output_type": "error",
     "traceback": [
      "\u001B[1;31m---------------------------------------------------------------------------\u001B[0m",
      "\u001B[1;31mNameError\u001B[0m                                 Traceback (most recent call last)",
      "Cell \u001B[1;32mIn[112], line 2\u001B[0m\n\u001B[0;32m      1\u001B[0m columns_list\u001B[38;5;241m=\u001B[39m\u001B[38;5;28mlist\u001B[39m(calc_df_fixed\u001B[38;5;241m.\u001B[39mdf_name\u001B[38;5;241m.\u001B[39munique())\u001B[38;5;241m+\u001B[39m[\u001B[38;5;124m'\u001B[39m\u001B[38;5;124mall\u001B[39m\u001B[38;5;124m'\u001B[39m]\n\u001B[1;32m----> 2\u001B[0m [best_in_class(name, \u001B[38;5;241m60\u001B[39m\u001B[38;5;241m*\u001B[39m\u001B[38;5;241m15\u001B[39m)  \u001B[38;5;28;01mfor\u001B[39;00m name \u001B[38;5;129;01min\u001B[39;00m columns_list]\n",
      "Cell \u001B[1;32mIn[112], line 2\u001B[0m, in \u001B[0;36m<listcomp>\u001B[1;34m(.0)\u001B[0m\n\u001B[0;32m      1\u001B[0m columns_list\u001B[38;5;241m=\u001B[39m\u001B[38;5;28mlist\u001B[39m(calc_df_fixed\u001B[38;5;241m.\u001B[39mdf_name\u001B[38;5;241m.\u001B[39munique())\u001B[38;5;241m+\u001B[39m[\u001B[38;5;124m'\u001B[39m\u001B[38;5;124mall\u001B[39m\u001B[38;5;124m'\u001B[39m]\n\u001B[1;32m----> 2\u001B[0m [\u001B[43mbest_in_class\u001B[49m(name, \u001B[38;5;241m60\u001B[39m\u001B[38;5;241m*\u001B[39m\u001B[38;5;241m15\u001B[39m)  \u001B[38;5;28;01mfor\u001B[39;00m name \u001B[38;5;129;01min\u001B[39;00m columns_list]\n",
      "\u001B[1;31mNameError\u001B[0m: name 'best_in_class' is not defined"
     ]
    }
   ],
   "source": [
    "columns_list=list(calc_df_fixed.df_name.unique())+['all']\n",
    "[best_in_class(name, 60*15)  for name in columns_list] #checking if function works for all dataframes"
   ],
   "metadata": {
    "collapsed": false,
    "ExecuteTime": {
     "end_time": "2023-07-06T15:47:52.494298900Z",
     "start_time": "2023-07-06T15:47:52.448249100Z"
    }
   }
  },
  {
   "cell_type": "code",
   "execution_count": 86,
   "outputs": [
    {
     "data": {
      "text/plain": "[1.0,\n 0.8333333333333333,\n 0.5570175438596491,\n 0.8,\n 0.5106382978723404,\n 0.6120689655172413,\n 0.7580645161290323,\n 0.6,\n 0.5982658959537572,\n 0.6875,\n 0.6,\n 0.8928571428571428,\n 0.5357142857142857,\n 0.7586206896551724,\n 0.85625,\n 0.5833333333333334,\n 0.686046511627907,\n 0.0027716186252771603,\n 0.5263157894736842,\n 0.5943396226415094,\n 0.547085201793722,\n 0.6635044642857143]"
     },
     "execution_count": 86,
     "metadata": {},
     "output_type": "execute_result"
    }
   ],
   "source": [
    "def fun_run(codice_edificio, dhat, alpha, beta, out_df, df=calc_df_fixed):\n",
    "    columns_list=list(df.df_name.unique())+['all']\n",
    "    #out_dict\n",
    "    out_list=[]\n",
    "    col_out_list=[]\n",
    "    for column in columns_list:\n",
    "        if column=='all':\n",
    "            df_subset=df\n",
    "\n",
    "        else:\n",
    "            df_subset=df[df.df_name==column]\n",
    "        dist_list=df_subset[str(codice_edificio)].to_list()\n",
    "        if dist_list==[]:\n",
    "            out=np.nan\n",
    "            warnings.warn(\"Empty list\")\n",
    "        else:\n",
    "            n_max=best_in_class(column, dhat)\n",
    "            try:\n",
    "                out=con_index(dist_list=dist_list, dhat=dhat, n_max=n_max, alpha=alpha, beta=beta)\n",
    "            except:\n",
    "                out=np.nan\n",
    "                warnings.warn(\"Index not calculated because of some issue\")\n",
    "        col_out_list.append(column)\n",
    "        out_list.append(out)\n",
    "    if col_out_list == ['acqua', 'biblio', 'ciclabili','consu','cult', 'edicole', 'farmacie', 'metro', 'parchi', 'posta', 'serd', 'sinf', 'sita', 'sport', 'sprim', 'ss2', 'ssec', 'treni', 'uni', 'wifi', 'distr','all']:\n",
    "        return out_list\n",
    "    else:\n",
    "        raise Exception(\"Not all columns are outputs of fun run\")\n",
    "\n",
    "\n",
    "fun_run(10003003, dhat=60*15, alpha=0.5, beta=0.5, out_df=index_df)"
   ],
   "metadata": {
    "collapsed": false,
    "ExecuteTime": {
     "end_time": "2023-07-05T15:43:05.187272500Z",
     "start_time": "2023-07-05T15:43:00.675882Z"
    }
   }
  },
  {
   "cell_type": "markdown",
   "source": [
    "## Index Analysis\n",
    "\n",
    "We now perform the analysis of the index created"
   ],
   "metadata": {
    "collapsed": false
   }
  },
  {
   "cell_type": "code",
   "execution_count": 32,
   "outputs": [
    {
     "name": "stdout",
     "output_type": "stream",
     "text": [
      "Buildings that were not geocoded 49\n"
     ]
    },
    {
     "name": "stderr",
     "output_type": "stream",
     "text": [
      "C:\\Users\\iodio\\AppData\\Local\\Temp\\ipykernel_14276\\2933445220.py:4: InvalidColumnName: \n",
      "Not all pandas column names were valid Stata variable names.\n",
      "The following replacements have been made:\n",
      "\n",
      "    CODICE EDIFICIO   ->   CODICE_EDIFICIO\n",
      "\n",
      "If this is not what you expect, please make sure you have Stata-compliant\n",
      "column names in your DataFrame (strings only, max 32 characters, only\n",
      "alphanumerics and underscores, no Stata reserved words)\n",
      "\n",
      "  index_df.loc[:, index_df.columns != 'list'].to_stata('../stata/index_df.dta') #exporting to dta file\n"
     ]
    },
    {
     "data": {
      "text/plain": "     CODICE EDIFICIO                full_address        lat       lon  \\\n0           10001708  VIA DEL TURCHINO 20 MILANO  45.451893  9.228053   \n1           10001709  VIA DEL TURCHINO 20 MILANO  45.451893  9.228053   \n2           10001710  VIA DEL TURCHINO 20 MILANO  45.451893  9.228053   \n3           10001711  VIA DEL TURCHINO 20 MILANO  45.451893  9.228053   \n4           10001712  VIA DEL TURCHINO 22 MILANO  45.451893  9.228053   \n..               ...                         ...        ...       ...   \n975         51039405  VIA SENIGALLIA 60/G MILANO  45.532143  9.168970   \n976         51039406    VIA SENIGALLIA 60 MILANO  45.532143  9.168970   \n977         51039407    VIA SENIGALLIA 60 MILANO  45.532143  9.168970   \n978         51039408    VIA SENIGALLIA 60 MILANO  45.532143  9.168970   \n979         51039410    VIA SENIGALLIA 60 MILANO  45.532143  9.168970   \n\n                                                  list     acqua    biblio  \\\n0    [0.6666666666666666, 0.6666666666666666, 0.627...  0.666667  0.666667   \n1    [0.6666666666666666, 0.6666666666666666, 0.627...  0.666667  0.666667   \n2    [0.6666666666666666, 0.6666666666666666, 0.627...  0.666667  0.666667   \n3    [0.6666666666666666, 0.6666666666666666, 0.627...  0.666667  0.666667   \n4    [0.6666666666666666, 0.6666666666666666, 0.627...  0.666667  0.666667   \n..                                                 ...       ...       ...   \n975  [0.6666666666666666, 0.009293680297397777, 0.5...  0.666667  0.009294   \n976  [0.6666666666666666, 0.009293680297397777, 0.5...  0.666667  0.009294   \n977  [0.6666666666666666, 0.009293680297397777, 0.5...  0.666667  0.009294   \n978  [0.6666666666666666, 0.009293680297397777, 0.5...  0.666667  0.009294   \n979  [0.6666666666666666, 0.009293680297397777, 0.5...  0.666667  0.009294   \n\n     ciclabili     consu      cult  ...      sita     sport    sprim  \\\n0     0.627193  0.001999  0.000592  ...  0.571429  0.594828  0.63125   \n1     0.627193  0.001999  0.000592  ...  0.571429  0.594828  0.63125   \n2     0.627193  0.001999  0.000592  ...  0.571429  0.594828  0.63125   \n3     0.627193  0.001999  0.000592  ...  0.571429  0.594828  0.63125   \n4     0.627193  0.001999  0.000592  ...  0.571429  0.594828  0.63125   \n..         ...       ...       ...  ...       ...       ...      ...   \n975   0.527778  0.600000  0.000144  ...  0.571429  0.594828  0.70000   \n976   0.527778  0.600000  0.000144  ...  0.571429  0.594828  0.70000   \n977   0.527778  0.600000  0.000144  ...  0.571429  0.594828  0.70000   \n978   0.527778  0.600000  0.000144  ...  0.571429  0.594828  0.70000   \n979   0.527778  0.600000  0.000144  ...  0.571429  0.594828  0.70000   \n\n          ss2      ssec  treni       uni      wifi     distr       all  \n0    0.541667  0.593023  0.625  0.064103  0.566038  0.515695  0.614397  \n1    0.541667  0.593023  0.625  0.064103  0.566038  0.515695  0.614397  \n2    0.541667  0.593023  0.625  0.064103  0.566038  0.515695  0.614397  \n3    0.541667  0.593023  0.625  0.064103  0.566038  0.515695  0.614397  \n4    0.541667  0.593023  0.625  0.064103  0.566038  0.515695  0.614397  \n..        ...       ...    ...       ...       ...       ...       ...  \n975  0.002798  0.639535  0.625  0.000293  0.528302  0.502242  0.561384  \n976  0.002798  0.639535  0.625  0.000293  0.528302  0.502242  0.561384  \n977  0.002798  0.639535  0.625  0.000293  0.528302  0.502242  0.561384  \n978  0.002798  0.639535  0.625  0.000293  0.528302  0.502242  0.561384  \n979  0.002798  0.639535  0.625  0.000293  0.528302  0.502242  0.561384  \n\n[931 rows x 27 columns]",
      "text/html": "<div>\n<style scoped>\n    .dataframe tbody tr th:only-of-type {\n        vertical-align: middle;\n    }\n\n    .dataframe tbody tr th {\n        vertical-align: top;\n    }\n\n    .dataframe thead th {\n        text-align: right;\n    }\n</style>\n<table border=\"1\" class=\"dataframe\">\n  <thead>\n    <tr style=\"text-align: right;\">\n      <th></th>\n      <th>CODICE EDIFICIO</th>\n      <th>full_address</th>\n      <th>lat</th>\n      <th>lon</th>\n      <th>list</th>\n      <th>acqua</th>\n      <th>biblio</th>\n      <th>ciclabili</th>\n      <th>consu</th>\n      <th>cult</th>\n      <th>...</th>\n      <th>sita</th>\n      <th>sport</th>\n      <th>sprim</th>\n      <th>ss2</th>\n      <th>ssec</th>\n      <th>treni</th>\n      <th>uni</th>\n      <th>wifi</th>\n      <th>distr</th>\n      <th>all</th>\n    </tr>\n  </thead>\n  <tbody>\n    <tr>\n      <th>0</th>\n      <td>10001708</td>\n      <td>VIA DEL TURCHINO 20 MILANO</td>\n      <td>45.451893</td>\n      <td>9.228053</td>\n      <td>[0.6666666666666666, 0.6666666666666666, 0.627...</td>\n      <td>0.666667</td>\n      <td>0.666667</td>\n      <td>0.627193</td>\n      <td>0.001999</td>\n      <td>0.000592</td>\n      <td>...</td>\n      <td>0.571429</td>\n      <td>0.594828</td>\n      <td>0.63125</td>\n      <td>0.541667</td>\n      <td>0.593023</td>\n      <td>0.625</td>\n      <td>0.064103</td>\n      <td>0.566038</td>\n      <td>0.515695</td>\n      <td>0.614397</td>\n    </tr>\n    <tr>\n      <th>1</th>\n      <td>10001709</td>\n      <td>VIA DEL TURCHINO 20 MILANO</td>\n      <td>45.451893</td>\n      <td>9.228053</td>\n      <td>[0.6666666666666666, 0.6666666666666666, 0.627...</td>\n      <td>0.666667</td>\n      <td>0.666667</td>\n      <td>0.627193</td>\n      <td>0.001999</td>\n      <td>0.000592</td>\n      <td>...</td>\n      <td>0.571429</td>\n      <td>0.594828</td>\n      <td>0.63125</td>\n      <td>0.541667</td>\n      <td>0.593023</td>\n      <td>0.625</td>\n      <td>0.064103</td>\n      <td>0.566038</td>\n      <td>0.515695</td>\n      <td>0.614397</td>\n    </tr>\n    <tr>\n      <th>2</th>\n      <td>10001710</td>\n      <td>VIA DEL TURCHINO 20 MILANO</td>\n      <td>45.451893</td>\n      <td>9.228053</td>\n      <td>[0.6666666666666666, 0.6666666666666666, 0.627...</td>\n      <td>0.666667</td>\n      <td>0.666667</td>\n      <td>0.627193</td>\n      <td>0.001999</td>\n      <td>0.000592</td>\n      <td>...</td>\n      <td>0.571429</td>\n      <td>0.594828</td>\n      <td>0.63125</td>\n      <td>0.541667</td>\n      <td>0.593023</td>\n      <td>0.625</td>\n      <td>0.064103</td>\n      <td>0.566038</td>\n      <td>0.515695</td>\n      <td>0.614397</td>\n    </tr>\n    <tr>\n      <th>3</th>\n      <td>10001711</td>\n      <td>VIA DEL TURCHINO 20 MILANO</td>\n      <td>45.451893</td>\n      <td>9.228053</td>\n      <td>[0.6666666666666666, 0.6666666666666666, 0.627...</td>\n      <td>0.666667</td>\n      <td>0.666667</td>\n      <td>0.627193</td>\n      <td>0.001999</td>\n      <td>0.000592</td>\n      <td>...</td>\n      <td>0.571429</td>\n      <td>0.594828</td>\n      <td>0.63125</td>\n      <td>0.541667</td>\n      <td>0.593023</td>\n      <td>0.625</td>\n      <td>0.064103</td>\n      <td>0.566038</td>\n      <td>0.515695</td>\n      <td>0.614397</td>\n    </tr>\n    <tr>\n      <th>4</th>\n      <td>10001712</td>\n      <td>VIA DEL TURCHINO 22 MILANO</td>\n      <td>45.451893</td>\n      <td>9.228053</td>\n      <td>[0.6666666666666666, 0.6666666666666666, 0.627...</td>\n      <td>0.666667</td>\n      <td>0.666667</td>\n      <td>0.627193</td>\n      <td>0.001999</td>\n      <td>0.000592</td>\n      <td>...</td>\n      <td>0.571429</td>\n      <td>0.594828</td>\n      <td>0.63125</td>\n      <td>0.541667</td>\n      <td>0.593023</td>\n      <td>0.625</td>\n      <td>0.064103</td>\n      <td>0.566038</td>\n      <td>0.515695</td>\n      <td>0.614397</td>\n    </tr>\n    <tr>\n      <th>...</th>\n      <td>...</td>\n      <td>...</td>\n      <td>...</td>\n      <td>...</td>\n      <td>...</td>\n      <td>...</td>\n      <td>...</td>\n      <td>...</td>\n      <td>...</td>\n      <td>...</td>\n      <td>...</td>\n      <td>...</td>\n      <td>...</td>\n      <td>...</td>\n      <td>...</td>\n      <td>...</td>\n      <td>...</td>\n      <td>...</td>\n      <td>...</td>\n      <td>...</td>\n      <td>...</td>\n    </tr>\n    <tr>\n      <th>975</th>\n      <td>51039405</td>\n      <td>VIA SENIGALLIA 60/G MILANO</td>\n      <td>45.532143</td>\n      <td>9.168970</td>\n      <td>[0.6666666666666666, 0.009293680297397777, 0.5...</td>\n      <td>0.666667</td>\n      <td>0.009294</td>\n      <td>0.527778</td>\n      <td>0.600000</td>\n      <td>0.000144</td>\n      <td>...</td>\n      <td>0.571429</td>\n      <td>0.594828</td>\n      <td>0.70000</td>\n      <td>0.002798</td>\n      <td>0.639535</td>\n      <td>0.625</td>\n      <td>0.000293</td>\n      <td>0.528302</td>\n      <td>0.502242</td>\n      <td>0.561384</td>\n    </tr>\n    <tr>\n      <th>976</th>\n      <td>51039406</td>\n      <td>VIA SENIGALLIA 60 MILANO</td>\n      <td>45.532143</td>\n      <td>9.168970</td>\n      <td>[0.6666666666666666, 0.009293680297397777, 0.5...</td>\n      <td>0.666667</td>\n      <td>0.009294</td>\n      <td>0.527778</td>\n      <td>0.600000</td>\n      <td>0.000144</td>\n      <td>...</td>\n      <td>0.571429</td>\n      <td>0.594828</td>\n      <td>0.70000</td>\n      <td>0.002798</td>\n      <td>0.639535</td>\n      <td>0.625</td>\n      <td>0.000293</td>\n      <td>0.528302</td>\n      <td>0.502242</td>\n      <td>0.561384</td>\n    </tr>\n    <tr>\n      <th>977</th>\n      <td>51039407</td>\n      <td>VIA SENIGALLIA 60 MILANO</td>\n      <td>45.532143</td>\n      <td>9.168970</td>\n      <td>[0.6666666666666666, 0.009293680297397777, 0.5...</td>\n      <td>0.666667</td>\n      <td>0.009294</td>\n      <td>0.527778</td>\n      <td>0.600000</td>\n      <td>0.000144</td>\n      <td>...</td>\n      <td>0.571429</td>\n      <td>0.594828</td>\n      <td>0.70000</td>\n      <td>0.002798</td>\n      <td>0.639535</td>\n      <td>0.625</td>\n      <td>0.000293</td>\n      <td>0.528302</td>\n      <td>0.502242</td>\n      <td>0.561384</td>\n    </tr>\n    <tr>\n      <th>978</th>\n      <td>51039408</td>\n      <td>VIA SENIGALLIA 60 MILANO</td>\n      <td>45.532143</td>\n      <td>9.168970</td>\n      <td>[0.6666666666666666, 0.009293680297397777, 0.5...</td>\n      <td>0.666667</td>\n      <td>0.009294</td>\n      <td>0.527778</td>\n      <td>0.600000</td>\n      <td>0.000144</td>\n      <td>...</td>\n      <td>0.571429</td>\n      <td>0.594828</td>\n      <td>0.70000</td>\n      <td>0.002798</td>\n      <td>0.639535</td>\n      <td>0.625</td>\n      <td>0.000293</td>\n      <td>0.528302</td>\n      <td>0.502242</td>\n      <td>0.561384</td>\n    </tr>\n    <tr>\n      <th>979</th>\n      <td>51039410</td>\n      <td>VIA SENIGALLIA 60 MILANO</td>\n      <td>45.532143</td>\n      <td>9.168970</td>\n      <td>[0.6666666666666666, 0.009293680297397777, 0.5...</td>\n      <td>0.666667</td>\n      <td>0.009294</td>\n      <td>0.527778</td>\n      <td>0.600000</td>\n      <td>0.000144</td>\n      <td>...</td>\n      <td>0.571429</td>\n      <td>0.594828</td>\n      <td>0.70000</td>\n      <td>0.002798</td>\n      <td>0.639535</td>\n      <td>0.625</td>\n      <td>0.000293</td>\n      <td>0.528302</td>\n      <td>0.502242</td>\n      <td>0.561384</td>\n    </tr>\n  </tbody>\n</table>\n<p>931 rows × 27 columns</p>\n</div>"
     },
     "execution_count": 32,
     "metadata": {},
     "output_type": "execute_result"
    }
   ],
   "source": [
    "index_df=pd.read_csv('../outputs/index_df.csv')\n",
    "print('Buildings that were not geocoded',len(index_df[index_df['lon'].isna()]))\n",
    "index_df=index_df.drop(index_df[index_df['lon'].isna()].index) #dropping mm buildings that were not geocoded\n",
    "index_df.loc[:, index_df.columns != 'list'].to_stata('../stata/index_df.dta') #exporting to dta file\n",
    "index_df"
   ],
   "metadata": {
    "collapsed": false,
    "ExecuteTime": {
     "end_time": "2023-07-06T09:50:54.894636600Z",
     "start_time": "2023-07-06T09:50:54.595154900Z"
    }
   }
  },
  {
   "cell_type": "code",
   "execution_count": 29,
   "outputs": [],
   "source": [
    "def duomo_distance(lat, lon):\n",
    "    coords=(lat, lon)\n",
    "    duomo=(45.463968, 9.190578)\n",
    "    return geopy.distance.geodesic(duomo, coords).m"
   ],
   "metadata": {
    "collapsed": false,
    "ExecuteTime": {
     "end_time": "2023-07-06T09:49:34.954104700Z",
     "start_time": "2023-07-06T09:49:34.931157100Z"
    }
   }
  },
  {
   "cell_type": "code",
   "execution_count": 34,
   "outputs": [],
   "source": [
    "index_df['duomo_dist']=index_df.apply(lambda x: duomo_distance(x['lat'], x['lon']), axis=1)"
   ],
   "metadata": {
    "collapsed": false,
    "ExecuteTime": {
     "end_time": "2023-07-06T09:51:12.527542Z",
     "start_time": "2023-07-06T09:51:11.620425700Z"
    }
   }
  },
  {
   "cell_type": "code",
   "execution_count": 98,
   "outputs": [
    {
     "name": "stderr",
     "output_type": "stream",
     "text": [
      "C:\\Users\\iodio\\AppData\\Local\\Temp\\ipykernel_14276\\655922510.py:1: FutureWarning: The default value of numeric_only in DataFrame.corr is deprecated. In a future version, it will default to False. Select only valid columns or specify the value of numeric_only to silence this warning.\n",
      "  corr_df=index_df.corr()[3:].duomo_dist.reset_index()\n"
     ]
    },
    {
     "data": {
      "text/plain": "                  Service  Correlation\n0         Water fountains    -0.367010\n1        Public libraries    -0.368220\n2              Bike lanes    -0.701029\n3      Family counselling    -0.372839\n4            Cultural POI    -0.294903\n5             News-stands    -0.745758\n6              Pharmacies    -0.724199\n7          Metro stations    -0.405716\n8            Public parks    -0.522855\n9          Postal offices    -0.422085\n10  Addiction counselling    -0.209249\n11           Kindergarten    -0.700567\n12        Italian schools    -0.406101\n13       Sport facilities    -0.666289\n14     Elementary schools    -0.712731\n15           High schools    -0.455873\n16         Middle schools    -0.688970\n17         Train stations    -0.191547\n18   University buildings    -0.329897\n19                   wifi    -0.734652\n20   Stores and Groceries    -0.671283\n21           All services    -0.764050\n22             duomo_dist     1.000000",
      "text/html": "<div>\n<style scoped>\n    .dataframe tbody tr th:only-of-type {\n        vertical-align: middle;\n    }\n\n    .dataframe tbody tr th {\n        vertical-align: top;\n    }\n\n    .dataframe thead th {\n        text-align: right;\n    }\n</style>\n<table border=\"1\" class=\"dataframe\">\n  <thead>\n    <tr style=\"text-align: right;\">\n      <th></th>\n      <th>Service</th>\n      <th>Correlation</th>\n    </tr>\n  </thead>\n  <tbody>\n    <tr>\n      <th>0</th>\n      <td>Water fountains</td>\n      <td>-0.367010</td>\n    </tr>\n    <tr>\n      <th>1</th>\n      <td>Public libraries</td>\n      <td>-0.368220</td>\n    </tr>\n    <tr>\n      <th>2</th>\n      <td>Bike lanes</td>\n      <td>-0.701029</td>\n    </tr>\n    <tr>\n      <th>3</th>\n      <td>Family counselling</td>\n      <td>-0.372839</td>\n    </tr>\n    <tr>\n      <th>4</th>\n      <td>Cultural POI</td>\n      <td>-0.294903</td>\n    </tr>\n    <tr>\n      <th>5</th>\n      <td>News-stands</td>\n      <td>-0.745758</td>\n    </tr>\n    <tr>\n      <th>6</th>\n      <td>Pharmacies</td>\n      <td>-0.724199</td>\n    </tr>\n    <tr>\n      <th>7</th>\n      <td>Metro stations</td>\n      <td>-0.405716</td>\n    </tr>\n    <tr>\n      <th>8</th>\n      <td>Public parks</td>\n      <td>-0.522855</td>\n    </tr>\n    <tr>\n      <th>9</th>\n      <td>Postal offices</td>\n      <td>-0.422085</td>\n    </tr>\n    <tr>\n      <th>10</th>\n      <td>Addiction counselling</td>\n      <td>-0.209249</td>\n    </tr>\n    <tr>\n      <th>11</th>\n      <td>Kindergarten</td>\n      <td>-0.700567</td>\n    </tr>\n    <tr>\n      <th>12</th>\n      <td>Italian schools</td>\n      <td>-0.406101</td>\n    </tr>\n    <tr>\n      <th>13</th>\n      <td>Sport facilities</td>\n      <td>-0.666289</td>\n    </tr>\n    <tr>\n      <th>14</th>\n      <td>Elementary schools</td>\n      <td>-0.712731</td>\n    </tr>\n    <tr>\n      <th>15</th>\n      <td>High schools</td>\n      <td>-0.455873</td>\n    </tr>\n    <tr>\n      <th>16</th>\n      <td>Middle schools</td>\n      <td>-0.688970</td>\n    </tr>\n    <tr>\n      <th>17</th>\n      <td>Train stations</td>\n      <td>-0.191547</td>\n    </tr>\n    <tr>\n      <th>18</th>\n      <td>University buildings</td>\n      <td>-0.329897</td>\n    </tr>\n    <tr>\n      <th>19</th>\n      <td>wifi</td>\n      <td>-0.734652</td>\n    </tr>\n    <tr>\n      <th>20</th>\n      <td>Stores and Groceries</td>\n      <td>-0.671283</td>\n    </tr>\n    <tr>\n      <th>21</th>\n      <td>All services</td>\n      <td>-0.764050</td>\n    </tr>\n    <tr>\n      <th>22</th>\n      <td>duomo_dist</td>\n      <td>1.000000</td>\n    </tr>\n  </tbody>\n</table>\n</div>"
     },
     "execution_count": 98,
     "metadata": {},
     "output_type": "execute_result"
    }
   ],
   "source": [
    "corr_df=index_df.corr()[3:].duomo_dist.reset_index()\n",
    "corr_df.columns=['Service', 'Correlation']\n",
    "corr_df=corr_df.replace({\"Service\": labels})\n",
    "corr_df"
   ],
   "metadata": {
    "collapsed": false,
    "ExecuteTime": {
     "end_time": "2023-07-06T15:10:45.785823600Z",
     "start_time": "2023-07-06T15:10:45.713758800Z"
    }
   }
  },
  {
   "cell_type": "code",
   "execution_count": 99,
   "outputs": [],
   "source": [
    "def gini(x):\n",
    "    total = 0\n",
    "    for i, xi in enumerate(x[:-1], 1):\n",
    "        total += np.sum(np.abs(xi - x[i:]))\n",
    "    return total / (len(x)**2 * np.mean(x))"
   ],
   "metadata": {
    "collapsed": false,
    "ExecuteTime": {
     "end_time": "2023-07-06T15:10:49.742878200Z",
     "start_time": "2023-07-06T15:10:49.723554Z"
    }
   }
  },
  {
   "cell_type": "code",
   "execution_count": 102,
   "outputs": [
    {
     "data": {
      "text/plain": "                  Service         Mean       Median     Minimum       Maximum  \\\n0         Water fountains     0.536418     0.666667    0.000038      1.000000   \n1        Public libraries     0.408964     0.666667    0.000035      1.000000   \n2              Bike lanes     0.531777     0.577485    0.000043      1.000000   \n3      Family counselling     0.164648     0.000767    0.000032      1.000000   \n4            Cultural POI     0.052840     0.000391    0.000033      1.000000   \n5             News-stands     0.527958     0.560345    0.000039      1.000000   \n6              Pharmacies     0.559450     0.596774    0.000040      1.000000   \n7          Metro stations     0.350690     0.550000    0.000043      1.000000   \n8            Public parks     0.457354     0.523121    0.000036      1.000000   \n9          Postal offices     0.449311     0.562500    0.000039      1.000000   \n10  Addiction counselling     0.174379     0.000678    0.000033      1.000000   \n11           Kindergarten     0.622497     0.678571    0.000039      1.000000   \n12        Italian schools     0.424730     0.535714    0.000038      1.000000   \n13       Sport facilities     0.631755     0.672414    0.000040      1.000000   \n14     Elementary schools     0.645422     0.700000    0.000040      1.000000   \n15           High schools     0.384529     0.541667    0.000035      1.000000   \n16         Middle schools     0.554144     0.593023    0.000039      1.000000   \n17         Train stations     0.202623     0.001201    0.000034      1.000000   \n18   University buildings     0.193766     0.001160    0.000037      1.000000   \n19                   wifi     0.561438     0.584906    0.000039      1.000000   \n20   Stores and Groceries     0.464449     0.513453    0.000038      1.000000   \n21           All services     0.570945     0.612165    0.000043      1.000000   \n22             duomo_dist  5968.278751  5031.232562  318.419822  61032.302044   \n\n    Standard deviation      Gini  Correlation  \n0             0.331048  0.308046    -0.367010  \n1             0.340612  0.424246    -0.368220  \n2             0.190943  0.154563    -0.701029  \n3             0.277174  0.746149    -0.372839  \n4             0.175577  0.918119    -0.294903  \n5             0.188203  0.152383    -0.745758  \n6             0.212132  0.172591    -0.724199  \n7             0.311462  0.467732    -0.405716  \n8             0.224840  0.229666    -0.522855  \n9             0.284404  0.319898    -0.422085  \n10            0.283214  0.730276    -0.209249  \n11            0.223811  0.164950    -0.700567  \n12            0.271401  0.321665    -0.406101  \n13            0.229556  0.170276    -0.666289  \n14            0.239302  0.176244    -0.712731  \n15            0.294164  0.401112    -0.455873  \n16            0.216514  0.173318    -0.688970  \n17            0.297010  0.688120    -0.191547  \n18            0.266268  0.667555    -0.329897  \n19            0.200386  0.161528    -0.734652  \n20            0.178336  0.148827    -0.671283  \n21            0.192192  0.141474    -0.764050  \n22         3638.459223  0.256631     1.000000  ",
      "text/html": "<div>\n<style scoped>\n    .dataframe tbody tr th:only-of-type {\n        vertical-align: middle;\n    }\n\n    .dataframe tbody tr th {\n        vertical-align: top;\n    }\n\n    .dataframe thead th {\n        text-align: right;\n    }\n</style>\n<table border=\"1\" class=\"dataframe\">\n  <thead>\n    <tr style=\"text-align: right;\">\n      <th></th>\n      <th>Service</th>\n      <th>Mean</th>\n      <th>Median</th>\n      <th>Minimum</th>\n      <th>Maximum</th>\n      <th>Standard deviation</th>\n      <th>Gini</th>\n      <th>Correlation</th>\n    </tr>\n  </thead>\n  <tbody>\n    <tr>\n      <th>0</th>\n      <td>Water fountains</td>\n      <td>0.536418</td>\n      <td>0.666667</td>\n      <td>0.000038</td>\n      <td>1.000000</td>\n      <td>0.331048</td>\n      <td>0.308046</td>\n      <td>-0.367010</td>\n    </tr>\n    <tr>\n      <th>1</th>\n      <td>Public libraries</td>\n      <td>0.408964</td>\n      <td>0.666667</td>\n      <td>0.000035</td>\n      <td>1.000000</td>\n      <td>0.340612</td>\n      <td>0.424246</td>\n      <td>-0.368220</td>\n    </tr>\n    <tr>\n      <th>2</th>\n      <td>Bike lanes</td>\n      <td>0.531777</td>\n      <td>0.577485</td>\n      <td>0.000043</td>\n      <td>1.000000</td>\n      <td>0.190943</td>\n      <td>0.154563</td>\n      <td>-0.701029</td>\n    </tr>\n    <tr>\n      <th>3</th>\n      <td>Family counselling</td>\n      <td>0.164648</td>\n      <td>0.000767</td>\n      <td>0.000032</td>\n      <td>1.000000</td>\n      <td>0.277174</td>\n      <td>0.746149</td>\n      <td>-0.372839</td>\n    </tr>\n    <tr>\n      <th>4</th>\n      <td>Cultural POI</td>\n      <td>0.052840</td>\n      <td>0.000391</td>\n      <td>0.000033</td>\n      <td>1.000000</td>\n      <td>0.175577</td>\n      <td>0.918119</td>\n      <td>-0.294903</td>\n    </tr>\n    <tr>\n      <th>5</th>\n      <td>News-stands</td>\n      <td>0.527958</td>\n      <td>0.560345</td>\n      <td>0.000039</td>\n      <td>1.000000</td>\n      <td>0.188203</td>\n      <td>0.152383</td>\n      <td>-0.745758</td>\n    </tr>\n    <tr>\n      <th>6</th>\n      <td>Pharmacies</td>\n      <td>0.559450</td>\n      <td>0.596774</td>\n      <td>0.000040</td>\n      <td>1.000000</td>\n      <td>0.212132</td>\n      <td>0.172591</td>\n      <td>-0.724199</td>\n    </tr>\n    <tr>\n      <th>7</th>\n      <td>Metro stations</td>\n      <td>0.350690</td>\n      <td>0.550000</td>\n      <td>0.000043</td>\n      <td>1.000000</td>\n      <td>0.311462</td>\n      <td>0.467732</td>\n      <td>-0.405716</td>\n    </tr>\n    <tr>\n      <th>8</th>\n      <td>Public parks</td>\n      <td>0.457354</td>\n      <td>0.523121</td>\n      <td>0.000036</td>\n      <td>1.000000</td>\n      <td>0.224840</td>\n      <td>0.229666</td>\n      <td>-0.522855</td>\n    </tr>\n    <tr>\n      <th>9</th>\n      <td>Postal offices</td>\n      <td>0.449311</td>\n      <td>0.562500</td>\n      <td>0.000039</td>\n      <td>1.000000</td>\n      <td>0.284404</td>\n      <td>0.319898</td>\n      <td>-0.422085</td>\n    </tr>\n    <tr>\n      <th>10</th>\n      <td>Addiction counselling</td>\n      <td>0.174379</td>\n      <td>0.000678</td>\n      <td>0.000033</td>\n      <td>1.000000</td>\n      <td>0.283214</td>\n      <td>0.730276</td>\n      <td>-0.209249</td>\n    </tr>\n    <tr>\n      <th>11</th>\n      <td>Kindergarten</td>\n      <td>0.622497</td>\n      <td>0.678571</td>\n      <td>0.000039</td>\n      <td>1.000000</td>\n      <td>0.223811</td>\n      <td>0.164950</td>\n      <td>-0.700567</td>\n    </tr>\n    <tr>\n      <th>12</th>\n      <td>Italian schools</td>\n      <td>0.424730</td>\n      <td>0.535714</td>\n      <td>0.000038</td>\n      <td>1.000000</td>\n      <td>0.271401</td>\n      <td>0.321665</td>\n      <td>-0.406101</td>\n    </tr>\n    <tr>\n      <th>13</th>\n      <td>Sport facilities</td>\n      <td>0.631755</td>\n      <td>0.672414</td>\n      <td>0.000040</td>\n      <td>1.000000</td>\n      <td>0.229556</td>\n      <td>0.170276</td>\n      <td>-0.666289</td>\n    </tr>\n    <tr>\n      <th>14</th>\n      <td>Elementary schools</td>\n      <td>0.645422</td>\n      <td>0.700000</td>\n      <td>0.000040</td>\n      <td>1.000000</td>\n      <td>0.239302</td>\n      <td>0.176244</td>\n      <td>-0.712731</td>\n    </tr>\n    <tr>\n      <th>15</th>\n      <td>High schools</td>\n      <td>0.384529</td>\n      <td>0.541667</td>\n      <td>0.000035</td>\n      <td>1.000000</td>\n      <td>0.294164</td>\n      <td>0.401112</td>\n      <td>-0.455873</td>\n    </tr>\n    <tr>\n      <th>16</th>\n      <td>Middle schools</td>\n      <td>0.554144</td>\n      <td>0.593023</td>\n      <td>0.000039</td>\n      <td>1.000000</td>\n      <td>0.216514</td>\n      <td>0.173318</td>\n      <td>-0.688970</td>\n    </tr>\n    <tr>\n      <th>17</th>\n      <td>Train stations</td>\n      <td>0.202623</td>\n      <td>0.001201</td>\n      <td>0.000034</td>\n      <td>1.000000</td>\n      <td>0.297010</td>\n      <td>0.688120</td>\n      <td>-0.191547</td>\n    </tr>\n    <tr>\n      <th>18</th>\n      <td>University buildings</td>\n      <td>0.193766</td>\n      <td>0.001160</td>\n      <td>0.000037</td>\n      <td>1.000000</td>\n      <td>0.266268</td>\n      <td>0.667555</td>\n      <td>-0.329897</td>\n    </tr>\n    <tr>\n      <th>19</th>\n      <td>wifi</td>\n      <td>0.561438</td>\n      <td>0.584906</td>\n      <td>0.000039</td>\n      <td>1.000000</td>\n      <td>0.200386</td>\n      <td>0.161528</td>\n      <td>-0.734652</td>\n    </tr>\n    <tr>\n      <th>20</th>\n      <td>Stores and Groceries</td>\n      <td>0.464449</td>\n      <td>0.513453</td>\n      <td>0.000038</td>\n      <td>1.000000</td>\n      <td>0.178336</td>\n      <td>0.148827</td>\n      <td>-0.671283</td>\n    </tr>\n    <tr>\n      <th>21</th>\n      <td>All services</td>\n      <td>0.570945</td>\n      <td>0.612165</td>\n      <td>0.000043</td>\n      <td>1.000000</td>\n      <td>0.192192</td>\n      <td>0.141474</td>\n      <td>-0.764050</td>\n    </tr>\n    <tr>\n      <th>22</th>\n      <td>duomo_dist</td>\n      <td>5968.278751</td>\n      <td>5031.232562</td>\n      <td>318.419822</td>\n      <td>61032.302044</td>\n      <td>3638.459223</td>\n      <td>0.256631</td>\n      <td>1.000000</td>\n    </tr>\n  </tbody>\n</table>\n</div>"
     },
     "execution_count": 102,
     "metadata": {},
     "output_type": "execute_result"
    }
   ],
   "source": [
    "corr_df['Mean'] = [index_df[column].mean() for column in list(index_df.loc[:, 'acqua':].columns)]\n",
    "corr_df['Median'] = [index_df[column].median() for column in list(index_df.loc[:, 'acqua':].columns)]\n",
    "corr_df['Minimum'] = [index_df[column].min() for column in list(index_df.loc[:, 'acqua':].columns)]\n",
    "corr_df['Maximum'] = [index_df[column].max() for column in list(index_df.loc[:, 'acqua':].columns)]\n",
    "corr_df['Standard deviation'] = [index_df[column].std() for column in list(index_df.loc[:, 'acqua':].columns)]\n",
    "corr_df['Gini']=[gini(index_df[column]) for column in list(index_df.loc[:,'acqua':].columns)]\n",
    "column_to_move = corr_df.pop(\"Correlation\")\n",
    "corr_df.insert(7, \"Correlation\", column_to_move)\n",
    "pyperclip.copy(corr_df.to_latex(index=False))\n",
    "corr_df"
   ],
   "metadata": {
    "collapsed": false,
    "ExecuteTime": {
     "end_time": "2023-07-06T15:13:38.615138300Z",
     "start_time": "2023-07-06T15:13:25.411976500Z"
    }
   }
  },
  {
   "cell_type": "code",
   "execution_count": 116,
   "outputs": [
    {
     "data": {
      "text/plain": "  acqua                                  biblio                                \\\n    Max    ID max       Min    ID min       Max    ID max       Min    ID min   \n0   1.0  51014001  0.000038  10004632  1.000000  41019801  0.000035  10004632   \n1   1.0  20003010  0.000038  10003803  1.000000  10001801  0.000036  10003803   \n2   1.0  51017301  0.000046  30001801  1.000000  41019802  0.000042  30001801   \n3   1.0  20003001  0.000047  30002301  0.833333  10004616  0.000043  30002301   \n4   1.0  20003002  0.000055  51014402  0.833333  10003006  0.000048  20004076   \n5   1.0  20003003  0.000055  51014401  0.833333  10003005  0.000048  20004065   \n6   1.0  20003004  0.000055  51014403  0.833333  10003004  0.000048  20004077   \n7   1.0  20003005  0.000055  51014404  0.833333  10003003  0.000048  20004068   \n8   1.0  20003006  0.000062  20004076  0.833333  10003002  0.000048  20004050   \n9   1.0  20003007  0.000062  20004065  0.833333  10003001  0.000048  20004069   \n\n  ciclabili            ...      wifi               distr                      \\\n        Max    ID max  ...       Min    ID min       Max    ID max       Min   \n0  1.000000  51013801  ...  0.000039  10004632  1.000000  10004301  0.000038   \n1  0.957602  10003802  ...  0.000039  10003803  0.986547  10004201  0.000039   \n2  0.938596  30000801  ...  0.000048  30001801  0.919283  20000401  0.000047   \n3  0.935673  10003801  ...  0.000048  30002301  0.883408  30000601  0.000047   \n4  0.918129  30003402  ...  0.000054  51014404  0.831839  30003701  0.000055   \n5  0.910819  51011801  ...  0.000054  51014402  0.820628  20001001  0.000055   \n6  0.906433  30003401  ...  0.000054  51014401  0.784753  30000501  0.000055   \n7  0.887427  30000301  ...  0.000054  51014403  0.748879  30000502  0.000055   \n8  0.887427  10004401  ...  0.000061  41039806  0.748879  30000504  0.000057   \n9  0.862573  30000701  ...  0.000061  41039803  0.733184  30000503  0.000057   \n\n                  all                                \n     ID min       Max    ID max       Min    ID min  \n0  10004632  1.000000  10004301  0.000043  10004632  \n1  10003803  0.980469  20000401  0.000043  10003803  \n2  30001801  0.974330  10004201  0.000054  30001801  \n3  30002301  0.952567  20000201  0.000054  30002301  \n4  51014401  0.938058  20001001  0.000065  20004076  \n5  51014404  0.921875  20000101  0.000065  20004065  \n6  51014403  0.920201  20000103  0.000066  20004077  \n7  51014402  0.914062  20000102  0.000066  20004068  \n8  20004076  0.904576  30000601  0.000066  20004050  \n9  20004065  0.901786  51013801  0.000066  51014404  \n\n[10 rows x 88 columns]",
      "text/html": "<div>\n<style scoped>\n    .dataframe tbody tr th:only-of-type {\n        vertical-align: middle;\n    }\n\n    .dataframe tbody tr th {\n        vertical-align: top;\n    }\n\n    .dataframe thead tr th {\n        text-align: left;\n    }\n</style>\n<table border=\"1\" class=\"dataframe\">\n  <thead>\n    <tr>\n      <th></th>\n      <th colspan=\"4\" halign=\"left\">acqua</th>\n      <th colspan=\"4\" halign=\"left\">biblio</th>\n      <th colspan=\"2\" halign=\"left\">ciclabili</th>\n      <th>...</th>\n      <th colspan=\"2\" halign=\"left\">wifi</th>\n      <th colspan=\"4\" halign=\"left\">distr</th>\n      <th colspan=\"4\" halign=\"left\">all</th>\n    </tr>\n    <tr>\n      <th></th>\n      <th>Max</th>\n      <th>ID max</th>\n      <th>Min</th>\n      <th>ID min</th>\n      <th>Max</th>\n      <th>ID max</th>\n      <th>Min</th>\n      <th>ID min</th>\n      <th>Max</th>\n      <th>ID max</th>\n      <th>...</th>\n      <th>Min</th>\n      <th>ID min</th>\n      <th>Max</th>\n      <th>ID max</th>\n      <th>Min</th>\n      <th>ID min</th>\n      <th>Max</th>\n      <th>ID max</th>\n      <th>Min</th>\n      <th>ID min</th>\n    </tr>\n  </thead>\n  <tbody>\n    <tr>\n      <th>0</th>\n      <td>1.0</td>\n      <td>51014001</td>\n      <td>0.000038</td>\n      <td>10004632</td>\n      <td>1.000000</td>\n      <td>41019801</td>\n      <td>0.000035</td>\n      <td>10004632</td>\n      <td>1.000000</td>\n      <td>51013801</td>\n      <td>...</td>\n      <td>0.000039</td>\n      <td>10004632</td>\n      <td>1.000000</td>\n      <td>10004301</td>\n      <td>0.000038</td>\n      <td>10004632</td>\n      <td>1.000000</td>\n      <td>10004301</td>\n      <td>0.000043</td>\n      <td>10004632</td>\n    </tr>\n    <tr>\n      <th>1</th>\n      <td>1.0</td>\n      <td>20003010</td>\n      <td>0.000038</td>\n      <td>10003803</td>\n      <td>1.000000</td>\n      <td>10001801</td>\n      <td>0.000036</td>\n      <td>10003803</td>\n      <td>0.957602</td>\n      <td>10003802</td>\n      <td>...</td>\n      <td>0.000039</td>\n      <td>10003803</td>\n      <td>0.986547</td>\n      <td>10004201</td>\n      <td>0.000039</td>\n      <td>10003803</td>\n      <td>0.980469</td>\n      <td>20000401</td>\n      <td>0.000043</td>\n      <td>10003803</td>\n    </tr>\n    <tr>\n      <th>2</th>\n      <td>1.0</td>\n      <td>51017301</td>\n      <td>0.000046</td>\n      <td>30001801</td>\n      <td>1.000000</td>\n      <td>41019802</td>\n      <td>0.000042</td>\n      <td>30001801</td>\n      <td>0.938596</td>\n      <td>30000801</td>\n      <td>...</td>\n      <td>0.000048</td>\n      <td>30001801</td>\n      <td>0.919283</td>\n      <td>20000401</td>\n      <td>0.000047</td>\n      <td>30001801</td>\n      <td>0.974330</td>\n      <td>10004201</td>\n      <td>0.000054</td>\n      <td>30001801</td>\n    </tr>\n    <tr>\n      <th>3</th>\n      <td>1.0</td>\n      <td>20003001</td>\n      <td>0.000047</td>\n      <td>30002301</td>\n      <td>0.833333</td>\n      <td>10004616</td>\n      <td>0.000043</td>\n      <td>30002301</td>\n      <td>0.935673</td>\n      <td>10003801</td>\n      <td>...</td>\n      <td>0.000048</td>\n      <td>30002301</td>\n      <td>0.883408</td>\n      <td>30000601</td>\n      <td>0.000047</td>\n      <td>30002301</td>\n      <td>0.952567</td>\n      <td>20000201</td>\n      <td>0.000054</td>\n      <td>30002301</td>\n    </tr>\n    <tr>\n      <th>4</th>\n      <td>1.0</td>\n      <td>20003002</td>\n      <td>0.000055</td>\n      <td>51014402</td>\n      <td>0.833333</td>\n      <td>10003006</td>\n      <td>0.000048</td>\n      <td>20004076</td>\n      <td>0.918129</td>\n      <td>30003402</td>\n      <td>...</td>\n      <td>0.000054</td>\n      <td>51014404</td>\n      <td>0.831839</td>\n      <td>30003701</td>\n      <td>0.000055</td>\n      <td>51014401</td>\n      <td>0.938058</td>\n      <td>20001001</td>\n      <td>0.000065</td>\n      <td>20004076</td>\n    </tr>\n    <tr>\n      <th>5</th>\n      <td>1.0</td>\n      <td>20003003</td>\n      <td>0.000055</td>\n      <td>51014401</td>\n      <td>0.833333</td>\n      <td>10003005</td>\n      <td>0.000048</td>\n      <td>20004065</td>\n      <td>0.910819</td>\n      <td>51011801</td>\n      <td>...</td>\n      <td>0.000054</td>\n      <td>51014402</td>\n      <td>0.820628</td>\n      <td>20001001</td>\n      <td>0.000055</td>\n      <td>51014404</td>\n      <td>0.921875</td>\n      <td>20000101</td>\n      <td>0.000065</td>\n      <td>20004065</td>\n    </tr>\n    <tr>\n      <th>6</th>\n      <td>1.0</td>\n      <td>20003004</td>\n      <td>0.000055</td>\n      <td>51014403</td>\n      <td>0.833333</td>\n      <td>10003004</td>\n      <td>0.000048</td>\n      <td>20004077</td>\n      <td>0.906433</td>\n      <td>30003401</td>\n      <td>...</td>\n      <td>0.000054</td>\n      <td>51014401</td>\n      <td>0.784753</td>\n      <td>30000501</td>\n      <td>0.000055</td>\n      <td>51014403</td>\n      <td>0.920201</td>\n      <td>20000103</td>\n      <td>0.000066</td>\n      <td>20004077</td>\n    </tr>\n    <tr>\n      <th>7</th>\n      <td>1.0</td>\n      <td>20003005</td>\n      <td>0.000055</td>\n      <td>51014404</td>\n      <td>0.833333</td>\n      <td>10003003</td>\n      <td>0.000048</td>\n      <td>20004068</td>\n      <td>0.887427</td>\n      <td>30000301</td>\n      <td>...</td>\n      <td>0.000054</td>\n      <td>51014403</td>\n      <td>0.748879</td>\n      <td>30000502</td>\n      <td>0.000055</td>\n      <td>51014402</td>\n      <td>0.914062</td>\n      <td>20000102</td>\n      <td>0.000066</td>\n      <td>20004068</td>\n    </tr>\n    <tr>\n      <th>8</th>\n      <td>1.0</td>\n      <td>20003006</td>\n      <td>0.000062</td>\n      <td>20004076</td>\n      <td>0.833333</td>\n      <td>10003002</td>\n      <td>0.000048</td>\n      <td>20004050</td>\n      <td>0.887427</td>\n      <td>10004401</td>\n      <td>...</td>\n      <td>0.000061</td>\n      <td>41039806</td>\n      <td>0.748879</td>\n      <td>30000504</td>\n      <td>0.000057</td>\n      <td>20004076</td>\n      <td>0.904576</td>\n      <td>30000601</td>\n      <td>0.000066</td>\n      <td>20004050</td>\n    </tr>\n    <tr>\n      <th>9</th>\n      <td>1.0</td>\n      <td>20003007</td>\n      <td>0.000062</td>\n      <td>20004065</td>\n      <td>0.833333</td>\n      <td>10003001</td>\n      <td>0.000048</td>\n      <td>20004069</td>\n      <td>0.862573</td>\n      <td>30000701</td>\n      <td>...</td>\n      <td>0.000061</td>\n      <td>41039803</td>\n      <td>0.733184</td>\n      <td>30000503</td>\n      <td>0.000057</td>\n      <td>20004065</td>\n      <td>0.901786</td>\n      <td>51013801</td>\n      <td>0.000066</td>\n      <td>51014404</td>\n    </tr>\n  </tbody>\n</table>\n<p>10 rows × 88 columns</p>\n</div>"
     },
     "execution_count": 116,
     "metadata": {},
     "output_type": "execute_result"
    }
   ],
   "source": [
    "def return_min_max(df, columns_to_sort, id_to_return,id_name='ID', n=10):\n",
    "    df_list=[]\n",
    "    for column in columns_to_sort:\n",
    "        df_max=df.sort_values(column, ascending=False).head(n).reset_index()\n",
    "        df_max=df_max[[column, id_to_return]]\n",
    "        df_max.columns=['Max', id_name+' max']\n",
    "        df_min=df.sort_values(column, ascending=True).head(n).reset_index()\n",
    "        df_min=df_min[[column, id_to_return]]\n",
    "        df_min.columns=['Min', id_name+' min']\n",
    "        df_min_max=pd.concat([df_max, df_min], axis=1)\n",
    "        df_min_max.columns=pd.MultiIndex.from_product([[column], df_min_max.columns])\n",
    "        df_list.append(df_min_max)\n",
    "    return pd.concat(df_list, axis=1)\n",
    "return_min_max(index_df, columns_list, 'CODICE EDIFICIO')"
   ],
   "metadata": {
    "collapsed": false,
    "ExecuteTime": {
     "end_time": "2023-07-06T15:50:56.227456100Z",
     "start_time": "2023-07-06T15:50:56.083180600Z"
    }
   }
  },
  {
   "cell_type": "code",
   "execution_count": 35,
   "outputs": [
    {
     "name": "stdout",
     "output_type": "stream",
     "text": [
      "                            OLS Regression Results                            \n",
      "==============================================================================\n",
      "Dep. Variable:             duomo_dist   R-squared:                       0.638\n",
      "Model:                            OLS   Adj. R-squared:                  0.629\n",
      "Method:                 Least Squares   F-statistic:                     72.73\n",
      "Date:                Thu, 06 Jul 2023   Prob (F-statistic):          6.21e-183\n",
      "Time:                        11:51:21   Log-Likelihood:                -8481.1\n",
      "No. Observations:                 931   AIC:                         1.701e+04\n",
      "Df Residuals:                     908   BIC:                         1.712e+04\n",
      "Df Model:                          22                                         \n",
      "Covariance Type:            nonrobust                                         \n",
      "==============================================================================\n",
      "                 coef    std err          t      P>|t|      [0.025      0.975]\n",
      "------------------------------------------------------------------------------\n",
      "Intercept   1.418e+04    236.716     59.919      0.000    1.37e+04    1.46e+04\n",
      "acqua        706.5972    321.906      2.195      0.028      74.831    1338.363\n",
      "biblio       179.9718    312.294      0.576      0.565    -432.930     792.874\n",
      "ciclabili  -2119.2438   1104.186     -1.919      0.055   -4286.297      47.810\n",
      "consu      -2631.9817    372.044     -7.074      0.000   -3362.148   -1901.815\n",
      "cult        -654.9073    677.780     -0.966      0.334   -1985.104     675.289\n",
      "edicole    -1099.1285   2152.510     -0.511      0.610   -5323.602    3125.345\n",
      "farmacie    1639.4473   1500.685      1.092      0.275   -1305.768    4584.662\n",
      "metro        755.4086    316.544      2.386      0.017     134.166    1376.651\n",
      "parchi        11.0993    512.152      0.022      0.983    -994.041    1016.239\n",
      "posta       1389.6226    404.112      3.439      0.001     596.521    2182.724\n",
      "serd         481.1630    320.559      1.501      0.134    -147.959    1110.285\n",
      "sinf        -434.4725   1077.434     -0.403      0.687   -2549.022    1680.078\n",
      "sita         587.8760    449.522      1.308      0.191    -294.346    1470.099\n",
      "sport        666.3725   1098.859      0.606      0.544   -1490.226    2822.971\n",
      "sprim      -3031.4393   1255.182     -2.415      0.016   -5494.834    -568.045\n",
      "ss2         -487.3207    414.800     -1.175      0.240   -1301.400     326.758\n",
      "ssec        -274.5743   1087.697     -0.252      0.801   -2409.266    1860.118\n",
      "treni        465.3992    302.546      1.538      0.124    -128.371    1059.169\n",
      "uni         -651.2769    348.831     -1.867      0.062   -1335.886      33.333\n",
      "wifi       -4415.1579   1440.810     -3.064      0.002   -7242.862   -1587.454\n",
      "distr       -546.4464   1112.331     -0.491      0.623   -2729.484    1636.591\n",
      "all        -6529.6478   2507.613     -2.604      0.009   -1.15e+04   -1608.257\n",
      "==============================================================================\n",
      "Omnibus:                     1583.781   Durbin-Watson:                   1.333\n",
      "Prob(Omnibus):                  0.000   Jarque-Bera (JB):          2002603.133\n",
      "Skew:                          10.560   Prob(JB):                         0.00\n",
      "Kurtosis:                     229.227   Cond. No.                         102.\n",
      "==============================================================================\n",
      "\n",
      "Notes:\n",
      "[1] Standard Errors assume that the covariance matrix of the errors is correctly specified.\n"
     ]
    }
   ],
   "source": [
    "y, X = dmatrices('duomo_dist ~  acqua + biblio + ciclabili+ consu + cult + edicole + farmacie + metro + parchi + posta + serd + sinf + sita + sport + sprim + ss2 + ssec + treni + uni + wifi + distr + all', data=index_df, return_type='dataframe')\n",
    "mod = sm.OLS(y, X)\n",
    "res = mod.fit()\n",
    "print(res.summary())"
   ],
   "metadata": {
    "collapsed": false,
    "ExecuteTime": {
     "end_time": "2023-07-06T09:51:21.932157800Z",
     "start_time": "2023-07-06T09:51:21.682216800Z"
    }
   }
  }
 ],
 "metadata": {
  "kernelspec": {
   "display_name": "Python 3",
   "language": "python",
   "name": "python3"
  },
  "language_info": {
   "codemirror_mode": {
    "name": "ipython",
    "version": 2
   },
   "file_extension": ".py",
   "mimetype": "text/x-python",
   "name": "python",
   "nbconvert_exporter": "python",
   "pygments_lexer": "ipython2",
   "version": "2.7.6"
  }
 },
 "nbformat": 4,
 "nbformat_minor": 0
}
