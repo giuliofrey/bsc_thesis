{
 "cells": [
  {
   "cell_type": "markdown",
   "source": [
    "# Analysis\n"
   ],
   "metadata": {
    "collapsed": false
   }
  },
  {
   "cell_type": "code",
   "execution_count": 131,
   "outputs": [],
   "source": [
    "import pandas as pd\n",
    "import numpy as np\n",
    "import matplotlib.pyplot as plt\n",
    "import fiona\n",
    "from shapely.geometry import MultiPoint, Point, Polygon,shape\n",
    "import random"
   ],
   "metadata": {
    "collapsed": false,
    "ExecuteTime": {
     "end_time": "2023-06-29T16:20:57.134911400Z",
     "start_time": "2023-06-29T16:20:57.119037500Z"
    }
   }
  },
  {
   "cell_type": "markdown",
   "source": [
    "## Data Cleaning and preprocessing"
   ],
   "metadata": {
    "collapsed": false
   }
  },
  {
   "cell_type": "code",
   "execution_count": 55,
   "outputs": [],
   "source": [
    "calc_df_fixed=pd.read_csv('../outputs/calc_fixed_df.csv', low_memory=False)\n",
    "mm_df=pd.read_csv('../outputs/mm_dataset.csv')\n",
    "#removing all non geolocated services\n",
    "calc_df_fixed = calc_df_fixed.drop(calc_df_fixed[calc_df_fixed['long'].isna()].index)"
   ],
   "metadata": {
    "collapsed": false,
    "ExecuteTime": {
     "end_time": "2023-06-29T14:41:37.595577700Z",
     "start_time": "2023-06-29T14:41:31.450438Z"
    }
   }
  },
  {
   "cell_type": "markdown",
   "source": [
    "Cleaning all housing units outside of comune di milano"
   ],
   "metadata": {
    "collapsed": false
   }
  },
  {
   "cell_type": "code",
   "execution_count": 32,
   "outputs": [
    {
     "ename": "KeyboardInterrupt",
     "evalue": "",
     "output_type": "error",
     "traceback": [
      "\u001B[1;31m---------------------------------------------------------------------------\u001B[0m",
      "\u001B[1;31mKeyboardInterrupt\u001B[0m                         Traceback (most recent call last)",
      "Cell \u001B[1;32mIn[32], line 9\u001B[0m\n\u001B[0;32m      7\u001B[0m     b\u001B[38;5;241m=\u001B[39mrandom\u001B[38;5;241m.\u001B[39muniform(\u001B[38;5;241m45.35\u001B[39m, \u001B[38;5;241m45.9\u001B[39m)\n\u001B[0;32m      8\u001B[0m     point \u001B[38;5;241m=\u001B[39m Point(a, b)\n\u001B[1;32m----> 9\u001B[0m     found\u001B[38;5;241m=\u001B[39mpoint\u001B[38;5;241m.\u001B[39mwithin(\u001B[43mshape\u001B[49m\u001B[43m(\u001B[49m\u001B[43mmulti\u001B[49m\u001B[43m[\u001B[49m\u001B[38;5;124;43m'\u001B[39;49m\u001B[38;5;124;43mgeometry\u001B[39;49m\u001B[38;5;124;43m'\u001B[39;49m\u001B[43m]\u001B[49m\u001B[43m)\u001B[49m)\n\u001B[0;32m     12\u001B[0m \u001B[38;5;28mprint\u001B[39m(a, b)\n",
      "File \u001B[1;32m~\\AppData\\Roaming\\Python\\Python310\\site-packages\\shapely\\geometry\\geo.py:98\u001B[0m, in \u001B[0;36mshape\u001B[1;34m(context)\u001B[0m\n\u001B[0;32m     96\u001B[0m     \u001B[38;5;28;01mreturn\u001B[39;00m Point(ob[\u001B[38;5;124m\"\u001B[39m\u001B[38;5;124mcoordinates\u001B[39m\u001B[38;5;124m\"\u001B[39m])\n\u001B[0;32m     97\u001B[0m \u001B[38;5;28;01melif\u001B[39;00m geom_type \u001B[38;5;241m==\u001B[39m \u001B[38;5;124m\"\u001B[39m\u001B[38;5;124mlinestring\u001B[39m\u001B[38;5;124m\"\u001B[39m:\n\u001B[1;32m---> 98\u001B[0m     \u001B[38;5;28;01mreturn\u001B[39;00m \u001B[43mLineString\u001B[49m\u001B[43m(\u001B[49m\u001B[43mob\u001B[49m\u001B[43m[\u001B[49m\u001B[38;5;124;43m\"\u001B[39;49m\u001B[38;5;124;43mcoordinates\u001B[39;49m\u001B[38;5;124;43m\"\u001B[39;49m\u001B[43m]\u001B[49m\u001B[43m)\u001B[49m\n\u001B[0;32m     99\u001B[0m \u001B[38;5;28;01melif\u001B[39;00m geom_type \u001B[38;5;241m==\u001B[39m \u001B[38;5;124m\"\u001B[39m\u001B[38;5;124mlinearring\u001B[39m\u001B[38;5;124m\"\u001B[39m:\n\u001B[0;32m    100\u001B[0m     \u001B[38;5;28;01mreturn\u001B[39;00m LinearRing(ob[\u001B[38;5;124m\"\u001B[39m\u001B[38;5;124mcoordinates\u001B[39m\u001B[38;5;124m\"\u001B[39m])\n",
      "File \u001B[1;32m~\\AppData\\Roaming\\Python\\Python310\\site-packages\\shapely\\geometry\\linestring.py:73\u001B[0m, in \u001B[0;36mLineString.__new__\u001B[1;34m(self, coordinates)\u001B[0m\n\u001B[0;32m     68\u001B[0m \u001B[38;5;28;01mif\u001B[39;00m \u001B[38;5;28mlen\u001B[39m(coordinates) \u001B[38;5;241m==\u001B[39m \u001B[38;5;241m0\u001B[39m:\n\u001B[0;32m     69\u001B[0m     \u001B[38;5;66;03m# empty geometry\u001B[39;00m\n\u001B[0;32m     70\u001B[0m     \u001B[38;5;66;03m# TODO better constructor + should shapely.linestrings handle this?\u001B[39;00m\n\u001B[0;32m     71\u001B[0m     \u001B[38;5;28;01mreturn\u001B[39;00m shapely\u001B[38;5;241m.\u001B[39mfrom_wkt(\u001B[38;5;124m\"\u001B[39m\u001B[38;5;124mLINESTRING EMPTY\u001B[39m\u001B[38;5;124m\"\u001B[39m)\n\u001B[1;32m---> 73\u001B[0m geom \u001B[38;5;241m=\u001B[39m \u001B[43mshapely\u001B[49m\u001B[38;5;241;43m.\u001B[39;49m\u001B[43mlinestrings\u001B[49m\u001B[43m(\u001B[49m\u001B[43mcoordinates\u001B[49m\u001B[43m)\u001B[49m\n\u001B[0;32m     74\u001B[0m \u001B[38;5;28;01mif\u001B[39;00m \u001B[38;5;129;01mnot\u001B[39;00m \u001B[38;5;28misinstance\u001B[39m(geom, LineString):\n\u001B[0;32m     75\u001B[0m     \u001B[38;5;28;01mraise\u001B[39;00m \u001B[38;5;167;01mValueError\u001B[39;00m(\u001B[38;5;124m\"\u001B[39m\u001B[38;5;124mInvalid values passed to LineString constructor\u001B[39m\u001B[38;5;124m\"\u001B[39m)\n",
      "File \u001B[1;32m~\\AppData\\Roaming\\Python\\Python310\\site-packages\\shapely\\decorators.py:77\u001B[0m, in \u001B[0;36mmultithreading_enabled.<locals>.wrapped\u001B[1;34m(*args, **kwargs)\u001B[0m\n\u001B[0;32m     75\u001B[0m     \u001B[38;5;28;01mfor\u001B[39;00m arr \u001B[38;5;129;01min\u001B[39;00m array_args:\n\u001B[0;32m     76\u001B[0m         arr\u001B[38;5;241m.\u001B[39mflags\u001B[38;5;241m.\u001B[39mwriteable \u001B[38;5;241m=\u001B[39m \u001B[38;5;28;01mFalse\u001B[39;00m\n\u001B[1;32m---> 77\u001B[0m     \u001B[38;5;28;01mreturn\u001B[39;00m func(\u001B[38;5;241m*\u001B[39margs, \u001B[38;5;241m*\u001B[39m\u001B[38;5;241m*\u001B[39mkwargs)\n\u001B[0;32m     78\u001B[0m \u001B[38;5;28;01mfinally\u001B[39;00m:\n\u001B[0;32m     79\u001B[0m     \u001B[38;5;28;01mfor\u001B[39;00m arr, old_flag \u001B[38;5;129;01min\u001B[39;00m \u001B[38;5;28mzip\u001B[39m(array_args, old_flags):\n",
      "File \u001B[1;32m~\\AppData\\Roaming\\Python\\Python310\\site-packages\\shapely\\creation.py:120\u001B[0m, in \u001B[0;36mlinestrings\u001B[1;34m(coords, y, z, indices, out, **kwargs)\u001B[0m\n\u001B[0;32m    118\u001B[0m coords \u001B[38;5;241m=\u001B[39m _xyz_to_coords(coords, y, z)\n\u001B[0;32m    119\u001B[0m \u001B[38;5;28;01mif\u001B[39;00m indices \u001B[38;5;129;01mis\u001B[39;00m \u001B[38;5;28;01mNone\u001B[39;00m:\n\u001B[1;32m--> 120\u001B[0m     \u001B[38;5;28;01mreturn\u001B[39;00m lib\u001B[38;5;241m.\u001B[39mlinestrings(coords, out\u001B[38;5;241m=\u001B[39mout, \u001B[38;5;241m*\u001B[39m\u001B[38;5;241m*\u001B[39mkwargs)\n\u001B[0;32m    121\u001B[0m \u001B[38;5;28;01melse\u001B[39;00m:\n\u001B[0;32m    122\u001B[0m     \u001B[38;5;28;01mreturn\u001B[39;00m simple_geometries_1d(coords, indices, GeometryType\u001B[38;5;241m.\u001B[39mLINESTRING, out\u001B[38;5;241m=\u001B[39mout)\n",
      "\u001B[1;31mKeyboardInterrupt\u001B[0m: "
     ]
    }
   ],
   "source": [
    "multipol = fiona.open(r\"../datasets/milan_shape/L090102_ComuneMilano.shp\")\n",
    "multi = next(iter(multipol))\n",
    "\n",
    "found=False\n",
    "while not found:\n",
    "    a=random.uniform(8.8, 9.37)\n",
    "    b=random.uniform(45.35, 45.9)\n",
    "    point = Point(a, b)\n",
    "    found=point.within(shape(multi['geometry']))\n",
    "\n",
    "print(a, b)"
   ],
   "metadata": {
    "collapsed": false,
    "ExecuteTime": {
     "end_time": "2023-06-29T14:06:19.416123500Z",
     "start_time": "2023-06-29T14:05:04.686256500Z"
    }
   }
  },
  {
   "cell_type": "markdown",
   "source": [
    "multipol = fiona.open(r\"C:\\Users\\Jordi\\Downloads\\ESP_adm_shp\\ESP_adm0.shp\")\n",
    "multi = next(iter(multipol))\n",
    "\n",
    "point = Point(0,42)\n",
    "point.within(shape(multi['geometry']))"
   ],
   "metadata": {
    "collapsed": false
   }
  },
  {
   "cell_type": "markdown",
   "source": [
    "## Summary statistics"
   ],
   "metadata": {
    "collapsed": false
   }
  },
  {
   "cell_type": "code",
   "execution_count": 33,
   "outputs": [
    {
     "data": {
      "text/plain": "df_name               acqua       biblio    ciclabili        consu  \\\n10001708 count    52.000000    26.000000  3722.000000    21.000000   \n         mean   4837.286538  4852.173077  4710.625631  3401.933333   \n         std    2227.730313  2356.413434  2021.426698  1740.142727   \n         min     300.000000   732.400000   167.700000  1149.100000   \n         25%    3003.850000  2909.925000  3254.175000  2033.500000   \n\ndf_name                cult        distr      edicole     farmacie  \\\n10001708 count    75.000000   847.000000   562.000000   414.000000   \n         mean   3293.048000  3922.098229  4272.305160  4305.478261   \n         std     978.047843  1758.667532  1940.521378  2024.596546   \n         min    1743.900000   578.900000   342.800000   233.000000   \n         25%    2801.900000  2658.950000  2807.500000  2879.775000   \n\ndf_name               metro       parchi  ...         serd         sinf  \\\n10001708 count   110.000000  1065.000000  ...    15.000000   263.000000   \n         mean   5610.150909  4802.970047  ...  4445.560000  4764.759696   \n         std    3056.697970  2108.603931  ...  1921.965073  2176.150858   \n         min    1174.400000   172.600000  ...  2578.400000   201.800000   \n         25%    3591.875000  3716.500000  ...  3333.200000  3084.600000   \n\ndf_name                sita        sport        sprim          ss2  \\\n10001708 count   114.000000  1041.000000  1718.000000   174.000000   \n         mean   4274.764035  5144.240346  4792.983818  4073.697701   \n         std    2024.712556  2223.316616  2151.748558  1787.300165   \n         min     455.300000   168.200000   302.400000   819.000000   \n         25%    2918.900000  3472.400000  3121.600000  2981.025000   \n\ndf_name                ssec        treni          uni         wifi  \n10001708 count  1128.000000    24.000000   711.000000   596.000000  \n         mean   4544.281294  4543.304167  3615.077637  4699.220638  \n         std    2058.149003  2247.137897  1642.314869  2046.524959  \n         min     302.400000   879.500000   906.800000   204.500000  \n         25%    2922.825000  3174.725000  2450.500000  3049.850000  \n\n[5 rows x 21 columns]",
      "text/html": "<div>\n<style scoped>\n    .dataframe tbody tr th:only-of-type {\n        vertical-align: middle;\n    }\n\n    .dataframe tbody tr th {\n        vertical-align: top;\n    }\n\n    .dataframe thead th {\n        text-align: right;\n    }\n</style>\n<table border=\"1\" class=\"dataframe\">\n  <thead>\n    <tr style=\"text-align: right;\">\n      <th></th>\n      <th>df_name</th>\n      <th>acqua</th>\n      <th>biblio</th>\n      <th>ciclabili</th>\n      <th>consu</th>\n      <th>cult</th>\n      <th>distr</th>\n      <th>edicole</th>\n      <th>farmacie</th>\n      <th>metro</th>\n      <th>parchi</th>\n      <th>...</th>\n      <th>serd</th>\n      <th>sinf</th>\n      <th>sita</th>\n      <th>sport</th>\n      <th>sprim</th>\n      <th>ss2</th>\n      <th>ssec</th>\n      <th>treni</th>\n      <th>uni</th>\n      <th>wifi</th>\n    </tr>\n  </thead>\n  <tbody>\n    <tr>\n      <th rowspan=\"5\" valign=\"top\">10001708</th>\n      <th>count</th>\n      <td>52.000000</td>\n      <td>26.000000</td>\n      <td>3722.000000</td>\n      <td>21.000000</td>\n      <td>75.000000</td>\n      <td>847.000000</td>\n      <td>562.000000</td>\n      <td>414.000000</td>\n      <td>110.000000</td>\n      <td>1065.000000</td>\n      <td>...</td>\n      <td>15.000000</td>\n      <td>263.000000</td>\n      <td>114.000000</td>\n      <td>1041.000000</td>\n      <td>1718.000000</td>\n      <td>174.000000</td>\n      <td>1128.000000</td>\n      <td>24.000000</td>\n      <td>711.000000</td>\n      <td>596.000000</td>\n    </tr>\n    <tr>\n      <th>mean</th>\n      <td>4837.286538</td>\n      <td>4852.173077</td>\n      <td>4710.625631</td>\n      <td>3401.933333</td>\n      <td>3293.048000</td>\n      <td>3922.098229</td>\n      <td>4272.305160</td>\n      <td>4305.478261</td>\n      <td>5610.150909</td>\n      <td>4802.970047</td>\n      <td>...</td>\n      <td>4445.560000</td>\n      <td>4764.759696</td>\n      <td>4274.764035</td>\n      <td>5144.240346</td>\n      <td>4792.983818</td>\n      <td>4073.697701</td>\n      <td>4544.281294</td>\n      <td>4543.304167</td>\n      <td>3615.077637</td>\n      <td>4699.220638</td>\n    </tr>\n    <tr>\n      <th>std</th>\n      <td>2227.730313</td>\n      <td>2356.413434</td>\n      <td>2021.426698</td>\n      <td>1740.142727</td>\n      <td>978.047843</td>\n      <td>1758.667532</td>\n      <td>1940.521378</td>\n      <td>2024.596546</td>\n      <td>3056.697970</td>\n      <td>2108.603931</td>\n      <td>...</td>\n      <td>1921.965073</td>\n      <td>2176.150858</td>\n      <td>2024.712556</td>\n      <td>2223.316616</td>\n      <td>2151.748558</td>\n      <td>1787.300165</td>\n      <td>2058.149003</td>\n      <td>2247.137897</td>\n      <td>1642.314869</td>\n      <td>2046.524959</td>\n    </tr>\n    <tr>\n      <th>min</th>\n      <td>300.000000</td>\n      <td>732.400000</td>\n      <td>167.700000</td>\n      <td>1149.100000</td>\n      <td>1743.900000</td>\n      <td>578.900000</td>\n      <td>342.800000</td>\n      <td>233.000000</td>\n      <td>1174.400000</td>\n      <td>172.600000</td>\n      <td>...</td>\n      <td>2578.400000</td>\n      <td>201.800000</td>\n      <td>455.300000</td>\n      <td>168.200000</td>\n      <td>302.400000</td>\n      <td>819.000000</td>\n      <td>302.400000</td>\n      <td>879.500000</td>\n      <td>906.800000</td>\n      <td>204.500000</td>\n    </tr>\n    <tr>\n      <th>25%</th>\n      <td>3003.850000</td>\n      <td>2909.925000</td>\n      <td>3254.175000</td>\n      <td>2033.500000</td>\n      <td>2801.900000</td>\n      <td>2658.950000</td>\n      <td>2807.500000</td>\n      <td>2879.775000</td>\n      <td>3591.875000</td>\n      <td>3716.500000</td>\n      <td>...</td>\n      <td>3333.200000</td>\n      <td>3084.600000</td>\n      <td>2918.900000</td>\n      <td>3472.400000</td>\n      <td>3121.600000</td>\n      <td>2981.025000</td>\n      <td>2922.825000</td>\n      <td>3174.725000</td>\n      <td>2450.500000</td>\n      <td>3049.850000</td>\n    </tr>\n  </tbody>\n</table>\n<p>5 rows × 21 columns</p>\n</div>"
     },
     "execution_count": 33,
     "metadata": {},
     "output_type": "execute_result"
    }
   ],
   "source": [
    "desc_mm=calc_df_fixed.groupby('df_name').describe()\n",
    "desc_mm=desc_mm.drop(['long', 'lat'], axis=1)\n",
    "desc_mm=desc_mm.T\n",
    "desc_mm.head()"
   ],
   "metadata": {
    "collapsed": false,
    "ExecuteTime": {
     "end_time": "2023-06-29T14:09:35.191600700Z",
     "start_time": "2023-06-29T14:08:15.153457500Z"
    }
   }
  },
  {
   "cell_type": "code",
   "execution_count": 34,
   "outputs": [
    {
     "name": "stderr",
     "output_type": "stream",
     "text": [
      "C:\\Users\\iodio\\AppData\\Local\\Temp\\ipykernel_17512\\2763110821.py:1: FutureWarning: Dropping invalid columns in DataFrameGroupBy.min is deprecated. In a future version, a TypeError will be raised. Before calling .min, select only columns which should be valid for the function.\n",
      "  min_services=calc_df_fixed.groupby('df_name').min()\n",
      "C:\\Users\\iodio\\AppData\\Local\\Temp\\ipykernel_17512\\2763110821.py:6: FutureWarning: Dropping invalid columns in DataFrameGroupBy.min is deprecated. In a future version, a TypeError will be raised. Before calling .min, select only columns which should be valid for the function.\n",
      "  max_services=calc_df_fixed.groupby('df_name').min()\n",
      "C:\\Users\\iodio\\AppData\\Local\\Temp\\ipykernel_17512\\2763110821.py:10: FutureWarning: The default value of numeric_only in DataFrameGroupBy.mean is deprecated. In a future version, numeric_only will default to False. Either specify numeric_only or select only columns which should be valid for the function.\n",
      "  avg_services=calc_df_fixed.groupby('df_name').mean()\n",
      "C:\\Users\\iodio\\AppData\\Local\\Temp\\ipykernel_17512\\2763110821.py:12: FutureWarning: The default value of numeric_only in DataFrameGroupBy.std is deprecated. In a future version, numeric_only will default to False. Either specify numeric_only or select only columns which should be valid for the function.\n",
      "  sd_services=calc_df_fixed.groupby('df_name').std()\n"
     ]
    },
    {
     "data": {
      "text/plain": "            min    id_min      max    id_max          avg           sd\ndf_name                                                               \nacqua      42.9  51038202  13984.1  10004632  5981.121308  2356.561473\nbiblio     25.2  41021101  15024.7  10004632  5676.825949  2427.694043\nciclabili   7.7  51023704  12537.1  10004632  5767.238697  2421.775766\nconsu      18.8  30001601  16405.1  10004632  5364.003629  2481.104408\ncult       52.8  20000804  15840.1  10004632  4859.519565  2536.023484\ndistr      31.7  51010801  13909.9  10004632  5344.889841  2459.737776\nedicole     6.0  10001902  13663.2  10004632  5534.591833  2428.477730\nfarmacie    0.0  30003501  13321.0  10004632  5556.572903  2422.580220\nmetro      33.8  10003802  12504.2  10004632  6680.246512  2349.028751\nparchi      3.4  51038301  14741.5  10004632  5955.702771  2382.432175\nposta       6.1  41021401  13884.0  10004632  5682.955277  2412.826629\nserd       55.6  41020001  16062.2  10004632  5454.709722  2442.142781\nsinf       29.3  51016301  13580.0  10004632  5800.696683  2392.194659\nsita       29.0  41022001  13969.0  10004632  5585.927480  2419.463093\nsport       1.3  10004701  13309.9  10004632  5901.249823  2389.437637\nsprim      30.0  30000301  13338.5  10004632  5761.325694  2398.005884\nss2        17.5  41010501  15129.4  10004632  5536.849651  2443.188446\nssec       60.3  10002405  13580.0  10004632  5688.800779  2412.489124\ntreni      75.8  51011001  15789.5  10004632  5784.751729  2467.772586\nuni        83.4  10004301  14340.0  10004632  5717.250260  2499.368141\nwifi        6.6  20001801  13670.3  10004632  5721.010015  2405.848194",
      "text/html": "<div>\n<style scoped>\n    .dataframe tbody tr th:only-of-type {\n        vertical-align: middle;\n    }\n\n    .dataframe tbody tr th {\n        vertical-align: top;\n    }\n\n    .dataframe thead th {\n        text-align: right;\n    }\n</style>\n<table border=\"1\" class=\"dataframe\">\n  <thead>\n    <tr style=\"text-align: right;\">\n      <th></th>\n      <th>min</th>\n      <th>id_min</th>\n      <th>max</th>\n      <th>id_max</th>\n      <th>avg</th>\n      <th>sd</th>\n    </tr>\n    <tr>\n      <th>df_name</th>\n      <th></th>\n      <th></th>\n      <th></th>\n      <th></th>\n      <th></th>\n      <th></th>\n    </tr>\n  </thead>\n  <tbody>\n    <tr>\n      <th>acqua</th>\n      <td>42.9</td>\n      <td>51038202</td>\n      <td>13984.1</td>\n      <td>10004632</td>\n      <td>5981.121308</td>\n      <td>2356.561473</td>\n    </tr>\n    <tr>\n      <th>biblio</th>\n      <td>25.2</td>\n      <td>41021101</td>\n      <td>15024.7</td>\n      <td>10004632</td>\n      <td>5676.825949</td>\n      <td>2427.694043</td>\n    </tr>\n    <tr>\n      <th>ciclabili</th>\n      <td>7.7</td>\n      <td>51023704</td>\n      <td>12537.1</td>\n      <td>10004632</td>\n      <td>5767.238697</td>\n      <td>2421.775766</td>\n    </tr>\n    <tr>\n      <th>consu</th>\n      <td>18.8</td>\n      <td>30001601</td>\n      <td>16405.1</td>\n      <td>10004632</td>\n      <td>5364.003629</td>\n      <td>2481.104408</td>\n    </tr>\n    <tr>\n      <th>cult</th>\n      <td>52.8</td>\n      <td>20000804</td>\n      <td>15840.1</td>\n      <td>10004632</td>\n      <td>4859.519565</td>\n      <td>2536.023484</td>\n    </tr>\n    <tr>\n      <th>distr</th>\n      <td>31.7</td>\n      <td>51010801</td>\n      <td>13909.9</td>\n      <td>10004632</td>\n      <td>5344.889841</td>\n      <td>2459.737776</td>\n    </tr>\n    <tr>\n      <th>edicole</th>\n      <td>6.0</td>\n      <td>10001902</td>\n      <td>13663.2</td>\n      <td>10004632</td>\n      <td>5534.591833</td>\n      <td>2428.477730</td>\n    </tr>\n    <tr>\n      <th>farmacie</th>\n      <td>0.0</td>\n      <td>30003501</td>\n      <td>13321.0</td>\n      <td>10004632</td>\n      <td>5556.572903</td>\n      <td>2422.580220</td>\n    </tr>\n    <tr>\n      <th>metro</th>\n      <td>33.8</td>\n      <td>10003802</td>\n      <td>12504.2</td>\n      <td>10004632</td>\n      <td>6680.246512</td>\n      <td>2349.028751</td>\n    </tr>\n    <tr>\n      <th>parchi</th>\n      <td>3.4</td>\n      <td>51038301</td>\n      <td>14741.5</td>\n      <td>10004632</td>\n      <td>5955.702771</td>\n      <td>2382.432175</td>\n    </tr>\n    <tr>\n      <th>posta</th>\n      <td>6.1</td>\n      <td>41021401</td>\n      <td>13884.0</td>\n      <td>10004632</td>\n      <td>5682.955277</td>\n      <td>2412.826629</td>\n    </tr>\n    <tr>\n      <th>serd</th>\n      <td>55.6</td>\n      <td>41020001</td>\n      <td>16062.2</td>\n      <td>10004632</td>\n      <td>5454.709722</td>\n      <td>2442.142781</td>\n    </tr>\n    <tr>\n      <th>sinf</th>\n      <td>29.3</td>\n      <td>51016301</td>\n      <td>13580.0</td>\n      <td>10004632</td>\n      <td>5800.696683</td>\n      <td>2392.194659</td>\n    </tr>\n    <tr>\n      <th>sita</th>\n      <td>29.0</td>\n      <td>41022001</td>\n      <td>13969.0</td>\n      <td>10004632</td>\n      <td>5585.927480</td>\n      <td>2419.463093</td>\n    </tr>\n    <tr>\n      <th>sport</th>\n      <td>1.3</td>\n      <td>10004701</td>\n      <td>13309.9</td>\n      <td>10004632</td>\n      <td>5901.249823</td>\n      <td>2389.437637</td>\n    </tr>\n    <tr>\n      <th>sprim</th>\n      <td>30.0</td>\n      <td>30000301</td>\n      <td>13338.5</td>\n      <td>10004632</td>\n      <td>5761.325694</td>\n      <td>2398.005884</td>\n    </tr>\n    <tr>\n      <th>ss2</th>\n      <td>17.5</td>\n      <td>41010501</td>\n      <td>15129.4</td>\n      <td>10004632</td>\n      <td>5536.849651</td>\n      <td>2443.188446</td>\n    </tr>\n    <tr>\n      <th>ssec</th>\n      <td>60.3</td>\n      <td>10002405</td>\n      <td>13580.0</td>\n      <td>10004632</td>\n      <td>5688.800779</td>\n      <td>2412.489124</td>\n    </tr>\n    <tr>\n      <th>treni</th>\n      <td>75.8</td>\n      <td>51011001</td>\n      <td>15789.5</td>\n      <td>10004632</td>\n      <td>5784.751729</td>\n      <td>2467.772586</td>\n    </tr>\n    <tr>\n      <th>uni</th>\n      <td>83.4</td>\n      <td>10004301</td>\n      <td>14340.0</td>\n      <td>10004632</td>\n      <td>5717.250260</td>\n      <td>2499.368141</td>\n    </tr>\n    <tr>\n      <th>wifi</th>\n      <td>6.6</td>\n      <td>20001801</td>\n      <td>13670.3</td>\n      <td>10004632</td>\n      <td>5721.010015</td>\n      <td>2405.848194</td>\n    </tr>\n  </tbody>\n</table>\n</div>"
     },
     "execution_count": 34,
     "metadata": {},
     "output_type": "execute_result"
    }
   ],
   "source": [
    "min_services=calc_df_fixed.groupby('df_name').min()\n",
    "min_services=min_services.drop(['long', 'lat', 'cat1_name', 'cat2_name'], axis=1)\n",
    "desc_services=pd.DataFrame()\n",
    "desc_services['min']=min_services.min(axis=1)\n",
    "desc_services['id_min']=min_services.idxmin(axis=1)\n",
    "max_services=calc_df_fixed.groupby('df_name').min()\n",
    "max_services=max_services.drop(['long', 'lat', 'cat1_name', 'cat2_name'], axis=1)\n",
    "desc_services['max']=max_services.max(axis=1)\n",
    "desc_services['id_max']=max_services.idxmax(axis=1)\n",
    "avg_services=calc_df_fixed.groupby('df_name').mean()\n",
    "desc_services['avg']=avg_services.mean(axis=1)\n",
    "sd_services=calc_df_fixed.groupby('df_name').std()\n",
    "desc_services['sd']=avg_services.std(axis=1)\n",
    "desc_services"
   ],
   "metadata": {
    "collapsed": false,
    "ExecuteTime": {
     "end_time": "2023-06-29T14:09:36.200631500Z",
     "start_time": "2023-06-29T14:09:35.211065300Z"
    }
   }
  },
  {
   "cell_type": "code",
   "execution_count": 35,
   "outputs": [
    {
     "name": "stderr",
     "output_type": "stream",
     "text": [
      "C:\\Users\\iodio\\AppData\\Local\\Temp\\ipykernel_17512\\4154215261.py:1: FutureWarning: Dropping invalid columns in DataFrameGroupBy.min is deprecated. In a future version, a TypeError will be raised. Before calling .min, select only columns which should be valid for the function.\n",
      "  max_20=calc_df_fixed.groupby('df_name').min()\n"
     ]
    },
    {
     "data": {
      "text/plain": "df_name   acqua  biblio  ciclabili   consu    cult  distr  edicole  farmacie  \\\n10001708  300.0   732.4      167.7  1149.1  1743.9  578.9    342.8     233.0   \n10001709  300.0   732.4      167.7  1149.1  1743.9  578.9    342.8     233.0   \n10001710  300.0   732.4      167.7  1149.1  1743.9  578.9    342.8     233.0   \n10001711  300.0   732.4      167.7  1149.1  1743.9  578.9    342.8     233.0   \n10001712  300.0   732.4      167.7  1149.1  1743.9  578.9    342.8     233.0   \n...         ...     ...        ...     ...     ...    ...      ...       ...   \n51039405  832.8   952.8      372.5   644.2  4377.2  837.7    514.8     756.2   \n51039406  832.8   952.8      372.5   644.2  4377.2  837.7    514.8     756.2   \n51039407  832.8   952.8      372.5   644.2  4377.2  837.7    514.8     756.2   \n51039408  832.8   952.8      372.5   644.2  4377.2  837.7    514.8     756.2   \n51039410  832.8   952.8      372.5   644.2  4377.2  837.7    514.8     756.2   \n\ndf_name    metro  parchi  ...    serd   sinf   sita  sport  sprim     ss2  \\\n10001708  1174.4   172.6  ...  2578.4  201.8  455.3  168.2  302.4   819.0   \n10001709  1174.4   172.6  ...  2578.4  201.8  455.3  168.2  302.4   819.0   \n10001710  1174.4   172.6  ...  2578.4  201.8  455.3  168.2  302.4   819.0   \n10001711  1174.4   172.6  ...  2578.4  201.8  455.3  168.2  302.4   819.0   \n10001712  1174.4   172.6  ...  2578.4  201.8  455.3  168.2  302.4   819.0   \n...          ...     ...  ...     ...    ...    ...    ...    ...     ...   \n51039405   532.6  1489.9  ...  2969.7  350.9  564.3  745.3  425.6  1077.7   \n51039406   532.6  1489.9  ...  2969.7  350.9  564.3  745.3  425.6  1077.7   \n51039407   532.6  1489.9  ...  2969.7  350.9  564.3  745.3  425.6  1077.7   \n51039408   532.6  1489.9  ...  2969.7  350.9  564.3  745.3  425.6  1077.7   \n51039410   532.6  1489.9  ...  2969.7  350.9  564.3  745.3  425.6  1077.7   \n\ndf_name    ssec  treni     uni   wifi  \n10001708  302.4  879.5   906.8  204.5  \n10001709  302.4  879.5   906.8  204.5  \n10001710  302.4  879.5   906.8  204.5  \n10001711  302.4  879.5   906.8  204.5  \n10001712  302.4  879.5   906.8  204.5  \n...         ...    ...     ...    ...  \n51039405  717.5  557.6  2607.6  573.5  \n51039406  717.5  557.6  2607.6  573.5  \n51039407  717.5  557.6  2607.6  573.5  \n51039408  717.5  557.6  2607.6  573.5  \n51039410  717.5  557.6  2607.6  573.5  \n\n[980 rows x 21 columns]",
      "text/html": "<div>\n<style scoped>\n    .dataframe tbody tr th:only-of-type {\n        vertical-align: middle;\n    }\n\n    .dataframe tbody tr th {\n        vertical-align: top;\n    }\n\n    .dataframe thead th {\n        text-align: right;\n    }\n</style>\n<table border=\"1\" class=\"dataframe\">\n  <thead>\n    <tr style=\"text-align: right;\">\n      <th>df_name</th>\n      <th>acqua</th>\n      <th>biblio</th>\n      <th>ciclabili</th>\n      <th>consu</th>\n      <th>cult</th>\n      <th>distr</th>\n      <th>edicole</th>\n      <th>farmacie</th>\n      <th>metro</th>\n      <th>parchi</th>\n      <th>...</th>\n      <th>serd</th>\n      <th>sinf</th>\n      <th>sita</th>\n      <th>sport</th>\n      <th>sprim</th>\n      <th>ss2</th>\n      <th>ssec</th>\n      <th>treni</th>\n      <th>uni</th>\n      <th>wifi</th>\n    </tr>\n  </thead>\n  <tbody>\n    <tr>\n      <th>10001708</th>\n      <td>300.0</td>\n      <td>732.4</td>\n      <td>167.7</td>\n      <td>1149.1</td>\n      <td>1743.9</td>\n      <td>578.9</td>\n      <td>342.8</td>\n      <td>233.0</td>\n      <td>1174.4</td>\n      <td>172.6</td>\n      <td>...</td>\n      <td>2578.4</td>\n      <td>201.8</td>\n      <td>455.3</td>\n      <td>168.2</td>\n      <td>302.4</td>\n      <td>819.0</td>\n      <td>302.4</td>\n      <td>879.5</td>\n      <td>906.8</td>\n      <td>204.5</td>\n    </tr>\n    <tr>\n      <th>10001709</th>\n      <td>300.0</td>\n      <td>732.4</td>\n      <td>167.7</td>\n      <td>1149.1</td>\n      <td>1743.9</td>\n      <td>578.9</td>\n      <td>342.8</td>\n      <td>233.0</td>\n      <td>1174.4</td>\n      <td>172.6</td>\n      <td>...</td>\n      <td>2578.4</td>\n      <td>201.8</td>\n      <td>455.3</td>\n      <td>168.2</td>\n      <td>302.4</td>\n      <td>819.0</td>\n      <td>302.4</td>\n      <td>879.5</td>\n      <td>906.8</td>\n      <td>204.5</td>\n    </tr>\n    <tr>\n      <th>10001710</th>\n      <td>300.0</td>\n      <td>732.4</td>\n      <td>167.7</td>\n      <td>1149.1</td>\n      <td>1743.9</td>\n      <td>578.9</td>\n      <td>342.8</td>\n      <td>233.0</td>\n      <td>1174.4</td>\n      <td>172.6</td>\n      <td>...</td>\n      <td>2578.4</td>\n      <td>201.8</td>\n      <td>455.3</td>\n      <td>168.2</td>\n      <td>302.4</td>\n      <td>819.0</td>\n      <td>302.4</td>\n      <td>879.5</td>\n      <td>906.8</td>\n      <td>204.5</td>\n    </tr>\n    <tr>\n      <th>10001711</th>\n      <td>300.0</td>\n      <td>732.4</td>\n      <td>167.7</td>\n      <td>1149.1</td>\n      <td>1743.9</td>\n      <td>578.9</td>\n      <td>342.8</td>\n      <td>233.0</td>\n      <td>1174.4</td>\n      <td>172.6</td>\n      <td>...</td>\n      <td>2578.4</td>\n      <td>201.8</td>\n      <td>455.3</td>\n      <td>168.2</td>\n      <td>302.4</td>\n      <td>819.0</td>\n      <td>302.4</td>\n      <td>879.5</td>\n      <td>906.8</td>\n      <td>204.5</td>\n    </tr>\n    <tr>\n      <th>10001712</th>\n      <td>300.0</td>\n      <td>732.4</td>\n      <td>167.7</td>\n      <td>1149.1</td>\n      <td>1743.9</td>\n      <td>578.9</td>\n      <td>342.8</td>\n      <td>233.0</td>\n      <td>1174.4</td>\n      <td>172.6</td>\n      <td>...</td>\n      <td>2578.4</td>\n      <td>201.8</td>\n      <td>455.3</td>\n      <td>168.2</td>\n      <td>302.4</td>\n      <td>819.0</td>\n      <td>302.4</td>\n      <td>879.5</td>\n      <td>906.8</td>\n      <td>204.5</td>\n    </tr>\n    <tr>\n      <th>...</th>\n      <td>...</td>\n      <td>...</td>\n      <td>...</td>\n      <td>...</td>\n      <td>...</td>\n      <td>...</td>\n      <td>...</td>\n      <td>...</td>\n      <td>...</td>\n      <td>...</td>\n      <td>...</td>\n      <td>...</td>\n      <td>...</td>\n      <td>...</td>\n      <td>...</td>\n      <td>...</td>\n      <td>...</td>\n      <td>...</td>\n      <td>...</td>\n      <td>...</td>\n      <td>...</td>\n    </tr>\n    <tr>\n      <th>51039405</th>\n      <td>832.8</td>\n      <td>952.8</td>\n      <td>372.5</td>\n      <td>644.2</td>\n      <td>4377.2</td>\n      <td>837.7</td>\n      <td>514.8</td>\n      <td>756.2</td>\n      <td>532.6</td>\n      <td>1489.9</td>\n      <td>...</td>\n      <td>2969.7</td>\n      <td>350.9</td>\n      <td>564.3</td>\n      <td>745.3</td>\n      <td>425.6</td>\n      <td>1077.7</td>\n      <td>717.5</td>\n      <td>557.6</td>\n      <td>2607.6</td>\n      <td>573.5</td>\n    </tr>\n    <tr>\n      <th>51039406</th>\n      <td>832.8</td>\n      <td>952.8</td>\n      <td>372.5</td>\n      <td>644.2</td>\n      <td>4377.2</td>\n      <td>837.7</td>\n      <td>514.8</td>\n      <td>756.2</td>\n      <td>532.6</td>\n      <td>1489.9</td>\n      <td>...</td>\n      <td>2969.7</td>\n      <td>350.9</td>\n      <td>564.3</td>\n      <td>745.3</td>\n      <td>425.6</td>\n      <td>1077.7</td>\n      <td>717.5</td>\n      <td>557.6</td>\n      <td>2607.6</td>\n      <td>573.5</td>\n    </tr>\n    <tr>\n      <th>51039407</th>\n      <td>832.8</td>\n      <td>952.8</td>\n      <td>372.5</td>\n      <td>644.2</td>\n      <td>4377.2</td>\n      <td>837.7</td>\n      <td>514.8</td>\n      <td>756.2</td>\n      <td>532.6</td>\n      <td>1489.9</td>\n      <td>...</td>\n      <td>2969.7</td>\n      <td>350.9</td>\n      <td>564.3</td>\n      <td>745.3</td>\n      <td>425.6</td>\n      <td>1077.7</td>\n      <td>717.5</td>\n      <td>557.6</td>\n      <td>2607.6</td>\n      <td>573.5</td>\n    </tr>\n    <tr>\n      <th>51039408</th>\n      <td>832.8</td>\n      <td>952.8</td>\n      <td>372.5</td>\n      <td>644.2</td>\n      <td>4377.2</td>\n      <td>837.7</td>\n      <td>514.8</td>\n      <td>756.2</td>\n      <td>532.6</td>\n      <td>1489.9</td>\n      <td>...</td>\n      <td>2969.7</td>\n      <td>350.9</td>\n      <td>564.3</td>\n      <td>745.3</td>\n      <td>425.6</td>\n      <td>1077.7</td>\n      <td>717.5</td>\n      <td>557.6</td>\n      <td>2607.6</td>\n      <td>573.5</td>\n    </tr>\n    <tr>\n      <th>51039410</th>\n      <td>832.8</td>\n      <td>952.8</td>\n      <td>372.5</td>\n      <td>644.2</td>\n      <td>4377.2</td>\n      <td>837.7</td>\n      <td>514.8</td>\n      <td>756.2</td>\n      <td>532.6</td>\n      <td>1489.9</td>\n      <td>...</td>\n      <td>2969.7</td>\n      <td>350.9</td>\n      <td>564.3</td>\n      <td>745.3</td>\n      <td>425.6</td>\n      <td>1077.7</td>\n      <td>717.5</td>\n      <td>557.6</td>\n      <td>2607.6</td>\n      <td>573.5</td>\n    </tr>\n  </tbody>\n</table>\n<p>980 rows × 21 columns</p>\n</div>"
     },
     "execution_count": 35,
     "metadata": {},
     "output_type": "execute_result"
    }
   ],
   "source": [
    "max_20=calc_df_fixed.groupby('df_name').min()\n",
    "max_20=max_20.drop(['long', 'lat', 'cat1_name', 'cat2_name'], axis=1)\n",
    "max_20=max_20.T\n",
    "max_20"
   ],
   "metadata": {
    "collapsed": false,
    "ExecuteTime": {
     "end_time": "2023-06-29T14:09:36.496940200Z",
     "start_time": "2023-06-29T14:09:36.208434100Z"
    }
   }
  },
  {
   "cell_type": "code",
   "execution_count": 36,
   "outputs": [
    {
     "data": {
      "text/plain": "(array([798.,  55.,  25.,   5.,   3.,   4.,  26.,  11.,   2.,   2.]),\n array([   17.5 ,  1528.69,  3039.88,  4551.07,  6062.26,  7573.45,\n         9084.64, 10595.83, 12107.02, 13618.21, 15129.4 ]),\n <BarContainer object of 10 artists>)"
     },
     "execution_count": 36,
     "metadata": {},
     "output_type": "execute_result"
    },
    {
     "data": {
      "text/plain": "<Figure size 640x480 with 1 Axes>",
      "image/png": "[encoded data removed]"
     },
     "metadata": {},
     "output_type": "display_data"
    }
   ],
   "source": [
    "plt.hist(max_20['ss2'])"
   ],
   "metadata": {
    "collapsed": false,
    "ExecuteTime": {
     "end_time": "2023-06-29T14:09:37.511737300Z",
     "start_time": "2023-06-29T14:09:36.418802900Z"
    }
   }
  },
  {
   "cell_type": "markdown",
   "source": [
    "# Index calculator\n",
    "\n",
    "We construct the index as illustrated in the paper"
   ],
   "metadata": {
    "collapsed": false
   }
  },
  {
   "cell_type": "code",
   "execution_count": 107,
   "outputs": [
    {
     "data": {
      "text/plain": "(0.8333333333333333, 0.3333333333333333, 0.6666666666666666)"
     },
     "execution_count": 107,
     "metadata": {},
     "output_type": "execute_result"
    }
   ],
   "source": [
    "def penality_function(x, dhat):\n",
    "    if x <= dhat:\n",
    "        return 1\n",
    "    if x > dhat:\n",
    "        return 1/(x-dhat+1)\n",
    "\n",
    "\n",
    "def con_index(dist_list, dhat, n_max, alpha, beta):\n",
    "    if  alpha + beta != 1:\n",
    "        raise Exception(\"Alpha and Beta should sum to one\")\n",
    "    d_min = min(dist_list)\n",
    "    close_list=[d for d in dist_list if d <=dhat]\n",
    "    n = len(close_list)\n",
    "    CI = alpha*penality_function(d_min, dhat)+beta*(n/n_max)\n",
    "    return CI, beta*(n/n_max), n/n_max\n",
    "\n",
    "con_index([9,4,5,6,6], 5, 3, 0.5, 0.5)"
   ],
   "metadata": {
    "collapsed": false,
    "ExecuteTime": {
     "end_time": "2023-06-29T16:09:02.270371300Z",
     "start_time": "2023-06-29T16:09:02.206910800Z"
    }
   }
  },
  {
   "cell_type": "code",
   "execution_count": 92,
   "outputs": [
    {
     "data": {
      "text/plain": "3"
     },
     "execution_count": 92,
     "metadata": {},
     "output_type": "execute_result"
    }
   ],
   "source": [
    "def best_in_class(df_name, dhat, df=calc_df_fixed):\n",
    "    e_list=list(df.columns)\n",
    "    e_list=[item for item in e_list if item not in ['name', 'long', 'lat','df_name', 'cat1', 'cat2', 'cat1_name', 'cat2_name']]\n",
    "    nmax_dict=dict.fromkeys(e_list)\n",
    "    if df_name=='all':\n",
    "        pass\n",
    "    else:\n",
    "        df=df[df.df_name==df_name]\n",
    "    for elem in e_list:\n",
    "        dist_list=list(df[str(elem)])\n",
    "        close_list=[d for d in dist_list if d <=dhat]\n",
    "        nmax_dict[elem]=len(close_list)\n",
    "    return max(nmax_dict.values())\n",
    "\n",
    "best_in_class('biblio', 60*15)"
   ],
   "metadata": {
    "collapsed": false,
    "ExecuteTime": {
     "end_time": "2023-06-29T16:03:26.917732900Z",
     "start_time": "2023-06-29T16:03:26.854658100Z"
    }
   }
  },
  {
   "cell_type": "code",
   "execution_count": 134,
   "outputs": [
    {
     "ename": "ValueError",
     "evalue": "min() arg is an empty sequence",
     "output_type": "error",
     "traceback": [
      "\u001B[1;31m---------------------------------------------------------------------------\u001B[0m",
      "\u001B[1;31mValueError\u001B[0m                                Traceback (most recent call last)",
      "Cell \u001B[1;32mIn[134], line 16\u001B[0m\n\u001B[0;32m     13\u001B[0m         con_index(dist_list\u001B[38;5;241m=\u001B[39mdist_list, dhat\u001B[38;5;241m=\u001B[39mdhat, n_max\u001B[38;5;241m=\u001B[39mn_max, alpha\u001B[38;5;241m=\u001B[39malpha, beta\u001B[38;5;241m=\u001B[39mbeta)\n\u001B[0;32m     14\u001B[0m     \u001B[38;5;28;01mreturn\u001B[39;00m \u001B[38;5;241m1\u001B[39m\n\u001B[1;32m---> 16\u001B[0m \u001B[43mfun_run\u001B[49m\u001B[43m(\u001B[49m\u001B[38;5;241;43m10002605\u001B[39;49m\u001B[43m,\u001B[49m\u001B[43m \u001B[49m\u001B[43mdhat\u001B[49m\u001B[38;5;241;43m=\u001B[39;49m\u001B[38;5;241;43m60\u001B[39;49m\u001B[38;5;241;43m*\u001B[39;49m\u001B[38;5;241;43m15\u001B[39;49m\u001B[43m,\u001B[49m\u001B[43m \u001B[49m\u001B[43malpha\u001B[49m\u001B[38;5;241;43m=\u001B[39;49m\u001B[38;5;241;43m0.5\u001B[39;49m\u001B[43m,\u001B[49m\u001B[43m \u001B[49m\u001B[43mbeta\u001B[49m\u001B[38;5;241;43m=\u001B[39;49m\u001B[38;5;241;43m0.5\u001B[39;49m\u001B[43m)\u001B[49m\n",
      "Cell \u001B[1;32mIn[134], line 13\u001B[0m, in \u001B[0;36mfun_run\u001B[1;34m(codice_edificio, dhat, alpha, beta, df)\u001B[0m\n\u001B[0;32m     11\u001B[0m         \u001B[38;5;28;01mpass\u001B[39;00m\n\u001B[0;32m     12\u001B[0m     n_max\u001B[38;5;241m=\u001B[39mbest_in_class(column, dhat)\n\u001B[1;32m---> 13\u001B[0m     \u001B[43mcon_index\u001B[49m\u001B[43m(\u001B[49m\u001B[43mdist_list\u001B[49m\u001B[38;5;241;43m=\u001B[39;49m\u001B[43mdist_list\u001B[49m\u001B[43m,\u001B[49m\u001B[43m \u001B[49m\u001B[43mdhat\u001B[49m\u001B[38;5;241;43m=\u001B[39;49m\u001B[43mdhat\u001B[49m\u001B[43m,\u001B[49m\u001B[43m \u001B[49m\u001B[43mn_max\u001B[49m\u001B[38;5;241;43m=\u001B[39;49m\u001B[43mn_max\u001B[49m\u001B[43m,\u001B[49m\u001B[43m \u001B[49m\u001B[43malpha\u001B[49m\u001B[38;5;241;43m=\u001B[39;49m\u001B[43malpha\u001B[49m\u001B[43m,\u001B[49m\u001B[43m \u001B[49m\u001B[43mbeta\u001B[49m\u001B[38;5;241;43m=\u001B[39;49m\u001B[43mbeta\u001B[49m\u001B[43m)\u001B[49m\n\u001B[0;32m     14\u001B[0m \u001B[38;5;28;01mreturn\u001B[39;00m \u001B[38;5;241m1\u001B[39m\n",
      "Cell \u001B[1;32mIn[107], line 11\u001B[0m, in \u001B[0;36mcon_index\u001B[1;34m(dist_list, dhat, n_max, alpha, beta)\u001B[0m\n\u001B[0;32m      9\u001B[0m \u001B[38;5;28;01mif\u001B[39;00m  alpha \u001B[38;5;241m+\u001B[39m beta \u001B[38;5;241m!=\u001B[39m \u001B[38;5;241m1\u001B[39m:\n\u001B[0;32m     10\u001B[0m     \u001B[38;5;28;01mraise\u001B[39;00m \u001B[38;5;167;01mException\u001B[39;00m(\u001B[38;5;124m\"\u001B[39m\u001B[38;5;124mAlpha and Beta should sum to one\u001B[39m\u001B[38;5;124m\"\u001B[39m)\n\u001B[1;32m---> 11\u001B[0m d_min \u001B[38;5;241m=\u001B[39m \u001B[38;5;28;43mmin\u001B[39;49m\u001B[43m(\u001B[49m\u001B[43mdist_list\u001B[49m\u001B[43m)\u001B[49m\n\u001B[0;32m     12\u001B[0m close_list\u001B[38;5;241m=\u001B[39m[d \u001B[38;5;28;01mfor\u001B[39;00m d \u001B[38;5;129;01min\u001B[39;00m dist_list \u001B[38;5;28;01mif\u001B[39;00m d \u001B[38;5;241m<\u001B[39m\u001B[38;5;241m=\u001B[39mdhat]\n\u001B[0;32m     13\u001B[0m n \u001B[38;5;241m=\u001B[39m \u001B[38;5;28mlen\u001B[39m(close_list)\n",
      "\u001B[1;31mValueError\u001B[0m: min() arg is an empty sequence"
     ]
    }
   ],
   "source": [],
   "metadata": {
    "collapsed": false,
    "ExecuteTime": {
     "end_time": "2023-06-29T16:21:35.361160900Z",
     "start_time": "2023-06-29T16:21:35.296176500Z"
    }
   }
  },
  {
   "cell_type": "code",
   "execution_count": 119,
   "outputs": [
    {
     "data": {
      "text/plain": "30.2"
     },
     "execution_count": 119,
     "metadata": {},
     "output_type": "execute_result"
    }
   ],
   "source": [
    "min(calc_df_fixed['10002602'].to_list())"
   ],
   "metadata": {
    "collapsed": false,
    "ExecuteTime": {
     "end_time": "2023-06-29T16:11:49.880108100Z",
     "start_time": "2023-06-29T16:11:49.864209400Z"
    }
   }
  },
  {
   "cell_type": "code",
   "execution_count": 135,
   "outputs": [
    {
     "data": {
      "text/plain": "     CODICE EDIFICIO                full_address        lat       lon  acqua  \\\n0           10001708  VIA DEL TURCHINO 20 MILANO  45.451893  9.228053    NaN   \n1           10001709  VIA DEL TURCHINO 20 MILANO  45.451893  9.228053    NaN   \n2           10001710  VIA DEL TURCHINO 20 MILANO  45.451893  9.228053    NaN   \n3           10001711  VIA DEL TURCHINO 20 MILANO  45.451893  9.228053    NaN   \n4           10001712  VIA DEL TURCHINO 22 MILANO  45.451893  9.228053    NaN   \n..               ...                         ...        ...       ...    ...   \n975         51039405  VIA SENIGALLIA 60/G MILANO  45.532143  9.168970    NaN   \n976         51039406    VIA SENIGALLIA 60 MILANO  45.532143  9.168970    NaN   \n977         51039407    VIA SENIGALLIA 60 MILANO  45.532143  9.168970    NaN   \n978         51039408    VIA SENIGALLIA 60 MILANO  45.532143  9.168970    NaN   \n979         51039410    VIA SENIGALLIA 60 MILANO  45.532143  9.168970    NaN   \n\n     biblio  ciclabili  consu  cult  edicole  ...  sita  sport  sprim  ss2  \\\n0       NaN        NaN    NaN   NaN      NaN  ...   NaN    NaN    NaN  NaN   \n1       NaN        NaN    NaN   NaN      NaN  ...   NaN    NaN    NaN  NaN   \n2       NaN        NaN    NaN   NaN      NaN  ...   NaN    NaN    NaN  NaN   \n3       NaN        NaN    NaN   NaN      NaN  ...   NaN    NaN    NaN  NaN   \n4       NaN        NaN    NaN   NaN      NaN  ...   NaN    NaN    NaN  NaN   \n..      ...        ...    ...   ...      ...  ...   ...    ...    ...  ...   \n975     NaN        NaN    NaN   NaN      NaN  ...   NaN    NaN    NaN  NaN   \n976     NaN        NaN    NaN   NaN      NaN  ...   NaN    NaN    NaN  NaN   \n977     NaN        NaN    NaN   NaN      NaN  ...   NaN    NaN    NaN  NaN   \n978     NaN        NaN    NaN   NaN      NaN  ...   NaN    NaN    NaN  NaN   \n979     NaN        NaN    NaN   NaN      NaN  ...   NaN    NaN    NaN  NaN   \n\n     ssec  treni  uni  wifi  distr  all  \n0     NaN    NaN  NaN   NaN    NaN  NaN  \n1     NaN    NaN  NaN   NaN    NaN  NaN  \n2     NaN    NaN  NaN   NaN    NaN  NaN  \n3     NaN    NaN  NaN   NaN    NaN  NaN  \n4     NaN    NaN  NaN   NaN    NaN  NaN  \n..    ...    ...  ...   ...    ...  ...  \n975   NaN    NaN  NaN   NaN    NaN  NaN  \n976   NaN    NaN  NaN   NaN    NaN  NaN  \n977   NaN    NaN  NaN   NaN    NaN  NaN  \n978   NaN    NaN  NaN   NaN    NaN  NaN  \n979   NaN    NaN  NaN   NaN    NaN  NaN  \n\n[980 rows x 26 columns]",
      "text/html": "<div>\n<style scoped>\n    .dataframe tbody tr th:only-of-type {\n        vertical-align: middle;\n    }\n\n    .dataframe tbody tr th {\n        vertical-align: top;\n    }\n\n    .dataframe thead th {\n        text-align: right;\n    }\n</style>\n<table border=\"1\" class=\"dataframe\">\n  <thead>\n    <tr style=\"text-align: right;\">\n      <th></th>\n      <th>CODICE EDIFICIO</th>\n      <th>full_address</th>\n      <th>lat</th>\n      <th>lon</th>\n      <th>acqua</th>\n      <th>biblio</th>\n      <th>ciclabili</th>\n      <th>consu</th>\n      <th>cult</th>\n      <th>edicole</th>\n      <th>...</th>\n      <th>sita</th>\n      <th>sport</th>\n      <th>sprim</th>\n      <th>ss2</th>\n      <th>ssec</th>\n      <th>treni</th>\n      <th>uni</th>\n      <th>wifi</th>\n      <th>distr</th>\n      <th>all</th>\n    </tr>\n  </thead>\n  <tbody>\n    <tr>\n      <th>0</th>\n      <td>10001708</td>\n      <td>VIA DEL TURCHINO 20 MILANO</td>\n      <td>45.451893</td>\n      <td>9.228053</td>\n      <td>NaN</td>\n      <td>NaN</td>\n      <td>NaN</td>\n      <td>NaN</td>\n      <td>NaN</td>\n      <td>NaN</td>\n      <td>...</td>\n      <td>NaN</td>\n      <td>NaN</td>\n      <td>NaN</td>\n      <td>NaN</td>\n      <td>NaN</td>\n      <td>NaN</td>\n      <td>NaN</td>\n      <td>NaN</td>\n      <td>NaN</td>\n      <td>NaN</td>\n    </tr>\n    <tr>\n      <th>1</th>\n      <td>10001709</td>\n      <td>VIA DEL TURCHINO 20 MILANO</td>\n      <td>45.451893</td>\n      <td>9.228053</td>\n      <td>NaN</td>\n      <td>NaN</td>\n      <td>NaN</td>\n      <td>NaN</td>\n      <td>NaN</td>\n      <td>NaN</td>\n      <td>...</td>\n      <td>NaN</td>\n      <td>NaN</td>\n      <td>NaN</td>\n      <td>NaN</td>\n      <td>NaN</td>\n      <td>NaN</td>\n      <td>NaN</td>\n      <td>NaN</td>\n      <td>NaN</td>\n      <td>NaN</td>\n    </tr>\n    <tr>\n      <th>2</th>\n      <td>10001710</td>\n      <td>VIA DEL TURCHINO 20 MILANO</td>\n      <td>45.451893</td>\n      <td>9.228053</td>\n      <td>NaN</td>\n      <td>NaN</td>\n      <td>NaN</td>\n      <td>NaN</td>\n      <td>NaN</td>\n      <td>NaN</td>\n      <td>...</td>\n      <td>NaN</td>\n      <td>NaN</td>\n      <td>NaN</td>\n      <td>NaN</td>\n      <td>NaN</td>\n      <td>NaN</td>\n      <td>NaN</td>\n      <td>NaN</td>\n      <td>NaN</td>\n      <td>NaN</td>\n    </tr>\n    <tr>\n      <th>3</th>\n      <td>10001711</td>\n      <td>VIA DEL TURCHINO 20 MILANO</td>\n      <td>45.451893</td>\n      <td>9.228053</td>\n      <td>NaN</td>\n      <td>NaN</td>\n      <td>NaN</td>\n      <td>NaN</td>\n      <td>NaN</td>\n      <td>NaN</td>\n      <td>...</td>\n      <td>NaN</td>\n      <td>NaN</td>\n      <td>NaN</td>\n      <td>NaN</td>\n      <td>NaN</td>\n      <td>NaN</td>\n      <td>NaN</td>\n      <td>NaN</td>\n      <td>NaN</td>\n      <td>NaN</td>\n    </tr>\n    <tr>\n      <th>4</th>\n      <td>10001712</td>\n      <td>VIA DEL TURCHINO 22 MILANO</td>\n      <td>45.451893</td>\n      <td>9.228053</td>\n      <td>NaN</td>\n      <td>NaN</td>\n      <td>NaN</td>\n      <td>NaN</td>\n      <td>NaN</td>\n      <td>NaN</td>\n      <td>...</td>\n      <td>NaN</td>\n      <td>NaN</td>\n      <td>NaN</td>\n      <td>NaN</td>\n      <td>NaN</td>\n      <td>NaN</td>\n      <td>NaN</td>\n      <td>NaN</td>\n      <td>NaN</td>\n      <td>NaN</td>\n    </tr>\n    <tr>\n      <th>...</th>\n      <td>...</td>\n      <td>...</td>\n      <td>...</td>\n      <td>...</td>\n      <td>...</td>\n      <td>...</td>\n      <td>...</td>\n      <td>...</td>\n      <td>...</td>\n      <td>...</td>\n      <td>...</td>\n      <td>...</td>\n      <td>...</td>\n      <td>...</td>\n      <td>...</td>\n      <td>...</td>\n      <td>...</td>\n      <td>...</td>\n      <td>...</td>\n      <td>...</td>\n      <td>...</td>\n    </tr>\n    <tr>\n      <th>975</th>\n      <td>51039405</td>\n      <td>VIA SENIGALLIA 60/G MILANO</td>\n      <td>45.532143</td>\n      <td>9.168970</td>\n      <td>NaN</td>\n      <td>NaN</td>\n      <td>NaN</td>\n      <td>NaN</td>\n      <td>NaN</td>\n      <td>NaN</td>\n      <td>...</td>\n      <td>NaN</td>\n      <td>NaN</td>\n      <td>NaN</td>\n      <td>NaN</td>\n      <td>NaN</td>\n      <td>NaN</td>\n      <td>NaN</td>\n      <td>NaN</td>\n      <td>NaN</td>\n      <td>NaN</td>\n    </tr>\n    <tr>\n      <th>976</th>\n      <td>51039406</td>\n      <td>VIA SENIGALLIA 60 MILANO</td>\n      <td>45.532143</td>\n      <td>9.168970</td>\n      <td>NaN</td>\n      <td>NaN</td>\n      <td>NaN</td>\n      <td>NaN</td>\n      <td>NaN</td>\n      <td>NaN</td>\n      <td>...</td>\n      <td>NaN</td>\n      <td>NaN</td>\n      <td>NaN</td>\n      <td>NaN</td>\n      <td>NaN</td>\n      <td>NaN</td>\n      <td>NaN</td>\n      <td>NaN</td>\n      <td>NaN</td>\n      <td>NaN</td>\n    </tr>\n    <tr>\n      <th>977</th>\n      <td>51039407</td>\n      <td>VIA SENIGALLIA 60 MILANO</td>\n      <td>45.532143</td>\n      <td>9.168970</td>\n      <td>NaN</td>\n      <td>NaN</td>\n      <td>NaN</td>\n      <td>NaN</td>\n      <td>NaN</td>\n      <td>NaN</td>\n      <td>...</td>\n      <td>NaN</td>\n      <td>NaN</td>\n      <td>NaN</td>\n      <td>NaN</td>\n      <td>NaN</td>\n      <td>NaN</td>\n      <td>NaN</td>\n      <td>NaN</td>\n      <td>NaN</td>\n      <td>NaN</td>\n    </tr>\n    <tr>\n      <th>978</th>\n      <td>51039408</td>\n      <td>VIA SENIGALLIA 60 MILANO</td>\n      <td>45.532143</td>\n      <td>9.168970</td>\n      <td>NaN</td>\n      <td>NaN</td>\n      <td>NaN</td>\n      <td>NaN</td>\n      <td>NaN</td>\n      <td>NaN</td>\n      <td>...</td>\n      <td>NaN</td>\n      <td>NaN</td>\n      <td>NaN</td>\n      <td>NaN</td>\n      <td>NaN</td>\n      <td>NaN</td>\n      <td>NaN</td>\n      <td>NaN</td>\n      <td>NaN</td>\n      <td>NaN</td>\n    </tr>\n    <tr>\n      <th>979</th>\n      <td>51039410</td>\n      <td>VIA SENIGALLIA 60 MILANO</td>\n      <td>45.532143</td>\n      <td>9.168970</td>\n      <td>NaN</td>\n      <td>NaN</td>\n      <td>NaN</td>\n      <td>NaN</td>\n      <td>NaN</td>\n      <td>NaN</td>\n      <td>...</td>\n      <td>NaN</td>\n      <td>NaN</td>\n      <td>NaN</td>\n      <td>NaN</td>\n      <td>NaN</td>\n      <td>NaN</td>\n      <td>NaN</td>\n      <td>NaN</td>\n      <td>NaN</td>\n      <td>NaN</td>\n    </tr>\n  </tbody>\n</table>\n<p>980 rows × 26 columns</p>\n</div>"
     },
     "execution_count": 135,
     "metadata": {},
     "output_type": "execute_result"
    }
   ],
   "source": [
    "mm_columns_list=['CODICE EDIFICIO', 'full_address', 'lat', 'lon']\n",
    "index_df=mm_df[mm_columns_list]\n",
    "index_df=index_df.reindex(columns=mm_columns_list+list(calc_df_fixed.df_name.unique())+['all'])\n",
    "index_df"
   ],
   "metadata": {
    "collapsed": false,
    "ExecuteTime": {
     "end_time": "2023-06-29T16:31:44.225440600Z",
     "start_time": "2023-06-29T16:31:44.193700500Z"
    }
   }
  },
  {
   "cell_type": "code",
   "execution_count": null,
   "outputs": [],
   "source": [
    "columns_list=list(calc_df_fixed.df_name.unique())+['all']"
   ],
   "metadata": {
    "collapsed": false
   }
  },
  {
   "cell_type": "code",
   "execution_count": 139,
   "outputs": [
    {
     "name": "stdout",
     "output_type": "stream",
     "text": [
      "(0.6666666666666666, 0.16666666666666666, 0.3333333333333333)\n"
     ]
    },
    {
     "ename": "InvalidIndexError",
     "evalue": "You can only assign a scalar value not a <class 'tuple'>",
     "output_type": "error",
     "traceback": [
      "\u001B[1;31m---------------------------------------------------------------------------\u001B[0m",
      "\u001B[1;31mInvalidIndexError\u001B[0m                         Traceback (most recent call last)",
      "File \u001B[1;32mC:\\ProgramData\\anaconda3\\lib\\site-packages\\pandas\\core\\frame.py:4211\u001B[0m, in \u001B[0;36mDataFrame._set_value\u001B[1;34m(self, index, col, value, takeable)\u001B[0m\n\u001B[0;32m   4210\u001B[0m     icol \u001B[38;5;241m=\u001B[39m \u001B[38;5;28mself\u001B[39m\u001B[38;5;241m.\u001B[39mcolumns\u001B[38;5;241m.\u001B[39mget_loc(col)\n\u001B[1;32m-> 4211\u001B[0m     iindex \u001B[38;5;241m=\u001B[39m \u001B[38;5;28;43mself\u001B[39;49m\u001B[38;5;241;43m.\u001B[39;49m\u001B[43mindex\u001B[49m\u001B[38;5;241;43m.\u001B[39;49m\u001B[43mget_loc\u001B[49m\u001B[43m(\u001B[49m\u001B[43mindex\u001B[49m\u001B[43m)\u001B[49m\n\u001B[0;32m   4212\u001B[0m \u001B[38;5;28mself\u001B[39m\u001B[38;5;241m.\u001B[39m_mgr\u001B[38;5;241m.\u001B[39mcolumn_setitem(icol, iindex, value, inplace\u001B[38;5;241m=\u001B[39m\u001B[38;5;28;01mTrue\u001B[39;00m)\n",
      "File \u001B[1;32mC:\\ProgramData\\anaconda3\\lib\\site-packages\\pandas\\core\\indexes\\range.py:394\u001B[0m, in \u001B[0;36mRangeIndex.get_loc\u001B[1;34m(self, key, method, tolerance)\u001B[0m\n\u001B[0;32m    393\u001B[0m         \u001B[38;5;28;01mraise\u001B[39;00m \u001B[38;5;167;01mKeyError\u001B[39;00m(key) \u001B[38;5;28;01mfrom\u001B[39;00m \u001B[38;5;21;01merr\u001B[39;00m\n\u001B[1;32m--> 394\u001B[0m \u001B[38;5;28;43mself\u001B[39;49m\u001B[38;5;241;43m.\u001B[39;49m\u001B[43m_check_indexing_error\u001B[49m\u001B[43m(\u001B[49m\u001B[43mkey\u001B[49m\u001B[43m)\u001B[49m\n\u001B[0;32m    395\u001B[0m \u001B[38;5;28;01mraise\u001B[39;00m \u001B[38;5;167;01mKeyError\u001B[39;00m(key)\n",
      "File \u001B[1;32mC:\\ProgramData\\anaconda3\\lib\\site-packages\\pandas\\core\\indexes\\base.py:5925\u001B[0m, in \u001B[0;36mIndex._check_indexing_error\u001B[1;34m(self, key)\u001B[0m\n\u001B[0;32m   5922\u001B[0m \u001B[38;5;28;01mif\u001B[39;00m \u001B[38;5;129;01mnot\u001B[39;00m is_scalar(key):\n\u001B[0;32m   5923\u001B[0m     \u001B[38;5;66;03m# if key is not a scalar, directly raise an error (the code below\u001B[39;00m\n\u001B[0;32m   5924\u001B[0m     \u001B[38;5;66;03m# would convert to numpy arrays and raise later any way) - GH29926\u001B[39;00m\n\u001B[1;32m-> 5925\u001B[0m     \u001B[38;5;28;01mraise\u001B[39;00m InvalidIndexError(key)\n",
      "\u001B[1;31mInvalidIndexError\u001B[0m: Int64Index([78], dtype='int64')",
      "\nThe above exception was the direct cause of the following exception:\n",
      "\u001B[1;31mInvalidIndexError\u001B[0m                         Traceback (most recent call last)",
      "Cell \u001B[1;32mIn[139], line 19\u001B[0m\n\u001B[0;32m     16\u001B[0m         out_df\u001B[38;5;241m.\u001B[39mat[out_df\u001B[38;5;241m.\u001B[39mindex[out_df[\u001B[38;5;124m'\u001B[39m\u001B[38;5;124mCODICE EDIFICIO\u001B[39m\u001B[38;5;124m'\u001B[39m] \u001B[38;5;241m==\u001B[39m codice_edificio], column] \u001B[38;5;241m=\u001B[39m out\n\u001B[0;32m     17\u001B[0m     \u001B[38;5;28;01mreturn\u001B[39;00m \u001B[38;5;241m1\u001B[39m\n\u001B[1;32m---> 19\u001B[0m \u001B[43mfun_run\u001B[49m\u001B[43m(\u001B[49m\u001B[38;5;241;43m10002605\u001B[39;49m\u001B[43m,\u001B[49m\u001B[43m \u001B[49m\u001B[43mdhat\u001B[49m\u001B[38;5;241;43m=\u001B[39;49m\u001B[38;5;241;43m60\u001B[39;49m\u001B[38;5;241;43m*\u001B[39;49m\u001B[38;5;241;43m15\u001B[39;49m\u001B[43m,\u001B[49m\u001B[43m \u001B[49m\u001B[43malpha\u001B[49m\u001B[38;5;241;43m=\u001B[39;49m\u001B[38;5;241;43m0.5\u001B[39;49m\u001B[43m,\u001B[49m\u001B[43m \u001B[49m\u001B[43mbeta\u001B[49m\u001B[38;5;241;43m=\u001B[39;49m\u001B[38;5;241;43m0.5\u001B[39;49m\u001B[43m,\u001B[49m\u001B[43m \u001B[49m\u001B[43mout_df\u001B[49m\u001B[38;5;241;43m=\u001B[39;49m\u001B[43mindex_df\u001B[49m\u001B[43m)\u001B[49m\n",
      "Cell \u001B[1;32mIn[139], line 16\u001B[0m, in \u001B[0;36mfun_run\u001B[1;34m(codice_edificio, dhat, alpha, beta, out_df, df)\u001B[0m\n\u001B[0;32m     14\u001B[0m         out\u001B[38;5;241m=\u001B[39mcon_index(dist_list\u001B[38;5;241m=\u001B[39mdist_list, dhat\u001B[38;5;241m=\u001B[39mdhat, n_max\u001B[38;5;241m=\u001B[39mn_max, alpha\u001B[38;5;241m=\u001B[39malpha, beta\u001B[38;5;241m=\u001B[39mbeta)\n\u001B[0;32m     15\u001B[0m     \u001B[38;5;28mprint\u001B[39m(out)\n\u001B[1;32m---> 16\u001B[0m     out_df\u001B[38;5;241m.\u001B[39mat[out_df\u001B[38;5;241m.\u001B[39mindex[out_df[\u001B[38;5;124m'\u001B[39m\u001B[38;5;124mCODICE EDIFICIO\u001B[39m\u001B[38;5;124m'\u001B[39m] \u001B[38;5;241m==\u001B[39m codice_edificio], column] \u001B[38;5;241m=\u001B[39m out\n\u001B[0;32m     17\u001B[0m \u001B[38;5;28;01mreturn\u001B[39;00m \u001B[38;5;241m1\u001B[39m\n",
      "File \u001B[1;32mC:\\ProgramData\\anaconda3\\lib\\site-packages\\pandas\\core\\indexing.py:2442\u001B[0m, in \u001B[0;36m_AtIndexer.__setitem__\u001B[1;34m(self, key, value)\u001B[0m\n\u001B[0;32m   2439\u001B[0m     \u001B[38;5;28mself\u001B[39m\u001B[38;5;241m.\u001B[39mobj\u001B[38;5;241m.\u001B[39mloc[key] \u001B[38;5;241m=\u001B[39m value\n\u001B[0;32m   2440\u001B[0m     \u001B[38;5;28;01mreturn\u001B[39;00m\n\u001B[1;32m-> 2442\u001B[0m \u001B[38;5;28;01mreturn\u001B[39;00m \u001B[38;5;28;43msuper\u001B[39;49m\u001B[43m(\u001B[49m\u001B[43m)\u001B[49m\u001B[38;5;241;43m.\u001B[39;49m\u001B[38;5;21;43m__setitem__\u001B[39;49m\u001B[43m(\u001B[49m\u001B[43mkey\u001B[49m\u001B[43m,\u001B[49m\u001B[43m \u001B[49m\u001B[43mvalue\u001B[49m\u001B[43m)\u001B[49m\n",
      "File \u001B[1;32mC:\\ProgramData\\anaconda3\\lib\\site-packages\\pandas\\core\\indexing.py:2397\u001B[0m, in \u001B[0;36m_ScalarAccessIndexer.__setitem__\u001B[1;34m(self, key, value)\u001B[0m\n\u001B[0;32m   2394\u001B[0m \u001B[38;5;28;01mif\u001B[39;00m \u001B[38;5;28mlen\u001B[39m(key) \u001B[38;5;241m!=\u001B[39m \u001B[38;5;28mself\u001B[39m\u001B[38;5;241m.\u001B[39mndim:\n\u001B[0;32m   2395\u001B[0m     \u001B[38;5;28;01mraise\u001B[39;00m \u001B[38;5;167;01mValueError\u001B[39;00m(\u001B[38;5;124m\"\u001B[39m\u001B[38;5;124mNot enough indexers for scalar access (setting)!\u001B[39m\u001B[38;5;124m\"\u001B[39m)\n\u001B[1;32m-> 2397\u001B[0m \u001B[38;5;28;43mself\u001B[39;49m\u001B[38;5;241;43m.\u001B[39;49m\u001B[43mobj\u001B[49m\u001B[38;5;241;43m.\u001B[39;49m\u001B[43m_set_value\u001B[49m\u001B[43m(\u001B[49m\u001B[38;5;241;43m*\u001B[39;49m\u001B[43mkey\u001B[49m\u001B[43m,\u001B[49m\u001B[43m \u001B[49m\u001B[43mvalue\u001B[49m\u001B[38;5;241;43m=\u001B[39;49m\u001B[43mvalue\u001B[49m\u001B[43m,\u001B[49m\u001B[43m \u001B[49m\u001B[43mtakeable\u001B[49m\u001B[38;5;241;43m=\u001B[39;49m\u001B[38;5;28;43mself\u001B[39;49m\u001B[38;5;241;43m.\u001B[39;49m\u001B[43m_takeable\u001B[49m\u001B[43m)\u001B[49m\n",
      "File \u001B[1;32mC:\\ProgramData\\anaconda3\\lib\\site-packages\\pandas\\core\\frame.py:4230\u001B[0m, in \u001B[0;36mDataFrame._set_value\u001B[1;34m(self, index, col, value, takeable)\u001B[0m\n\u001B[0;32m   4225\u001B[0m     \u001B[38;5;28mself\u001B[39m\u001B[38;5;241m.\u001B[39m_item_cache\u001B[38;5;241m.\u001B[39mpop(col, \u001B[38;5;28;01mNone\u001B[39;00m)\n\u001B[0;32m   4227\u001B[0m \u001B[38;5;28;01mexcept\u001B[39;00m InvalidIndexError \u001B[38;5;28;01mas\u001B[39;00m ii_err:\n\u001B[0;32m   4228\u001B[0m     \u001B[38;5;66;03m# GH48729: Seems like you are trying to assign a value to a\u001B[39;00m\n\u001B[0;32m   4229\u001B[0m     \u001B[38;5;66;03m# row when only scalar options are permitted\u001B[39;00m\n\u001B[1;32m-> 4230\u001B[0m     \u001B[38;5;28;01mraise\u001B[39;00m InvalidIndexError(\n\u001B[0;32m   4231\u001B[0m         \u001B[38;5;124mf\u001B[39m\u001B[38;5;124m\"\u001B[39m\u001B[38;5;124mYou can only assign a scalar value not a \u001B[39m\u001B[38;5;132;01m{\u001B[39;00m\u001B[38;5;28mtype\u001B[39m(value)\u001B[38;5;132;01m}\u001B[39;00m\u001B[38;5;124m\"\u001B[39m\n\u001B[0;32m   4232\u001B[0m     ) \u001B[38;5;28;01mfrom\u001B[39;00m \u001B[38;5;21;01mii_err\u001B[39;00m\n",
      "\u001B[1;31mInvalidIndexError\u001B[0m: You can only assign a scalar value not a <class 'tuple'>"
     ]
    }
   ],
   "source": [
    "def fun_run(codice_edificio, dhat, alpha, beta, out_df, df=calc_df_fixed):\n",
    "    columns_list=list(df.df_name.unique())+['all']\n",
    "    #columns_list=['all']\n",
    "    for column in columns_list:\n",
    "        if column=='all':\n",
    "            pass\n",
    "        else:\n",
    "            df=df[df.df_name==column]\n",
    "        dist_list=df[str(codice_edificio)].to_list()\n",
    "        if dist_list==[]:\n",
    "            out=np.nan\n",
    "        else:\n",
    "            n_max=best_in_class(column, dhat)\n",
    "            out=con_index(dist_list=dist_list, dhat=dhat, n_max=n_max, alpha=alpha, beta=beta)\n",
    "        print(out)\n",
    "        out_df.at[out_df.index[out_df['CODICE EDIFICIO'] == codice_edificio], column] = out\n",
    "    return 1\n",
    "\n",
    "fun_run(10002605, dhat=60*15, alpha=0.5, beta=0.5, out_df=index_df)"
   ],
   "metadata": {
    "collapsed": false,
    "ExecuteTime": {
     "end_time": "2023-06-29T16:33:17.466896400Z",
     "start_time": "2023-06-29T16:33:17.331262500Z"
    }
   }
  }
 ],
 "metadata": {
  "kernelspec": {
   "display_name": "Python 3",
   "language": "python",
   "name": "python3"
  },
  "language_info": {
   "codemirror_mode": {
    "name": "ipython",
    "version": 2
   },
   "file_extension": ".py",
   "mimetype": "text/x-python",
   "name": "python",
   "nbconvert_exporter": "python",
   "pygments_lexer": "ipython2",
   "version": "2.7.6"
  }
 },
 "nbformat": 4,
 "nbformat_minor": 0
}
