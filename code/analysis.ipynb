{
 "cells": [
  {
   "cell_type": "markdown",
   "source": [
    "# Analysis\n"
   ],
   "metadata": {
    "collapsed": false
   }
  },
  {
   "cell_type": "code",
   "execution_count": 8,
   "outputs": [],
   "source": [
    "import pandas as pd\n",
    "import numpy as np\n",
    "import matplotlib.pyplot as plt\n",
    "import fiona\n",
    "from shapely.geometry import MultiPoint, Point, Polygon,shape\n",
    "import random\n",
    "import warnings\n",
    "import statsmodels.api as sm\n",
    "from patsy import dmatrices\n",
    "import geopy.distance\n",
    "import geopandas as gpd\n",
    "import pyperclip\n",
    "import sklearn.metrics as sk"
   ],
   "metadata": {
    "collapsed": false,
    "ExecuteTime": {
     "end_time": "2023-08-16T10:09:55.666627Z",
     "start_time": "2023-08-16T10:09:55.194175700Z"
    }
   }
  },
  {
   "cell_type": "code",
   "execution_count": 9,
   "outputs": [],
   "source": [
    "labels={'acqua': 'Water fountains',\n",
    "        'biblio':   'Public libraries',\n",
    "        'ciclabili':'Bike lanes',\n",
    "        'consu':    'Family counselling',\n",
    "        'cult':\t    'Cultural POI',\n",
    "        'distr':    'Stores and Groceries',\n",
    "        'edicole':  'News-stands',\n",
    "        'farmacie':\t'Pharmacies',\n",
    "        'metro':    'Metro stations',\n",
    "        'parchi':\t'Public parks',\n",
    "        'posta':    'Postal offices',\n",
    "        'serd': \t'Addiction counselling',\n",
    "        'sinf':\t    'Kindergarten',\n",
    "        'sita':\t    'Italian schools',\n",
    "        'sport':\t'Sport facilities',\n",
    "        'sprim':\t'Elementary schools',\n",
    "        'ss2':      'High schools',\n",
    "        'ssec':     'Middle schools',\n",
    "        'treni':    'Train stations',\n",
    "        'uni':      'University buildings',\n",
    "        'df_name':  'Service',\n",
    "        'all': 'All services'\n",
    "        }\n",
    "\n",
    "col_list = ['acqua', 'biblio', 'ciclabili','consu','cult', 'edicole', 'farmacie', 'metro', 'parchi', 'posta', 'serd', 'sinf', 'sita', 'sport', 'sprim', 'ss2', 'ssec', 'treni', 'uni', 'wifi', 'distr','all']"
   ],
   "metadata": {
    "collapsed": false,
    "ExecuteTime": {
     "end_time": "2023-08-16T10:09:55.666627Z",
     "start_time": "2023-08-16T10:09:55.223387500Z"
    }
   }
  },
  {
   "cell_type": "markdown",
   "source": [
    "## Data Cleaning and preprocessing"
   ],
   "metadata": {
    "collapsed": false
   }
  },
  {
   "cell_type": "code",
   "execution_count": 10,
   "outputs": [
    {
     "data": {
      "text/plain": "                                               name      long        lat  \\\n0                                      FORZE ARMATE  9.107364  45.456290   \n1                                       LORENTEGGIO  9.125151  45.458188   \n2                                        BANDE NERE  9.136149  45.461792   \n3                                       GIAMBELLINO  9.153322  45.452348   \n4      GRATOSOGLIO - Q.RE MISSAGLIA - Q.RE TERRAZZE  9.171006  45.408128   \n...                                             ...       ...        ...   \n13264                      licenza madre ce palizzi  9.138032  45.507393   \n13265                                           NaN  9.097103  45.450728   \n13266                          la rinascente s.p.a.  9.151735  45.489729   \n13269                                           NaN  9.158760  45.479925   \n13271                          la rinascente s.p.a.  9.191865  45.465372   \n\n      df_name                        cat1 cat2             cat1_name  \\\n0       acqua                         NaN  NaN                   NaN   \n1       acqua                         NaN  NaN                   NaN   \n2       acqua                         NaN  NaN                   NaN   \n3       acqua                         NaN  NaN                   NaN   \n4       acqua                         NaN  NaN                   NaN   \n...       ...                         ...  ...                   ...   \n13264   distr   alimentare|non alimentare  NaN  settore_merceologico   \n13265   distr   alimentare|non alimentare  NaN  settore_merceologico   \n13266   distr   alimentare|non alimentare  NaN  settore_merceologico   \n13269   distr  Non Alimentare|Alimentare|  NaN  settore_merceologico   \n13271   distr   Alimentare|Non Alimentare  NaN  settore_merceologico   \n\n      cat2_name  10001708  10001709  ...  51039101  51039401  51039402  \\\n0           NaN    7540.1    7540.1  ...    4609.7    8467.6    8467.6   \n1           NaN    6445.5    6445.5  ...    3735.9    7593.8    7593.8   \n2           NaN    5797.8    5797.8  ...    3165.9    7023.8    7023.8   \n3           NaN    4673.6    4673.6  ...    3846.8    7651.5    7651.5   \n4           NaN    5655.9    5655.9  ...    8094.3   10803.3   10803.3   \n...         ...       ...       ...  ...       ...       ...       ...   \n13264       NaN    7640.8    7640.8  ...    1647.7    3452.3    3452.3   \n13265       NaN    8231.1    8231.1  ...    5498.1    9356.0    9356.0   \n13266       NaN    5841.5    5841.5  ...    1041.9    4315.4    4315.4   \n13269       NaN    5143.7    5143.7  ...    1948.4    5203.1    5203.1   \n13271       NaN    2627.3    2627.3  ...    4258.5    5986.6    5986.6   \n\n       51039403  51039404  51039405  51039406  51039407  51039408  51039410  \n0        8467.6    8467.6    8467.6    8467.6    8467.6    8467.6    8467.6  \n1        7593.8    7593.8    7593.8    7593.8    7593.8    7593.8    7593.8  \n2        7023.8    7023.8    7023.8    7023.8    7023.8    7023.8    7023.8  \n3        7651.5    7651.5    7651.5    7651.5    7651.5    7651.5    7651.5  \n4       10803.3   10803.3   10803.3   10803.3   10803.3   10803.3   10803.3  \n...         ...       ...       ...       ...       ...       ...       ...  \n13264    3452.3    3452.3    3452.3    3452.3    3452.3    3452.3    3452.3  \n13265    9356.0    9356.0    9356.0    9356.0    9356.0    9356.0    9356.0  \n13266    4315.4    4315.4    4315.4    4315.4    4315.4    4315.4    4315.4  \n13269    5203.1    5203.1    5203.1    5203.1    5203.1    5203.1    5203.1  \n13271    5986.6    5986.6    5986.6    5986.6    5986.6    5986.6    5986.6  \n\n[12760 rows x 988 columns]",
      "text/html": "<div>\n<style scoped>\n    .dataframe tbody tr th:only-of-type {\n        vertical-align: middle;\n    }\n\n    .dataframe tbody tr th {\n        vertical-align: top;\n    }\n\n    .dataframe thead th {\n        text-align: right;\n    }\n</style>\n<table border=\"1\" class=\"dataframe\">\n  <thead>\n    <tr style=\"text-align: right;\">\n      <th></th>\n      <th>name</th>\n      <th>long</th>\n      <th>lat</th>\n      <th>df_name</th>\n      <th>cat1</th>\n      <th>cat2</th>\n      <th>cat1_name</th>\n      <th>cat2_name</th>\n      <th>10001708</th>\n      <th>10001709</th>\n      <th>...</th>\n      <th>51039101</th>\n      <th>51039401</th>\n      <th>51039402</th>\n      <th>51039403</th>\n      <th>51039404</th>\n      <th>51039405</th>\n      <th>51039406</th>\n      <th>51039407</th>\n      <th>51039408</th>\n      <th>51039410</th>\n    </tr>\n  </thead>\n  <tbody>\n    <tr>\n      <th>0</th>\n      <td>FORZE ARMATE</td>\n      <td>9.107364</td>\n      <td>45.456290</td>\n      <td>acqua</td>\n      <td>NaN</td>\n      <td>NaN</td>\n      <td>NaN</td>\n      <td>NaN</td>\n      <td>7540.1</td>\n      <td>7540.1</td>\n      <td>...</td>\n      <td>4609.7</td>\n      <td>8467.6</td>\n      <td>8467.6</td>\n      <td>8467.6</td>\n      <td>8467.6</td>\n      <td>8467.6</td>\n      <td>8467.6</td>\n      <td>8467.6</td>\n      <td>8467.6</td>\n      <td>8467.6</td>\n    </tr>\n    <tr>\n      <th>1</th>\n      <td>LORENTEGGIO</td>\n      <td>9.125151</td>\n      <td>45.458188</td>\n      <td>acqua</td>\n      <td>NaN</td>\n      <td>NaN</td>\n      <td>NaN</td>\n      <td>NaN</td>\n      <td>6445.5</td>\n      <td>6445.5</td>\n      <td>...</td>\n      <td>3735.9</td>\n      <td>7593.8</td>\n      <td>7593.8</td>\n      <td>7593.8</td>\n      <td>7593.8</td>\n      <td>7593.8</td>\n      <td>7593.8</td>\n      <td>7593.8</td>\n      <td>7593.8</td>\n      <td>7593.8</td>\n    </tr>\n    <tr>\n      <th>2</th>\n      <td>BANDE NERE</td>\n      <td>9.136149</td>\n      <td>45.461792</td>\n      <td>acqua</td>\n      <td>NaN</td>\n      <td>NaN</td>\n      <td>NaN</td>\n      <td>NaN</td>\n      <td>5797.8</td>\n      <td>5797.8</td>\n      <td>...</td>\n      <td>3165.9</td>\n      <td>7023.8</td>\n      <td>7023.8</td>\n      <td>7023.8</td>\n      <td>7023.8</td>\n      <td>7023.8</td>\n      <td>7023.8</td>\n      <td>7023.8</td>\n      <td>7023.8</td>\n      <td>7023.8</td>\n    </tr>\n    <tr>\n      <th>3</th>\n      <td>GIAMBELLINO</td>\n      <td>9.153322</td>\n      <td>45.452348</td>\n      <td>acqua</td>\n      <td>NaN</td>\n      <td>NaN</td>\n      <td>NaN</td>\n      <td>NaN</td>\n      <td>4673.6</td>\n      <td>4673.6</td>\n      <td>...</td>\n      <td>3846.8</td>\n      <td>7651.5</td>\n      <td>7651.5</td>\n      <td>7651.5</td>\n      <td>7651.5</td>\n      <td>7651.5</td>\n      <td>7651.5</td>\n      <td>7651.5</td>\n      <td>7651.5</td>\n      <td>7651.5</td>\n    </tr>\n    <tr>\n      <th>4</th>\n      <td>GRATOSOGLIO - Q.RE MISSAGLIA - Q.RE TERRAZZE</td>\n      <td>9.171006</td>\n      <td>45.408128</td>\n      <td>acqua</td>\n      <td>NaN</td>\n      <td>NaN</td>\n      <td>NaN</td>\n      <td>NaN</td>\n      <td>5655.9</td>\n      <td>5655.9</td>\n      <td>...</td>\n      <td>8094.3</td>\n      <td>10803.3</td>\n      <td>10803.3</td>\n      <td>10803.3</td>\n      <td>10803.3</td>\n      <td>10803.3</td>\n      <td>10803.3</td>\n      <td>10803.3</td>\n      <td>10803.3</td>\n      <td>10803.3</td>\n    </tr>\n    <tr>\n      <th>...</th>\n      <td>...</td>\n      <td>...</td>\n      <td>...</td>\n      <td>...</td>\n      <td>...</td>\n      <td>...</td>\n      <td>...</td>\n      <td>...</td>\n      <td>...</td>\n      <td>...</td>\n      <td>...</td>\n      <td>...</td>\n      <td>...</td>\n      <td>...</td>\n      <td>...</td>\n      <td>...</td>\n      <td>...</td>\n      <td>...</td>\n      <td>...</td>\n      <td>...</td>\n      <td>...</td>\n    </tr>\n    <tr>\n      <th>13264</th>\n      <td>licenza madre ce palizzi</td>\n      <td>9.138032</td>\n      <td>45.507393</td>\n      <td>distr</td>\n      <td>alimentare|non alimentare</td>\n      <td>NaN</td>\n      <td>settore_merceologico</td>\n      <td>NaN</td>\n      <td>7640.8</td>\n      <td>7640.8</td>\n      <td>...</td>\n      <td>1647.7</td>\n      <td>3452.3</td>\n      <td>3452.3</td>\n      <td>3452.3</td>\n      <td>3452.3</td>\n      <td>3452.3</td>\n      <td>3452.3</td>\n      <td>3452.3</td>\n      <td>3452.3</td>\n      <td>3452.3</td>\n    </tr>\n    <tr>\n      <th>13265</th>\n      <td>NaN</td>\n      <td>9.097103</td>\n      <td>45.450728</td>\n      <td>distr</td>\n      <td>alimentare|non alimentare</td>\n      <td>NaN</td>\n      <td>settore_merceologico</td>\n      <td>NaN</td>\n      <td>8231.1</td>\n      <td>8231.1</td>\n      <td>...</td>\n      <td>5498.1</td>\n      <td>9356.0</td>\n      <td>9356.0</td>\n      <td>9356.0</td>\n      <td>9356.0</td>\n      <td>9356.0</td>\n      <td>9356.0</td>\n      <td>9356.0</td>\n      <td>9356.0</td>\n      <td>9356.0</td>\n    </tr>\n    <tr>\n      <th>13266</th>\n      <td>la rinascente s.p.a.</td>\n      <td>9.151735</td>\n      <td>45.489729</td>\n      <td>distr</td>\n      <td>alimentare|non alimentare</td>\n      <td>NaN</td>\n      <td>settore_merceologico</td>\n      <td>NaN</td>\n      <td>5841.5</td>\n      <td>5841.5</td>\n      <td>...</td>\n      <td>1041.9</td>\n      <td>4315.4</td>\n      <td>4315.4</td>\n      <td>4315.4</td>\n      <td>4315.4</td>\n      <td>4315.4</td>\n      <td>4315.4</td>\n      <td>4315.4</td>\n      <td>4315.4</td>\n      <td>4315.4</td>\n    </tr>\n    <tr>\n      <th>13269</th>\n      <td>NaN</td>\n      <td>9.158760</td>\n      <td>45.479925</td>\n      <td>distr</td>\n      <td>Non Alimentare|Alimentare|</td>\n      <td>NaN</td>\n      <td>settore_merceologico</td>\n      <td>NaN</td>\n      <td>5143.7</td>\n      <td>5143.7</td>\n      <td>...</td>\n      <td>1948.4</td>\n      <td>5203.1</td>\n      <td>5203.1</td>\n      <td>5203.1</td>\n      <td>5203.1</td>\n      <td>5203.1</td>\n      <td>5203.1</td>\n      <td>5203.1</td>\n      <td>5203.1</td>\n      <td>5203.1</td>\n    </tr>\n    <tr>\n      <th>13271</th>\n      <td>la rinascente s.p.a.</td>\n      <td>9.191865</td>\n      <td>45.465372</td>\n      <td>distr</td>\n      <td>Alimentare|Non Alimentare</td>\n      <td>NaN</td>\n      <td>settore_merceologico</td>\n      <td>NaN</td>\n      <td>2627.3</td>\n      <td>2627.3</td>\n      <td>...</td>\n      <td>4258.5</td>\n      <td>5986.6</td>\n      <td>5986.6</td>\n      <td>5986.6</td>\n      <td>5986.6</td>\n      <td>5986.6</td>\n      <td>5986.6</td>\n      <td>5986.6</td>\n      <td>5986.6</td>\n      <td>5986.6</td>\n    </tr>\n  </tbody>\n</table>\n<p>12760 rows × 988 columns</p>\n</div>"
     },
     "execution_count": 10,
     "metadata": {},
     "output_type": "execute_result"
    }
   ],
   "source": [
    "calc_df_fixed=pd.read_csv('../outputs/calc_fixed_df.csv', low_memory=False)\n",
    "mm_df=pd.read_csv('../outputs/mm_dataset.csv')\n",
    "#removing all non geolocated services\n",
    "calc_df_fixed = calc_df_fixed.drop(calc_df_fixed[calc_df_fixed['long'].isna()].index)\n",
    "calc_df_fixed"
   ],
   "metadata": {
    "collapsed": false,
    "ExecuteTime": {
     "end_time": "2023-08-16T10:10:03.136007900Z",
     "start_time": "2023-08-16T10:09:55.254279900Z"
    }
   }
  },
  {
   "cell_type": "markdown",
   "source": [
    "Cleaning all housing units outside of comune di milano"
   ],
   "metadata": {
    "collapsed": false
   }
  },
  {
   "cell_type": "code",
   "execution_count": 11,
   "outputs": [
    {
     "data": {
      "text/plain": "<Axes: >"
     },
     "execution_count": 11,
     "metadata": {},
     "output_type": "execute_result"
    },
    {
     "data": {
      "text/plain": "<Figure size 640x480 with 1 Axes>",
      "image/png": "[encoded data removed]"
     },
     "metadata": {},
     "output_type": "display_data"
    }
   ],
   "source": [
    "shape=gpd.read_file(r\"../datasets/milan_shape/A090101_ComuneMilano.shp\")\n",
    "shape=shape.to_crs(epsg=4326)\n",
    "shape.plot()"
   ],
   "metadata": {
    "collapsed": false,
    "ExecuteTime": {
     "end_time": "2023-08-16T10:10:03.988964Z",
     "start_time": "2023-08-16T10:10:03.128015900Z"
    }
   }
  },
  {
   "cell_type": "code",
   "execution_count": 12,
   "outputs": [],
   "source": [
    "mm_gdf = gpd.GeoDataFrame(\n",
    "    mm_df, geometry=gpd.points_from_xy(mm_df.lon, mm_df.lat), crs=\"EPSG:4326\"\n",
    ")\n",
    "points_within = gpd.sjoin(mm_gdf, shape, predicate='within')\n",
    "ed_in=points_within['CODICE EDIFICIO'].to_list()"
   ],
   "metadata": {
    "collapsed": false,
    "ExecuteTime": {
     "end_time": "2023-08-16T10:10:04.180237200Z",
     "start_time": "2023-08-16T10:10:03.996986600Z"
    }
   }
  },
  {
   "cell_type": "markdown",
   "source": [
    "## Summary statistics"
   ],
   "metadata": {
    "collapsed": false
   }
  },
  {
   "cell_type": "code",
   "execution_count": 13,
   "outputs": [
    {
     "data": {
      "text/plain": "df_name               acqua       biblio    ciclabili        consu  \\\n10001708 count    52.000000    26.000000  3722.000000    21.000000   \n         mean   4837.286538  4852.173077  4710.625631  3401.933333   \n         std    2227.730313  2356.413434  2021.426698  1740.142727   \n         min     300.000000   732.400000   167.700000  1149.100000   \n         25%    3003.850000  2909.925000  3254.175000  2033.500000   \n\ndf_name                cult        distr      edicole     farmacie  \\\n10001708 count    75.000000   847.000000   562.000000   414.000000   \n         mean   3293.048000  3922.098229  4272.305160  4305.478261   \n         std     978.047843  1758.667532  1940.521378  2024.596546   \n         min    1743.900000   578.900000   342.800000   233.000000   \n         25%    2801.900000  2658.950000  2807.500000  2879.775000   \n\ndf_name               metro       parchi  ...         serd         sinf  \\\n10001708 count   110.000000  1065.000000  ...    15.000000   263.000000   \n         mean   5610.150909  4802.970047  ...  4445.560000  4764.759696   \n         std    3056.697970  2108.603931  ...  1921.965073  2176.150858   \n         min    1174.400000   172.600000  ...  2578.400000   201.800000   \n         25%    3591.875000  3716.500000  ...  3333.200000  3084.600000   \n\ndf_name                sita        sport        sprim          ss2  \\\n10001708 count   114.000000  1041.000000  1718.000000   174.000000   \n         mean   4274.764035  5144.240346  4792.983818  4073.697701   \n         std    2024.712556  2223.316616  2151.748558  1787.300165   \n         min     455.300000   168.200000   302.400000   819.000000   \n         25%    2918.900000  3472.400000  3121.600000  2981.025000   \n\ndf_name                ssec        treni          uni         wifi  \n10001708 count  1128.000000    24.000000   711.000000   596.000000  \n         mean   4544.281294  4543.304167  3615.077637  4699.220638  \n         std    2058.149003  2247.137897  1642.314869  2046.524959  \n         min     302.400000   879.500000   906.800000   204.500000  \n         25%    2922.825000  3174.725000  2450.500000  3049.850000  \n\n[5 rows x 21 columns]",
      "text/html": "<div>\n<style scoped>\n    .dataframe tbody tr th:only-of-type {\n        vertical-align: middle;\n    }\n\n    .dataframe tbody tr th {\n        vertical-align: top;\n    }\n\n    .dataframe thead th {\n        text-align: right;\n    }\n</style>\n<table border=\"1\" class=\"dataframe\">\n  <thead>\n    <tr style=\"text-align: right;\">\n      <th></th>\n      <th>df_name</th>\n      <th>acqua</th>\n      <th>biblio</th>\n      <th>ciclabili</th>\n      <th>consu</th>\n      <th>cult</th>\n      <th>distr</th>\n      <th>edicole</th>\n      <th>farmacie</th>\n      <th>metro</th>\n      <th>parchi</th>\n      <th>...</th>\n      <th>serd</th>\n      <th>sinf</th>\n      <th>sita</th>\n      <th>sport</th>\n      <th>sprim</th>\n      <th>ss2</th>\n      <th>ssec</th>\n      <th>treni</th>\n      <th>uni</th>\n      <th>wifi</th>\n    </tr>\n  </thead>\n  <tbody>\n    <tr>\n      <th rowspan=\"5\" valign=\"top\">10001708</th>\n      <th>count</th>\n      <td>52.000000</td>\n      <td>26.000000</td>\n      <td>3722.000000</td>\n      <td>21.000000</td>\n      <td>75.000000</td>\n      <td>847.000000</td>\n      <td>562.000000</td>\n      <td>414.000000</td>\n      <td>110.000000</td>\n      <td>1065.000000</td>\n      <td>...</td>\n      <td>15.000000</td>\n      <td>263.000000</td>\n      <td>114.000000</td>\n      <td>1041.000000</td>\n      <td>1718.000000</td>\n      <td>174.000000</td>\n      <td>1128.000000</td>\n      <td>24.000000</td>\n      <td>711.000000</td>\n      <td>596.000000</td>\n    </tr>\n    <tr>\n      <th>mean</th>\n      <td>4837.286538</td>\n      <td>4852.173077</td>\n      <td>4710.625631</td>\n      <td>3401.933333</td>\n      <td>3293.048000</td>\n      <td>3922.098229</td>\n      <td>4272.305160</td>\n      <td>4305.478261</td>\n      <td>5610.150909</td>\n      <td>4802.970047</td>\n      <td>...</td>\n      <td>4445.560000</td>\n      <td>4764.759696</td>\n      <td>4274.764035</td>\n      <td>5144.240346</td>\n      <td>4792.983818</td>\n      <td>4073.697701</td>\n      <td>4544.281294</td>\n      <td>4543.304167</td>\n      <td>3615.077637</td>\n      <td>4699.220638</td>\n    </tr>\n    <tr>\n      <th>std</th>\n      <td>2227.730313</td>\n      <td>2356.413434</td>\n      <td>2021.426698</td>\n      <td>1740.142727</td>\n      <td>978.047843</td>\n      <td>1758.667532</td>\n      <td>1940.521378</td>\n      <td>2024.596546</td>\n      <td>3056.697970</td>\n      <td>2108.603931</td>\n      <td>...</td>\n      <td>1921.965073</td>\n      <td>2176.150858</td>\n      <td>2024.712556</td>\n      <td>2223.316616</td>\n      <td>2151.748558</td>\n      <td>1787.300165</td>\n      <td>2058.149003</td>\n      <td>2247.137897</td>\n      <td>1642.314869</td>\n      <td>2046.524959</td>\n    </tr>\n    <tr>\n      <th>min</th>\n      <td>300.000000</td>\n      <td>732.400000</td>\n      <td>167.700000</td>\n      <td>1149.100000</td>\n      <td>1743.900000</td>\n      <td>578.900000</td>\n      <td>342.800000</td>\n      <td>233.000000</td>\n      <td>1174.400000</td>\n      <td>172.600000</td>\n      <td>...</td>\n      <td>2578.400000</td>\n      <td>201.800000</td>\n      <td>455.300000</td>\n      <td>168.200000</td>\n      <td>302.400000</td>\n      <td>819.000000</td>\n      <td>302.400000</td>\n      <td>879.500000</td>\n      <td>906.800000</td>\n      <td>204.500000</td>\n    </tr>\n    <tr>\n      <th>25%</th>\n      <td>3003.850000</td>\n      <td>2909.925000</td>\n      <td>3254.175000</td>\n      <td>2033.500000</td>\n      <td>2801.900000</td>\n      <td>2658.950000</td>\n      <td>2807.500000</td>\n      <td>2879.775000</td>\n      <td>3591.875000</td>\n      <td>3716.500000</td>\n      <td>...</td>\n      <td>3333.200000</td>\n      <td>3084.600000</td>\n      <td>2918.900000</td>\n      <td>3472.400000</td>\n      <td>3121.600000</td>\n      <td>2981.025000</td>\n      <td>2922.825000</td>\n      <td>3174.725000</td>\n      <td>2450.500000</td>\n      <td>3049.850000</td>\n    </tr>\n  </tbody>\n</table>\n<p>5 rows × 21 columns</p>\n</div>"
     },
     "execution_count": 13,
     "metadata": {},
     "output_type": "execute_result"
    }
   ],
   "source": [
    "desc_mm=calc_df_fixed.groupby('df_name').describe()\n",
    "desc_mm=desc_mm.drop(['long', 'lat'], axis=1)\n",
    "desc_mm=desc_mm.T\n",
    "desc_mm.head()"
   ],
   "metadata": {
    "collapsed": false,
    "ExecuteTime": {
     "end_time": "2023-08-16T10:11:46.303241800Z",
     "start_time": "2023-08-16T10:10:04.157147400Z"
    }
   }
  },
  {
   "cell_type": "code",
   "execution_count": 14,
   "outputs": [
    {
     "name": "stderr",
     "output_type": "stream",
     "text": [
      "C:\\Users\\iodio\\AppData\\Local\\Temp\\ipykernel_13248\\2763110821.py:1: FutureWarning: Dropping invalid columns in DataFrameGroupBy.min is deprecated. In a future version, a TypeError will be raised. Before calling .min, select only columns which should be valid for the function.\n",
      "  min_services=calc_df_fixed.groupby('df_name').min()\n",
      "C:\\Users\\iodio\\AppData\\Local\\Temp\\ipykernel_13248\\2763110821.py:6: FutureWarning: Dropping invalid columns in DataFrameGroupBy.min is deprecated. In a future version, a TypeError will be raised. Before calling .min, select only columns which should be valid for the function.\n",
      "  max_services=calc_df_fixed.groupby('df_name').min()\n",
      "C:\\Users\\iodio\\AppData\\Local\\Temp\\ipykernel_13248\\2763110821.py:10: FutureWarning: The default value of numeric_only in DataFrameGroupBy.mean is deprecated. In a future version, numeric_only will default to False. Either specify numeric_only or select only columns which should be valid for the function.\n",
      "  avg_services=calc_df_fixed.groupby('df_name').mean()\n",
      "C:\\Users\\iodio\\AppData\\Local\\Temp\\ipykernel_13248\\2763110821.py:12: FutureWarning: The default value of numeric_only in DataFrameGroupBy.std is deprecated. In a future version, numeric_only will default to False. Either specify numeric_only or select only columns which should be valid for the function.\n",
      "  sd_services=calc_df_fixed.groupby('df_name').std()\n"
     ]
    },
    {
     "data": {
      "text/plain": "            min    id_min      max    id_max          avg           sd\ndf_name                                                               \nacqua      42.9  51038202  11575.4  30002301  5935.911171  2235.464750\nbiblio     25.2  41021101  12616.0  30002301  5632.558962  2315.507204\nciclabili   7.7  51023704  10128.4  30002301  5721.943063  2305.164419\nconsu      18.8  30001601  13996.4  30002301  5313.805646  2344.355278\ncult       52.8  20000804  13431.4  30002301  4809.684327  2404.639622\ndistr      31.7  51010801  11501.2  30002301  5297.161646  2333.650571\nedicole     6.0  10001902  11254.5  30002301  5487.967377  2305.300919\nfarmacie    0.0  30003501  10912.3  30002301  5510.082684  2299.712785\nmetro      33.8  10003802  10959.2  51014401  6635.089023  2229.341552\nparchi      3.4  51038301  12332.8  30002301  5910.077263  2259.777370\nposta       6.1  41021401  11475.3  30002301  5636.891946  2291.875690\nserd       55.6  41020001  13567.5  30002301  5408.420935  2322.403710\nsinf       29.3  51016301  11171.3  30002301  5755.667464  2273.988700\nsita       29.0  41022001  11560.3  30002301  5539.396666  2296.402898\nsport       1.3  10004701  10901.2  30002301  5857.536488  2276.750386\nsprim      30.0  30000301  10929.8  30002301  5716.427858  2280.761468\nss2        17.5  41010501  12893.0  30002301  5488.991076  2315.297514\nssec       60.3  10002405  11171.3  30002301  5642.957735  2291.919932\ntreni      75.8  51011001  13814.1  51014401  5739.275555  2353.725717\nuni        83.4  10004301  12214.2  30002301  5667.615304  2365.915758\nwifi        6.6  20001801  11261.6  30002301  5675.411999  2285.950596",
      "text/html": "<div>\n<style scoped>\n    .dataframe tbody tr th:only-of-type {\n        vertical-align: middle;\n    }\n\n    .dataframe tbody tr th {\n        vertical-align: top;\n    }\n\n    .dataframe thead th {\n        text-align: right;\n    }\n</style>\n<table border=\"1\" class=\"dataframe\">\n  <thead>\n    <tr style=\"text-align: right;\">\n      <th></th>\n      <th>min</th>\n      <th>id_min</th>\n      <th>max</th>\n      <th>id_max</th>\n      <th>avg</th>\n      <th>sd</th>\n    </tr>\n    <tr>\n      <th>df_name</th>\n      <th></th>\n      <th></th>\n      <th></th>\n      <th></th>\n      <th></th>\n      <th></th>\n    </tr>\n  </thead>\n  <tbody>\n    <tr>\n      <th>acqua</th>\n      <td>42.9</td>\n      <td>51038202</td>\n      <td>11575.4</td>\n      <td>30002301</td>\n      <td>5935.911171</td>\n      <td>2235.464750</td>\n    </tr>\n    <tr>\n      <th>biblio</th>\n      <td>25.2</td>\n      <td>41021101</td>\n      <td>12616.0</td>\n      <td>30002301</td>\n      <td>5632.558962</td>\n      <td>2315.507204</td>\n    </tr>\n    <tr>\n      <th>ciclabili</th>\n      <td>7.7</td>\n      <td>51023704</td>\n      <td>10128.4</td>\n      <td>30002301</td>\n      <td>5721.943063</td>\n      <td>2305.164419</td>\n    </tr>\n    <tr>\n      <th>consu</th>\n      <td>18.8</td>\n      <td>30001601</td>\n      <td>13996.4</td>\n      <td>30002301</td>\n      <td>5313.805646</td>\n      <td>2344.355278</td>\n    </tr>\n    <tr>\n      <th>cult</th>\n      <td>52.8</td>\n      <td>20000804</td>\n      <td>13431.4</td>\n      <td>30002301</td>\n      <td>4809.684327</td>\n      <td>2404.639622</td>\n    </tr>\n    <tr>\n      <th>distr</th>\n      <td>31.7</td>\n      <td>51010801</td>\n      <td>11501.2</td>\n      <td>30002301</td>\n      <td>5297.161646</td>\n      <td>2333.650571</td>\n    </tr>\n    <tr>\n      <th>edicole</th>\n      <td>6.0</td>\n      <td>10001902</td>\n      <td>11254.5</td>\n      <td>30002301</td>\n      <td>5487.967377</td>\n      <td>2305.300919</td>\n    </tr>\n    <tr>\n      <th>farmacie</th>\n      <td>0.0</td>\n      <td>30003501</td>\n      <td>10912.3</td>\n      <td>30002301</td>\n      <td>5510.082684</td>\n      <td>2299.712785</td>\n    </tr>\n    <tr>\n      <th>metro</th>\n      <td>33.8</td>\n      <td>10003802</td>\n      <td>10959.2</td>\n      <td>51014401</td>\n      <td>6635.089023</td>\n      <td>2229.341552</td>\n    </tr>\n    <tr>\n      <th>parchi</th>\n      <td>3.4</td>\n      <td>51038301</td>\n      <td>12332.8</td>\n      <td>30002301</td>\n      <td>5910.077263</td>\n      <td>2259.777370</td>\n    </tr>\n    <tr>\n      <th>posta</th>\n      <td>6.1</td>\n      <td>41021401</td>\n      <td>11475.3</td>\n      <td>30002301</td>\n      <td>5636.891946</td>\n      <td>2291.875690</td>\n    </tr>\n    <tr>\n      <th>serd</th>\n      <td>55.6</td>\n      <td>41020001</td>\n      <td>13567.5</td>\n      <td>30002301</td>\n      <td>5408.420935</td>\n      <td>2322.403710</td>\n    </tr>\n    <tr>\n      <th>sinf</th>\n      <td>29.3</td>\n      <td>51016301</td>\n      <td>11171.3</td>\n      <td>30002301</td>\n      <td>5755.667464</td>\n      <td>2273.988700</td>\n    </tr>\n    <tr>\n      <th>sita</th>\n      <td>29.0</td>\n      <td>41022001</td>\n      <td>11560.3</td>\n      <td>30002301</td>\n      <td>5539.396666</td>\n      <td>2296.402898</td>\n    </tr>\n    <tr>\n      <th>sport</th>\n      <td>1.3</td>\n      <td>10004701</td>\n      <td>10901.2</td>\n      <td>30002301</td>\n      <td>5857.536488</td>\n      <td>2276.750386</td>\n    </tr>\n    <tr>\n      <th>sprim</th>\n      <td>30.0</td>\n      <td>30000301</td>\n      <td>10929.8</td>\n      <td>30002301</td>\n      <td>5716.427858</td>\n      <td>2280.761468</td>\n    </tr>\n    <tr>\n      <th>ss2</th>\n      <td>17.5</td>\n      <td>41010501</td>\n      <td>12893.0</td>\n      <td>30002301</td>\n      <td>5488.991076</td>\n      <td>2315.297514</td>\n    </tr>\n    <tr>\n      <th>ssec</th>\n      <td>60.3</td>\n      <td>10002405</td>\n      <td>11171.3</td>\n      <td>30002301</td>\n      <td>5642.957735</td>\n      <td>2291.919932</td>\n    </tr>\n    <tr>\n      <th>treni</th>\n      <td>75.8</td>\n      <td>51011001</td>\n      <td>13814.1</td>\n      <td>51014401</td>\n      <td>5739.275555</td>\n      <td>2353.725717</td>\n    </tr>\n    <tr>\n      <th>uni</th>\n      <td>83.4</td>\n      <td>10004301</td>\n      <td>12214.2</td>\n      <td>30002301</td>\n      <td>5667.615304</td>\n      <td>2365.915758</td>\n    </tr>\n    <tr>\n      <th>wifi</th>\n      <td>6.6</td>\n      <td>20001801</td>\n      <td>11261.6</td>\n      <td>30002301</td>\n      <td>5675.411999</td>\n      <td>2285.950596</td>\n    </tr>\n  </tbody>\n</table>\n</div>"
     },
     "execution_count": 14,
     "metadata": {},
     "output_type": "execute_result"
    }
   ],
   "source": [
    "min_services=calc_df_fixed.groupby('df_name').min()\n",
    "min_services=min_services.drop(['long', 'lat', 'cat1_name', 'cat2_name'], axis=1)\n",
    "desc_services=pd.DataFrame()\n",
    "desc_services['min']=min_services.min(axis=1)\n",
    "desc_services['id_min']=min_services.idxmin(axis=1)\n",
    "max_services=calc_df_fixed.groupby('df_name').min()\n",
    "max_services=max_services.drop(['long', 'lat', 'cat1_name', 'cat2_name'], axis=1)\n",
    "desc_services['max']=max_services.max(axis=1)\n",
    "desc_services['id_max']=max_services.idxmax(axis=1)\n",
    "avg_services=calc_df_fixed.groupby('df_name').mean()\n",
    "desc_services['avg']=avg_services.mean(axis=1)\n",
    "sd_services=calc_df_fixed.groupby('df_name').std()\n",
    "desc_services['sd']=avg_services.std(axis=1)\n",
    "desc_services"
   ],
   "metadata": {
    "collapsed": false,
    "ExecuteTime": {
     "end_time": "2023-08-16T10:11:47.296064400Z",
     "start_time": "2023-08-16T10:11:46.293768Z"
    }
   }
  },
  {
   "cell_type": "code",
   "execution_count": 15,
   "outputs": [
    {
     "name": "stderr",
     "output_type": "stream",
     "text": [
      "C:\\Users\\iodio\\AppData\\Local\\Temp\\ipykernel_13248\\4154215261.py:1: FutureWarning: Dropping invalid columns in DataFrameGroupBy.min is deprecated. In a future version, a TypeError will be raised. Before calling .min, select only columns which should be valid for the function.\n",
      "  max_20=calc_df_fixed.groupby('df_name').min()\n"
     ]
    },
    {
     "data": {
      "text/plain": "df_name   acqua  biblio  ciclabili   consu    cult  distr  edicole  farmacie  \\\n10001708  300.0   732.4      167.7  1149.1  1743.9  578.9    342.8     233.0   \n10001709  300.0   732.4      167.7  1149.1  1743.9  578.9    342.8     233.0   \n10001710  300.0   732.4      167.7  1149.1  1743.9  578.9    342.8     233.0   \n10001711  300.0   732.4      167.7  1149.1  1743.9  578.9    342.8     233.0   \n10001712  300.0   732.4      167.7  1149.1  1743.9  578.9    342.8     233.0   \n...         ...     ...        ...     ...     ...    ...      ...       ...   \n51039405  832.8   952.8      372.5   644.2  4377.2  837.7    514.8     756.2   \n51039406  832.8   952.8      372.5   644.2  4377.2  837.7    514.8     756.2   \n51039407  832.8   952.8      372.5   644.2  4377.2  837.7    514.8     756.2   \n51039408  832.8   952.8      372.5   644.2  4377.2  837.7    514.8     756.2   \n51039410  832.8   952.8      372.5   644.2  4377.2  837.7    514.8     756.2   \n\ndf_name    metro  parchi  ...    serd   sinf   sita  sport  sprim     ss2  \\\n10001708  1174.4   172.6  ...  2578.4  201.8  455.3  168.2  302.4   819.0   \n10001709  1174.4   172.6  ...  2578.4  201.8  455.3  168.2  302.4   819.0   \n10001710  1174.4   172.6  ...  2578.4  201.8  455.3  168.2  302.4   819.0   \n10001711  1174.4   172.6  ...  2578.4  201.8  455.3  168.2  302.4   819.0   \n10001712  1174.4   172.6  ...  2578.4  201.8  455.3  168.2  302.4   819.0   \n...          ...     ...  ...     ...    ...    ...    ...    ...     ...   \n51039405   532.6  1489.9  ...  2969.7  350.9  564.3  745.3  425.6  1077.7   \n51039406   532.6  1489.9  ...  2969.7  350.9  564.3  745.3  425.6  1077.7   \n51039407   532.6  1489.9  ...  2969.7  350.9  564.3  745.3  425.6  1077.7   \n51039408   532.6  1489.9  ...  2969.7  350.9  564.3  745.3  425.6  1077.7   \n51039410   532.6  1489.9  ...  2969.7  350.9  564.3  745.3  425.6  1077.7   \n\ndf_name    ssec  treni     uni   wifi  \n10001708  302.4  879.5   906.8  204.5  \n10001709  302.4  879.5   906.8  204.5  \n10001710  302.4  879.5   906.8  204.5  \n10001711  302.4  879.5   906.8  204.5  \n10001712  302.4  879.5   906.8  204.5  \n...         ...    ...     ...    ...  \n51039405  717.5  557.6  2607.6  573.5  \n51039406  717.5  557.6  2607.6  573.5  \n51039407  717.5  557.6  2607.6  573.5  \n51039408  717.5  557.6  2607.6  573.5  \n51039410  717.5  557.6  2607.6  573.5  \n\n[980 rows x 21 columns]",
      "text/html": "<div>\n<style scoped>\n    .dataframe tbody tr th:only-of-type {\n        vertical-align: middle;\n    }\n\n    .dataframe tbody tr th {\n        vertical-align: top;\n    }\n\n    .dataframe thead th {\n        text-align: right;\n    }\n</style>\n<table border=\"1\" class=\"dataframe\">\n  <thead>\n    <tr style=\"text-align: right;\">\n      <th>df_name</th>\n      <th>acqua</th>\n      <th>biblio</th>\n      <th>ciclabili</th>\n      <th>consu</th>\n      <th>cult</th>\n      <th>distr</th>\n      <th>edicole</th>\n      <th>farmacie</th>\n      <th>metro</th>\n      <th>parchi</th>\n      <th>...</th>\n      <th>serd</th>\n      <th>sinf</th>\n      <th>sita</th>\n      <th>sport</th>\n      <th>sprim</th>\n      <th>ss2</th>\n      <th>ssec</th>\n      <th>treni</th>\n      <th>uni</th>\n      <th>wifi</th>\n    </tr>\n  </thead>\n  <tbody>\n    <tr>\n      <th>10001708</th>\n      <td>300.0</td>\n      <td>732.4</td>\n      <td>167.7</td>\n      <td>1149.1</td>\n      <td>1743.9</td>\n      <td>578.9</td>\n      <td>342.8</td>\n      <td>233.0</td>\n      <td>1174.4</td>\n      <td>172.6</td>\n      <td>...</td>\n      <td>2578.4</td>\n      <td>201.8</td>\n      <td>455.3</td>\n      <td>168.2</td>\n      <td>302.4</td>\n      <td>819.0</td>\n      <td>302.4</td>\n      <td>879.5</td>\n      <td>906.8</td>\n      <td>204.5</td>\n    </tr>\n    <tr>\n      <th>10001709</th>\n      <td>300.0</td>\n      <td>732.4</td>\n      <td>167.7</td>\n      <td>1149.1</td>\n      <td>1743.9</td>\n      <td>578.9</td>\n      <td>342.8</td>\n      <td>233.0</td>\n      <td>1174.4</td>\n      <td>172.6</td>\n      <td>...</td>\n      <td>2578.4</td>\n      <td>201.8</td>\n      <td>455.3</td>\n      <td>168.2</td>\n      <td>302.4</td>\n      <td>819.0</td>\n      <td>302.4</td>\n      <td>879.5</td>\n      <td>906.8</td>\n      <td>204.5</td>\n    </tr>\n    <tr>\n      <th>10001710</th>\n      <td>300.0</td>\n      <td>732.4</td>\n      <td>167.7</td>\n      <td>1149.1</td>\n      <td>1743.9</td>\n      <td>578.9</td>\n      <td>342.8</td>\n      <td>233.0</td>\n      <td>1174.4</td>\n      <td>172.6</td>\n      <td>...</td>\n      <td>2578.4</td>\n      <td>201.8</td>\n      <td>455.3</td>\n      <td>168.2</td>\n      <td>302.4</td>\n      <td>819.0</td>\n      <td>302.4</td>\n      <td>879.5</td>\n      <td>906.8</td>\n      <td>204.5</td>\n    </tr>\n    <tr>\n      <th>10001711</th>\n      <td>300.0</td>\n      <td>732.4</td>\n      <td>167.7</td>\n      <td>1149.1</td>\n      <td>1743.9</td>\n      <td>578.9</td>\n      <td>342.8</td>\n      <td>233.0</td>\n      <td>1174.4</td>\n      <td>172.6</td>\n      <td>...</td>\n      <td>2578.4</td>\n      <td>201.8</td>\n      <td>455.3</td>\n      <td>168.2</td>\n      <td>302.4</td>\n      <td>819.0</td>\n      <td>302.4</td>\n      <td>879.5</td>\n      <td>906.8</td>\n      <td>204.5</td>\n    </tr>\n    <tr>\n      <th>10001712</th>\n      <td>300.0</td>\n      <td>732.4</td>\n      <td>167.7</td>\n      <td>1149.1</td>\n      <td>1743.9</td>\n      <td>578.9</td>\n      <td>342.8</td>\n      <td>233.0</td>\n      <td>1174.4</td>\n      <td>172.6</td>\n      <td>...</td>\n      <td>2578.4</td>\n      <td>201.8</td>\n      <td>455.3</td>\n      <td>168.2</td>\n      <td>302.4</td>\n      <td>819.0</td>\n      <td>302.4</td>\n      <td>879.5</td>\n      <td>906.8</td>\n      <td>204.5</td>\n    </tr>\n    <tr>\n      <th>...</th>\n      <td>...</td>\n      <td>...</td>\n      <td>...</td>\n      <td>...</td>\n      <td>...</td>\n      <td>...</td>\n      <td>...</td>\n      <td>...</td>\n      <td>...</td>\n      <td>...</td>\n      <td>...</td>\n      <td>...</td>\n      <td>...</td>\n      <td>...</td>\n      <td>...</td>\n      <td>...</td>\n      <td>...</td>\n      <td>...</td>\n      <td>...</td>\n      <td>...</td>\n      <td>...</td>\n    </tr>\n    <tr>\n      <th>51039405</th>\n      <td>832.8</td>\n      <td>952.8</td>\n      <td>372.5</td>\n      <td>644.2</td>\n      <td>4377.2</td>\n      <td>837.7</td>\n      <td>514.8</td>\n      <td>756.2</td>\n      <td>532.6</td>\n      <td>1489.9</td>\n      <td>...</td>\n      <td>2969.7</td>\n      <td>350.9</td>\n      <td>564.3</td>\n      <td>745.3</td>\n      <td>425.6</td>\n      <td>1077.7</td>\n      <td>717.5</td>\n      <td>557.6</td>\n      <td>2607.6</td>\n      <td>573.5</td>\n    </tr>\n    <tr>\n      <th>51039406</th>\n      <td>832.8</td>\n      <td>952.8</td>\n      <td>372.5</td>\n      <td>644.2</td>\n      <td>4377.2</td>\n      <td>837.7</td>\n      <td>514.8</td>\n      <td>756.2</td>\n      <td>532.6</td>\n      <td>1489.9</td>\n      <td>...</td>\n      <td>2969.7</td>\n      <td>350.9</td>\n      <td>564.3</td>\n      <td>745.3</td>\n      <td>425.6</td>\n      <td>1077.7</td>\n      <td>717.5</td>\n      <td>557.6</td>\n      <td>2607.6</td>\n      <td>573.5</td>\n    </tr>\n    <tr>\n      <th>51039407</th>\n      <td>832.8</td>\n      <td>952.8</td>\n      <td>372.5</td>\n      <td>644.2</td>\n      <td>4377.2</td>\n      <td>837.7</td>\n      <td>514.8</td>\n      <td>756.2</td>\n      <td>532.6</td>\n      <td>1489.9</td>\n      <td>...</td>\n      <td>2969.7</td>\n      <td>350.9</td>\n      <td>564.3</td>\n      <td>745.3</td>\n      <td>425.6</td>\n      <td>1077.7</td>\n      <td>717.5</td>\n      <td>557.6</td>\n      <td>2607.6</td>\n      <td>573.5</td>\n    </tr>\n    <tr>\n      <th>51039408</th>\n      <td>832.8</td>\n      <td>952.8</td>\n      <td>372.5</td>\n      <td>644.2</td>\n      <td>4377.2</td>\n      <td>837.7</td>\n      <td>514.8</td>\n      <td>756.2</td>\n      <td>532.6</td>\n      <td>1489.9</td>\n      <td>...</td>\n      <td>2969.7</td>\n      <td>350.9</td>\n      <td>564.3</td>\n      <td>745.3</td>\n      <td>425.6</td>\n      <td>1077.7</td>\n      <td>717.5</td>\n      <td>557.6</td>\n      <td>2607.6</td>\n      <td>573.5</td>\n    </tr>\n    <tr>\n      <th>51039410</th>\n      <td>832.8</td>\n      <td>952.8</td>\n      <td>372.5</td>\n      <td>644.2</td>\n      <td>4377.2</td>\n      <td>837.7</td>\n      <td>514.8</td>\n      <td>756.2</td>\n      <td>532.6</td>\n      <td>1489.9</td>\n      <td>...</td>\n      <td>2969.7</td>\n      <td>350.9</td>\n      <td>564.3</td>\n      <td>745.3</td>\n      <td>425.6</td>\n      <td>1077.7</td>\n      <td>717.5</td>\n      <td>557.6</td>\n      <td>2607.6</td>\n      <td>573.5</td>\n    </tr>\n  </tbody>\n</table>\n<p>980 rows × 21 columns</p>\n</div>"
     },
     "execution_count": 15,
     "metadata": {},
     "output_type": "execute_result"
    }
   ],
   "source": [
    "max_20=calc_df_fixed.groupby('df_name').min()\n",
    "max_20=max_20.drop(['long', 'lat', 'cat1_name', 'cat2_name'], axis=1)\n",
    "max_20=max_20.T\n",
    "max_20"
   ],
   "metadata": {
    "collapsed": false,
    "ExecuteTime": {
     "end_time": "2023-08-16T10:11:48.047651600Z",
     "start_time": "2023-08-16T10:11:47.260726600Z"
    }
   }
  },
  {
   "cell_type": "code",
   "execution_count": 16,
   "outputs": [
    {
     "data": {
      "text/plain": "(array([724., 125.,  20.,  15.,   1.,   4.,   3.,  26.,  11.,   1.]),\n array([   17.5 ,  1305.05,  2592.6 ,  3880.15,  5167.7 ,  6455.25,\n         7742.8 ,  9030.35, 10317.9 , 11605.45, 12893.  ]),\n <BarContainer object of 10 artists>)"
     },
     "execution_count": 16,
     "metadata": {},
     "output_type": "execute_result"
    },
    {
     "data": {
      "text/plain": "<Figure size 640x480 with 1 Axes>",
      "image/png": "[encoded data removed]"
     },
     "metadata": {},
     "output_type": "display_data"
    }
   ],
   "source": [
    "plt.hist(max_20['ss2'])"
   ],
   "metadata": {
    "collapsed": false,
    "ExecuteTime": {
     "end_time": "2023-08-16T10:11:48.428024200Z",
     "start_time": "2023-08-16T10:11:47.598549400Z"
    }
   }
  },
  {
   "cell_type": "markdown",
   "source": [
    "# Index calculator\n",
    "\n",
    "We construct the index as illustrated in the paper, note that in this notebook we just prove the concept, the full calculation takes place in another file (index.py)"
   ],
   "metadata": {
    "collapsed": false
   }
  },
  {
   "cell_type": "code",
   "execution_count": 17,
   "outputs": [
    {
     "data": {
      "text/plain": "0.25"
     },
     "execution_count": 17,
     "metadata": {},
     "output_type": "execute_result"
    }
   ],
   "source": [
    "def penality_function(x, dhat):\n",
    "    if x <= dhat:\n",
    "        return 1\n",
    "    if x > dhat:\n",
    "        return 1/(x-dhat+1)\n",
    "\n",
    "def con_index(dist_list, dhat, n_max, alpha, beta):\n",
    "    if  alpha + beta != 1:\n",
    "        raise Exception(\"Alpha and Beta should sum to one\")\n",
    "    d_min = min(dist_list)\n",
    "    close_list=[d for d in dist_list if d <=dhat]\n",
    "    n = len(close_list)\n",
    "    CI = alpha*penality_function(d_min, dhat)+beta*(n/n_max)\n",
    "    return CI\n",
    "\n",
    "con_index([9,6,6,6,6], 5, 3, 0.5, 0.5)"
   ],
   "metadata": {
    "collapsed": false,
    "ExecuteTime": {
     "end_time": "2023-08-16T10:11:48.543261100Z",
     "start_time": "2023-08-16T10:11:48.250495700Z"
    }
   }
  },
  {
   "cell_type": "code",
   "execution_count": 18,
   "outputs": [
    {
     "data": {
      "text/plain": "3"
     },
     "execution_count": 18,
     "metadata": {},
     "output_type": "execute_result"
    }
   ],
   "source": [
    "def best_in_class(df_name, dhat, df=calc_df_fixed):\n",
    "    e_list=list(df.columns)\n",
    "    e_list=[item for item in e_list if item not in ['name', 'long', 'lat','df_name', 'cat1', 'cat2', 'cat1_name', 'cat2_name']]\n",
    "    nmax_dict=dict.fromkeys(e_list)\n",
    "    if df_name=='all':\n",
    "        pass\n",
    "    else:\n",
    "        df=df[df.df_name==df_name]\n",
    "    for elem in e_list:\n",
    "        dist_list=list(df[str(elem)])\n",
    "        close_list=[d for d in dist_list if d <=dhat]\n",
    "        nmax_dict[elem]=len(close_list)\n",
    "    return max(nmax_dict.values())\n",
    "\n",
    "best_in_class('biblio', 60*15)"
   ],
   "metadata": {
    "collapsed": false,
    "ExecuteTime": {
     "end_time": "2023-08-16T10:11:48.601411900Z",
     "start_time": "2023-08-16T10:11:48.300255100Z"
    }
   }
  },
  {
   "cell_type": "code",
   "execution_count": 19,
   "outputs": [
    {
     "data": {
      "text/plain": "30.2"
     },
     "execution_count": 19,
     "metadata": {},
     "output_type": "execute_result"
    }
   ],
   "source": [
    "min(calc_df_fixed['10002602'].to_list())"
   ],
   "metadata": {
    "collapsed": false,
    "ExecuteTime": {
     "end_time": "2023-08-16T10:11:48.970444700Z",
     "start_time": "2023-08-16T10:11:48.464305400Z"
    }
   }
  },
  {
   "cell_type": "code",
   "execution_count": 20,
   "outputs": [
    {
     "data": {
      "text/plain": "     CODICE EDIFICIO                full_address        lat       lon\n0           10001708  VIA DEL TURCHINO 20 MILANO  45.451893  9.228053\n1           10001709  VIA DEL TURCHINO 20 MILANO  45.451893  9.228053\n2           10001710  VIA DEL TURCHINO 20 MILANO  45.451893  9.228053\n3           10001711  VIA DEL TURCHINO 20 MILANO  45.451893  9.228053\n4           10001712  VIA DEL TURCHINO 22 MILANO  45.451893  9.228053\n..               ...                         ...        ...       ...\n975         51039405  VIA SENIGALLIA 60/G MILANO  45.532143  9.168970\n976         51039406    VIA SENIGALLIA 60 MILANO  45.532143  9.168970\n977         51039407    VIA SENIGALLIA 60 MILANO  45.532143  9.168970\n978         51039408    VIA SENIGALLIA 60 MILANO  45.532143  9.168970\n979         51039410    VIA SENIGALLIA 60 MILANO  45.532143  9.168970\n\n[980 rows x 4 columns]",
      "text/html": "<div>\n<style scoped>\n    .dataframe tbody tr th:only-of-type {\n        vertical-align: middle;\n    }\n\n    .dataframe tbody tr th {\n        vertical-align: top;\n    }\n\n    .dataframe thead th {\n        text-align: right;\n    }\n</style>\n<table border=\"1\" class=\"dataframe\">\n  <thead>\n    <tr style=\"text-align: right;\">\n      <th></th>\n      <th>CODICE EDIFICIO</th>\n      <th>full_address</th>\n      <th>lat</th>\n      <th>lon</th>\n    </tr>\n  </thead>\n  <tbody>\n    <tr>\n      <th>0</th>\n      <td>10001708</td>\n      <td>VIA DEL TURCHINO 20 MILANO</td>\n      <td>45.451893</td>\n      <td>9.228053</td>\n    </tr>\n    <tr>\n      <th>1</th>\n      <td>10001709</td>\n      <td>VIA DEL TURCHINO 20 MILANO</td>\n      <td>45.451893</td>\n      <td>9.228053</td>\n    </tr>\n    <tr>\n      <th>2</th>\n      <td>10001710</td>\n      <td>VIA DEL TURCHINO 20 MILANO</td>\n      <td>45.451893</td>\n      <td>9.228053</td>\n    </tr>\n    <tr>\n      <th>3</th>\n      <td>10001711</td>\n      <td>VIA DEL TURCHINO 20 MILANO</td>\n      <td>45.451893</td>\n      <td>9.228053</td>\n    </tr>\n    <tr>\n      <th>4</th>\n      <td>10001712</td>\n      <td>VIA DEL TURCHINO 22 MILANO</td>\n      <td>45.451893</td>\n      <td>9.228053</td>\n    </tr>\n    <tr>\n      <th>...</th>\n      <td>...</td>\n      <td>...</td>\n      <td>...</td>\n      <td>...</td>\n    </tr>\n    <tr>\n      <th>975</th>\n      <td>51039405</td>\n      <td>VIA SENIGALLIA 60/G MILANO</td>\n      <td>45.532143</td>\n      <td>9.168970</td>\n    </tr>\n    <tr>\n      <th>976</th>\n      <td>51039406</td>\n      <td>VIA SENIGALLIA 60 MILANO</td>\n      <td>45.532143</td>\n      <td>9.168970</td>\n    </tr>\n    <tr>\n      <th>977</th>\n      <td>51039407</td>\n      <td>VIA SENIGALLIA 60 MILANO</td>\n      <td>45.532143</td>\n      <td>9.168970</td>\n    </tr>\n    <tr>\n      <th>978</th>\n      <td>51039408</td>\n      <td>VIA SENIGALLIA 60 MILANO</td>\n      <td>45.532143</td>\n      <td>9.168970</td>\n    </tr>\n    <tr>\n      <th>979</th>\n      <td>51039410</td>\n      <td>VIA SENIGALLIA 60 MILANO</td>\n      <td>45.532143</td>\n      <td>9.168970</td>\n    </tr>\n  </tbody>\n</table>\n<p>980 rows × 4 columns</p>\n</div>"
     },
     "execution_count": 20,
     "metadata": {},
     "output_type": "execute_result"
    }
   ],
   "source": [
    "mm_columns_list=['CODICE EDIFICIO', 'full_address', 'lat', 'lon']\n",
    "index_df=mm_df[mm_columns_list]\n",
    "index_df"
   ],
   "metadata": {
    "collapsed": false,
    "ExecuteTime": {
     "end_time": "2023-08-16T10:11:48.971844400Z",
     "start_time": "2023-08-16T10:11:48.482303Z"
    }
   }
  },
  {
   "cell_type": "code",
   "execution_count": 21,
   "outputs": [
    {
     "data": {
      "text/plain": "[3,\n 3,\n 342,\n 5,\n 47,\n 58,\n 31,\n 10,\n 173,\n 8,\n 5,\n 14,\n 14,\n 58,\n 80,\n 24,\n 86,\n 4,\n 190,\n 53,\n 223,\n 896]"
     },
     "execution_count": 21,
     "metadata": {},
     "output_type": "execute_result"
    }
   ],
   "source": [
    "columns_list=list(calc_df_fixed.df_name.unique())+['all']\n",
    "[best_in_class(name, 60*15)  for name in columns_list] #checking if function works for all dataframes"
   ],
   "metadata": {
    "collapsed": false,
    "ExecuteTime": {
     "end_time": "2023-08-16T10:12:02.088882800Z",
     "start_time": "2023-08-16T10:11:48.537265200Z"
    }
   }
  },
  {
   "cell_type": "code",
   "execution_count": 22,
   "outputs": [
    {
     "data": {
      "text/plain": "[1.0,\n 0.8333333333333333,\n 0.5570175438596491,\n 0.8,\n 0.5106382978723404,\n 0.6120689655172413,\n 0.7580645161290323,\n 0.6,\n 0.5982658959537572,\n 0.6875,\n 0.6,\n 0.8928571428571428,\n 0.5357142857142857,\n 0.7586206896551724,\n 0.85625,\n 0.5833333333333334,\n 0.686046511627907,\n 0.0027716186252771603,\n 0.5263157894736842,\n 0.5943396226415094,\n 0.547085201793722,\n 0.6635044642857143]"
     },
     "execution_count": 22,
     "metadata": {},
     "output_type": "execute_result"
    }
   ],
   "source": [
    "def fun_run(codice_edificio, dhat, alpha, beta, out_df, df=calc_df_fixed):\n",
    "    columns_list=list(df.df_name.unique())+['all']\n",
    "    #out_dict\n",
    "    out_list=[]\n",
    "    col_out_list=[]\n",
    "    for column in columns_list:\n",
    "        if column=='all':\n",
    "            df_subset=df\n",
    "\n",
    "        else:\n",
    "            df_subset=df[df.df_name==column]\n",
    "        dist_list=df_subset[str(codice_edificio)].to_list()\n",
    "        if dist_list==[]:\n",
    "            out=np.nan\n",
    "            warnings.warn(\"Empty list\")\n",
    "        else:\n",
    "            n_max=best_in_class(column, dhat)\n",
    "            try:\n",
    "                out=con_index(dist_list=dist_list, dhat=dhat, n_max=n_max, alpha=alpha, beta=beta)\n",
    "            except:\n",
    "                out=np.nan\n",
    "                warnings.warn(\"Index not calculated because of some issue\")\n",
    "        col_out_list.append(column)\n",
    "        out_list.append(out)\n",
    "    if col_out_list == ['acqua', 'biblio', 'ciclabili','consu','cult', 'edicole', 'farmacie', 'metro', 'parchi', 'posta', 'serd', 'sinf', 'sita', 'sport', 'sprim', 'ss2', 'ssec', 'treni', 'uni', 'wifi', 'distr','all']:\n",
    "        return out_list\n",
    "    else:\n",
    "        raise Exception(\"Not all columns are outputs of fun run\")\n",
    "\n",
    "\n",
    "fun_run(10003003, dhat=60*15, alpha=0.5, beta=0.5, out_df=index_df)"
   ],
   "metadata": {
    "collapsed": false,
    "ExecuteTime": {
     "end_time": "2023-08-16T10:12:13.475795700Z",
     "start_time": "2023-08-16T10:12:02.112910500Z"
    }
   }
  },
  {
   "cell_type": "markdown",
   "source": [
    "## Index Analysis\n",
    "\n",
    "We now perform the analysis of the index created"
   ],
   "metadata": {
    "collapsed": false
   }
  },
  {
   "cell_type": "code",
   "execution_count": 23,
   "outputs": [
    {
     "name": "stdout",
     "output_type": "stream",
     "text": [
      "Buildings that were not geocoded 49\n"
     ]
    },
    {
     "name": "stderr",
     "output_type": "stream",
     "text": [
      "C:\\Users\\iodio\\AppData\\Local\\Temp\\ipykernel_13248\\2635143699.py:5: InvalidColumnName: \n",
      "Not all pandas column names were valid Stata variable names.\n",
      "The following replacements have been made:\n",
      "\n",
      "    CODICE EDIFICIO   ->   CODICE_EDIFICIO\n",
      "\n",
      "If this is not what you expect, please make sure you have Stata-compliant\n",
      "column names in your DataFrame (strings only, max 32 characters, only\n",
      "alphanumerics and underscores, no Stata reserved words)\n",
      "\n",
      "  index_df.loc[:, index_df.columns != 'list'].to_stata('../stata/index_df.dta') #exporting to dta file\n"
     ]
    },
    {
     "data": {
      "text/plain": "     CODICE EDIFICIO                full_address        lat       lon  \\\n0           10001708  VIA DEL TURCHINO 20 MILANO  45.451893  9.228053   \n1           10001709  VIA DEL TURCHINO 20 MILANO  45.451893  9.228053   \n2           10001710  VIA DEL TURCHINO 20 MILANO  45.451893  9.228053   \n3           10001711  VIA DEL TURCHINO 20 MILANO  45.451893  9.228053   \n4           10001712  VIA DEL TURCHINO 22 MILANO  45.451893  9.228053   \n..               ...                         ...        ...       ...   \n975         51039405  VIA SENIGALLIA 60/G MILANO  45.532143  9.168970   \n976         51039406    VIA SENIGALLIA 60 MILANO  45.532143  9.168970   \n977         51039407    VIA SENIGALLIA 60 MILANO  45.532143  9.168970   \n978         51039408    VIA SENIGALLIA 60 MILANO  45.532143  9.168970   \n979         51039410    VIA SENIGALLIA 60 MILANO  45.532143  9.168970   \n\n                                                  list     acqua    biblio  \\\n0    [0.6666666666666666, 0.6666666666666666, 0.627...  0.666667  0.666667   \n1    [0.6666666666666666, 0.6666666666666666, 0.627...  0.666667  0.666667   \n2    [0.6666666666666666, 0.6666666666666666, 0.627...  0.666667  0.666667   \n3    [0.6666666666666666, 0.6666666666666666, 0.627...  0.666667  0.666667   \n4    [0.6666666666666666, 0.6666666666666666, 0.627...  0.666667  0.666667   \n..                                                 ...       ...       ...   \n975  [0.6666666666666666, 0.009293680297397777, 0.5...  0.666667  0.009294   \n976  [0.6666666666666666, 0.009293680297397777, 0.5...  0.666667  0.009294   \n977  [0.6666666666666666, 0.009293680297397777, 0.5...  0.666667  0.009294   \n978  [0.6666666666666666, 0.009293680297397777, 0.5...  0.666667  0.009294   \n979  [0.6666666666666666, 0.009293680297397777, 0.5...  0.666667  0.009294   \n\n     ciclabili     consu      cult  ...      sita     sport    sprim  \\\n0     0.627193  0.001999  0.000592  ...  0.571429  0.594828  0.63125   \n1     0.627193  0.001999  0.000592  ...  0.571429  0.594828  0.63125   \n2     0.627193  0.001999  0.000592  ...  0.571429  0.594828  0.63125   \n3     0.627193  0.001999  0.000592  ...  0.571429  0.594828  0.63125   \n4     0.627193  0.001999  0.000592  ...  0.571429  0.594828  0.63125   \n..         ...       ...       ...  ...       ...       ...      ...   \n975   0.527778  0.600000  0.000144  ...  0.571429  0.594828  0.70000   \n976   0.527778  0.600000  0.000144  ...  0.571429  0.594828  0.70000   \n977   0.527778  0.600000  0.000144  ...  0.571429  0.594828  0.70000   \n978   0.527778  0.600000  0.000144  ...  0.571429  0.594828  0.70000   \n979   0.527778  0.600000  0.000144  ...  0.571429  0.594828  0.70000   \n\n          ss2      ssec  treni       uni      wifi     distr       all  \n0    0.541667  0.593023  0.625  0.064103  0.566038  0.515695  0.614397  \n1    0.541667  0.593023  0.625  0.064103  0.566038  0.515695  0.614397  \n2    0.541667  0.593023  0.625  0.064103  0.566038  0.515695  0.614397  \n3    0.541667  0.593023  0.625  0.064103  0.566038  0.515695  0.614397  \n4    0.541667  0.593023  0.625  0.064103  0.566038  0.515695  0.614397  \n..        ...       ...    ...       ...       ...       ...       ...  \n975  0.002798  0.639535  0.625  0.000293  0.528302  0.502242  0.561384  \n976  0.002798  0.639535  0.625  0.000293  0.528302  0.502242  0.561384  \n977  0.002798  0.639535  0.625  0.000293  0.528302  0.502242  0.561384  \n978  0.002798  0.639535  0.625  0.000293  0.528302  0.502242  0.561384  \n979  0.002798  0.639535  0.625  0.000293  0.528302  0.502242  0.561384  \n\n[848 rows x 27 columns]",
      "text/html": "<div>\n<style scoped>\n    .dataframe tbody tr th:only-of-type {\n        vertical-align: middle;\n    }\n\n    .dataframe tbody tr th {\n        vertical-align: top;\n    }\n\n    .dataframe thead th {\n        text-align: right;\n    }\n</style>\n<table border=\"1\" class=\"dataframe\">\n  <thead>\n    <tr style=\"text-align: right;\">\n      <th></th>\n      <th>CODICE EDIFICIO</th>\n      <th>full_address</th>\n      <th>lat</th>\n      <th>lon</th>\n      <th>list</th>\n      <th>acqua</th>\n      <th>biblio</th>\n      <th>ciclabili</th>\n      <th>consu</th>\n      <th>cult</th>\n      <th>...</th>\n      <th>sita</th>\n      <th>sport</th>\n      <th>sprim</th>\n      <th>ss2</th>\n      <th>ssec</th>\n      <th>treni</th>\n      <th>uni</th>\n      <th>wifi</th>\n      <th>distr</th>\n      <th>all</th>\n    </tr>\n  </thead>\n  <tbody>\n    <tr>\n      <th>0</th>\n      <td>10001708</td>\n      <td>VIA DEL TURCHINO 20 MILANO</td>\n      <td>45.451893</td>\n      <td>9.228053</td>\n      <td>[0.6666666666666666, 0.6666666666666666, 0.627...</td>\n      <td>0.666667</td>\n      <td>0.666667</td>\n      <td>0.627193</td>\n      <td>0.001999</td>\n      <td>0.000592</td>\n      <td>...</td>\n      <td>0.571429</td>\n      <td>0.594828</td>\n      <td>0.63125</td>\n      <td>0.541667</td>\n      <td>0.593023</td>\n      <td>0.625</td>\n      <td>0.064103</td>\n      <td>0.566038</td>\n      <td>0.515695</td>\n      <td>0.614397</td>\n    </tr>\n    <tr>\n      <th>1</th>\n      <td>10001709</td>\n      <td>VIA DEL TURCHINO 20 MILANO</td>\n      <td>45.451893</td>\n      <td>9.228053</td>\n      <td>[0.6666666666666666, 0.6666666666666666, 0.627...</td>\n      <td>0.666667</td>\n      <td>0.666667</td>\n      <td>0.627193</td>\n      <td>0.001999</td>\n      <td>0.000592</td>\n      <td>...</td>\n      <td>0.571429</td>\n      <td>0.594828</td>\n      <td>0.63125</td>\n      <td>0.541667</td>\n      <td>0.593023</td>\n      <td>0.625</td>\n      <td>0.064103</td>\n      <td>0.566038</td>\n      <td>0.515695</td>\n      <td>0.614397</td>\n    </tr>\n    <tr>\n      <th>2</th>\n      <td>10001710</td>\n      <td>VIA DEL TURCHINO 20 MILANO</td>\n      <td>45.451893</td>\n      <td>9.228053</td>\n      <td>[0.6666666666666666, 0.6666666666666666, 0.627...</td>\n      <td>0.666667</td>\n      <td>0.666667</td>\n      <td>0.627193</td>\n      <td>0.001999</td>\n      <td>0.000592</td>\n      <td>...</td>\n      <td>0.571429</td>\n      <td>0.594828</td>\n      <td>0.63125</td>\n      <td>0.541667</td>\n      <td>0.593023</td>\n      <td>0.625</td>\n      <td>0.064103</td>\n      <td>0.566038</td>\n      <td>0.515695</td>\n      <td>0.614397</td>\n    </tr>\n    <tr>\n      <th>3</th>\n      <td>10001711</td>\n      <td>VIA DEL TURCHINO 20 MILANO</td>\n      <td>45.451893</td>\n      <td>9.228053</td>\n      <td>[0.6666666666666666, 0.6666666666666666, 0.627...</td>\n      <td>0.666667</td>\n      <td>0.666667</td>\n      <td>0.627193</td>\n      <td>0.001999</td>\n      <td>0.000592</td>\n      <td>...</td>\n      <td>0.571429</td>\n      <td>0.594828</td>\n      <td>0.63125</td>\n      <td>0.541667</td>\n      <td>0.593023</td>\n      <td>0.625</td>\n      <td>0.064103</td>\n      <td>0.566038</td>\n      <td>0.515695</td>\n      <td>0.614397</td>\n    </tr>\n    <tr>\n      <th>4</th>\n      <td>10001712</td>\n      <td>VIA DEL TURCHINO 22 MILANO</td>\n      <td>45.451893</td>\n      <td>9.228053</td>\n      <td>[0.6666666666666666, 0.6666666666666666, 0.627...</td>\n      <td>0.666667</td>\n      <td>0.666667</td>\n      <td>0.627193</td>\n      <td>0.001999</td>\n      <td>0.000592</td>\n      <td>...</td>\n      <td>0.571429</td>\n      <td>0.594828</td>\n      <td>0.63125</td>\n      <td>0.541667</td>\n      <td>0.593023</td>\n      <td>0.625</td>\n      <td>0.064103</td>\n      <td>0.566038</td>\n      <td>0.515695</td>\n      <td>0.614397</td>\n    </tr>\n    <tr>\n      <th>...</th>\n      <td>...</td>\n      <td>...</td>\n      <td>...</td>\n      <td>...</td>\n      <td>...</td>\n      <td>...</td>\n      <td>...</td>\n      <td>...</td>\n      <td>...</td>\n      <td>...</td>\n      <td>...</td>\n      <td>...</td>\n      <td>...</td>\n      <td>...</td>\n      <td>...</td>\n      <td>...</td>\n      <td>...</td>\n      <td>...</td>\n      <td>...</td>\n      <td>...</td>\n      <td>...</td>\n    </tr>\n    <tr>\n      <th>975</th>\n      <td>51039405</td>\n      <td>VIA SENIGALLIA 60/G MILANO</td>\n      <td>45.532143</td>\n      <td>9.168970</td>\n      <td>[0.6666666666666666, 0.009293680297397777, 0.5...</td>\n      <td>0.666667</td>\n      <td>0.009294</td>\n      <td>0.527778</td>\n      <td>0.600000</td>\n      <td>0.000144</td>\n      <td>...</td>\n      <td>0.571429</td>\n      <td>0.594828</td>\n      <td>0.70000</td>\n      <td>0.002798</td>\n      <td>0.639535</td>\n      <td>0.625</td>\n      <td>0.000293</td>\n      <td>0.528302</td>\n      <td>0.502242</td>\n      <td>0.561384</td>\n    </tr>\n    <tr>\n      <th>976</th>\n      <td>51039406</td>\n      <td>VIA SENIGALLIA 60 MILANO</td>\n      <td>45.532143</td>\n      <td>9.168970</td>\n      <td>[0.6666666666666666, 0.009293680297397777, 0.5...</td>\n      <td>0.666667</td>\n      <td>0.009294</td>\n      <td>0.527778</td>\n      <td>0.600000</td>\n      <td>0.000144</td>\n      <td>...</td>\n      <td>0.571429</td>\n      <td>0.594828</td>\n      <td>0.70000</td>\n      <td>0.002798</td>\n      <td>0.639535</td>\n      <td>0.625</td>\n      <td>0.000293</td>\n      <td>0.528302</td>\n      <td>0.502242</td>\n      <td>0.561384</td>\n    </tr>\n    <tr>\n      <th>977</th>\n      <td>51039407</td>\n      <td>VIA SENIGALLIA 60 MILANO</td>\n      <td>45.532143</td>\n      <td>9.168970</td>\n      <td>[0.6666666666666666, 0.009293680297397777, 0.5...</td>\n      <td>0.666667</td>\n      <td>0.009294</td>\n      <td>0.527778</td>\n      <td>0.600000</td>\n      <td>0.000144</td>\n      <td>...</td>\n      <td>0.571429</td>\n      <td>0.594828</td>\n      <td>0.70000</td>\n      <td>0.002798</td>\n      <td>0.639535</td>\n      <td>0.625</td>\n      <td>0.000293</td>\n      <td>0.528302</td>\n      <td>0.502242</td>\n      <td>0.561384</td>\n    </tr>\n    <tr>\n      <th>978</th>\n      <td>51039408</td>\n      <td>VIA SENIGALLIA 60 MILANO</td>\n      <td>45.532143</td>\n      <td>9.168970</td>\n      <td>[0.6666666666666666, 0.009293680297397777, 0.5...</td>\n      <td>0.666667</td>\n      <td>0.009294</td>\n      <td>0.527778</td>\n      <td>0.600000</td>\n      <td>0.000144</td>\n      <td>...</td>\n      <td>0.571429</td>\n      <td>0.594828</td>\n      <td>0.70000</td>\n      <td>0.002798</td>\n      <td>0.639535</td>\n      <td>0.625</td>\n      <td>0.000293</td>\n      <td>0.528302</td>\n      <td>0.502242</td>\n      <td>0.561384</td>\n    </tr>\n    <tr>\n      <th>979</th>\n      <td>51039410</td>\n      <td>VIA SENIGALLIA 60 MILANO</td>\n      <td>45.532143</td>\n      <td>9.168970</td>\n      <td>[0.6666666666666666, 0.009293680297397777, 0.5...</td>\n      <td>0.666667</td>\n      <td>0.009294</td>\n      <td>0.527778</td>\n      <td>0.600000</td>\n      <td>0.000144</td>\n      <td>...</td>\n      <td>0.571429</td>\n      <td>0.594828</td>\n      <td>0.70000</td>\n      <td>0.002798</td>\n      <td>0.639535</td>\n      <td>0.625</td>\n      <td>0.000293</td>\n      <td>0.528302</td>\n      <td>0.502242</td>\n      <td>0.561384</td>\n    </tr>\n  </tbody>\n</table>\n<p>848 rows × 27 columns</p>\n</div>"
     },
     "execution_count": 23,
     "metadata": {},
     "output_type": "execute_result"
    }
   ],
   "source": [
    "index_df=pd.read_csv('../outputs/index_df.csv')\n",
    "print('Buildings that were not geocoded',len(index_df[index_df['lon'].isna()]))\n",
    "index_df=index_df.drop(index_df[index_df['lon'].isna()].index) #dropping mm buildings that were not geocoded\n",
    "index_df= index_df[index_df['CODICE EDIFICIO'].isin(ed_in)] #dropping buildings outside comune di milano\n",
    "index_df.loc[:, index_df.columns != 'list'].to_stata('../stata/index_df.dta') #exporting to dta file\n",
    "index_df"
   ],
   "metadata": {
    "collapsed": false,
    "ExecuteTime": {
     "end_time": "2023-08-16T10:12:13.734172900Z",
     "start_time": "2023-08-16T10:12:13.480811800Z"
    }
   }
  },
  {
   "cell_type": "code",
   "execution_count": 24,
   "outputs": [],
   "source": [
    "def duomo_distance(lat, lon):\n",
    "    coords=(lat, lon)\n",
    "    duomo=(45.463968, 9.190578)\n",
    "    return geopy.distance.geodesic(duomo, coords).m"
   ],
   "metadata": {
    "collapsed": false,
    "ExecuteTime": {
     "end_time": "2023-08-16T10:12:13.826261600Z",
     "start_time": "2023-08-16T10:12:13.737688Z"
    }
   }
  },
  {
   "cell_type": "code",
   "execution_count": 25,
   "outputs": [
    {
     "data": {
      "text/plain": "     CODICE EDIFICIO                full_address        lat       lon  \\\n0           10001708  VIA DEL TURCHINO 20 MILANO  45.451893  9.228053   \n1           10001709  VIA DEL TURCHINO 20 MILANO  45.451893  9.228053   \n2           10001710  VIA DEL TURCHINO 20 MILANO  45.451893  9.228053   \n3           10001711  VIA DEL TURCHINO 20 MILANO  45.451893  9.228053   \n4           10001712  VIA DEL TURCHINO 22 MILANO  45.451893  9.228053   \n..               ...                         ...        ...       ...   \n975         51039405  VIA SENIGALLIA 60/G MILANO  45.532143  9.168970   \n976         51039406    VIA SENIGALLIA 60 MILANO  45.532143  9.168970   \n977         51039407    VIA SENIGALLIA 60 MILANO  45.532143  9.168970   \n978         51039408    VIA SENIGALLIA 60 MILANO  45.532143  9.168970   \n979         51039410    VIA SENIGALLIA 60 MILANO  45.532143  9.168970   \n\n                                                  list     acqua    biblio  \\\n0    [0.6666666666666666, 0.6666666666666666, 0.627...  0.666667  0.666667   \n1    [0.6666666666666666, 0.6666666666666666, 0.627...  0.666667  0.666667   \n2    [0.6666666666666666, 0.6666666666666666, 0.627...  0.666667  0.666667   \n3    [0.6666666666666666, 0.6666666666666666, 0.627...  0.666667  0.666667   \n4    [0.6666666666666666, 0.6666666666666666, 0.627...  0.666667  0.666667   \n..                                                 ...       ...       ...   \n975  [0.6666666666666666, 0.009293680297397777, 0.5...  0.666667  0.009294   \n976  [0.6666666666666666, 0.009293680297397777, 0.5...  0.666667  0.009294   \n977  [0.6666666666666666, 0.009293680297397777, 0.5...  0.666667  0.009294   \n978  [0.6666666666666666, 0.009293680297397777, 0.5...  0.666667  0.009294   \n979  [0.6666666666666666, 0.009293680297397777, 0.5...  0.666667  0.009294   \n\n     ciclabili     consu      cult  ...     sport    sprim       ss2  \\\n0     0.627193  0.001999  0.000592  ...  0.594828  0.63125  0.541667   \n1     0.627193  0.001999  0.000592  ...  0.594828  0.63125  0.541667   \n2     0.627193  0.001999  0.000592  ...  0.594828  0.63125  0.541667   \n3     0.627193  0.001999  0.000592  ...  0.594828  0.63125  0.541667   \n4     0.627193  0.001999  0.000592  ...  0.594828  0.63125  0.541667   \n..         ...       ...       ...  ...       ...      ...       ...   \n975   0.527778  0.600000  0.000144  ...  0.594828  0.70000  0.002798   \n976   0.527778  0.600000  0.000144  ...  0.594828  0.70000  0.002798   \n977   0.527778  0.600000  0.000144  ...  0.594828  0.70000  0.002798   \n978   0.527778  0.600000  0.000144  ...  0.594828  0.70000  0.002798   \n979   0.527778  0.600000  0.000144  ...  0.594828  0.70000  0.002798   \n\n         ssec  treni       uni      wifi     distr       all   duomo_dist  \n0    0.593023  0.625  0.064103  0.566038  0.515695  0.614397  3223.734619  \n1    0.593023  0.625  0.064103  0.566038  0.515695  0.614397  3223.734619  \n2    0.593023  0.625  0.064103  0.566038  0.515695  0.614397  3223.734619  \n3    0.593023  0.625  0.064103  0.566038  0.515695  0.614397  3223.734619  \n4    0.593023  0.625  0.064103  0.566038  0.515695  0.614397  3223.734619  \n..        ...    ...       ...       ...       ...       ...          ...  \n975  0.639535  0.625  0.000293  0.528302  0.502242  0.561384  7762.964762  \n976  0.639535  0.625  0.000293  0.528302  0.502242  0.561384  7762.964762  \n977  0.639535  0.625  0.000293  0.528302  0.502242  0.561384  7762.964762  \n978  0.639535  0.625  0.000293  0.528302  0.502242  0.561384  7762.964762  \n979  0.639535  0.625  0.000293  0.528302  0.502242  0.561384  7762.964762  \n\n[848 rows x 28 columns]",
      "text/html": "<div>\n<style scoped>\n    .dataframe tbody tr th:only-of-type {\n        vertical-align: middle;\n    }\n\n    .dataframe tbody tr th {\n        vertical-align: top;\n    }\n\n    .dataframe thead th {\n        text-align: right;\n    }\n</style>\n<table border=\"1\" class=\"dataframe\">\n  <thead>\n    <tr style=\"text-align: right;\">\n      <th></th>\n      <th>CODICE EDIFICIO</th>\n      <th>full_address</th>\n      <th>lat</th>\n      <th>lon</th>\n      <th>list</th>\n      <th>acqua</th>\n      <th>biblio</th>\n      <th>ciclabili</th>\n      <th>consu</th>\n      <th>cult</th>\n      <th>...</th>\n      <th>sport</th>\n      <th>sprim</th>\n      <th>ss2</th>\n      <th>ssec</th>\n      <th>treni</th>\n      <th>uni</th>\n      <th>wifi</th>\n      <th>distr</th>\n      <th>all</th>\n      <th>duomo_dist</th>\n    </tr>\n  </thead>\n  <tbody>\n    <tr>\n      <th>0</th>\n      <td>10001708</td>\n      <td>VIA DEL TURCHINO 20 MILANO</td>\n      <td>45.451893</td>\n      <td>9.228053</td>\n      <td>[0.6666666666666666, 0.6666666666666666, 0.627...</td>\n      <td>0.666667</td>\n      <td>0.666667</td>\n      <td>0.627193</td>\n      <td>0.001999</td>\n      <td>0.000592</td>\n      <td>...</td>\n      <td>0.594828</td>\n      <td>0.63125</td>\n      <td>0.541667</td>\n      <td>0.593023</td>\n      <td>0.625</td>\n      <td>0.064103</td>\n      <td>0.566038</td>\n      <td>0.515695</td>\n      <td>0.614397</td>\n      <td>3223.734619</td>\n    </tr>\n    <tr>\n      <th>1</th>\n      <td>10001709</td>\n      <td>VIA DEL TURCHINO 20 MILANO</td>\n      <td>45.451893</td>\n      <td>9.228053</td>\n      <td>[0.6666666666666666, 0.6666666666666666, 0.627...</td>\n      <td>0.666667</td>\n      <td>0.666667</td>\n      <td>0.627193</td>\n      <td>0.001999</td>\n      <td>0.000592</td>\n      <td>...</td>\n      <td>0.594828</td>\n      <td>0.63125</td>\n      <td>0.541667</td>\n      <td>0.593023</td>\n      <td>0.625</td>\n      <td>0.064103</td>\n      <td>0.566038</td>\n      <td>0.515695</td>\n      <td>0.614397</td>\n      <td>3223.734619</td>\n    </tr>\n    <tr>\n      <th>2</th>\n      <td>10001710</td>\n      <td>VIA DEL TURCHINO 20 MILANO</td>\n      <td>45.451893</td>\n      <td>9.228053</td>\n      <td>[0.6666666666666666, 0.6666666666666666, 0.627...</td>\n      <td>0.666667</td>\n      <td>0.666667</td>\n      <td>0.627193</td>\n      <td>0.001999</td>\n      <td>0.000592</td>\n      <td>...</td>\n      <td>0.594828</td>\n      <td>0.63125</td>\n      <td>0.541667</td>\n      <td>0.593023</td>\n      <td>0.625</td>\n      <td>0.064103</td>\n      <td>0.566038</td>\n      <td>0.515695</td>\n      <td>0.614397</td>\n      <td>3223.734619</td>\n    </tr>\n    <tr>\n      <th>3</th>\n      <td>10001711</td>\n      <td>VIA DEL TURCHINO 20 MILANO</td>\n      <td>45.451893</td>\n      <td>9.228053</td>\n      <td>[0.6666666666666666, 0.6666666666666666, 0.627...</td>\n      <td>0.666667</td>\n      <td>0.666667</td>\n      <td>0.627193</td>\n      <td>0.001999</td>\n      <td>0.000592</td>\n      <td>...</td>\n      <td>0.594828</td>\n      <td>0.63125</td>\n      <td>0.541667</td>\n      <td>0.593023</td>\n      <td>0.625</td>\n      <td>0.064103</td>\n      <td>0.566038</td>\n      <td>0.515695</td>\n      <td>0.614397</td>\n      <td>3223.734619</td>\n    </tr>\n    <tr>\n      <th>4</th>\n      <td>10001712</td>\n      <td>VIA DEL TURCHINO 22 MILANO</td>\n      <td>45.451893</td>\n      <td>9.228053</td>\n      <td>[0.6666666666666666, 0.6666666666666666, 0.627...</td>\n      <td>0.666667</td>\n      <td>0.666667</td>\n      <td>0.627193</td>\n      <td>0.001999</td>\n      <td>0.000592</td>\n      <td>...</td>\n      <td>0.594828</td>\n      <td>0.63125</td>\n      <td>0.541667</td>\n      <td>0.593023</td>\n      <td>0.625</td>\n      <td>0.064103</td>\n      <td>0.566038</td>\n      <td>0.515695</td>\n      <td>0.614397</td>\n      <td>3223.734619</td>\n    </tr>\n    <tr>\n      <th>...</th>\n      <td>...</td>\n      <td>...</td>\n      <td>...</td>\n      <td>...</td>\n      <td>...</td>\n      <td>...</td>\n      <td>...</td>\n      <td>...</td>\n      <td>...</td>\n      <td>...</td>\n      <td>...</td>\n      <td>...</td>\n      <td>...</td>\n      <td>...</td>\n      <td>...</td>\n      <td>...</td>\n      <td>...</td>\n      <td>...</td>\n      <td>...</td>\n      <td>...</td>\n      <td>...</td>\n    </tr>\n    <tr>\n      <th>975</th>\n      <td>51039405</td>\n      <td>VIA SENIGALLIA 60/G MILANO</td>\n      <td>45.532143</td>\n      <td>9.168970</td>\n      <td>[0.6666666666666666, 0.009293680297397777, 0.5...</td>\n      <td>0.666667</td>\n      <td>0.009294</td>\n      <td>0.527778</td>\n      <td>0.600000</td>\n      <td>0.000144</td>\n      <td>...</td>\n      <td>0.594828</td>\n      <td>0.70000</td>\n      <td>0.002798</td>\n      <td>0.639535</td>\n      <td>0.625</td>\n      <td>0.000293</td>\n      <td>0.528302</td>\n      <td>0.502242</td>\n      <td>0.561384</td>\n      <td>7762.964762</td>\n    </tr>\n    <tr>\n      <th>976</th>\n      <td>51039406</td>\n      <td>VIA SENIGALLIA 60 MILANO</td>\n      <td>45.532143</td>\n      <td>9.168970</td>\n      <td>[0.6666666666666666, 0.009293680297397777, 0.5...</td>\n      <td>0.666667</td>\n      <td>0.009294</td>\n      <td>0.527778</td>\n      <td>0.600000</td>\n      <td>0.000144</td>\n      <td>...</td>\n      <td>0.594828</td>\n      <td>0.70000</td>\n      <td>0.002798</td>\n      <td>0.639535</td>\n      <td>0.625</td>\n      <td>0.000293</td>\n      <td>0.528302</td>\n      <td>0.502242</td>\n      <td>0.561384</td>\n      <td>7762.964762</td>\n    </tr>\n    <tr>\n      <th>977</th>\n      <td>51039407</td>\n      <td>VIA SENIGALLIA 60 MILANO</td>\n      <td>45.532143</td>\n      <td>9.168970</td>\n      <td>[0.6666666666666666, 0.009293680297397777, 0.5...</td>\n      <td>0.666667</td>\n      <td>0.009294</td>\n      <td>0.527778</td>\n      <td>0.600000</td>\n      <td>0.000144</td>\n      <td>...</td>\n      <td>0.594828</td>\n      <td>0.70000</td>\n      <td>0.002798</td>\n      <td>0.639535</td>\n      <td>0.625</td>\n      <td>0.000293</td>\n      <td>0.528302</td>\n      <td>0.502242</td>\n      <td>0.561384</td>\n      <td>7762.964762</td>\n    </tr>\n    <tr>\n      <th>978</th>\n      <td>51039408</td>\n      <td>VIA SENIGALLIA 60 MILANO</td>\n      <td>45.532143</td>\n      <td>9.168970</td>\n      <td>[0.6666666666666666, 0.009293680297397777, 0.5...</td>\n      <td>0.666667</td>\n      <td>0.009294</td>\n      <td>0.527778</td>\n      <td>0.600000</td>\n      <td>0.000144</td>\n      <td>...</td>\n      <td>0.594828</td>\n      <td>0.70000</td>\n      <td>0.002798</td>\n      <td>0.639535</td>\n      <td>0.625</td>\n      <td>0.000293</td>\n      <td>0.528302</td>\n      <td>0.502242</td>\n      <td>0.561384</td>\n      <td>7762.964762</td>\n    </tr>\n    <tr>\n      <th>979</th>\n      <td>51039410</td>\n      <td>VIA SENIGALLIA 60 MILANO</td>\n      <td>45.532143</td>\n      <td>9.168970</td>\n      <td>[0.6666666666666666, 0.009293680297397777, 0.5...</td>\n      <td>0.666667</td>\n      <td>0.009294</td>\n      <td>0.527778</td>\n      <td>0.600000</td>\n      <td>0.000144</td>\n      <td>...</td>\n      <td>0.594828</td>\n      <td>0.70000</td>\n      <td>0.002798</td>\n      <td>0.639535</td>\n      <td>0.625</td>\n      <td>0.000293</td>\n      <td>0.528302</td>\n      <td>0.502242</td>\n      <td>0.561384</td>\n      <td>7762.964762</td>\n    </tr>\n  </tbody>\n</table>\n<p>848 rows × 28 columns</p>\n</div>"
     },
     "execution_count": 25,
     "metadata": {},
     "output_type": "execute_result"
    }
   ],
   "source": [
    "index_df['duomo_dist']=index_df.apply(lambda x: duomo_distance(x['lat'], x['lon']), axis=1)\n",
    "index_df"
   ],
   "metadata": {
    "collapsed": false,
    "ExecuteTime": {
     "end_time": "2023-08-16T10:14:58.540491500Z",
     "start_time": "2023-08-16T10:14:58.157594700Z"
    }
   }
  },
  {
   "cell_type": "code",
   "execution_count": 39,
   "outputs": [
    {
     "name": "stderr",
     "output_type": "stream",
     "text": [
      "C:\\Users\\iodio\\AppData\\Local\\Temp\\ipykernel_1768\\655922510.py:1: FutureWarning: The default value of numeric_only in DataFrame.corr is deprecated. In a future version, it will default to False. Select only valid columns or specify the value of numeric_only to silence this warning.\n",
      "  corr_df=index_df.corr()[3:].duomo_dist.reset_index()\n"
     ]
    },
    {
     "data": {
      "text/plain": "                  Service  Correlation\n0         Water fountains    -0.053253\n1        Public libraries    -0.193059\n2              Bike lanes    -0.376415\n3      Family counselling    -0.382185\n4            Cultural POI    -0.351438\n5             News-stands    -0.512833\n6              Pharmacies    -0.470427\n7          Metro stations    -0.276610\n8            Public parks    -0.196006\n9          Postal offices    -0.162762\n10  Addiction counselling    -0.124862\n11           Kindergarten    -0.375858\n12        Italian schools    -0.140015\n13       Sport facilities    -0.280608\n14     Elementary schools    -0.428292\n15           High schools    -0.304161\n16         Middle schools    -0.395775\n17         Train stations    -0.076874\n18   University buildings    -0.276371\n19                   wifi    -0.478185\n20   Stores and Groceries    -0.338781\n21           All services    -0.596738\n22             duomo_dist     1.000000",
      "text/html": "<div>\n<style scoped>\n    .dataframe tbody tr th:only-of-type {\n        vertical-align: middle;\n    }\n\n    .dataframe tbody tr th {\n        vertical-align: top;\n    }\n\n    .dataframe thead th {\n        text-align: right;\n    }\n</style>\n<table border=\"1\" class=\"dataframe\">\n  <thead>\n    <tr style=\"text-align: right;\">\n      <th></th>\n      <th>Service</th>\n      <th>Correlation</th>\n    </tr>\n  </thead>\n  <tbody>\n    <tr>\n      <th>0</th>\n      <td>Water fountains</td>\n      <td>-0.053253</td>\n    </tr>\n    <tr>\n      <th>1</th>\n      <td>Public libraries</td>\n      <td>-0.193059</td>\n    </tr>\n    <tr>\n      <th>2</th>\n      <td>Bike lanes</td>\n      <td>-0.376415</td>\n    </tr>\n    <tr>\n      <th>3</th>\n      <td>Family counselling</td>\n      <td>-0.382185</td>\n    </tr>\n    <tr>\n      <th>4</th>\n      <td>Cultural POI</td>\n      <td>-0.351438</td>\n    </tr>\n    <tr>\n      <th>5</th>\n      <td>News-stands</td>\n      <td>-0.512833</td>\n    </tr>\n    <tr>\n      <th>6</th>\n      <td>Pharmacies</td>\n      <td>-0.470427</td>\n    </tr>\n    <tr>\n      <th>7</th>\n      <td>Metro stations</td>\n      <td>-0.276610</td>\n    </tr>\n    <tr>\n      <th>8</th>\n      <td>Public parks</td>\n      <td>-0.196006</td>\n    </tr>\n    <tr>\n      <th>9</th>\n      <td>Postal offices</td>\n      <td>-0.162762</td>\n    </tr>\n    <tr>\n      <th>10</th>\n      <td>Addiction counselling</td>\n      <td>-0.124862</td>\n    </tr>\n    <tr>\n      <th>11</th>\n      <td>Kindergarten</td>\n      <td>-0.375858</td>\n    </tr>\n    <tr>\n      <th>12</th>\n      <td>Italian schools</td>\n      <td>-0.140015</td>\n    </tr>\n    <tr>\n      <th>13</th>\n      <td>Sport facilities</td>\n      <td>-0.280608</td>\n    </tr>\n    <tr>\n      <th>14</th>\n      <td>Elementary schools</td>\n      <td>-0.428292</td>\n    </tr>\n    <tr>\n      <th>15</th>\n      <td>High schools</td>\n      <td>-0.304161</td>\n    </tr>\n    <tr>\n      <th>16</th>\n      <td>Middle schools</td>\n      <td>-0.395775</td>\n    </tr>\n    <tr>\n      <th>17</th>\n      <td>Train stations</td>\n      <td>-0.076874</td>\n    </tr>\n    <tr>\n      <th>18</th>\n      <td>University buildings</td>\n      <td>-0.276371</td>\n    </tr>\n    <tr>\n      <th>19</th>\n      <td>wifi</td>\n      <td>-0.478185</td>\n    </tr>\n    <tr>\n      <th>20</th>\n      <td>Stores and Groceries</td>\n      <td>-0.338781</td>\n    </tr>\n    <tr>\n      <th>21</th>\n      <td>All services</td>\n      <td>-0.596738</td>\n    </tr>\n    <tr>\n      <th>22</th>\n      <td>duomo_dist</td>\n      <td>1.000000</td>\n    </tr>\n  </tbody>\n</table>\n</div>"
     },
     "execution_count": 39,
     "metadata": {},
     "output_type": "execute_result"
    }
   ],
   "source": [
    "corr_df=index_df.corr()[3:].duomo_dist.reset_index()\n",
    "corr_df.columns=['Service', 'Correlation']\n",
    "corr_df=corr_df.replace({\"Service\": labels})\n",
    "corr_df"
   ],
   "metadata": {
    "collapsed": false,
    "ExecuteTime": {
     "end_time": "2023-07-15T09:12:21.817799100Z",
     "start_time": "2023-07-15T09:12:21.775793200Z"
    }
   }
  },
  {
   "cell_type": "code",
   "execution_count": 40,
   "outputs": [],
   "source": [
    "def gini(x):\n",
    "    total = 0\n",
    "    for i, xi in enumerate(x[:-1], 1):\n",
    "        total += np.sum(np.abs(xi - x[i:]))\n",
    "    return total / (len(x)**2 * np.mean(x))"
   ],
   "metadata": {
    "collapsed": false,
    "ExecuteTime": {
     "end_time": "2023-07-15T09:12:21.954394200Z",
     "start_time": "2023-07-15T09:12:21.817799100Z"
    }
   }
  },
  {
   "cell_type": "code",
   "execution_count": 47,
   "outputs": [
    {
     "name": "stderr",
     "output_type": "stream",
     "text": [
      "C:\\ProgramData\\anaconda3\\lib\\site-packages\\sklearn\\metrics\\cluster\\_supervised.py:64: UserWarning: Clustering metrics expects discrete values but received continuous values for label, and continuous values for target\n",
      "  warnings.warn(msg, UserWarning)\n",
      "C:\\ProgramData\\anaconda3\\lib\\site-packages\\sklearn\\metrics\\cluster\\_supervised.py:64: UserWarning: Clustering metrics expects discrete values but received continuous values for label, and continuous values for target\n",
      "  warnings.warn(msg, UserWarning)\n",
      "C:\\ProgramData\\anaconda3\\lib\\site-packages\\sklearn\\metrics\\cluster\\_supervised.py:64: UserWarning: Clustering metrics expects discrete values but received continuous values for label, and continuous values for target\n",
      "  warnings.warn(msg, UserWarning)\n",
      "C:\\ProgramData\\anaconda3\\lib\\site-packages\\sklearn\\metrics\\cluster\\_supervised.py:64: UserWarning: Clustering metrics expects discrete values but received continuous values for label, and continuous values for target\n",
      "  warnings.warn(msg, UserWarning)\n",
      "C:\\ProgramData\\anaconda3\\lib\\site-packages\\sklearn\\metrics\\cluster\\_supervised.py:64: UserWarning: Clustering metrics expects discrete values but received continuous values for label, and continuous values for target\n",
      "  warnings.warn(msg, UserWarning)\n",
      "C:\\ProgramData\\anaconda3\\lib\\site-packages\\sklearn\\metrics\\cluster\\_supervised.py:64: UserWarning: Clustering metrics expects discrete values but received continuous values for label, and continuous values for target\n",
      "  warnings.warn(msg, UserWarning)\n",
      "C:\\ProgramData\\anaconda3\\lib\\site-packages\\sklearn\\metrics\\cluster\\_supervised.py:64: UserWarning: Clustering metrics expects discrete values but received continuous values for label, and continuous values for target\n",
      "  warnings.warn(msg, UserWarning)\n",
      "C:\\ProgramData\\anaconda3\\lib\\site-packages\\sklearn\\metrics\\cluster\\_supervised.py:64: UserWarning: Clustering metrics expects discrete values but received continuous values for label, and continuous values for target\n",
      "  warnings.warn(msg, UserWarning)\n",
      "C:\\ProgramData\\anaconda3\\lib\\site-packages\\sklearn\\metrics\\cluster\\_supervised.py:64: UserWarning: Clustering metrics expects discrete values but received continuous values for label, and continuous values for target\n",
      "  warnings.warn(msg, UserWarning)\n",
      "C:\\ProgramData\\anaconda3\\lib\\site-packages\\sklearn\\metrics\\cluster\\_supervised.py:64: UserWarning: Clustering metrics expects discrete values but received continuous values for label, and continuous values for target\n",
      "  warnings.warn(msg, UserWarning)\n",
      "C:\\ProgramData\\anaconda3\\lib\\site-packages\\sklearn\\metrics\\cluster\\_supervised.py:64: UserWarning: Clustering metrics expects discrete values but received continuous values for label, and continuous values for target\n",
      "  warnings.warn(msg, UserWarning)\n",
      "C:\\ProgramData\\anaconda3\\lib\\site-packages\\sklearn\\metrics\\cluster\\_supervised.py:64: UserWarning: Clustering metrics expects discrete values but received continuous values for label, and continuous values for target\n",
      "  warnings.warn(msg, UserWarning)\n",
      "C:\\ProgramData\\anaconda3\\lib\\site-packages\\sklearn\\metrics\\cluster\\_supervised.py:64: UserWarning: Clustering metrics expects discrete values but received continuous values for label, and continuous values for target\n",
      "  warnings.warn(msg, UserWarning)\n",
      "C:\\ProgramData\\anaconda3\\lib\\site-packages\\sklearn\\metrics\\cluster\\_supervised.py:64: UserWarning: Clustering metrics expects discrete values but received continuous values for label, and continuous values for target\n",
      "  warnings.warn(msg, UserWarning)\n",
      "C:\\ProgramData\\anaconda3\\lib\\site-packages\\sklearn\\metrics\\cluster\\_supervised.py:64: UserWarning: Clustering metrics expects discrete values but received continuous values for label, and continuous values for target\n",
      "  warnings.warn(msg, UserWarning)\n",
      "C:\\ProgramData\\anaconda3\\lib\\site-packages\\sklearn\\metrics\\cluster\\_supervised.py:64: UserWarning: Clustering metrics expects discrete values but received continuous values for label, and continuous values for target\n",
      "  warnings.warn(msg, UserWarning)\n",
      "C:\\ProgramData\\anaconda3\\lib\\site-packages\\sklearn\\metrics\\cluster\\_supervised.py:64: UserWarning: Clustering metrics expects discrete values but received continuous values for label, and continuous values for target\n",
      "  warnings.warn(msg, UserWarning)\n",
      "C:\\ProgramData\\anaconda3\\lib\\site-packages\\sklearn\\metrics\\cluster\\_supervised.py:64: UserWarning: Clustering metrics expects discrete values but received continuous values for label, and continuous values for target\n",
      "  warnings.warn(msg, UserWarning)\n",
      "C:\\ProgramData\\anaconda3\\lib\\site-packages\\sklearn\\metrics\\cluster\\_supervised.py:64: UserWarning: Clustering metrics expects discrete values but received continuous values for label, and continuous values for target\n",
      "  warnings.warn(msg, UserWarning)\n",
      "C:\\ProgramData\\anaconda3\\lib\\site-packages\\sklearn\\metrics\\cluster\\_supervised.py:64: UserWarning: Clustering metrics expects discrete values but received continuous values for label, and continuous values for target\n",
      "  warnings.warn(msg, UserWarning)\n",
      "C:\\ProgramData\\anaconda3\\lib\\site-packages\\sklearn\\metrics\\cluster\\_supervised.py:64: UserWarning: Clustering metrics expects discrete values but received continuous values for label, and continuous values for target\n",
      "  warnings.warn(msg, UserWarning)\n",
      "C:\\ProgramData\\anaconda3\\lib\\site-packages\\sklearn\\metrics\\cluster\\_supervised.py:64: UserWarning: Clustering metrics expects discrete values but received continuous values for label, and continuous values for target\n",
      "  warnings.warn(msg, UserWarning)\n",
      "C:\\ProgramData\\anaconda3\\lib\\site-packages\\sklearn\\metrics\\cluster\\_supervised.py:64: UserWarning: Clustering metrics expects discrete values but received continuous values for label, and continuous values for target\n",
      "  warnings.warn(msg, UserWarning)\n",
      "C:\\Users\\iodio\\AppData\\Local\\Temp\\ipykernel_1768\\261975465.py:14: FutureWarning: In future versions `DataFrame.to_latex` is expected to utilise the base implementation of `Styler.to_latex` for formatting and rendering. The arguments signature may therefore change. It is recommended instead to use `DataFrame.style.to_latex` which also contains additional functionality.\n",
      "  pyperclip.copy(corr_df[['Service', 'Gini', 'Correlation', 'Mutual Information']].to_latex(index=False))\n"
     ]
    },
    {
     "data": {
      "text/plain": "                  Service         Mean       Median     Minimum       Maximum  \\\n0         Water fountains     0.588909     0.666667    0.000038      1.000000   \n1        Public libraries     0.448982     0.666667    0.000035      1.000000   \n2              Bike lanes     0.583804     0.581871    0.000043      1.000000   \n3      Family counselling     0.180754     0.000914    0.000032      1.000000   \n4            Cultural POI     0.058004     0.000417    0.000033      1.000000   \n5             News-stands     0.579617     0.568966    0.000039      1.000000   \n6              Pharmacies     0.614192     0.612903    0.000040      1.000000   \n7          Metro stations     0.384926     0.550000    0.000043      1.000000   \n8            Public parks     0.502103     0.531792    0.000036      1.000000   \n9          Postal offices     0.493276     0.562500    0.000039      1.000000   \n10  Addiction counselling     0.191438     0.000843    0.000033      1.000000   \n11           Kindergarten     0.683411     0.678571    0.000039      1.000000   \n12        Italian schools     0.466289     0.535714    0.000038      1.000000   \n13       Sport facilities     0.693574     0.676724    0.000040      1.000000   \n14     Elementary schools     0.708579     0.700000    0.000040      1.000000   \n15           High schools     0.422154     0.541667    0.000035      1.000000   \n16         Middle schools     0.608370     0.593023    0.000039      1.000000   \n17         Train stations     0.222444     0.002111    0.000034      1.000000   \n18   University buildings     0.212721     0.001405    0.000037      1.000000   \n19                   wifi     0.616373     0.603774    0.000039      1.000000   \n20   Stores and Groceries     0.509896     0.515695    0.000038      1.000000   \n21           All services     0.626734     0.613839    0.000043      1.000000   \n22             duomo_dist  5213.334094  4933.363499  318.419822  61032.302044   \n\n       $\\sigma$   Skewness  Correlation    Kurtosis      Gini  \\\n0      0.298981  -1.256788    -0.053253    0.074387  0.240346   \n1      0.330759  -0.545798    -0.193059   -1.568690  0.367927   \n2      0.098156  -2.484344    -0.376415   18.249688  0.071857   \n3      0.285379   1.013261    -0.382185   -0.832189  0.721401   \n4      0.183163   3.140419    -0.351438    8.898860  0.910358   \n5      0.094452  -1.154315    -0.512833   15.855984  0.069450   \n6      0.125522  -1.438254    -0.470427   10.073702  0.091634   \n7      0.305534  -0.305707    -0.276610   -1.527592  0.415849   \n8      0.181710  -1.966817    -0.196006    3.413313  0.154304   \n9      0.259047  -1.147095    -0.162762   -0.082454  0.253366   \n10     0.291208   0.976176    -0.124862   -0.752664  0.703958   \n11     0.115460  -2.197506    -0.375858   12.323776  0.083242   \n12     0.247952  -1.068808    -0.140015   -0.069862  0.255305   \n13     0.122241  -1.134635    -0.280608    8.502487  0.089091   \n14     0.134471  -1.730198    -0.428292    8.854016  0.095642   \n15     0.281271  -0.668483    -0.304161   -1.149812  0.342531   \n16     0.135834  -2.820057    -0.395775   11.689541  0.092428   \n17     0.304051   0.684745    -0.076874   -1.456602  0.657674   \n18     0.271683   0.630182    -0.276371   -1.281901  0.635098   \n19     0.100988  -1.044054    -0.478185   10.986417  0.079492   \n20     0.108288  -3.172366    -0.338781   16.078387  0.065545   \n21     0.074860   0.992269    -0.596738   10.011883  0.057605   \n22  2533.143374  12.600432     1.000000  277.884758  0.188589   \n\n    Mutual Information  \n0             1.913922  \n1             2.533260  \n2             4.534293  \n3             4.458782  \n4             5.394022  \n5             3.071575  \n6             2.875015  \n7             3.318674  \n8             3.898988  \n9             2.340985  \n10            4.360059  \n11            2.330676  \n12            2.651912  \n13            3.641130  \n14            2.814154  \n15            3.529942  \n16            2.565271  \n17            4.122878  \n18            4.844099  \n19            3.303520  \n20            3.333871  \n21            5.038962  \n22            5.553744  ",
      "text/html": "<div>\n<style scoped>\n    .dataframe tbody tr th:only-of-type {\n        vertical-align: middle;\n    }\n\n    .dataframe tbody tr th {\n        vertical-align: top;\n    }\n\n    .dataframe thead th {\n        text-align: right;\n    }\n</style>\n<table border=\"1\" class=\"dataframe\">\n  <thead>\n    <tr style=\"text-align: right;\">\n      <th></th>\n      <th>Service</th>\n      <th>Mean</th>\n      <th>Median</th>\n      <th>Minimum</th>\n      <th>Maximum</th>\n      <th>$\\sigma$</th>\n      <th>Skewness</th>\n      <th>Correlation</th>\n      <th>Kurtosis</th>\n      <th>Gini</th>\n      <th>Mutual Information</th>\n    </tr>\n  </thead>\n  <tbody>\n    <tr>\n      <th>0</th>\n      <td>Water fountains</td>\n      <td>0.588909</td>\n      <td>0.666667</td>\n      <td>0.000038</td>\n      <td>1.000000</td>\n      <td>0.298981</td>\n      <td>-1.256788</td>\n      <td>-0.053253</td>\n      <td>0.074387</td>\n      <td>0.240346</td>\n      <td>1.913922</td>\n    </tr>\n    <tr>\n      <th>1</th>\n      <td>Public libraries</td>\n      <td>0.448982</td>\n      <td>0.666667</td>\n      <td>0.000035</td>\n      <td>1.000000</td>\n      <td>0.330759</td>\n      <td>-0.545798</td>\n      <td>-0.193059</td>\n      <td>-1.568690</td>\n      <td>0.367927</td>\n      <td>2.533260</td>\n    </tr>\n    <tr>\n      <th>2</th>\n      <td>Bike lanes</td>\n      <td>0.583804</td>\n      <td>0.581871</td>\n      <td>0.000043</td>\n      <td>1.000000</td>\n      <td>0.098156</td>\n      <td>-2.484344</td>\n      <td>-0.376415</td>\n      <td>18.249688</td>\n      <td>0.071857</td>\n      <td>4.534293</td>\n    </tr>\n    <tr>\n      <th>3</th>\n      <td>Family counselling</td>\n      <td>0.180754</td>\n      <td>0.000914</td>\n      <td>0.000032</td>\n      <td>1.000000</td>\n      <td>0.285379</td>\n      <td>1.013261</td>\n      <td>-0.382185</td>\n      <td>-0.832189</td>\n      <td>0.721401</td>\n      <td>4.458782</td>\n    </tr>\n    <tr>\n      <th>4</th>\n      <td>Cultural POI</td>\n      <td>0.058004</td>\n      <td>0.000417</td>\n      <td>0.000033</td>\n      <td>1.000000</td>\n      <td>0.183163</td>\n      <td>3.140419</td>\n      <td>-0.351438</td>\n      <td>8.898860</td>\n      <td>0.910358</td>\n      <td>5.394022</td>\n    </tr>\n    <tr>\n      <th>5</th>\n      <td>News-stands</td>\n      <td>0.579617</td>\n      <td>0.568966</td>\n      <td>0.000039</td>\n      <td>1.000000</td>\n      <td>0.094452</td>\n      <td>-1.154315</td>\n      <td>-0.512833</td>\n      <td>15.855984</td>\n      <td>0.069450</td>\n      <td>3.071575</td>\n    </tr>\n    <tr>\n      <th>6</th>\n      <td>Pharmacies</td>\n      <td>0.614192</td>\n      <td>0.612903</td>\n      <td>0.000040</td>\n      <td>1.000000</td>\n      <td>0.125522</td>\n      <td>-1.438254</td>\n      <td>-0.470427</td>\n      <td>10.073702</td>\n      <td>0.091634</td>\n      <td>2.875015</td>\n    </tr>\n    <tr>\n      <th>7</th>\n      <td>Metro stations</td>\n      <td>0.384926</td>\n      <td>0.550000</td>\n      <td>0.000043</td>\n      <td>1.000000</td>\n      <td>0.305534</td>\n      <td>-0.305707</td>\n      <td>-0.276610</td>\n      <td>-1.527592</td>\n      <td>0.415849</td>\n      <td>3.318674</td>\n    </tr>\n    <tr>\n      <th>8</th>\n      <td>Public parks</td>\n      <td>0.502103</td>\n      <td>0.531792</td>\n      <td>0.000036</td>\n      <td>1.000000</td>\n      <td>0.181710</td>\n      <td>-1.966817</td>\n      <td>-0.196006</td>\n      <td>3.413313</td>\n      <td>0.154304</td>\n      <td>3.898988</td>\n    </tr>\n    <tr>\n      <th>9</th>\n      <td>Postal offices</td>\n      <td>0.493276</td>\n      <td>0.562500</td>\n      <td>0.000039</td>\n      <td>1.000000</td>\n      <td>0.259047</td>\n      <td>-1.147095</td>\n      <td>-0.162762</td>\n      <td>-0.082454</td>\n      <td>0.253366</td>\n      <td>2.340985</td>\n    </tr>\n    <tr>\n      <th>10</th>\n      <td>Addiction counselling</td>\n      <td>0.191438</td>\n      <td>0.000843</td>\n      <td>0.000033</td>\n      <td>1.000000</td>\n      <td>0.291208</td>\n      <td>0.976176</td>\n      <td>-0.124862</td>\n      <td>-0.752664</td>\n      <td>0.703958</td>\n      <td>4.360059</td>\n    </tr>\n    <tr>\n      <th>11</th>\n      <td>Kindergarten</td>\n      <td>0.683411</td>\n      <td>0.678571</td>\n      <td>0.000039</td>\n      <td>1.000000</td>\n      <td>0.115460</td>\n      <td>-2.197506</td>\n      <td>-0.375858</td>\n      <td>12.323776</td>\n      <td>0.083242</td>\n      <td>2.330676</td>\n    </tr>\n    <tr>\n      <th>12</th>\n      <td>Italian schools</td>\n      <td>0.466289</td>\n      <td>0.535714</td>\n      <td>0.000038</td>\n      <td>1.000000</td>\n      <td>0.247952</td>\n      <td>-1.068808</td>\n      <td>-0.140015</td>\n      <td>-0.069862</td>\n      <td>0.255305</td>\n      <td>2.651912</td>\n    </tr>\n    <tr>\n      <th>13</th>\n      <td>Sport facilities</td>\n      <td>0.693574</td>\n      <td>0.676724</td>\n      <td>0.000040</td>\n      <td>1.000000</td>\n      <td>0.122241</td>\n      <td>-1.134635</td>\n      <td>-0.280608</td>\n      <td>8.502487</td>\n      <td>0.089091</td>\n      <td>3.641130</td>\n    </tr>\n    <tr>\n      <th>14</th>\n      <td>Elementary schools</td>\n      <td>0.708579</td>\n      <td>0.700000</td>\n      <td>0.000040</td>\n      <td>1.000000</td>\n      <td>0.134471</td>\n      <td>-1.730198</td>\n      <td>-0.428292</td>\n      <td>8.854016</td>\n      <td>0.095642</td>\n      <td>2.814154</td>\n    </tr>\n    <tr>\n      <th>15</th>\n      <td>High schools</td>\n      <td>0.422154</td>\n      <td>0.541667</td>\n      <td>0.000035</td>\n      <td>1.000000</td>\n      <td>0.281271</td>\n      <td>-0.668483</td>\n      <td>-0.304161</td>\n      <td>-1.149812</td>\n      <td>0.342531</td>\n      <td>3.529942</td>\n    </tr>\n    <tr>\n      <th>16</th>\n      <td>Middle schools</td>\n      <td>0.608370</td>\n      <td>0.593023</td>\n      <td>0.000039</td>\n      <td>1.000000</td>\n      <td>0.135834</td>\n      <td>-2.820057</td>\n      <td>-0.395775</td>\n      <td>11.689541</td>\n      <td>0.092428</td>\n      <td>2.565271</td>\n    </tr>\n    <tr>\n      <th>17</th>\n      <td>Train stations</td>\n      <td>0.222444</td>\n      <td>0.002111</td>\n      <td>0.000034</td>\n      <td>1.000000</td>\n      <td>0.304051</td>\n      <td>0.684745</td>\n      <td>-0.076874</td>\n      <td>-1.456602</td>\n      <td>0.657674</td>\n      <td>4.122878</td>\n    </tr>\n    <tr>\n      <th>18</th>\n      <td>University buildings</td>\n      <td>0.212721</td>\n      <td>0.001405</td>\n      <td>0.000037</td>\n      <td>1.000000</td>\n      <td>0.271683</td>\n      <td>0.630182</td>\n      <td>-0.276371</td>\n      <td>-1.281901</td>\n      <td>0.635098</td>\n      <td>4.844099</td>\n    </tr>\n    <tr>\n      <th>19</th>\n      <td>wifi</td>\n      <td>0.616373</td>\n      <td>0.603774</td>\n      <td>0.000039</td>\n      <td>1.000000</td>\n      <td>0.100988</td>\n      <td>-1.044054</td>\n      <td>-0.478185</td>\n      <td>10.986417</td>\n      <td>0.079492</td>\n      <td>3.303520</td>\n    </tr>\n    <tr>\n      <th>20</th>\n      <td>Stores and Groceries</td>\n      <td>0.509896</td>\n      <td>0.515695</td>\n      <td>0.000038</td>\n      <td>1.000000</td>\n      <td>0.108288</td>\n      <td>-3.172366</td>\n      <td>-0.338781</td>\n      <td>16.078387</td>\n      <td>0.065545</td>\n      <td>3.333871</td>\n    </tr>\n    <tr>\n      <th>21</th>\n      <td>All services</td>\n      <td>0.626734</td>\n      <td>0.613839</td>\n      <td>0.000043</td>\n      <td>1.000000</td>\n      <td>0.074860</td>\n      <td>0.992269</td>\n      <td>-0.596738</td>\n      <td>10.011883</td>\n      <td>0.057605</td>\n      <td>5.038962</td>\n    </tr>\n    <tr>\n      <th>22</th>\n      <td>duomo_dist</td>\n      <td>5213.334094</td>\n      <td>4933.363499</td>\n      <td>318.419822</td>\n      <td>61032.302044</td>\n      <td>2533.143374</td>\n      <td>12.600432</td>\n      <td>1.000000</td>\n      <td>277.884758</td>\n      <td>0.188589</td>\n      <td>5.553744</td>\n    </tr>\n  </tbody>\n</table>\n</div>"
     },
     "execution_count": 47,
     "metadata": {},
     "output_type": "execute_result"
    }
   ],
   "source": [
    "corr_df['Mean'] = [index_df[column].mean() for column in list(index_df.loc[:, 'acqua':].columns)]\n",
    "corr_df['Median'] = [index_df[column].median() for column in list(index_df.loc[:, 'acqua':].columns)]\n",
    "corr_df['Minimum'] = [index_df[column].min() for column in list(index_df.loc[:, 'acqua':].columns)]\n",
    "corr_df['Maximum'] = [index_df[column].max() for column in list(index_df.loc[:, 'acqua':].columns)]\n",
    "corr_df['$\\sigma$'] = [index_df[column].std() for column in list(index_df.loc[:, 'acqua':].columns)]\n",
    "corr_df['Skewness'] = [index_df[column].skew() for column in list(index_df.loc[:, 'acqua':].columns)]\n",
    "corr_df['Kurtosis'] = [index_df[column].kurt() for column in list(index_df.loc[:, 'acqua':].columns)]\n",
    "corr_df['Gini']=[gini(index_df[column]) for column in list(index_df.loc[:,'acqua':].columns)]\n",
    "column_to_move = corr_df.pop(\"Correlation\")\n",
    "corr_df.insert(7, \"Correlation\", column_to_move)\n",
    "corr_df['Mutual Information']=[sk.mutual_info_score(index_df[column], index_df.duomo_dist, contingency=None) for column in list(index_df.loc[:,'acqua':].columns)]\n",
    "\n",
    "#pyperclip.copy(corr_df[['Service', 'Mean', 'Median', 'Minimum', 'Maximum', '$\\sigma$', 'Skewness' , 'Kurtosis' ]].to_latex(index=False))\n",
    "pyperclip.copy(corr_df[['Service', 'Gini', 'Correlation', 'Mutual Information']].to_latex(index=False))\n",
    "    \n",
    "corr_df"
   ],
   "metadata": {
    "collapsed": false,
    "ExecuteTime": {
     "end_time": "2023-07-15T09:20:59.238650500Z",
     "start_time": "2023-07-15T09:20:49.523129200Z"
    }
   }
  },
  {
   "cell_type": "code",
   "execution_count": 42,
   "outputs": [
    {
     "name": "stderr",
     "output_type": "stream",
     "text": [
      "C:\\Users\\iodio\\AppData\\Local\\Temp\\ipykernel_1768\\514059487.py:19: FutureWarning: In future versions `DataFrame.to_latex` is expected to utilise the base implementation of `Styler.to_latex` for formatting and rendering. The arguments signature may therefore change. It is recommended instead to use `DataFrame.style.to_latex` which also contains additional functionality.\n",
      "  pyperclip.copy(min_max1.to_latex(index=False))\n"
     ]
    }
   ],
   "source": [
    "def return_min_max(df, columns_to_sort, id_to_return,id_name='ID', n=10):\n",
    "    df= df[df[id_to_return].isin(ed_in)]\n",
    "    df_list=[]\n",
    "    for column in columns_to_sort:\n",
    "        df_max=df.sort_values(column, ascending=False).head(n).reset_index()\n",
    "        df_max=df_max[[column, id_to_return]]\n",
    "        df_max.columns=['Max', id_name+' max']\n",
    "        df_min=df.sort_values(column, ascending=True).head(n).reset_index()\n",
    "        df_min=df_min[[column, id_to_return]]\n",
    "        df_min.columns=['Min', id_name+' min']\n",
    "        df_min_max=pd.concat([df_max, df_min], axis=1)\n",
    "        df_min_max.columns=pd.MultiIndex.from_product([[column], df_min_max.columns])\n",
    "        df_list.append(df_min_max)\n",
    "    return pd.concat(df_list, axis=1)\n",
    "selected_col_list1 = ['consu', 'serd', 'sinf']\n",
    "selected_col_list2 = ['sita', 'sprim','ss2']\n",
    "selected_col_list3 = ['ssec', 'distr','all']\n",
    "min_max1=return_min_max(index_df, selected_col_list1, 'CODICE EDIFICIO', n=10)\n",
    "pyperclip.copy(min_max1.to_latex(index=False))"
   ],
   "metadata": {
    "collapsed": false,
    "ExecuteTime": {
     "end_time": "2023-07-15T09:12:34.205750300Z",
     "start_time": "2023-07-15T09:12:33.890852300Z"
    }
   }
  },
  {
   "cell_type": "code",
   "execution_count": 43,
   "outputs": [
    {
     "name": "stderr",
     "output_type": "stream",
     "text": [
      "C:\\Users\\iodio\\AppData\\Local\\Temp\\ipykernel_1768\\2445627127.py:2: FutureWarning: In future versions `DataFrame.to_latex` is expected to utilise the base implementation of `Styler.to_latex` for formatting and rendering. The arguments signature may therefore change. It is recommended instead to use `DataFrame.style.to_latex` which also contains additional functionality.\n",
      "  pyperclip.copy(min_max2.to_latex(index=False))\n"
     ]
    }
   ],
   "source": [
    "min_max2=return_min_max(index_df, selected_col_list2, 'CODICE EDIFICIO', n=10)\n",
    "pyperclip.copy(min_max2.to_latex(index=False))"
   ],
   "metadata": {
    "collapsed": false,
    "ExecuteTime": {
     "end_time": "2023-07-15T09:12:34.271156300Z",
     "start_time": "2023-07-15T09:12:34.017455400Z"
    }
   }
  },
  {
   "cell_type": "code",
   "execution_count": 44,
   "outputs": [
    {
     "name": "stderr",
     "output_type": "stream",
     "text": [
      "C:\\Users\\iodio\\AppData\\Local\\Temp\\ipykernel_1768\\1363729783.py:2: FutureWarning: In future versions `DataFrame.to_latex` is expected to utilise the base implementation of `Styler.to_latex` for formatting and rendering. The arguments signature may therefore change. It is recommended instead to use `DataFrame.style.to_latex` which also contains additional functionality.\n",
      "  pyperclip.copy(min_max3.to_latex(index=False))\n"
     ]
    }
   ],
   "source": [
    "min_max3=return_min_max(index_df, selected_col_list3, 'CODICE EDIFICIO', n=10)\n",
    "pyperclip.copy(min_max3.to_latex(index=False))"
   ],
   "metadata": {
    "collapsed": false,
    "ExecuteTime": {
     "end_time": "2023-07-15T09:12:34.379798100Z",
     "start_time": "2023-07-15T09:12:34.110197200Z"
    }
   }
  },
  {
   "cell_type": "code",
   "execution_count": 45,
   "outputs": [
    {
     "name": "stdout",
     "output_type": "stream",
     "text": [
      "                            OLS Regression Results                            \n",
      "==============================================================================\n",
      "Dep. Variable:             duomo_dist   R-squared:                       0.512\n",
      "Model:                            OLS   Adj. R-squared:                  0.499\n",
      "Method:                 Least Squares   F-statistic:                     39.35\n",
      "Date:                Sat, 15 Jul 2023   Prob (F-statistic):          1.68e-112\n",
      "Time:                        11:12:34   Log-Likelihood:                -7544.5\n",
      "No. Observations:                 848   AIC:                         1.514e+04\n",
      "Df Residuals:                     825   BIC:                         1.524e+04\n",
      "Df Model:                          22                                         \n",
      "Covariance Type:            nonrobust                                         \n",
      "==============================================================================\n",
      "                 coef    std err          t      P>|t|      [0.025      0.975]\n",
      "------------------------------------------------------------------------------\n",
      "Intercept   2.248e+04    812.893     27.653      0.000    2.09e+04    2.41e+04\n",
      "acqua       1177.4239    264.470      4.452      0.000     658.311    1696.537\n",
      "biblio       216.8985    252.739      0.858      0.391    -279.188     712.985\n",
      "ciclabili  -2692.6950    894.638     -3.010      0.003   -4448.730    -936.660\n",
      "consu      -2795.2609    301.422     -9.274      0.000   -3386.905   -2203.617\n",
      "cult        1993.5122    605.873      3.290      0.001     804.278    3182.747\n",
      "edicole    -2397.8922   1745.357     -1.374      0.170   -5823.756    1027.971\n",
      "farmacie    3576.7013   1227.730      2.913      0.004    1166.860    5986.542\n",
      "metro       1522.5102    265.975      5.724      0.000    1000.443    2044.577\n",
      "parchi       732.0547    420.525      1.741      0.082     -93.371    1557.480\n",
      "posta       1599.5843    327.594      4.883      0.000     956.569    2242.599\n",
      "serd         403.1491    259.525      1.553      0.121    -106.259     912.557\n",
      "sinf       -3238.6313    910.527     -3.557      0.000   -5025.854   -1451.409\n",
      "sita         984.1848    365.611      2.692      0.007     266.548    1701.821\n",
      "sport       1092.8453    890.494      1.227      0.220    -655.055    2840.746\n",
      "sprim      -2637.4196   1016.427     -2.595      0.010   -4632.507    -642.332\n",
      "ss2           34.9798    339.203      0.103      0.918    -630.824     700.783\n",
      "ssec         551.0457    883.813      0.623      0.533   -1183.741    2285.833\n",
      "treni       1060.8187    251.371      4.220      0.000     567.416    1554.221\n",
      "uni         -471.1060    282.836     -1.666      0.096   -1026.268      84.056\n",
      "wifi       -4942.3056   1166.662     -4.236      0.000   -7232.281   -2652.331\n",
      "distr      -1069.5250    901.511     -1.186      0.236   -2839.050     700.000\n",
      "all        -2.034e+04   2443.763     -8.325      0.000   -2.51e+04   -1.55e+04\n",
      "==============================================================================\n",
      "Omnibus:                     1548.829   Durbin-Watson:                   1.455\n",
      "Prob(Omnibus):                  0.000   Jarque-Bera (JB):          2485534.017\n",
      "Skew:                          12.140   Prob(JB):                         0.00\n",
      "Kurtosis:                     267.113   Cond. No.                         113.\n",
      "==============================================================================\n",
      "\n",
      "Notes:\n",
      "[1] Standard Errors assume that the covariance matrix of the errors is correctly specified.\n"
     ]
    }
   ],
   "source": [
    "y, X = dmatrices('duomo_dist ~  acqua + biblio + ciclabili+ consu + cult + edicole + farmacie + metro + parchi + posta + serd + sinf + sita + sport + sprim + ss2 + ssec + treni + uni + wifi + distr + all', data=index_df, return_type='dataframe')\n",
    "mod = sm.OLS(y, X)\n",
    "res = mod.fit()\n",
    "print(res.summary())"
   ],
   "metadata": {
    "collapsed": false,
    "ExecuteTime": {
     "end_time": "2023-07-15T09:12:34.411311800Z",
     "start_time": "2023-07-15T09:12:34.205750300Z"
    }
   }
  }
 ],
 "metadata": {
  "kernelspec": {
   "display_name": "Python 3",
   "language": "python",
   "name": "python3"
  },
  "language_info": {
   "codemirror_mode": {
    "name": "ipython",
    "version": 2
   },
   "file_extension": ".py",
   "mimetype": "text/x-python",
   "name": "python",
   "nbconvert_exporter": "python",
   "pygments_lexer": "ipython2",
   "version": "2.7.6"
  }
 },
 "nbformat": 4,
 "nbformat_minor": 0
}
