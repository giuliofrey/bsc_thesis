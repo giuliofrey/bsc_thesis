{
 "cells": [
  {
   "cell_type": "markdown",
   "source": [
    "# Analysis\n"
   ],
   "metadata": {
    "collapsed": false
   }
  },
  {
   "cell_type": "code",
   "execution_count": 27,
   "outputs": [],
   "source": [
    "import pandas as pd\n",
    "import numpy as np\n",
    "import matplotlib.pyplot as plt\n",
    "import fiona\n",
    "from shapely.geometry import MultiPoint, Point, Polygon,shape\n",
    "import random\n",
    "import warnings"
   ],
   "metadata": {
    "collapsed": false,
    "ExecuteTime": {
     "end_time": "2023-07-05T13:17:44.124485500Z",
     "start_time": "2023-07-05T13:17:43.886727100Z"
    }
   }
  },
  {
   "cell_type": "markdown",
   "source": [
    "## Data Cleaning and preprocessing"
   ],
   "metadata": {
    "collapsed": false
   }
  },
  {
   "cell_type": "code",
   "execution_count": 28,
   "outputs": [
    {
     "ename": "ParserError",
     "evalue": "Error tokenizing data. C error: Calling read(nbytes) on source failed. Try engine='python'.",
     "output_type": "error",
     "traceback": [
      "\u001B[1;31m---------------------------------------------------------------------------\u001B[0m",
      "\u001B[1;31mParserError\u001B[0m                               Traceback (most recent call last)",
      "Cell \u001B[1;32mIn[28], line 1\u001B[0m\n\u001B[1;32m----> 1\u001B[0m calc_df_fixed\u001B[38;5;241m=\u001B[39m\u001B[43mpd\u001B[49m\u001B[38;5;241;43m.\u001B[39;49m\u001B[43mread_csv\u001B[49m\u001B[43m(\u001B[49m\u001B[38;5;124;43m'\u001B[39;49m\u001B[38;5;124;43m../outputs/calc_fixed_df.csv\u001B[39;49m\u001B[38;5;124;43m'\u001B[39;49m\u001B[43m,\u001B[49m\u001B[43m \u001B[49m\u001B[43mlow_memory\u001B[49m\u001B[38;5;241;43m=\u001B[39;49m\u001B[38;5;28;43;01mFalse\u001B[39;49;00m\u001B[43m)\u001B[49m\n\u001B[0;32m      2\u001B[0m mm_df\u001B[38;5;241m=\u001B[39mpd\u001B[38;5;241m.\u001B[39mread_csv(\u001B[38;5;124m'\u001B[39m\u001B[38;5;124m../outputs/mm_dataset.csv\u001B[39m\u001B[38;5;124m'\u001B[39m)\n\u001B[0;32m      3\u001B[0m \u001B[38;5;66;03m#removing all non geolocated services\u001B[39;00m\n",
      "File \u001B[1;32mC:\\ProgramData\\anaconda3\\lib\\site-packages\\pandas\\util\\_decorators.py:211\u001B[0m, in \u001B[0;36mdeprecate_kwarg.<locals>._deprecate_kwarg.<locals>.wrapper\u001B[1;34m(*args, **kwargs)\u001B[0m\n\u001B[0;32m    209\u001B[0m     \u001B[38;5;28;01melse\u001B[39;00m:\n\u001B[0;32m    210\u001B[0m         kwargs[new_arg_name] \u001B[38;5;241m=\u001B[39m new_arg_value\n\u001B[1;32m--> 211\u001B[0m \u001B[38;5;28;01mreturn\u001B[39;00m func(\u001B[38;5;241m*\u001B[39margs, \u001B[38;5;241m*\u001B[39m\u001B[38;5;241m*\u001B[39mkwargs)\n",
      "File \u001B[1;32mC:\\ProgramData\\anaconda3\\lib\\site-packages\\pandas\\util\\_decorators.py:331\u001B[0m, in \u001B[0;36mdeprecate_nonkeyword_arguments.<locals>.decorate.<locals>.wrapper\u001B[1;34m(*args, **kwargs)\u001B[0m\n\u001B[0;32m    325\u001B[0m \u001B[38;5;28;01mif\u001B[39;00m \u001B[38;5;28mlen\u001B[39m(args) \u001B[38;5;241m>\u001B[39m num_allow_args:\n\u001B[0;32m    326\u001B[0m     warnings\u001B[38;5;241m.\u001B[39mwarn(\n\u001B[0;32m    327\u001B[0m         msg\u001B[38;5;241m.\u001B[39mformat(arguments\u001B[38;5;241m=\u001B[39m_format_argument_list(allow_args)),\n\u001B[0;32m    328\u001B[0m         \u001B[38;5;167;01mFutureWarning\u001B[39;00m,\n\u001B[0;32m    329\u001B[0m         stacklevel\u001B[38;5;241m=\u001B[39mfind_stack_level(),\n\u001B[0;32m    330\u001B[0m     )\n\u001B[1;32m--> 331\u001B[0m \u001B[38;5;28;01mreturn\u001B[39;00m func(\u001B[38;5;241m*\u001B[39margs, \u001B[38;5;241m*\u001B[39m\u001B[38;5;241m*\u001B[39mkwargs)\n",
      "File \u001B[1;32mC:\\ProgramData\\anaconda3\\lib\\site-packages\\pandas\\io\\parsers\\readers.py:950\u001B[0m, in \u001B[0;36mread_csv\u001B[1;34m(filepath_or_buffer, sep, delimiter, header, names, index_col, usecols, squeeze, prefix, mangle_dupe_cols, dtype, engine, converters, true_values, false_values, skipinitialspace, skiprows, skipfooter, nrows, na_values, keep_default_na, na_filter, verbose, skip_blank_lines, parse_dates, infer_datetime_format, keep_date_col, date_parser, dayfirst, cache_dates, iterator, chunksize, compression, thousands, decimal, lineterminator, quotechar, quoting, doublequote, escapechar, comment, encoding, encoding_errors, dialect, error_bad_lines, warn_bad_lines, on_bad_lines, delim_whitespace, low_memory, memory_map, float_precision, storage_options)\u001B[0m\n\u001B[0;32m    935\u001B[0m kwds_defaults \u001B[38;5;241m=\u001B[39m _refine_defaults_read(\n\u001B[0;32m    936\u001B[0m     dialect,\n\u001B[0;32m    937\u001B[0m     delimiter,\n\u001B[1;32m   (...)\u001B[0m\n\u001B[0;32m    946\u001B[0m     defaults\u001B[38;5;241m=\u001B[39m{\u001B[38;5;124m\"\u001B[39m\u001B[38;5;124mdelimiter\u001B[39m\u001B[38;5;124m\"\u001B[39m: \u001B[38;5;124m\"\u001B[39m\u001B[38;5;124m,\u001B[39m\u001B[38;5;124m\"\u001B[39m},\n\u001B[0;32m    947\u001B[0m )\n\u001B[0;32m    948\u001B[0m kwds\u001B[38;5;241m.\u001B[39mupdate(kwds_defaults)\n\u001B[1;32m--> 950\u001B[0m \u001B[38;5;28;01mreturn\u001B[39;00m \u001B[43m_read\u001B[49m\u001B[43m(\u001B[49m\u001B[43mfilepath_or_buffer\u001B[49m\u001B[43m,\u001B[49m\u001B[43m \u001B[49m\u001B[43mkwds\u001B[49m\u001B[43m)\u001B[49m\n",
      "File \u001B[1;32mC:\\ProgramData\\anaconda3\\lib\\site-packages\\pandas\\io\\parsers\\readers.py:611\u001B[0m, in \u001B[0;36m_read\u001B[1;34m(filepath_or_buffer, kwds)\u001B[0m\n\u001B[0;32m    608\u001B[0m     \u001B[38;5;28;01mreturn\u001B[39;00m parser\n\u001B[0;32m    610\u001B[0m \u001B[38;5;28;01mwith\u001B[39;00m parser:\n\u001B[1;32m--> 611\u001B[0m     \u001B[38;5;28;01mreturn\u001B[39;00m \u001B[43mparser\u001B[49m\u001B[38;5;241;43m.\u001B[39;49m\u001B[43mread\u001B[49m\u001B[43m(\u001B[49m\u001B[43mnrows\u001B[49m\u001B[43m)\u001B[49m\n",
      "File \u001B[1;32mC:\\ProgramData\\anaconda3\\lib\\site-packages\\pandas\\io\\parsers\\readers.py:1778\u001B[0m, in \u001B[0;36mTextFileReader.read\u001B[1;34m(self, nrows)\u001B[0m\n\u001B[0;32m   1771\u001B[0m nrows \u001B[38;5;241m=\u001B[39m validate_integer(\u001B[38;5;124m\"\u001B[39m\u001B[38;5;124mnrows\u001B[39m\u001B[38;5;124m\"\u001B[39m, nrows)\n\u001B[0;32m   1772\u001B[0m \u001B[38;5;28;01mtry\u001B[39;00m:\n\u001B[0;32m   1773\u001B[0m     \u001B[38;5;66;03m# error: \"ParserBase\" has no attribute \"read\"\u001B[39;00m\n\u001B[0;32m   1774\u001B[0m     (\n\u001B[0;32m   1775\u001B[0m         index,\n\u001B[0;32m   1776\u001B[0m         columns,\n\u001B[0;32m   1777\u001B[0m         col_dict,\n\u001B[1;32m-> 1778\u001B[0m     ) \u001B[38;5;241m=\u001B[39m \u001B[38;5;28;43mself\u001B[39;49m\u001B[38;5;241;43m.\u001B[39;49m\u001B[43m_engine\u001B[49m\u001B[38;5;241;43m.\u001B[39;49m\u001B[43mread\u001B[49m\u001B[43m(\u001B[49m\u001B[43m  \u001B[49m\u001B[38;5;66;43;03m# type: ignore[attr-defined]\u001B[39;49;00m\n\u001B[0;32m   1779\u001B[0m \u001B[43m        \u001B[49m\u001B[43mnrows\u001B[49m\n\u001B[0;32m   1780\u001B[0m \u001B[43m    \u001B[49m\u001B[43m)\u001B[49m\n\u001B[0;32m   1781\u001B[0m \u001B[38;5;28;01mexcept\u001B[39;00m \u001B[38;5;167;01mException\u001B[39;00m:\n\u001B[0;32m   1782\u001B[0m     \u001B[38;5;28mself\u001B[39m\u001B[38;5;241m.\u001B[39mclose()\n",
      "File \u001B[1;32mC:\\ProgramData\\anaconda3\\lib\\site-packages\\pandas\\io\\parsers\\c_parser_wrapper.py:235\u001B[0m, in \u001B[0;36mCParserWrapper.read\u001B[1;34m(self, nrows)\u001B[0m\n\u001B[0;32m    232\u001B[0m         data \u001B[38;5;241m=\u001B[39m _concatenate_chunks(chunks)\n\u001B[0;32m    234\u001B[0m     \u001B[38;5;28;01melse\u001B[39;00m:\n\u001B[1;32m--> 235\u001B[0m         data \u001B[38;5;241m=\u001B[39m \u001B[38;5;28;43mself\u001B[39;49m\u001B[38;5;241;43m.\u001B[39;49m\u001B[43m_reader\u001B[49m\u001B[38;5;241;43m.\u001B[39;49m\u001B[43mread\u001B[49m\u001B[43m(\u001B[49m\u001B[43mnrows\u001B[49m\u001B[43m)\u001B[49m\n\u001B[0;32m    236\u001B[0m \u001B[38;5;28;01mexcept\u001B[39;00m \u001B[38;5;167;01mStopIteration\u001B[39;00m:\n\u001B[0;32m    237\u001B[0m     \u001B[38;5;28;01mif\u001B[39;00m \u001B[38;5;28mself\u001B[39m\u001B[38;5;241m.\u001B[39m_first_chunk:\n",
      "File \u001B[1;32mC:\\ProgramData\\anaconda3\\lib\\site-packages\\pandas\\_libs\\parsers.pyx:790\u001B[0m, in \u001B[0;36mpandas._libs.parsers.TextReader.read\u001B[1;34m()\u001B[0m\n",
      "File \u001B[1;32mC:\\ProgramData\\anaconda3\\lib\\site-packages\\pandas\\_libs\\parsers.pyx:883\u001B[0m, in \u001B[0;36mpandas._libs.parsers.TextReader._read_rows\u001B[1;34m()\u001B[0m\n",
      "File \u001B[1;32mC:\\ProgramData\\anaconda3\\lib\\site-packages\\pandas\\_libs\\parsers.pyx:1973\u001B[0m, in \u001B[0;36mpandas._libs.parsers.raise_parser_error\u001B[1;34m()\u001B[0m\n",
      "\u001B[1;31mParserError\u001B[0m: Error tokenizing data. C error: Calling read(nbytes) on source failed. Try engine='python'."
     ]
    }
   ],
   "source": [
    "calc_df_fixed=pd.read_csv('../outputs/calc_fixed_df.csv', low_memory=False)\n",
    "mm_df=pd.read_csv('../outputs/mm_dataset.csv')\n",
    "#removing all non geolocated services\n",
    "calc_df_fixed = calc_df_fixed.drop(calc_df_fixed[calc_df_fixed['long'].isna()].index)"
   ],
   "metadata": {
    "collapsed": false,
    "ExecuteTime": {
     "end_time": "2023-07-05T13:17:47.728169500Z",
     "start_time": "2023-07-05T13:17:43.920222500Z"
    }
   }
  },
  {
   "cell_type": "markdown",
   "source": [
    "Cleaning all housing units outside of comune di milano"
   ],
   "metadata": {
    "collapsed": false
   }
  },
  {
   "cell_type": "code",
   "execution_count": null,
   "outputs": [],
   "source": [
    "multipol = fiona.open(r\"../datasets/milan_shape/L090102_ComuneMilano.shp\")\n",
    "multi = next(iter(multipol))\n",
    "\n",
    "found=False\n",
    "while not found:\n",
    "    a=random.uniform(8.8, 9.37)\n",
    "    b=random.uniform(45.35, 45.9)\n",
    "    point = Point(a, b)\n",
    "    found=point.within(shape(multi['geometry']))\n",
    "\n",
    "print(a, b)"
   ],
   "metadata": {
    "collapsed": false
   }
  },
  {
   "cell_type": "markdown",
   "source": [
    "multipol = fiona.open(r\"C:\\Users\\Jordi\\Downloads\\ESP_adm_shp\\ESP_adm0.shp\")\n",
    "multi = next(iter(multipol))\n",
    "\n",
    "point = Point(0,42)\n",
    "point.within(shape(multi['geometry']))"
   ],
   "metadata": {
    "collapsed": false
   }
  },
  {
   "cell_type": "markdown",
   "source": [
    "## Summary statistics"
   ],
   "metadata": {
    "collapsed": false
   }
  },
  {
   "cell_type": "code",
   "execution_count": null,
   "outputs": [],
   "source": [
    "desc_mm=calc_df_fixed.groupby('df_name').describe()\n",
    "desc_mm=desc_mm.drop(['long', 'lat'], axis=1)\n",
    "desc_mm=desc_mm.T\n",
    "desc_mm.head()"
   ],
   "metadata": {
    "collapsed": false
   }
  },
  {
   "cell_type": "code",
   "execution_count": null,
   "outputs": [],
   "source": [
    "min_services=calc_df_fixed.groupby('df_name').min()\n",
    "min_services=min_services.drop(['long', 'lat', 'cat1_name', 'cat2_name'], axis=1)\n",
    "desc_services=pd.DataFrame()\n",
    "desc_services['min']=min_services.min(axis=1)\n",
    "desc_services['id_min']=min_services.idxmin(axis=1)\n",
    "max_services=calc_df_fixed.groupby('df_name').min()\n",
    "max_services=max_services.drop(['long', 'lat', 'cat1_name', 'cat2_name'], axis=1)\n",
    "desc_services['max']=max_services.max(axis=1)\n",
    "desc_services['id_max']=max_services.idxmax(axis=1)\n",
    "avg_services=calc_df_fixed.groupby('df_name').mean()\n",
    "desc_services['avg']=avg_services.mean(axis=1)\n",
    "sd_services=calc_df_fixed.groupby('df_name').std()\n",
    "desc_services['sd']=avg_services.std(axis=1)\n",
    "desc_services"
   ],
   "metadata": {
    "collapsed": false
   }
  },
  {
   "cell_type": "code",
   "execution_count": null,
   "outputs": [],
   "source": [
    "max_20=calc_df_fixed.groupby('df_name').min()\n",
    "max_20=max_20.drop(['long', 'lat', 'cat1_name', 'cat2_name'], axis=1)\n",
    "max_20=max_20.T\n",
    "max_20"
   ],
   "metadata": {
    "collapsed": false
   }
  },
  {
   "cell_type": "code",
   "execution_count": null,
   "outputs": [],
   "source": [
    "plt.hist(max_20['ss2'])"
   ],
   "metadata": {
    "collapsed": false
   }
  },
  {
   "cell_type": "markdown",
   "source": [
    "# Index calculator\n",
    "\n",
    "We construct the index as illustrated in the paper, note that in this notebook we just prove the concept, the full calculation happnes in another file (index.py)"
   ],
   "metadata": {
    "collapsed": false
   }
  },
  {
   "cell_type": "code",
   "execution_count": 71,
   "outputs": [
    {
     "data": {
      "text/plain": "0.25"
     },
     "execution_count": 71,
     "metadata": {},
     "output_type": "execute_result"
    }
   ],
   "source": [
    "def penality_function(x, dhat):\n",
    "    if x <= dhat:\n",
    "        return 1\n",
    "    if x > dhat:\n",
    "        return 1/(x-dhat+1)\n",
    "\n",
    "def con_index(dist_list, dhat, n_max, alpha, beta):\n",
    "    if  alpha + beta != 1:\n",
    "        raise Exception(\"Alpha and Beta should sum to one\")\n",
    "    d_min = min(dist_list)\n",
    "    close_list=[d for d in dist_list if d <=dhat]\n",
    "    n = len(close_list)\n",
    "    CI = alpha*penality_function(d_min, dhat)+beta*(n/n_max)\n",
    "    return CI\n",
    "\n",
    "con_index([9,6,6,6,6], 5, 3, 0.5, 0.5)"
   ],
   "metadata": {
    "collapsed": false,
    "ExecuteTime": {
     "end_time": "2023-07-05T14:59:44.614498200Z",
     "start_time": "2023-07-05T14:59:44.568872900Z"
    }
   }
  },
  {
   "cell_type": "code",
   "execution_count": 57,
   "outputs": [
    {
     "data": {
      "text/plain": "3"
     },
     "execution_count": 57,
     "metadata": {},
     "output_type": "execute_result"
    }
   ],
   "source": [
    "def best_in_class(df_name, dhat, df=calc_df_fixed):\n",
    "    e_list=list(df.columns)\n",
    "    e_list=[item for item in e_list if item not in ['name', 'long', 'lat','df_name', 'cat1', 'cat2', 'cat1_name', 'cat2_name']]\n",
    "    nmax_dict=dict.fromkeys(e_list)\n",
    "    if df_name=='all':\n",
    "        pass\n",
    "    else:\n",
    "        df=df[df.df_name==df_name]\n",
    "    for elem in e_list:\n",
    "        dist_list=list(df[str(elem)])\n",
    "        close_list=[d for d in dist_list if d <=dhat]\n",
    "        nmax_dict[elem]=len(close_list)\n",
    "    return max(nmax_dict.values())\n",
    "\n",
    "best_in_class('biblio', 60*15)"
   ],
   "metadata": {
    "collapsed": false,
    "ExecuteTime": {
     "end_time": "2023-07-05T14:54:09.587604100Z",
     "start_time": "2023-07-05T14:54:09.570600Z"
    }
   }
  },
  {
   "cell_type": "code",
   "execution_count": null,
   "outputs": [],
   "source": [
    "min(calc_df_fixed['10002602'].to_list())"
   ],
   "metadata": {
    "collapsed": false
   }
  },
  {
   "cell_type": "code",
   "execution_count": 97,
   "outputs": [
    {
     "data": {
      "text/plain": "     CODICE EDIFICIO                full_address        lat       lon\n0           10001708  VIA DEL TURCHINO 20 MILANO  45.451893  9.228053\n1           10001709  VIA DEL TURCHINO 20 MILANO  45.451893  9.228053\n2           10001710  VIA DEL TURCHINO 20 MILANO  45.451893  9.228053\n3           10001711  VIA DEL TURCHINO 20 MILANO  45.451893  9.228053\n4           10001712  VIA DEL TURCHINO 22 MILANO  45.451893  9.228053\n..               ...                         ...        ...       ...\n975         51039405  VIA SENIGALLIA 60/G MILANO  45.532143  9.168970\n976         51039406    VIA SENIGALLIA 60 MILANO  45.532143  9.168970\n977         51039407    VIA SENIGALLIA 60 MILANO  45.532143  9.168970\n978         51039408    VIA SENIGALLIA 60 MILANO  45.532143  9.168970\n979         51039410    VIA SENIGALLIA 60 MILANO  45.532143  9.168970\n\n[980 rows x 4 columns]",
      "text/html": "<div>\n<style scoped>\n    .dataframe tbody tr th:only-of-type {\n        vertical-align: middle;\n    }\n\n    .dataframe tbody tr th {\n        vertical-align: top;\n    }\n\n    .dataframe thead th {\n        text-align: right;\n    }\n</style>\n<table border=\"1\" class=\"dataframe\">\n  <thead>\n    <tr style=\"text-align: right;\">\n      <th></th>\n      <th>CODICE EDIFICIO</th>\n      <th>full_address</th>\n      <th>lat</th>\n      <th>lon</th>\n    </tr>\n  </thead>\n  <tbody>\n    <tr>\n      <th>0</th>\n      <td>10001708</td>\n      <td>VIA DEL TURCHINO 20 MILANO</td>\n      <td>45.451893</td>\n      <td>9.228053</td>\n    </tr>\n    <tr>\n      <th>1</th>\n      <td>10001709</td>\n      <td>VIA DEL TURCHINO 20 MILANO</td>\n      <td>45.451893</td>\n      <td>9.228053</td>\n    </tr>\n    <tr>\n      <th>2</th>\n      <td>10001710</td>\n      <td>VIA DEL TURCHINO 20 MILANO</td>\n      <td>45.451893</td>\n      <td>9.228053</td>\n    </tr>\n    <tr>\n      <th>3</th>\n      <td>10001711</td>\n      <td>VIA DEL TURCHINO 20 MILANO</td>\n      <td>45.451893</td>\n      <td>9.228053</td>\n    </tr>\n    <tr>\n      <th>4</th>\n      <td>10001712</td>\n      <td>VIA DEL TURCHINO 22 MILANO</td>\n      <td>45.451893</td>\n      <td>9.228053</td>\n    </tr>\n    <tr>\n      <th>...</th>\n      <td>...</td>\n      <td>...</td>\n      <td>...</td>\n      <td>...</td>\n    </tr>\n    <tr>\n      <th>975</th>\n      <td>51039405</td>\n      <td>VIA SENIGALLIA 60/G MILANO</td>\n      <td>45.532143</td>\n      <td>9.168970</td>\n    </tr>\n    <tr>\n      <th>976</th>\n      <td>51039406</td>\n      <td>VIA SENIGALLIA 60 MILANO</td>\n      <td>45.532143</td>\n      <td>9.168970</td>\n    </tr>\n    <tr>\n      <th>977</th>\n      <td>51039407</td>\n      <td>VIA SENIGALLIA 60 MILANO</td>\n      <td>45.532143</td>\n      <td>9.168970</td>\n    </tr>\n    <tr>\n      <th>978</th>\n      <td>51039408</td>\n      <td>VIA SENIGALLIA 60 MILANO</td>\n      <td>45.532143</td>\n      <td>9.168970</td>\n    </tr>\n    <tr>\n      <th>979</th>\n      <td>51039410</td>\n      <td>VIA SENIGALLIA 60 MILANO</td>\n      <td>45.532143</td>\n      <td>9.168970</td>\n    </tr>\n  </tbody>\n</table>\n<p>980 rows × 4 columns</p>\n</div>"
     },
     "execution_count": 97,
     "metadata": {},
     "output_type": "execute_result"
    }
   ],
   "source": [
    "mm_columns_list=['CODICE EDIFICIO', 'full_address', 'lat', 'lon']\n",
    "index_df=mm_df[mm_columns_list]\n",
    "index_df"
   ],
   "metadata": {
    "collapsed": false,
    "ExecuteTime": {
     "end_time": "2023-07-05T15:48:09.146587100Z",
     "start_time": "2023-07-05T15:48:09.117363600Z"
    }
   }
  },
  {
   "cell_type": "code",
   "execution_count": 78,
   "outputs": [
    {
     "data": {
      "text/plain": "['acqua',\n 'biblio',\n 'ciclabili',\n 'consu',\n 'cult',\n 'edicole',\n 'farmacie',\n 'metro',\n 'parchi',\n 'posta',\n 'serd',\n 'sinf',\n 'sita',\n 'sport',\n 'sprim',\n 'ss2',\n 'ssec',\n 'treni',\n 'uni',\n 'wifi',\n 'distr',\n 'all']"
     },
     "execution_count": 78,
     "metadata": {},
     "output_type": "execute_result"
    }
   ],
   "source": [
    "columns_list=list(calc_df_fixed.df_name.unique())+['all']\n",
    "[best_in_class(name, 60*15)  for name in columns_list] #checking if function works for all dataframes"
   ],
   "metadata": {
    "collapsed": false,
    "ExecuteTime": {
     "end_time": "2023-07-05T15:27:30.988455600Z",
     "start_time": "2023-07-05T15:27:26.841812400Z"
    }
   }
  },
  {
   "cell_type": "code",
   "execution_count": 86,
   "outputs": [
    {
     "data": {
      "text/plain": "[1.0,\n 0.8333333333333333,\n 0.5570175438596491,\n 0.8,\n 0.5106382978723404,\n 0.6120689655172413,\n 0.7580645161290323,\n 0.6,\n 0.5982658959537572,\n 0.6875,\n 0.6,\n 0.8928571428571428,\n 0.5357142857142857,\n 0.7586206896551724,\n 0.85625,\n 0.5833333333333334,\n 0.686046511627907,\n 0.0027716186252771603,\n 0.5263157894736842,\n 0.5943396226415094,\n 0.547085201793722,\n 0.6635044642857143]"
     },
     "execution_count": 86,
     "metadata": {},
     "output_type": "execute_result"
    }
   ],
   "source": [
    "def fun_run(codice_edificio, dhat, alpha, beta, out_df, df=calc_df_fixed):\n",
    "    columns_list=list(df.df_name.unique())+['all']\n",
    "    #out_dict\n",
    "    out_list=[]\n",
    "    col_out_list=[]\n",
    "    for column in columns_list:\n",
    "        if column=='all':\n",
    "            df_subset=df\n",
    "\n",
    "        else:\n",
    "            df_subset=df[df.df_name==column]\n",
    "        dist_list=df_subset[str(codice_edificio)].to_list()\n",
    "        if dist_list==[]:\n",
    "            out=np.nan\n",
    "            warnings.warn(\"Empty list\")\n",
    "        else:\n",
    "            n_max=best_in_class(column, dhat)\n",
    "            try:\n",
    "                out=con_index(dist_list=dist_list, dhat=dhat, n_max=n_max, alpha=alpha, beta=beta)\n",
    "            except:\n",
    "                out=np.nan\n",
    "                warnings.warn(\"Index not calculated because of some issue\")\n",
    "        col_out_list.append(column)\n",
    "        out_list.append(out)\n",
    "    if col_out_list == ['acqua', 'biblio', 'ciclabili','consu','cult', 'edicole', 'farmacie', 'metro', 'parchi', 'posta', 'serd', 'sinf', 'sita', 'sport', 'sprim', 'ss2', 'ssec', 'treni', 'uni', 'wifi', 'distr','all']:\n",
    "        return out_list\n",
    "    else:\n",
    "        raise Exception(\"Not all columns are outputs of fun run\")\n",
    "\n",
    "\n",
    "fun_run(10003003, dhat=60*15, alpha=0.5, beta=0.5, out_df=index_df)"
   ],
   "metadata": {
    "collapsed": false,
    "ExecuteTime": {
     "end_time": "2023-07-05T15:43:05.187272500Z",
     "start_time": "2023-07-05T15:43:00.675882Z"
    }
   }
  },
  {
   "cell_type": "code",
   "execution_count": 98,
   "outputs": [
    {
     "name": "stderr",
     "output_type": "stream",
     "text": [
      "C:\\Users\\iodio\\AppData\\Local\\Temp\\ipykernel_45416\\1734720053.py:2: SettingWithCopyWarning: \n",
      "A value is trying to be set on a copy of a slice from a DataFrame.\n",
      "Try using .loc[row_indexer,col_indexer] = value instead\n",
      "\n",
      "See the caveats in the documentation: https://pandas.pydata.org/pandas-docs/stable/user_guide/indexing.html#returning-a-view-versus-a-copy\n",
      "  index_df['list']=index_df['CODICE EDIFICIO'].apply(lambda x: fun_run(x, dhat=60*15, alpha=0.5, beta=0.5, out_df=index_df))\n"
     ]
    },
    {
     "data": {
      "text/plain": "   CODICE EDIFICIO                full_address        lat       lon  \\\n0         10001708  VIA DEL TURCHINO 20 MILANO  45.451893  9.228053   \n1         10001709  VIA DEL TURCHINO 20 MILANO  45.451893  9.228053   \n2         10001710  VIA DEL TURCHINO 20 MILANO  45.451893  9.228053   \n3         10001711  VIA DEL TURCHINO 20 MILANO  45.451893  9.228053   \n4         10001712  VIA DEL TURCHINO 22 MILANO  45.451893  9.228053   \n\n                                                list  \n0  [0.6666666666666666, 0.6666666666666666, 0.627...  \n1  [0.6666666666666666, 0.6666666666666666, 0.627...  \n2  [0.6666666666666666, 0.6666666666666666, 0.627...  \n3  [0.6666666666666666, 0.6666666666666666, 0.627...  \n4  [0.6666666666666666, 0.6666666666666666, 0.627...  ",
      "text/html": "<div>\n<style scoped>\n    .dataframe tbody tr th:only-of-type {\n        vertical-align: middle;\n    }\n\n    .dataframe tbody tr th {\n        vertical-align: top;\n    }\n\n    .dataframe thead th {\n        text-align: right;\n    }\n</style>\n<table border=\"1\" class=\"dataframe\">\n  <thead>\n    <tr style=\"text-align: right;\">\n      <th></th>\n      <th>CODICE EDIFICIO</th>\n      <th>full_address</th>\n      <th>lat</th>\n      <th>lon</th>\n      <th>list</th>\n    </tr>\n  </thead>\n  <tbody>\n    <tr>\n      <th>0</th>\n      <td>10001708</td>\n      <td>VIA DEL TURCHINO 20 MILANO</td>\n      <td>45.451893</td>\n      <td>9.228053</td>\n      <td>[0.6666666666666666, 0.6666666666666666, 0.627...</td>\n    </tr>\n    <tr>\n      <th>1</th>\n      <td>10001709</td>\n      <td>VIA DEL TURCHINO 20 MILANO</td>\n      <td>45.451893</td>\n      <td>9.228053</td>\n      <td>[0.6666666666666666, 0.6666666666666666, 0.627...</td>\n    </tr>\n    <tr>\n      <th>2</th>\n      <td>10001710</td>\n      <td>VIA DEL TURCHINO 20 MILANO</td>\n      <td>45.451893</td>\n      <td>9.228053</td>\n      <td>[0.6666666666666666, 0.6666666666666666, 0.627...</td>\n    </tr>\n    <tr>\n      <th>3</th>\n      <td>10001711</td>\n      <td>VIA DEL TURCHINO 20 MILANO</td>\n      <td>45.451893</td>\n      <td>9.228053</td>\n      <td>[0.6666666666666666, 0.6666666666666666, 0.627...</td>\n    </tr>\n    <tr>\n      <th>4</th>\n      <td>10001712</td>\n      <td>VIA DEL TURCHINO 22 MILANO</td>\n      <td>45.451893</td>\n      <td>9.228053</td>\n      <td>[0.6666666666666666, 0.6666666666666666, 0.627...</td>\n    </tr>\n  </tbody>\n</table>\n</div>"
     },
     "execution_count": 98,
     "metadata": {},
     "output_type": "execute_result"
    }
   ],
   "source": [
    "index_df=index_df.head(n=5)\n",
    "index_df['list']=index_df['CODICE EDIFICIO'].apply(lambda x: fun_run(x, dhat=60*15, alpha=0.5, beta=0.5, out_df=index_df))\n",
    "index_df"
   ],
   "metadata": {
    "collapsed": false,
    "ExecuteTime": {
     "end_time": "2023-07-05T15:48:33.834842800Z",
     "start_time": "2023-07-05T15:48:12.937026500Z"
    }
   }
  },
  {
   "cell_type": "code",
   "execution_count": 99,
   "outputs": [
    {
     "data": {
      "text/plain": "   CODICE EDIFICIO                full_address        lat       lon  \\\n0         10001708  VIA DEL TURCHINO 20 MILANO  45.451893  9.228053   \n1         10001709  VIA DEL TURCHINO 20 MILANO  45.451893  9.228053   \n2         10001710  VIA DEL TURCHINO 20 MILANO  45.451893  9.228053   \n3         10001711  VIA DEL TURCHINO 20 MILANO  45.451893  9.228053   \n4         10001712  VIA DEL TURCHINO 22 MILANO  45.451893  9.228053   \n\n                                                list     acqua    biblio  \\\n0  [0.6666666666666666, 0.6666666666666666, 0.627...  0.666667  0.666667   \n1  [0.6666666666666666, 0.6666666666666666, 0.627...  0.666667  0.666667   \n2  [0.6666666666666666, 0.6666666666666666, 0.627...  0.666667  0.666667   \n3  [0.6666666666666666, 0.6666666666666666, 0.627...  0.666667  0.666667   \n4  [0.6666666666666666, 0.6666666666666666, 0.627...  0.666667  0.666667   \n\n   ciclabili     consu      cult  ...      sita     sport    sprim       ss2  \\\n0   0.627193  0.001999  0.000592  ...  0.571429  0.594828  0.63125  0.541667   \n1   0.627193  0.001999  0.000592  ...  0.571429  0.594828  0.63125  0.541667   \n2   0.627193  0.001999  0.000592  ...  0.571429  0.594828  0.63125  0.541667   \n3   0.627193  0.001999  0.000592  ...  0.571429  0.594828  0.63125  0.541667   \n4   0.627193  0.001999  0.000592  ...  0.571429  0.594828  0.63125  0.541667   \n\n       ssec  treni       uni      wifi     distr       all  \n0  0.593023  0.625  0.064103  0.566038  0.515695  0.614397  \n1  0.593023  0.625  0.064103  0.566038  0.515695  0.614397  \n2  0.593023  0.625  0.064103  0.566038  0.515695  0.614397  \n3  0.593023  0.625  0.064103  0.566038  0.515695  0.614397  \n4  0.593023  0.625  0.064103  0.566038  0.515695  0.614397  \n\n[5 rows x 27 columns]",
      "text/html": "<div>\n<style scoped>\n    .dataframe tbody tr th:only-of-type {\n        vertical-align: middle;\n    }\n\n    .dataframe tbody tr th {\n        vertical-align: top;\n    }\n\n    .dataframe thead th {\n        text-align: right;\n    }\n</style>\n<table border=\"1\" class=\"dataframe\">\n  <thead>\n    <tr style=\"text-align: right;\">\n      <th></th>\n      <th>CODICE EDIFICIO</th>\n      <th>full_address</th>\n      <th>lat</th>\n      <th>lon</th>\n      <th>list</th>\n      <th>acqua</th>\n      <th>biblio</th>\n      <th>ciclabili</th>\n      <th>consu</th>\n      <th>cult</th>\n      <th>...</th>\n      <th>sita</th>\n      <th>sport</th>\n      <th>sprim</th>\n      <th>ss2</th>\n      <th>ssec</th>\n      <th>treni</th>\n      <th>uni</th>\n      <th>wifi</th>\n      <th>distr</th>\n      <th>all</th>\n    </tr>\n  </thead>\n  <tbody>\n    <tr>\n      <th>0</th>\n      <td>10001708</td>\n      <td>VIA DEL TURCHINO 20 MILANO</td>\n      <td>45.451893</td>\n      <td>9.228053</td>\n      <td>[0.6666666666666666, 0.6666666666666666, 0.627...</td>\n      <td>0.666667</td>\n      <td>0.666667</td>\n      <td>0.627193</td>\n      <td>0.001999</td>\n      <td>0.000592</td>\n      <td>...</td>\n      <td>0.571429</td>\n      <td>0.594828</td>\n      <td>0.63125</td>\n      <td>0.541667</td>\n      <td>0.593023</td>\n      <td>0.625</td>\n      <td>0.064103</td>\n      <td>0.566038</td>\n      <td>0.515695</td>\n      <td>0.614397</td>\n    </tr>\n    <tr>\n      <th>1</th>\n      <td>10001709</td>\n      <td>VIA DEL TURCHINO 20 MILANO</td>\n      <td>45.451893</td>\n      <td>9.228053</td>\n      <td>[0.6666666666666666, 0.6666666666666666, 0.627...</td>\n      <td>0.666667</td>\n      <td>0.666667</td>\n      <td>0.627193</td>\n      <td>0.001999</td>\n      <td>0.000592</td>\n      <td>...</td>\n      <td>0.571429</td>\n      <td>0.594828</td>\n      <td>0.63125</td>\n      <td>0.541667</td>\n      <td>0.593023</td>\n      <td>0.625</td>\n      <td>0.064103</td>\n      <td>0.566038</td>\n      <td>0.515695</td>\n      <td>0.614397</td>\n    </tr>\n    <tr>\n      <th>2</th>\n      <td>10001710</td>\n      <td>VIA DEL TURCHINO 20 MILANO</td>\n      <td>45.451893</td>\n      <td>9.228053</td>\n      <td>[0.6666666666666666, 0.6666666666666666, 0.627...</td>\n      <td>0.666667</td>\n      <td>0.666667</td>\n      <td>0.627193</td>\n      <td>0.001999</td>\n      <td>0.000592</td>\n      <td>...</td>\n      <td>0.571429</td>\n      <td>0.594828</td>\n      <td>0.63125</td>\n      <td>0.541667</td>\n      <td>0.593023</td>\n      <td>0.625</td>\n      <td>0.064103</td>\n      <td>0.566038</td>\n      <td>0.515695</td>\n      <td>0.614397</td>\n    </tr>\n    <tr>\n      <th>3</th>\n      <td>10001711</td>\n      <td>VIA DEL TURCHINO 20 MILANO</td>\n      <td>45.451893</td>\n      <td>9.228053</td>\n      <td>[0.6666666666666666, 0.6666666666666666, 0.627...</td>\n      <td>0.666667</td>\n      <td>0.666667</td>\n      <td>0.627193</td>\n      <td>0.001999</td>\n      <td>0.000592</td>\n      <td>...</td>\n      <td>0.571429</td>\n      <td>0.594828</td>\n      <td>0.63125</td>\n      <td>0.541667</td>\n      <td>0.593023</td>\n      <td>0.625</td>\n      <td>0.064103</td>\n      <td>0.566038</td>\n      <td>0.515695</td>\n      <td>0.614397</td>\n    </tr>\n    <tr>\n      <th>4</th>\n      <td>10001712</td>\n      <td>VIA DEL TURCHINO 22 MILANO</td>\n      <td>45.451893</td>\n      <td>9.228053</td>\n      <td>[0.6666666666666666, 0.6666666666666666, 0.627...</td>\n      <td>0.666667</td>\n      <td>0.666667</td>\n      <td>0.627193</td>\n      <td>0.001999</td>\n      <td>0.000592</td>\n      <td>...</td>\n      <td>0.571429</td>\n      <td>0.594828</td>\n      <td>0.63125</td>\n      <td>0.541667</td>\n      <td>0.593023</td>\n      <td>0.625</td>\n      <td>0.064103</td>\n      <td>0.566038</td>\n      <td>0.515695</td>\n      <td>0.614397</td>\n    </tr>\n  </tbody>\n</table>\n<p>5 rows × 27 columns</p>\n</div>"
     },
     "execution_count": 99,
     "metadata": {},
     "output_type": "execute_result"
    }
   ],
   "source": [
    "list_df=pd.DataFrame(index_df['list'].to_list(), columns = columns_list)\n",
    "index_df = pd.concat([index_df, list_df], axis=1)\n",
    "index_df"
   ],
   "metadata": {
    "collapsed": false,
    "ExecuteTime": {
     "end_time": "2023-07-05T15:48:33.894530700Z",
     "start_time": "2023-07-05T15:48:33.849843900Z"
    }
   }
  }
 ],
 "metadata": {
  "kernelspec": {
   "display_name": "Python 3",
   "language": "python",
   "name": "python3"
  },
  "language_info": {
   "codemirror_mode": {
    "name": "ipython",
    "version": 2
   },
   "file_extension": ".py",
   "mimetype": "text/x-python",
   "name": "python",
   "nbconvert_exporter": "python",
   "pygments_lexer": "ipython2",
   "version": "2.7.6"
  }
 },
 "nbformat": 4,
 "nbformat_minor": 0
}
