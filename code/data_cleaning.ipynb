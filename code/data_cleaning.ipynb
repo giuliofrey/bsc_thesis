{
 "cells": [
  {
   "cell_type": "code",
   "execution_count": 93,
   "metadata": {
    "collapsed": true
   },
   "outputs": [],
   "source": [
    "import pandas as pd\n",
    "import numpy as np"
   ]
  },
  {
   "cell_type": "code",
   "execution_count": 94,
   "outputs": [],
   "source": [
    "mm_df=pd.read_csv('../outputs/mm_dataset.csv')\n",
    "mm_df = mm_df.replace('not found', np.nan)"
   ],
   "metadata": {
    "collapsed": false
   }
  },
  {
   "cell_type": "markdown",
   "source": [
    "# Individual dataset cleaning"
   ],
   "metadata": {
    "collapsed": false
   }
  },
  {
   "cell_type": "markdown",
   "source": [
    "### Cultural points"
   ],
   "metadata": {
    "collapsed": false
   }
  },
  {
   "cell_type": "code",
   "execution_count": 95,
   "outputs": [
    {
     "data": {
      "text/plain": "   IDBENE   CATEGORIA                DENOMINAZIONE  \\\n0    7089  Capolavori                          NaN   \n1    6962  Capolavori  Eracle e figure di divinità   \n2    6920  Capolavori                          NaN   \n3    6924  Capolavori                          NaN   \n4    7047  Capolavori                    guerriero   \n\n                       DEFINIZIONE                          AUTORE  \\\n0                          tappeto  ambito Persia nord occidentale   \n1                           altare               produzione romana   \n2                       deltaplano              Icaro 2000 (1973-)   \n3  macchina per la colata continua    Properzi, Ilario (1897-1976)   \n4                             vaso                   cultura Huari   \n\n                         EPOCA PROVINCIA SIGLAPROVINCIA  CODICECOMUNE  \\\n0                  1542 - 1543    Milano             MI         15146   \n1  I sec. d.C. - III sec. d.C.    Milano             MI         15146   \n2                     sec. XIX    Milano             MI         15146   \n3                  1947 - 1948    Milano             MI         15146   \n4                    500 - 900    Milano             MI         15146   \n\n  LOCALITA  ... TIPOSCHEDA_SIRBEC  IDBENE_COLLEZIONE IDBENE_MUSEO  \\\n0      NaN  ...                OA             6851.0       6810.0   \n1      NaN  ...                RA             6846.0       6803.0   \n2      NaN  ...               PST             6867.0       6812.0   \n3      NaN  ...               PST             6867.0       6812.0   \n4      NaN  ...                OA             6866.0       6807.0   \n\n  IDBENE_ARCHITETTURA IDBENE_BORGO IDBENE_COMPLESSO IDBENE_EDIFICIO WGS84_Y  \\\n0                 NaN          NaN              NaN             NaN     NaN   \n1                 NaN          NaN              NaN             NaN     NaN   \n2                 NaN          NaN              NaN             NaN     NaN   \n3                 NaN          NaN              NaN             NaN     NaN   \n4                 NaN          NaN              NaN             NaN     NaN   \n\n  WGS84_X LOCATION  \n0     NaN      NaN  \n1     NaN      NaN  \n2     NaN      NaN  \n3     NaN      NaN  \n4     NaN      NaN  \n\n[5 rows x 37 columns]",
      "text/html": "<div>\n<style scoped>\n    .dataframe tbody tr th:only-of-type {\n        vertical-align: middle;\n    }\n\n    .dataframe tbody tr th {\n        vertical-align: top;\n    }\n\n    .dataframe thead th {\n        text-align: right;\n    }\n</style>\n<table border=\"1\" class=\"dataframe\">\n  <thead>\n    <tr style=\"text-align: right;\">\n      <th></th>\n      <th>IDBENE</th>\n      <th>CATEGORIA</th>\n      <th>DENOMINAZIONE</th>\n      <th>DEFINIZIONE</th>\n      <th>AUTORE</th>\n      <th>EPOCA</th>\n      <th>PROVINCIA</th>\n      <th>SIGLAPROVINCIA</th>\n      <th>CODICECOMUNE</th>\n      <th>LOCALITA</th>\n      <th>...</th>\n      <th>TIPOSCHEDA_SIRBEC</th>\n      <th>IDBENE_COLLEZIONE</th>\n      <th>IDBENE_MUSEO</th>\n      <th>IDBENE_ARCHITETTURA</th>\n      <th>IDBENE_BORGO</th>\n      <th>IDBENE_COMPLESSO</th>\n      <th>IDBENE_EDIFICIO</th>\n      <th>WGS84_Y</th>\n      <th>WGS84_X</th>\n      <th>LOCATION</th>\n    </tr>\n  </thead>\n  <tbody>\n    <tr>\n      <th>0</th>\n      <td>7089</td>\n      <td>Capolavori</td>\n      <td>NaN</td>\n      <td>tappeto</td>\n      <td>ambito Persia nord occidentale</td>\n      <td>1542 - 1543</td>\n      <td>Milano</td>\n      <td>MI</td>\n      <td>15146</td>\n      <td>NaN</td>\n      <td>...</td>\n      <td>OA</td>\n      <td>6851.0</td>\n      <td>6810.0</td>\n      <td>NaN</td>\n      <td>NaN</td>\n      <td>NaN</td>\n      <td>NaN</td>\n      <td>NaN</td>\n      <td>NaN</td>\n      <td>NaN</td>\n    </tr>\n    <tr>\n      <th>1</th>\n      <td>6962</td>\n      <td>Capolavori</td>\n      <td>Eracle e figure di divinità</td>\n      <td>altare</td>\n      <td>produzione romana</td>\n      <td>I sec. d.C. - III sec. d.C.</td>\n      <td>Milano</td>\n      <td>MI</td>\n      <td>15146</td>\n      <td>NaN</td>\n      <td>...</td>\n      <td>RA</td>\n      <td>6846.0</td>\n      <td>6803.0</td>\n      <td>NaN</td>\n      <td>NaN</td>\n      <td>NaN</td>\n      <td>NaN</td>\n      <td>NaN</td>\n      <td>NaN</td>\n      <td>NaN</td>\n    </tr>\n    <tr>\n      <th>2</th>\n      <td>6920</td>\n      <td>Capolavori</td>\n      <td>NaN</td>\n      <td>deltaplano</td>\n      <td>Icaro 2000 (1973-)</td>\n      <td>sec. XIX</td>\n      <td>Milano</td>\n      <td>MI</td>\n      <td>15146</td>\n      <td>NaN</td>\n      <td>...</td>\n      <td>PST</td>\n      <td>6867.0</td>\n      <td>6812.0</td>\n      <td>NaN</td>\n      <td>NaN</td>\n      <td>NaN</td>\n      <td>NaN</td>\n      <td>NaN</td>\n      <td>NaN</td>\n      <td>NaN</td>\n    </tr>\n    <tr>\n      <th>3</th>\n      <td>6924</td>\n      <td>Capolavori</td>\n      <td>NaN</td>\n      <td>macchina per la colata continua</td>\n      <td>Properzi, Ilario (1897-1976)</td>\n      <td>1947 - 1948</td>\n      <td>Milano</td>\n      <td>MI</td>\n      <td>15146</td>\n      <td>NaN</td>\n      <td>...</td>\n      <td>PST</td>\n      <td>6867.0</td>\n      <td>6812.0</td>\n      <td>NaN</td>\n      <td>NaN</td>\n      <td>NaN</td>\n      <td>NaN</td>\n      <td>NaN</td>\n      <td>NaN</td>\n      <td>NaN</td>\n    </tr>\n    <tr>\n      <th>4</th>\n      <td>7047</td>\n      <td>Capolavori</td>\n      <td>guerriero</td>\n      <td>vaso</td>\n      <td>cultura Huari</td>\n      <td>500 - 900</td>\n      <td>Milano</td>\n      <td>MI</td>\n      <td>15146</td>\n      <td>NaN</td>\n      <td>...</td>\n      <td>OA</td>\n      <td>6866.0</td>\n      <td>6807.0</td>\n      <td>NaN</td>\n      <td>NaN</td>\n      <td>NaN</td>\n      <td>NaN</td>\n      <td>NaN</td>\n      <td>NaN</td>\n      <td>NaN</td>\n    </tr>\n  </tbody>\n</table>\n<p>5 rows × 37 columns</p>\n</div>"
     },
     "execution_count": 95,
     "metadata": {},
     "output_type": "execute_result"
    }
   ],
   "source": [
    "cult_df=pd.read_csv('../datasets/beni-culturali-siti-nel-comune-di-milano_c23i-gtvh.csv', sep=';')\n",
    "cult_df.head()"
   ],
   "metadata": {
    "collapsed": false
   }
  },
  {
   "cell_type": "code",
   "execution_count": 96,
   "outputs": [
    {
     "data": {
      "text/plain": "                 DENOMINAZIONE   CATEGORIA                      DEFINIZIONE  \\\n0                          NaN  Capolavori                          tappeto   \n1  Eracle e figure di divinità  Capolavori                           altare   \n2                          NaN  Capolavori                       deltaplano   \n3                          NaN  Capolavori  macchina per la colata continua   \n4                    guerriero  Capolavori                             vaso   \n\n   WGS84_X  WGS84_Y  \n0      NaN      NaN  \n1      NaN      NaN  \n2      NaN      NaN  \n3      NaN      NaN  \n4      NaN      NaN  ",
      "text/html": "<div>\n<style scoped>\n    .dataframe tbody tr th:only-of-type {\n        vertical-align: middle;\n    }\n\n    .dataframe tbody tr th {\n        vertical-align: top;\n    }\n\n    .dataframe thead th {\n        text-align: right;\n    }\n</style>\n<table border=\"1\" class=\"dataframe\">\n  <thead>\n    <tr style=\"text-align: right;\">\n      <th></th>\n      <th>DENOMINAZIONE</th>\n      <th>CATEGORIA</th>\n      <th>DEFINIZIONE</th>\n      <th>WGS84_X</th>\n      <th>WGS84_Y</th>\n    </tr>\n  </thead>\n  <tbody>\n    <tr>\n      <th>0</th>\n      <td>NaN</td>\n      <td>Capolavori</td>\n      <td>tappeto</td>\n      <td>NaN</td>\n      <td>NaN</td>\n    </tr>\n    <tr>\n      <th>1</th>\n      <td>Eracle e figure di divinità</td>\n      <td>Capolavori</td>\n      <td>altare</td>\n      <td>NaN</td>\n      <td>NaN</td>\n    </tr>\n    <tr>\n      <th>2</th>\n      <td>NaN</td>\n      <td>Capolavori</td>\n      <td>deltaplano</td>\n      <td>NaN</td>\n      <td>NaN</td>\n    </tr>\n    <tr>\n      <th>3</th>\n      <td>NaN</td>\n      <td>Capolavori</td>\n      <td>macchina per la colata continua</td>\n      <td>NaN</td>\n      <td>NaN</td>\n    </tr>\n    <tr>\n      <th>4</th>\n      <td>guerriero</td>\n      <td>Capolavori</td>\n      <td>vaso</td>\n      <td>NaN</td>\n      <td>NaN</td>\n    </tr>\n  </tbody>\n</table>\n</div>"
     },
     "execution_count": 96,
     "metadata": {},
     "output_type": "execute_result"
    }
   ],
   "source": [
    "cult_df=cult_df[['DENOMINAZIONE', 'CATEGORIA', 'DEFINIZIONE', 'WGS84_X', 'WGS84_Y']]\n",
    "cult_len=len(cult_df)\n",
    "cult_df.head()"
   ],
   "metadata": {
    "collapsed": false
   }
  },
  {
   "cell_type": "markdown",
   "source": [
    "### Libraries"
   ],
   "metadata": {
    "collapsed": false
   }
  },
  {
   "cell_type": "code",
   "execution_count": 97,
   "outputs": [
    {
     "data": {
      "text/plain": "                                  Biblioteche - Sede  \\\n0                                           Accursio   \n1                                             Affori   \n2               Baggio (sede provv. P.zza Stovani 3)   \n3                                          Bibliobus   \n4  Biblioteca Crescenzago (sede provv. P.le Gover...   \n\n                                Indirizzo    CAP                 telefono  \\\n0                     Piazzale Accursio 5  20151              02 88464300   \n1                         Viale Affori 21  20161  0288462522 - 0288462526   \n2             sede provv. P.zza Stovani 3  20153              02 88465804   \n3                         Via Bezzecca 18  20135               3357762410   \n4  sede provv. P.le Governo Provvisorio 9  20123              02 88465808   \n\n                                               Orari  \\\n0  lunedi: chiuso, martedi e giovedi: 9.30-14.30,...   \n1  lunedi: chiuso, martedi e giovedi:14.00-19.00,...   \n2  lunedi: chiuso, martedi e giovedi:9.00-13.30, ...   \n3         Dal lunedi al sabato dalle 9.00 alle 12.30   \n4  lunedi: chiuso, martedi:9.30-14.30, mercoledi ...   \n\n                                 E-mail  \\\n0     c.biblioaccursio@comune.milano.it   \n1       c.biblioaffori@comune.milano.it   \n2       c.bibliobaggio@comune.milano.it   \n3          c.bibliobus@comune.milano.it   \n4  c.bibliocrescenzago@comune.milano.it   \n\n                          Mezzi pubblici  \\\n0    bus 48, 57, 69, 90, 91 / tram 14, 1   \n1                                   n.d.   \n2                                   n.d.   \n3                                   n.d.   \n4  bus 44, 51, 53, 56, 75 / M2 (Cimiano)   \n\n                                                Note  MUNICIPIO  ID_NIL  \\\n0                Ritiro prenotazioni su appuntamento          8      71   \n1                Ritiro prenotazioni su appuntamento          9      80   \n2  per ritirare le prenotazioni o accedere agli s...          7      55   \n3  sara' possibile ritirare i libri prenotati pri...          4      26   \n4                Ritiro prenotazioni su appuntamento          2      19   \n\n                                        NIL      long        lat  \\\n0       VILLAPIZZONE - CAGNOLA - BOLDINASCO  9.146150  45.491398   \n1                                    AFFORI  9.167394  45.516629   \n2  BAGGIO - Q.RE DEGLI OLMI - Q.RE VALSESIA  9.091209  45.463178   \n3                                XXII MARZO  9.213189  45.460661   \n4              PADOVA - TURRO - CRESCENZAGO  9.225293  45.498250   \n\n                Location  \n0   (45.491398, 9.14615)  \n1  (45.516629, 9.167394)  \n2  (45.463178, 9.091209)  \n3  (45.460661, 9.213189)  \n4   (45.49825, 9.225293)  ",
      "text/html": "<div>\n<style scoped>\n    .dataframe tbody tr th:only-of-type {\n        vertical-align: middle;\n    }\n\n    .dataframe tbody tr th {\n        vertical-align: top;\n    }\n\n    .dataframe thead th {\n        text-align: right;\n    }\n</style>\n<table border=\"1\" class=\"dataframe\">\n  <thead>\n    <tr style=\"text-align: right;\">\n      <th></th>\n      <th>Biblioteche - Sede</th>\n      <th>Indirizzo</th>\n      <th>CAP</th>\n      <th>telefono</th>\n      <th>Orari</th>\n      <th>E-mail</th>\n      <th>Mezzi pubblici</th>\n      <th>Note</th>\n      <th>MUNICIPIO</th>\n      <th>ID_NIL</th>\n      <th>NIL</th>\n      <th>long</th>\n      <th>lat</th>\n      <th>Location</th>\n    </tr>\n  </thead>\n  <tbody>\n    <tr>\n      <th>0</th>\n      <td>Accursio</td>\n      <td>Piazzale Accursio 5</td>\n      <td>20151</td>\n      <td>02 88464300</td>\n      <td>lunedi: chiuso, martedi e giovedi: 9.30-14.30,...</td>\n      <td>c.biblioaccursio@comune.milano.it</td>\n      <td>bus 48, 57, 69, 90, 91 / tram 14, 1</td>\n      <td>Ritiro prenotazioni su appuntamento</td>\n      <td>8</td>\n      <td>71</td>\n      <td>VILLAPIZZONE - CAGNOLA - BOLDINASCO</td>\n      <td>9.146150</td>\n      <td>45.491398</td>\n      <td>(45.491398, 9.14615)</td>\n    </tr>\n    <tr>\n      <th>1</th>\n      <td>Affori</td>\n      <td>Viale Affori 21</td>\n      <td>20161</td>\n      <td>0288462522 - 0288462526</td>\n      <td>lunedi: chiuso, martedi e giovedi:14.00-19.00,...</td>\n      <td>c.biblioaffori@comune.milano.it</td>\n      <td>n.d.</td>\n      <td>Ritiro prenotazioni su appuntamento</td>\n      <td>9</td>\n      <td>80</td>\n      <td>AFFORI</td>\n      <td>9.167394</td>\n      <td>45.516629</td>\n      <td>(45.516629, 9.167394)</td>\n    </tr>\n    <tr>\n      <th>2</th>\n      <td>Baggio (sede provv. P.zza Stovani 3)</td>\n      <td>sede provv. P.zza Stovani 3</td>\n      <td>20153</td>\n      <td>02 88465804</td>\n      <td>lunedi: chiuso, martedi e giovedi:9.00-13.30, ...</td>\n      <td>c.bibliobaggio@comune.milano.it</td>\n      <td>n.d.</td>\n      <td>per ritirare le prenotazioni o accedere agli s...</td>\n      <td>7</td>\n      <td>55</td>\n      <td>BAGGIO - Q.RE DEGLI OLMI - Q.RE VALSESIA</td>\n      <td>9.091209</td>\n      <td>45.463178</td>\n      <td>(45.463178, 9.091209)</td>\n    </tr>\n    <tr>\n      <th>3</th>\n      <td>Bibliobus</td>\n      <td>Via Bezzecca 18</td>\n      <td>20135</td>\n      <td>3357762410</td>\n      <td>Dal lunedi al sabato dalle 9.00 alle 12.30</td>\n      <td>c.bibliobus@comune.milano.it</td>\n      <td>n.d.</td>\n      <td>sara' possibile ritirare i libri prenotati pri...</td>\n      <td>4</td>\n      <td>26</td>\n      <td>XXII MARZO</td>\n      <td>9.213189</td>\n      <td>45.460661</td>\n      <td>(45.460661, 9.213189)</td>\n    </tr>\n    <tr>\n      <th>4</th>\n      <td>Biblioteca Crescenzago (sede provv. P.le Gover...</td>\n      <td>sede provv. P.le Governo Provvisorio 9</td>\n      <td>20123</td>\n      <td>02 88465808</td>\n      <td>lunedi: chiuso, martedi:9.30-14.30, mercoledi ...</td>\n      <td>c.bibliocrescenzago@comune.milano.it</td>\n      <td>bus 44, 51, 53, 56, 75 / M2 (Cimiano)</td>\n      <td>Ritiro prenotazioni su appuntamento</td>\n      <td>2</td>\n      <td>19</td>\n      <td>PADOVA - TURRO - CRESCENZAGO</td>\n      <td>9.225293</td>\n      <td>45.498250</td>\n      <td>(45.49825, 9.225293)</td>\n    </tr>\n  </tbody>\n</table>\n</div>"
     },
     "execution_count": 97,
     "metadata": {},
     "output_type": "execute_result"
    }
   ],
   "source": [
    "biblio_df=pd.read_csv('../datasets/biblioteche.csv', sep=';')\n",
    "biblio_df.head()"
   ],
   "metadata": {
    "collapsed": false
   }
  },
  {
   "cell_type": "code",
   "execution_count": 98,
   "outputs": [
    {
     "data": {
      "text/plain": "                                  Biblioteche - Sede      long        lat\n0                                           Accursio  9.146150  45.491398\n1                                             Affori  9.167394  45.516629\n2               Baggio (sede provv. P.zza Stovani 3)  9.091209  45.463178\n3                                          Bibliobus  9.213189  45.460661\n4  Biblioteca Crescenzago (sede provv. P.le Gover...  9.225293  45.498250",
      "text/html": "<div>\n<style scoped>\n    .dataframe tbody tr th:only-of-type {\n        vertical-align: middle;\n    }\n\n    .dataframe tbody tr th {\n        vertical-align: top;\n    }\n\n    .dataframe thead th {\n        text-align: right;\n    }\n</style>\n<table border=\"1\" class=\"dataframe\">\n  <thead>\n    <tr style=\"text-align: right;\">\n      <th></th>\n      <th>Biblioteche - Sede</th>\n      <th>long</th>\n      <th>lat</th>\n    </tr>\n  </thead>\n  <tbody>\n    <tr>\n      <th>0</th>\n      <td>Accursio</td>\n      <td>9.146150</td>\n      <td>45.491398</td>\n    </tr>\n    <tr>\n      <th>1</th>\n      <td>Affori</td>\n      <td>9.167394</td>\n      <td>45.516629</td>\n    </tr>\n    <tr>\n      <th>2</th>\n      <td>Baggio (sede provv. P.zza Stovani 3)</td>\n      <td>9.091209</td>\n      <td>45.463178</td>\n    </tr>\n    <tr>\n      <th>3</th>\n      <td>Bibliobus</td>\n      <td>9.213189</td>\n      <td>45.460661</td>\n    </tr>\n    <tr>\n      <th>4</th>\n      <td>Biblioteca Crescenzago (sede provv. P.le Gover...</td>\n      <td>9.225293</td>\n      <td>45.498250</td>\n    </tr>\n  </tbody>\n</table>\n</div>"
     },
     "execution_count": 98,
     "metadata": {},
     "output_type": "execute_result"
    }
   ],
   "source": [
    "biblio_df=biblio_df[['Biblioteche - Sede', 'long', 'lat']]\n",
    "biblio_len=len(biblio_df)\n",
    "biblio_df.head()"
   ],
   "metadata": {
    "collapsed": false
   }
  },
  {
   "cell_type": "markdown",
   "source": [
    "### Bike Lanes\n",
    "\n",
    "Bike lanes coordinates are based on the center of the total length of the bike lane. This dataset will need a better implementation in the future considering all length"
   ],
   "metadata": {
    "collapsed": false
   }
  },
  {
   "cell_type": "code",
   "execution_count": 99,
   "outputs": [
    {
     "data": {
      "text/plain": "   id_amat  id_via                       anagrafica  gerarchia       rete  \\\n0     9001  1064.0        PIAZZA VENTICINQUE APRILE        NaN     urbana   \n1     9002  3377.0  VIA GIACOMO MEDICI DEL VASCELLO        NaN  ciclabile   \n2     9003  3377.0  VIA GIACOMO MEDICI DEL VASCELLO        NaN  ciclabile   \n3     9004  3377.0  VIA GIACOMO MEDICI DEL VASCELLO        NaN  ciclabile   \n4     9005  3377.0  VIA GIACOMO MEDICI DEL VASCELLO        NaN  ciclabile   \n\n                tipologia             sede                      marcia  \\\n0        promiscuo pedoni  attraversamento               bidirezionale   \n1  ciclabile sede propria      marciapiede  monodirezionale - concorde   \n2  ciclabile sede propria      marciapiede  monodirezionale - concorde   \n3  ciclabile sede propria      marciapiede  monodirezionale - concorde   \n4  ciclabile sede propria      marciapiede  monodirezionale - concorde   \n\n                        norma  lunghezza  LONG_X_4326_CENTROID  \\\n0  attraversamento - generico          8              9.187031   \n1   ordinanza lavori stradali          7              9.241945   \n2   ordinanza lavori stradali          8              9.239956   \n3   ordinanza lavori stradali          5              9.239187   \n4   ordinanza lavori stradali          3              9.239987   \n\n   LAT_Y_4326_CENTROID                              Location  \n0            45.480988   (45.4809876471498, 9.1870305186785)  \n1            45.439272  (45.4392715546864, 9.24194464907128)  \n2            45.440020  (45.4400199268851, 9.23995617266987)  \n3            45.442770   (45.442769857648, 9.23918713129895)  \n4            45.440036  (45.4400362237505, 9.23998716620631)  ",
      "text/html": "<div>\n<style scoped>\n    .dataframe tbody tr th:only-of-type {\n        vertical-align: middle;\n    }\n\n    .dataframe tbody tr th {\n        vertical-align: top;\n    }\n\n    .dataframe thead th {\n        text-align: right;\n    }\n</style>\n<table border=\"1\" class=\"dataframe\">\n  <thead>\n    <tr style=\"text-align: right;\">\n      <th></th>\n      <th>id_amat</th>\n      <th>id_via</th>\n      <th>anagrafica</th>\n      <th>gerarchia</th>\n      <th>rete</th>\n      <th>tipologia</th>\n      <th>sede</th>\n      <th>marcia</th>\n      <th>norma</th>\n      <th>lunghezza</th>\n      <th>LONG_X_4326_CENTROID</th>\n      <th>LAT_Y_4326_CENTROID</th>\n      <th>Location</th>\n    </tr>\n  </thead>\n  <tbody>\n    <tr>\n      <th>0</th>\n      <td>9001</td>\n      <td>1064.0</td>\n      <td>PIAZZA VENTICINQUE APRILE</td>\n      <td>NaN</td>\n      <td>urbana</td>\n      <td>promiscuo pedoni</td>\n      <td>attraversamento</td>\n      <td>bidirezionale</td>\n      <td>attraversamento - generico</td>\n      <td>8</td>\n      <td>9.187031</td>\n      <td>45.480988</td>\n      <td>(45.4809876471498, 9.1870305186785)</td>\n    </tr>\n    <tr>\n      <th>1</th>\n      <td>9002</td>\n      <td>3377.0</td>\n      <td>VIA GIACOMO MEDICI DEL VASCELLO</td>\n      <td>NaN</td>\n      <td>ciclabile</td>\n      <td>ciclabile sede propria</td>\n      <td>marciapiede</td>\n      <td>monodirezionale - concorde</td>\n      <td>ordinanza lavori stradali</td>\n      <td>7</td>\n      <td>9.241945</td>\n      <td>45.439272</td>\n      <td>(45.4392715546864, 9.24194464907128)</td>\n    </tr>\n    <tr>\n      <th>2</th>\n      <td>9003</td>\n      <td>3377.0</td>\n      <td>VIA GIACOMO MEDICI DEL VASCELLO</td>\n      <td>NaN</td>\n      <td>ciclabile</td>\n      <td>ciclabile sede propria</td>\n      <td>marciapiede</td>\n      <td>monodirezionale - concorde</td>\n      <td>ordinanza lavori stradali</td>\n      <td>8</td>\n      <td>9.239956</td>\n      <td>45.440020</td>\n      <td>(45.4400199268851, 9.23995617266987)</td>\n    </tr>\n    <tr>\n      <th>3</th>\n      <td>9004</td>\n      <td>3377.0</td>\n      <td>VIA GIACOMO MEDICI DEL VASCELLO</td>\n      <td>NaN</td>\n      <td>ciclabile</td>\n      <td>ciclabile sede propria</td>\n      <td>marciapiede</td>\n      <td>monodirezionale - concorde</td>\n      <td>ordinanza lavori stradali</td>\n      <td>5</td>\n      <td>9.239187</td>\n      <td>45.442770</td>\n      <td>(45.442769857648, 9.23918713129895)</td>\n    </tr>\n    <tr>\n      <th>4</th>\n      <td>9005</td>\n      <td>3377.0</td>\n      <td>VIA GIACOMO MEDICI DEL VASCELLO</td>\n      <td>NaN</td>\n      <td>ciclabile</td>\n      <td>ciclabile sede propria</td>\n      <td>marciapiede</td>\n      <td>monodirezionale - concorde</td>\n      <td>ordinanza lavori stradali</td>\n      <td>3</td>\n      <td>9.239987</td>\n      <td>45.440036</td>\n      <td>(45.4400362237505, 9.23998716620631)</td>\n    </tr>\n  </tbody>\n</table>\n</div>"
     },
     "execution_count": 99,
     "metadata": {},
     "output_type": "execute_result"
    }
   ],
   "source": [
    "ciclabili_df=pd.read_csv('../datasets/bike_ciclabili.csv', sep=';')\n",
    "ciclabili_df.head()"
   ],
   "metadata": {
    "collapsed": false
   }
  },
  {
   "cell_type": "code",
   "execution_count": 100,
   "outputs": [
    {
     "data": {
      "text/plain": "                        anagrafica  LONG_X_4326_CENTROID  LAT_Y_4326_CENTROID\n0        PIAZZA VENTICINQUE APRILE              9.187031            45.480988\n1  VIA GIACOMO MEDICI DEL VASCELLO              9.241945            45.439272\n2  VIA GIACOMO MEDICI DEL VASCELLO              9.239956            45.440020\n3  VIA GIACOMO MEDICI DEL VASCELLO              9.239187            45.442770\n4  VIA GIACOMO MEDICI DEL VASCELLO              9.239987            45.440036",
      "text/html": "<div>\n<style scoped>\n    .dataframe tbody tr th:only-of-type {\n        vertical-align: middle;\n    }\n\n    .dataframe tbody tr th {\n        vertical-align: top;\n    }\n\n    .dataframe thead th {\n        text-align: right;\n    }\n</style>\n<table border=\"1\" class=\"dataframe\">\n  <thead>\n    <tr style=\"text-align: right;\">\n      <th></th>\n      <th>anagrafica</th>\n      <th>LONG_X_4326_CENTROID</th>\n      <th>LAT_Y_4326_CENTROID</th>\n    </tr>\n  </thead>\n  <tbody>\n    <tr>\n      <th>0</th>\n      <td>PIAZZA VENTICINQUE APRILE</td>\n      <td>9.187031</td>\n      <td>45.480988</td>\n    </tr>\n    <tr>\n      <th>1</th>\n      <td>VIA GIACOMO MEDICI DEL VASCELLO</td>\n      <td>9.241945</td>\n      <td>45.439272</td>\n    </tr>\n    <tr>\n      <th>2</th>\n      <td>VIA GIACOMO MEDICI DEL VASCELLO</td>\n      <td>9.239956</td>\n      <td>45.440020</td>\n    </tr>\n    <tr>\n      <th>3</th>\n      <td>VIA GIACOMO MEDICI DEL VASCELLO</td>\n      <td>9.239187</td>\n      <td>45.442770</td>\n    </tr>\n    <tr>\n      <th>4</th>\n      <td>VIA GIACOMO MEDICI DEL VASCELLO</td>\n      <td>9.239987</td>\n      <td>45.440036</td>\n    </tr>\n  </tbody>\n</table>\n</div>"
     },
     "execution_count": 100,
     "metadata": {},
     "output_type": "execute_result"
    }
   ],
   "source": [
    "ciclabili_df=ciclabili_df[['anagrafica', 'LONG_X_4326_CENTROID', 'LAT_Y_4326_CENTROID']]\n",
    "ciclabili_len=len(ciclabili_df)\n",
    "ciclabili_df.head()"
   ],
   "metadata": {
    "collapsed": false
   }
  },
  {
   "cell_type": "markdown",
   "source": [
    "### Filtered water distribution points"
   ],
   "metadata": {
    "collapsed": false
   }
  },
  {
   "cell_type": "code",
   "execution_count": 101,
   "outputs": [
    {
     "data": {
      "text/plain": "   objectID    CAP  MUNICIPIO  ID_NIL  \\\n0      6268  20152          7      56   \n1     32317  20147          6      53   \n2     32316  20146          7      52   \n3     19510  20146          6      49   \n4      5413  20142          5      41   \n\n                                            NIL  LONG_X_4326  LAT_Y_4326  \\\n0                                  FORZE ARMATE     9.107364   45.456290   \n1                                   LORENTEGGIO     9.125151   45.458188   \n2                                    BANDE NERE     9.136149   45.461792   \n3                                   GIAMBELLINO     9.153322   45.452348   \n4  GRATOSOGLIO - Q.RE MISSAGLIA - Q.RE TERRAZZE     9.171006   45.408128   \n\n                                  Location  \n0  (45.456290384077704, 9.107364204820977)  \n1    (45.45818809353661, 9.12515070197437)  \n2  (45.461792054001286, 9.136148704614333)  \n3   (45.45234812900838, 9.153321879586946)  \n4    (45.4081280716551, 9.171006044160107)  ",
      "text/html": "<div>\n<style scoped>\n    .dataframe tbody tr th:only-of-type {\n        vertical-align: middle;\n    }\n\n    .dataframe tbody tr th {\n        vertical-align: top;\n    }\n\n    .dataframe thead th {\n        text-align: right;\n    }\n</style>\n<table border=\"1\" class=\"dataframe\">\n  <thead>\n    <tr style=\"text-align: right;\">\n      <th></th>\n      <th>objectID</th>\n      <th>CAP</th>\n      <th>MUNICIPIO</th>\n      <th>ID_NIL</th>\n      <th>NIL</th>\n      <th>LONG_X_4326</th>\n      <th>LAT_Y_4326</th>\n      <th>Location</th>\n    </tr>\n  </thead>\n  <tbody>\n    <tr>\n      <th>0</th>\n      <td>6268</td>\n      <td>20152</td>\n      <td>7</td>\n      <td>56</td>\n      <td>FORZE ARMATE</td>\n      <td>9.107364</td>\n      <td>45.456290</td>\n      <td>(45.456290384077704, 9.107364204820977)</td>\n    </tr>\n    <tr>\n      <th>1</th>\n      <td>32317</td>\n      <td>20147</td>\n      <td>6</td>\n      <td>53</td>\n      <td>LORENTEGGIO</td>\n      <td>9.125151</td>\n      <td>45.458188</td>\n      <td>(45.45818809353661, 9.12515070197437)</td>\n    </tr>\n    <tr>\n      <th>2</th>\n      <td>32316</td>\n      <td>20146</td>\n      <td>7</td>\n      <td>52</td>\n      <td>BANDE NERE</td>\n      <td>9.136149</td>\n      <td>45.461792</td>\n      <td>(45.461792054001286, 9.136148704614333)</td>\n    </tr>\n    <tr>\n      <th>3</th>\n      <td>19510</td>\n      <td>20146</td>\n      <td>6</td>\n      <td>49</td>\n      <td>GIAMBELLINO</td>\n      <td>9.153322</td>\n      <td>45.452348</td>\n      <td>(45.45234812900838, 9.153321879586946)</td>\n    </tr>\n    <tr>\n      <th>4</th>\n      <td>5413</td>\n      <td>20142</td>\n      <td>5</td>\n      <td>41</td>\n      <td>GRATOSOGLIO - Q.RE MISSAGLIA - Q.RE TERRAZZE</td>\n      <td>9.171006</td>\n      <td>45.408128</td>\n      <td>(45.4081280716551, 9.171006044160107)</td>\n    </tr>\n  </tbody>\n</table>\n</div>"
     },
     "execution_count": 101,
     "metadata": {},
     "output_type": "execute_result"
    }
   ],
   "source": [
    "acqua_df=pd.read_csv('../datasets/caseacqua_20230213-002801_final.csv', sep=';')\n",
    "acqua_df.head()"
   ],
   "metadata": {
    "collapsed": false
   }
  },
  {
   "cell_type": "code",
   "execution_count": 102,
   "outputs": [
    {
     "data": {
      "text/plain": "                                            NIL  LONG_X_4326  LAT_Y_4326\n0                                  FORZE ARMATE     9.107364   45.456290\n1                                   LORENTEGGIO     9.125151   45.458188\n2                                    BANDE NERE     9.136149   45.461792\n3                                   GIAMBELLINO     9.153322   45.452348\n4  GRATOSOGLIO - Q.RE MISSAGLIA - Q.RE TERRAZZE     9.171006   45.408128",
      "text/html": "<div>\n<style scoped>\n    .dataframe tbody tr th:only-of-type {\n        vertical-align: middle;\n    }\n\n    .dataframe tbody tr th {\n        vertical-align: top;\n    }\n\n    .dataframe thead th {\n        text-align: right;\n    }\n</style>\n<table border=\"1\" class=\"dataframe\">\n  <thead>\n    <tr style=\"text-align: right;\">\n      <th></th>\n      <th>NIL</th>\n      <th>LONG_X_4326</th>\n      <th>LAT_Y_4326</th>\n    </tr>\n  </thead>\n  <tbody>\n    <tr>\n      <th>0</th>\n      <td>FORZE ARMATE</td>\n      <td>9.107364</td>\n      <td>45.456290</td>\n    </tr>\n    <tr>\n      <th>1</th>\n      <td>LORENTEGGIO</td>\n      <td>9.125151</td>\n      <td>45.458188</td>\n    </tr>\n    <tr>\n      <th>2</th>\n      <td>BANDE NERE</td>\n      <td>9.136149</td>\n      <td>45.461792</td>\n    </tr>\n    <tr>\n      <th>3</th>\n      <td>GIAMBELLINO</td>\n      <td>9.153322</td>\n      <td>45.452348</td>\n    </tr>\n    <tr>\n      <th>4</th>\n      <td>GRATOSOGLIO - Q.RE MISSAGLIA - Q.RE TERRAZZE</td>\n      <td>9.171006</td>\n      <td>45.408128</td>\n    </tr>\n  </tbody>\n</table>\n</div>"
     },
     "execution_count": 102,
     "metadata": {},
     "output_type": "execute_result"
    }
   ],
   "source": [
    "acqua_df=acqua_df[['NIL', 'LONG_X_4326', 'LAT_Y_4326']]\n",
    "acqua_len=len(acqua_df)\n",
    "acqua_df.head()"
   ],
   "metadata": {
    "collapsed": false
   }
  },
  {
   "cell_type": "markdown",
   "source": [
    "### Sport centers"
   ],
   "metadata": {
    "collapsed": false
   }
  },
  {
   "cell_type": "code",
   "execution_count": 103,
   "outputs": [
    {
     "data": {
      "text/plain": "           FAX                            Nome                    Indirizzo  \\\n0          NaN                  NON ATTRIBUITO         VIA USSI STEFANO   4   \n1          NaN                   S.S. BAGGIO 2    VIA OLIVIERI ALESSIO   11   \n2  239210739.0                  LIDO DI MILANO       PLE LOTTO LORENZO   15   \n3          NaN  COOP. AGRISPORT SEZIONE CALCIO         VIA DEL RICORDO   58   \n4          NaN  SOCIETA GINNASTICA MILANO 2000  VIA MARTIGNONI ADELE   1  A   \n\n   Zona             info                 URL   TELEFONO1  ID_NIL  \\\n0     9  CENTRO SPORTIVO                 NaN         NaN      13   \n1     7      CALCIO A 11                 NaN   024599310      56   \n2     8        MINI GOLF  www.milanosport.it  0239266100      66   \n3     2  CENTRO SPORTIVO                 NaN  0227207742      17   \n4     2  CENTRO SPORTIVO                 NaN    02603288      12   \n\n                       NIL  LONG_X_4326  LAT_Y_4326  \\\n0          GRECO - SEGNANO     9.208356   45.507102   \n1             FORZE ARMATE     9.111564   45.465571   \n2                     QT 8     9.141940   45.480564   \n3                  ADRIANO     9.237940   45.509320   \n4  MACIACHINI - MAGGIOLINA     9.196138   45.492566   \n\n                               Location  \n0  (45.5071015469858, 9.20835578748649)  \n1  (45.4655714935197, 9.11156409171595)  \n2  (45.4805639255761, 9.14194021229098)  \n3  (45.5093199390653, 9.23794027433961)  \n4   (45.492566239195, 9.19613835069693)  ",
      "text/html": "<div>\n<style scoped>\n    .dataframe tbody tr th:only-of-type {\n        vertical-align: middle;\n    }\n\n    .dataframe tbody tr th {\n        vertical-align: top;\n    }\n\n    .dataframe thead th {\n        text-align: right;\n    }\n</style>\n<table border=\"1\" class=\"dataframe\">\n  <thead>\n    <tr style=\"text-align: right;\">\n      <th></th>\n      <th>FAX</th>\n      <th>Nome</th>\n      <th>Indirizzo</th>\n      <th>Zona</th>\n      <th>info</th>\n      <th>URL</th>\n      <th>TELEFONO1</th>\n      <th>ID_NIL</th>\n      <th>NIL</th>\n      <th>LONG_X_4326</th>\n      <th>LAT_Y_4326</th>\n      <th>Location</th>\n    </tr>\n  </thead>\n  <tbody>\n    <tr>\n      <th>0</th>\n      <td>NaN</td>\n      <td>NON ATTRIBUITO</td>\n      <td>VIA USSI STEFANO   4</td>\n      <td>9</td>\n      <td>CENTRO SPORTIVO</td>\n      <td>NaN</td>\n      <td>NaN</td>\n      <td>13</td>\n      <td>GRECO - SEGNANO</td>\n      <td>9.208356</td>\n      <td>45.507102</td>\n      <td>(45.5071015469858, 9.20835578748649)</td>\n    </tr>\n    <tr>\n      <th>1</th>\n      <td>NaN</td>\n      <td>S.S. BAGGIO 2</td>\n      <td>VIA OLIVIERI ALESSIO   11</td>\n      <td>7</td>\n      <td>CALCIO A 11</td>\n      <td>NaN</td>\n      <td>024599310</td>\n      <td>56</td>\n      <td>FORZE ARMATE</td>\n      <td>9.111564</td>\n      <td>45.465571</td>\n      <td>(45.4655714935197, 9.11156409171595)</td>\n    </tr>\n    <tr>\n      <th>2</th>\n      <td>239210739.0</td>\n      <td>LIDO DI MILANO</td>\n      <td>PLE LOTTO LORENZO   15</td>\n      <td>8</td>\n      <td>MINI GOLF</td>\n      <td>www.milanosport.it</td>\n      <td>0239266100</td>\n      <td>66</td>\n      <td>QT 8</td>\n      <td>9.141940</td>\n      <td>45.480564</td>\n      <td>(45.4805639255761, 9.14194021229098)</td>\n    </tr>\n    <tr>\n      <th>3</th>\n      <td>NaN</td>\n      <td>COOP. AGRISPORT SEZIONE CALCIO</td>\n      <td>VIA DEL RICORDO   58</td>\n      <td>2</td>\n      <td>CENTRO SPORTIVO</td>\n      <td>NaN</td>\n      <td>0227207742</td>\n      <td>17</td>\n      <td>ADRIANO</td>\n      <td>9.237940</td>\n      <td>45.509320</td>\n      <td>(45.5093199390653, 9.23794027433961)</td>\n    </tr>\n    <tr>\n      <th>4</th>\n      <td>NaN</td>\n      <td>SOCIETA GINNASTICA MILANO 2000</td>\n      <td>VIA MARTIGNONI ADELE   1  A</td>\n      <td>2</td>\n      <td>CENTRO SPORTIVO</td>\n      <td>NaN</td>\n      <td>02603288</td>\n      <td>12</td>\n      <td>MACIACHINI - MAGGIOLINA</td>\n      <td>9.196138</td>\n      <td>45.492566</td>\n      <td>(45.492566239195, 9.19613835069693)</td>\n    </tr>\n  </tbody>\n</table>\n</div>"
     },
     "execution_count": 103,
     "metadata": {},
     "output_type": "execute_result"
    }
   ],
   "source": [
    "sport_df=pd.read_csv('../datasets/ds34_impianti_sportivi_final.csv', sep=';')\n",
    "sport_df.head()"
   ],
   "metadata": {
    "collapsed": false
   }
  },
  {
   "cell_type": "code",
   "execution_count": 104,
   "outputs": [
    {
     "data": {
      "text/plain": "                       NIL  LONG_X_4326  LAT_Y_4326\n0          GRECO - SEGNANO     9.208356   45.507102\n1             FORZE ARMATE     9.111564   45.465571\n2                     QT 8     9.141940   45.480564\n3                  ADRIANO     9.237940   45.509320\n4  MACIACHINI - MAGGIOLINA     9.196138   45.492566",
      "text/html": "<div>\n<style scoped>\n    .dataframe tbody tr th:only-of-type {\n        vertical-align: middle;\n    }\n\n    .dataframe tbody tr th {\n        vertical-align: top;\n    }\n\n    .dataframe thead th {\n        text-align: right;\n    }\n</style>\n<table border=\"1\" class=\"dataframe\">\n  <thead>\n    <tr style=\"text-align: right;\">\n      <th></th>\n      <th>NIL</th>\n      <th>LONG_X_4326</th>\n      <th>LAT_Y_4326</th>\n    </tr>\n  </thead>\n  <tbody>\n    <tr>\n      <th>0</th>\n      <td>GRECO - SEGNANO</td>\n      <td>9.208356</td>\n      <td>45.507102</td>\n    </tr>\n    <tr>\n      <th>1</th>\n      <td>FORZE ARMATE</td>\n      <td>9.111564</td>\n      <td>45.465571</td>\n    </tr>\n    <tr>\n      <th>2</th>\n      <td>QT 8</td>\n      <td>9.141940</td>\n      <td>45.480564</td>\n    </tr>\n    <tr>\n      <th>3</th>\n      <td>ADRIANO</td>\n      <td>9.237940</td>\n      <td>45.509320</td>\n    </tr>\n    <tr>\n      <th>4</th>\n      <td>MACIACHINI - MAGGIOLINA</td>\n      <td>9.196138</td>\n      <td>45.492566</td>\n    </tr>\n  </tbody>\n</table>\n</div>"
     },
     "execution_count": 104,
     "metadata": {},
     "output_type": "execute_result"
    }
   ],
   "source": [
    "sport_df=sport_df[['NIL', 'LONG_X_4326', 'LAT_Y_4326']]\n",
    "sport_len=len(sport_df)\n",
    "sport_df.head()"
   ],
   "metadata": {
    "collapsed": false
   }
  },
  {
   "cell_type": "markdown",
   "source": [
    "### High School"
   ],
   "metadata": {
    "collapsed": false
   }
  },
  {
   "cell_type": "code",
   "execution_count": 105,
   "outputs": [
    {
     "data": {
      "text/plain": "   COD_VIA  CIVICO  BARRATO            X            Y  \\\n0     1539      55      NaN  1512581.819  5041068.321   \n1     5105       2      NaN  1513468.534  5033623.417   \n2     1296      11      NaN  1513942.334  5038587.551   \n3     1296      11      NaN  1513942.334  5038587.551   \n4     1313      30      NaN  1514518.189  5038713.411   \n\n                     DENOMINAZ   CATEGORIA  \\\n0                         IPAA  ISTRUZIONE   \n1  IPIA G.FERRARIS-A.PACINOTTI  ISTRUZIONE   \n2               IPIA E.MARELLI  ISTRUZIONE   \n3        IPIA E.MARELLI SERALE  ISTRUZIONE   \n4        ITI GRAFICO PAVONIANO  ISTRUZIONE   \n\n                            TIPOLOGIA                      SOTTOTIPO  \\\n0  SCUOLE SECONDARIE DI SECONDO GRADO  ISTITUTO ISTRUZIONE SUPERIORE   \n1  SCUOLE SECONDARIE DI SECONDO GRADO         ISTITUTO PROFESSIONALE   \n2  SCUOLE SECONDARIE DI SECONDO GRADO         ISTITUTO PROFESSIONALE   \n3  SCUOLE SECONDARIE DI SECONDO GRADO         ISTITUTO PROFESSIONALE   \n4  SCUOLE SECONDARIE DI SECONDO GRADO               ISTITUTO TECNICO   \n\n     TIPO_U  ...          PARITARIA  NUM_CLASSI  \\\n0  STUDENTI  ...          PARITARIA           7   \n1  STUDENTI  ...          PARITARIA          40   \n2  STUDENTI  ...          PARITARIA          22   \n3  STUDENTI  ...          PARITARIA           5   \n4  STUDENTI  ...  PRIVATA PARITARIA           5   \n\n                                            TIPO_IST ATTIVITA MUNICIPIO  \\\n0              ISTITUTO ISTRUZIONE SUPERIORE STATALE   DIURNO         9   \n1  ISTITUTO PROFESSIONALE STATALE PER L'INDUSTRIA...   DIURNO         1   \n2  ISTITUTO PROFESSIONALE STATALE PER L'INDUSTRIA...   DIURNO         9   \n3  ISTITUTO PROFESSIONALE STATALE PER L'INDUSTRIA...   DIURNO         9   \n4                       ISTITUTO TECNICO INDUSTRIALE   DIURNO         9   \n\n  ID_NIL                   NIL LONG_X_4326 LAT_Y_4326  \\\n0     81             BOVISASCA    9.160751  45.522855   \n1      7  MAGENTA - S. VITTORE    9.171901  45.455827   \n2     79               DERGANO    9.178101  45.500500   \n3     79               DERGANO    9.178101  45.500500   \n4     79               DERGANO    9.185475  45.501621   \n\n                               Location  \n0  (45.5228547561716, 9.16075051361466)  \n1  (45.4558270996815, 9.17190097269766)  \n2   (45.5004997923619, 9.1781010362169)  \n3   (45.5004997923619, 9.1781010362169)  \n4  (45.5016209396801, 9.18547541140928)  \n\n[5 rows x 25 columns]",
      "text/html": "<div>\n<style scoped>\n    .dataframe tbody tr th:only-of-type {\n        vertical-align: middle;\n    }\n\n    .dataframe tbody tr th {\n        vertical-align: top;\n    }\n\n    .dataframe thead th {\n        text-align: right;\n    }\n</style>\n<table border=\"1\" class=\"dataframe\">\n  <thead>\n    <tr style=\"text-align: right;\">\n      <th></th>\n      <th>COD_VIA</th>\n      <th>CIVICO</th>\n      <th>BARRATO</th>\n      <th>X</th>\n      <th>Y</th>\n      <th>DENOMINAZ</th>\n      <th>CATEGORIA</th>\n      <th>TIPOLOGIA</th>\n      <th>SOTTOTIPO</th>\n      <th>TIPO_U</th>\n      <th>...</th>\n      <th>PARITARIA</th>\n      <th>NUM_CLASSI</th>\n      <th>TIPO_IST</th>\n      <th>ATTIVITA</th>\n      <th>MUNICIPIO</th>\n      <th>ID_NIL</th>\n      <th>NIL</th>\n      <th>LONG_X_4326</th>\n      <th>LAT_Y_4326</th>\n      <th>Location</th>\n    </tr>\n  </thead>\n  <tbody>\n    <tr>\n      <th>0</th>\n      <td>1539</td>\n      <td>55</td>\n      <td>NaN</td>\n      <td>1512581.819</td>\n      <td>5041068.321</td>\n      <td>IPAA</td>\n      <td>ISTRUZIONE</td>\n      <td>SCUOLE SECONDARIE DI SECONDO GRADO</td>\n      <td>ISTITUTO ISTRUZIONE SUPERIORE</td>\n      <td>STUDENTI</td>\n      <td>...</td>\n      <td>PARITARIA</td>\n      <td>7</td>\n      <td>ISTITUTO ISTRUZIONE SUPERIORE STATALE</td>\n      <td>DIURNO</td>\n      <td>9</td>\n      <td>81</td>\n      <td>BOVISASCA</td>\n      <td>9.160751</td>\n      <td>45.522855</td>\n      <td>(45.5228547561716, 9.16075051361466)</td>\n    </tr>\n    <tr>\n      <th>1</th>\n      <td>5105</td>\n      <td>2</td>\n      <td>NaN</td>\n      <td>1513468.534</td>\n      <td>5033623.417</td>\n      <td>IPIA G.FERRARIS-A.PACINOTTI</td>\n      <td>ISTRUZIONE</td>\n      <td>SCUOLE SECONDARIE DI SECONDO GRADO</td>\n      <td>ISTITUTO PROFESSIONALE</td>\n      <td>STUDENTI</td>\n      <td>...</td>\n      <td>PARITARIA</td>\n      <td>40</td>\n      <td>ISTITUTO PROFESSIONALE STATALE PER L'INDUSTRIA...</td>\n      <td>DIURNO</td>\n      <td>1</td>\n      <td>7</td>\n      <td>MAGENTA - S. VITTORE</td>\n      <td>9.171901</td>\n      <td>45.455827</td>\n      <td>(45.4558270996815, 9.17190097269766)</td>\n    </tr>\n    <tr>\n      <th>2</th>\n      <td>1296</td>\n      <td>11</td>\n      <td>NaN</td>\n      <td>1513942.334</td>\n      <td>5038587.551</td>\n      <td>IPIA E.MARELLI</td>\n      <td>ISTRUZIONE</td>\n      <td>SCUOLE SECONDARIE DI SECONDO GRADO</td>\n      <td>ISTITUTO PROFESSIONALE</td>\n      <td>STUDENTI</td>\n      <td>...</td>\n      <td>PARITARIA</td>\n      <td>22</td>\n      <td>ISTITUTO PROFESSIONALE STATALE PER L'INDUSTRIA...</td>\n      <td>DIURNO</td>\n      <td>9</td>\n      <td>79</td>\n      <td>DERGANO</td>\n      <td>9.178101</td>\n      <td>45.500500</td>\n      <td>(45.5004997923619, 9.1781010362169)</td>\n    </tr>\n    <tr>\n      <th>3</th>\n      <td>1296</td>\n      <td>11</td>\n      <td>NaN</td>\n      <td>1513942.334</td>\n      <td>5038587.551</td>\n      <td>IPIA E.MARELLI SERALE</td>\n      <td>ISTRUZIONE</td>\n      <td>SCUOLE SECONDARIE DI SECONDO GRADO</td>\n      <td>ISTITUTO PROFESSIONALE</td>\n      <td>STUDENTI</td>\n      <td>...</td>\n      <td>PARITARIA</td>\n      <td>5</td>\n      <td>ISTITUTO PROFESSIONALE STATALE PER L'INDUSTRIA...</td>\n      <td>DIURNO</td>\n      <td>9</td>\n      <td>79</td>\n      <td>DERGANO</td>\n      <td>9.178101</td>\n      <td>45.500500</td>\n      <td>(45.5004997923619, 9.1781010362169)</td>\n    </tr>\n    <tr>\n      <th>4</th>\n      <td>1313</td>\n      <td>30</td>\n      <td>NaN</td>\n      <td>1514518.189</td>\n      <td>5038713.411</td>\n      <td>ITI GRAFICO PAVONIANO</td>\n      <td>ISTRUZIONE</td>\n      <td>SCUOLE SECONDARIE DI SECONDO GRADO</td>\n      <td>ISTITUTO TECNICO</td>\n      <td>STUDENTI</td>\n      <td>...</td>\n      <td>PRIVATA PARITARIA</td>\n      <td>5</td>\n      <td>ISTITUTO TECNICO INDUSTRIALE</td>\n      <td>DIURNO</td>\n      <td>9</td>\n      <td>79</td>\n      <td>DERGANO</td>\n      <td>9.185475</td>\n      <td>45.501621</td>\n      <td>(45.5016209396801, 9.18547541140928)</td>\n    </tr>\n  </tbody>\n</table>\n<p>5 rows × 25 columns</p>\n</div>"
     },
     "execution_count": 105,
     "metadata": {},
     "output_type": "execute_result"
    }
   ],
   "source": [
    "ss2_df = pd.read_csv('../datasets/ds78_scuolesecondariesecondogrado_final.csv', sep=';')\n",
    "ss2_df.head()"
   ],
   "metadata": {
    "collapsed": false
   }
  },
  {
   "cell_type": "code",
   "execution_count": 106,
   "outputs": [
    {
     "data": {
      "text/plain": "                     DENOMINAZ              POSIZGIURI  \\\n0                         IPAA                 STATALE   \n1  IPIA G.FERRARIS-A.PACINOTTI                 STATALE   \n2               IPIA E.MARELLI                 STATALE   \n3        IPIA E.MARELLI SERALE                 STATALE   \n4        ITI GRAFICO PAVONIANO  ENTE PRIVATO RELIGIOSO   \n\n                                            TIPO_IST  LONG_X_4326  LAT_Y_4326  \n0              ISTITUTO ISTRUZIONE SUPERIORE STATALE     9.160751   45.522855  \n1  ISTITUTO PROFESSIONALE STATALE PER L'INDUSTRIA...     9.171901   45.455827  \n2  ISTITUTO PROFESSIONALE STATALE PER L'INDUSTRIA...     9.178101   45.500500  \n3  ISTITUTO PROFESSIONALE STATALE PER L'INDUSTRIA...     9.178101   45.500500  \n4                       ISTITUTO TECNICO INDUSTRIALE     9.185475   45.501621  ",
      "text/html": "<div>\n<style scoped>\n    .dataframe tbody tr th:only-of-type {\n        vertical-align: middle;\n    }\n\n    .dataframe tbody tr th {\n        vertical-align: top;\n    }\n\n    .dataframe thead th {\n        text-align: right;\n    }\n</style>\n<table border=\"1\" class=\"dataframe\">\n  <thead>\n    <tr style=\"text-align: right;\">\n      <th></th>\n      <th>DENOMINAZ</th>\n      <th>POSIZGIURI</th>\n      <th>TIPO_IST</th>\n      <th>LONG_X_4326</th>\n      <th>LAT_Y_4326</th>\n    </tr>\n  </thead>\n  <tbody>\n    <tr>\n      <th>0</th>\n      <td>IPAA</td>\n      <td>STATALE</td>\n      <td>ISTITUTO ISTRUZIONE SUPERIORE STATALE</td>\n      <td>9.160751</td>\n      <td>45.522855</td>\n    </tr>\n    <tr>\n      <th>1</th>\n      <td>IPIA G.FERRARIS-A.PACINOTTI</td>\n      <td>STATALE</td>\n      <td>ISTITUTO PROFESSIONALE STATALE PER L'INDUSTRIA...</td>\n      <td>9.171901</td>\n      <td>45.455827</td>\n    </tr>\n    <tr>\n      <th>2</th>\n      <td>IPIA E.MARELLI</td>\n      <td>STATALE</td>\n      <td>ISTITUTO PROFESSIONALE STATALE PER L'INDUSTRIA...</td>\n      <td>9.178101</td>\n      <td>45.500500</td>\n    </tr>\n    <tr>\n      <th>3</th>\n      <td>IPIA E.MARELLI SERALE</td>\n      <td>STATALE</td>\n      <td>ISTITUTO PROFESSIONALE STATALE PER L'INDUSTRIA...</td>\n      <td>9.178101</td>\n      <td>45.500500</td>\n    </tr>\n    <tr>\n      <th>4</th>\n      <td>ITI GRAFICO PAVONIANO</td>\n      <td>ENTE PRIVATO RELIGIOSO</td>\n      <td>ISTITUTO TECNICO INDUSTRIALE</td>\n      <td>9.185475</td>\n      <td>45.501621</td>\n    </tr>\n  </tbody>\n</table>\n</div>"
     },
     "execution_count": 106,
     "metadata": {},
     "output_type": "execute_result"
    }
   ],
   "source": [
    "ss2_df=ss2_df[['DENOMINAZ','POSIZGIURI','TIPO_IST', 'LONG_X_4326', 'LAT_Y_4326']]\n",
    "ss2_len=len(ss2_df)\n",
    "ss2_df.head()"
   ],
   "metadata": {
    "collapsed": false
   }
  },
  {
   "cell_type": "markdown",
   "source": [
    "### Universities"
   ],
   "metadata": {
    "collapsed": false
   }
  },
  {
   "cell_type": "code",
   "execution_count": 107,
   "outputs": [
    {
     "data": {
      "text/plain": "   COD_VIA CIVICO BARRATO             X             Y  \\\n0     1523      3     NaN  1.514767e+06  5.039559e+06   \n1     4012      1     NaN  1.515116e+06  5.033571e+06   \n2     2177     42     NaN  1.517013e+06  5.036278e+06   \n3     2177     42     NaN  1.517013e+06  5.036278e+06   \n4      530      1     NaN  1.514607e+06  5.034225e+06   \n\n                           DENOMINAZ   CATEGORIA    TIPOLOGIA    SOTTOTIPO  \\\n0  UNIVERSITA' DEGLI STUDI DI MILANO  ISTRUZIONE  UNIVERSITA'  UNIVERSITA'   \n1  UNIVERSITA' DEGLI STUDI DI MILANO  ISTRUZIONE  UNIVERSITA'  UNIVERSITA'   \n2  UNIVERSITA' DEGLI STUDI DI MILANO  ISTRUZIONE  UNIVERSITA'  UNIVERSITA'   \n3  UNIVERSITA' DEGLI STUDI DI MILANO  ISTRUZIONE  UNIVERSITA'  UNIVERSITA'   \n4  UNIVERSITA' DEGLI STUDI DI MILANO  ISTRUZIONE  UNIVERSITA'  UNIVERSITA'   \n\n  PROPRIETA  ...                       INDIRIZZO              FACOLTA  \\\n0  PUBBLICA  ...         PZA OSPEDALE MAGGIORE 3             MEDICINA   \n1  PUBBLICA  ...  PZA FERRARI ANDREA CARDINALE 1             MEDICINA   \n2  PUBBLICA  ...                  VLE ABRUZZI 42             FARMACIA   \n3  PUBBLICA  ...                  VLE ABRUZZI 42             FARMACIA   \n4  PUBBLICA  ...          PZA SANT' ALESSANDRO 1  LETTERE E FILOSOFIA   \n\n                                            T_LAUREA          T_SEDE  \\\n0                                 CHIRURGIA PLASTICA     EX ISTITUTO   \n1  SCIENZE ORTOPEDICHE TRAUMATOLOGICHE, REUMATOLO...     EX ISTITUTO   \n2                                           FARMACIA  SEDE DIDATTICA   \n3                CHIMICA FARMACEUTICA E TOSSICOLOGIA     EX ISTITUTO   \n4                     LINGUE E LETTERATURE STRANIERE  SEDE DIDATTICA   \n\n  MUNICIPIO ID_NIL                                                NIL  \\\n0         9     14  NIGUARDA - CA' GRANDA - PRATO CENTENARO - Q.RE...   \n1         1      5                   PORTA VIGENTINA - PORTA LODOVICA   \n2         3     21      BUENOS AIRES - PORTA VENEZIA - PORTA MONFORTE   \n3         3     21      BUENOS AIRES - PORTA VENEZIA - PORTA MONFORTE   \n4         1      1                                              DUOMO   \n\n  LONG_X_4326 LAT_Y_4326                              Location  \n0    9.188681  45.509230  (45.5092296526866, 9.18868084450537)  \n1    9.192973  45.455318  (45.4553179955712, 9.19297324638358)  \n2    9.217327  45.479643  (45.4796430022321, 9.21732651188301)  \n3    9.217327  45.479643  (45.4796430022321, 9.21732651188301)  \n4    9.186477  45.461219  (45.4612190660429, 9.18647705815211)  \n\n[5 rows x 25 columns]",
      "text/html": "<div>\n<style scoped>\n    .dataframe tbody tr th:only-of-type {\n        vertical-align: middle;\n    }\n\n    .dataframe tbody tr th {\n        vertical-align: top;\n    }\n\n    .dataframe thead th {\n        text-align: right;\n    }\n</style>\n<table border=\"1\" class=\"dataframe\">\n  <thead>\n    <tr style=\"text-align: right;\">\n      <th></th>\n      <th>COD_VIA</th>\n      <th>CIVICO</th>\n      <th>BARRATO</th>\n      <th>X</th>\n      <th>Y</th>\n      <th>DENOMINAZ</th>\n      <th>CATEGORIA</th>\n      <th>TIPOLOGIA</th>\n      <th>SOTTOTIPO</th>\n      <th>PROPRIETA</th>\n      <th>...</th>\n      <th>INDIRIZZO</th>\n      <th>FACOLTA</th>\n      <th>T_LAUREA</th>\n      <th>T_SEDE</th>\n      <th>MUNICIPIO</th>\n      <th>ID_NIL</th>\n      <th>NIL</th>\n      <th>LONG_X_4326</th>\n      <th>LAT_Y_4326</th>\n      <th>Location</th>\n    </tr>\n  </thead>\n  <tbody>\n    <tr>\n      <th>0</th>\n      <td>1523</td>\n      <td>3</td>\n      <td>NaN</td>\n      <td>1.514767e+06</td>\n      <td>5.039559e+06</td>\n      <td>UNIVERSITA' DEGLI STUDI DI MILANO</td>\n      <td>ISTRUZIONE</td>\n      <td>UNIVERSITA'</td>\n      <td>UNIVERSITA'</td>\n      <td>PUBBLICA</td>\n      <td>...</td>\n      <td>PZA OSPEDALE MAGGIORE 3</td>\n      <td>MEDICINA</td>\n      <td>CHIRURGIA PLASTICA</td>\n      <td>EX ISTITUTO</td>\n      <td>9</td>\n      <td>14</td>\n      <td>NIGUARDA - CA' GRANDA - PRATO CENTENARO - Q.RE...</td>\n      <td>9.188681</td>\n      <td>45.509230</td>\n      <td>(45.5092296526866, 9.18868084450537)</td>\n    </tr>\n    <tr>\n      <th>1</th>\n      <td>4012</td>\n      <td>1</td>\n      <td>NaN</td>\n      <td>1.515116e+06</td>\n      <td>5.033571e+06</td>\n      <td>UNIVERSITA' DEGLI STUDI DI MILANO</td>\n      <td>ISTRUZIONE</td>\n      <td>UNIVERSITA'</td>\n      <td>UNIVERSITA'</td>\n      <td>PUBBLICA</td>\n      <td>...</td>\n      <td>PZA FERRARI ANDREA CARDINALE 1</td>\n      <td>MEDICINA</td>\n      <td>SCIENZE ORTOPEDICHE TRAUMATOLOGICHE, REUMATOLO...</td>\n      <td>EX ISTITUTO</td>\n      <td>1</td>\n      <td>5</td>\n      <td>PORTA VIGENTINA - PORTA LODOVICA</td>\n      <td>9.192973</td>\n      <td>45.455318</td>\n      <td>(45.4553179955712, 9.19297324638358)</td>\n    </tr>\n    <tr>\n      <th>2</th>\n      <td>2177</td>\n      <td>42</td>\n      <td>NaN</td>\n      <td>1.517013e+06</td>\n      <td>5.036278e+06</td>\n      <td>UNIVERSITA' DEGLI STUDI DI MILANO</td>\n      <td>ISTRUZIONE</td>\n      <td>UNIVERSITA'</td>\n      <td>UNIVERSITA'</td>\n      <td>PUBBLICA</td>\n      <td>...</td>\n      <td>VLE ABRUZZI 42</td>\n      <td>FARMACIA</td>\n      <td>FARMACIA</td>\n      <td>SEDE DIDATTICA</td>\n      <td>3</td>\n      <td>21</td>\n      <td>BUENOS AIRES - PORTA VENEZIA - PORTA MONFORTE</td>\n      <td>9.217327</td>\n      <td>45.479643</td>\n      <td>(45.4796430022321, 9.21732651188301)</td>\n    </tr>\n    <tr>\n      <th>3</th>\n      <td>2177</td>\n      <td>42</td>\n      <td>NaN</td>\n      <td>1.517013e+06</td>\n      <td>5.036278e+06</td>\n      <td>UNIVERSITA' DEGLI STUDI DI MILANO</td>\n      <td>ISTRUZIONE</td>\n      <td>UNIVERSITA'</td>\n      <td>UNIVERSITA'</td>\n      <td>PUBBLICA</td>\n      <td>...</td>\n      <td>VLE ABRUZZI 42</td>\n      <td>FARMACIA</td>\n      <td>CHIMICA FARMACEUTICA E TOSSICOLOGIA</td>\n      <td>EX ISTITUTO</td>\n      <td>3</td>\n      <td>21</td>\n      <td>BUENOS AIRES - PORTA VENEZIA - PORTA MONFORTE</td>\n      <td>9.217327</td>\n      <td>45.479643</td>\n      <td>(45.4796430022321, 9.21732651188301)</td>\n    </tr>\n    <tr>\n      <th>4</th>\n      <td>530</td>\n      <td>1</td>\n      <td>NaN</td>\n      <td>1.514607e+06</td>\n      <td>5.034225e+06</td>\n      <td>UNIVERSITA' DEGLI STUDI DI MILANO</td>\n      <td>ISTRUZIONE</td>\n      <td>UNIVERSITA'</td>\n      <td>UNIVERSITA'</td>\n      <td>PUBBLICA</td>\n      <td>...</td>\n      <td>PZA SANT' ALESSANDRO 1</td>\n      <td>LETTERE E FILOSOFIA</td>\n      <td>LINGUE E LETTERATURE STRANIERE</td>\n      <td>SEDE DIDATTICA</td>\n      <td>1</td>\n      <td>1</td>\n      <td>DUOMO</td>\n      <td>9.186477</td>\n      <td>45.461219</td>\n      <td>(45.4612190660429, 9.18647705815211)</td>\n    </tr>\n  </tbody>\n</table>\n<p>5 rows × 25 columns</p>\n</div>"
     },
     "execution_count": 107,
     "metadata": {},
     "output_type": "execute_result"
    }
   ],
   "source": [
    "uni_df = pd.read_csv('../datasets/ds94_universita__final.csv', sep=';')\n",
    "uni_df.head()"
   ],
   "metadata": {
    "collapsed": false
   }
  },
  {
   "cell_type": "code",
   "execution_count": 108,
   "outputs": [
    {
     "data": {
      "text/plain": "                           DENOMINAZ PROPRIETA  LONG_X_4326  LAT_Y_4326\n0  UNIVERSITA' DEGLI STUDI DI MILANO  PUBBLICA     9.188681   45.509230\n1  UNIVERSITA' DEGLI STUDI DI MILANO  PUBBLICA     9.192973   45.455318\n2  UNIVERSITA' DEGLI STUDI DI MILANO  PUBBLICA     9.217327   45.479643\n3  UNIVERSITA' DEGLI STUDI DI MILANO  PUBBLICA     9.217327   45.479643\n4  UNIVERSITA' DEGLI STUDI DI MILANO  PUBBLICA     9.186477   45.461219",
      "text/html": "<div>\n<style scoped>\n    .dataframe tbody tr th:only-of-type {\n        vertical-align: middle;\n    }\n\n    .dataframe tbody tr th {\n        vertical-align: top;\n    }\n\n    .dataframe thead th {\n        text-align: right;\n    }\n</style>\n<table border=\"1\" class=\"dataframe\">\n  <thead>\n    <tr style=\"text-align: right;\">\n      <th></th>\n      <th>DENOMINAZ</th>\n      <th>PROPRIETA</th>\n      <th>LONG_X_4326</th>\n      <th>LAT_Y_4326</th>\n    </tr>\n  </thead>\n  <tbody>\n    <tr>\n      <th>0</th>\n      <td>UNIVERSITA' DEGLI STUDI DI MILANO</td>\n      <td>PUBBLICA</td>\n      <td>9.188681</td>\n      <td>45.509230</td>\n    </tr>\n    <tr>\n      <th>1</th>\n      <td>UNIVERSITA' DEGLI STUDI DI MILANO</td>\n      <td>PUBBLICA</td>\n      <td>9.192973</td>\n      <td>45.455318</td>\n    </tr>\n    <tr>\n      <th>2</th>\n      <td>UNIVERSITA' DEGLI STUDI DI MILANO</td>\n      <td>PUBBLICA</td>\n      <td>9.217327</td>\n      <td>45.479643</td>\n    </tr>\n    <tr>\n      <th>3</th>\n      <td>UNIVERSITA' DEGLI STUDI DI MILANO</td>\n      <td>PUBBLICA</td>\n      <td>9.217327</td>\n      <td>45.479643</td>\n    </tr>\n    <tr>\n      <th>4</th>\n      <td>UNIVERSITA' DEGLI STUDI DI MILANO</td>\n      <td>PUBBLICA</td>\n      <td>9.186477</td>\n      <td>45.461219</td>\n    </tr>\n  </tbody>\n</table>\n</div>"
     },
     "execution_count": 108,
     "metadata": {},
     "output_type": "execute_result"
    }
   ],
   "source": [
    "uni_df=uni_df[['DENOMINAZ','PROPRIETA','LONG_X_4326', 'LAT_Y_4326']]\n",
    "uni_len=len(uni_df)\n",
    "uni_df.head()"
   ],
   "metadata": {
    "collapsed": false
   }
  },
  {
   "cell_type": "markdown",
   "source": [
    "### Pharmacies"
   ],
   "metadata": {
    "collapsed": false
   }
  },
  {
   "cell_type": "code",
   "execution_count": 109,
   "outputs": [
    {
     "data": {
      "text/plain": "   CODICE_ASL      DENOM_ASL  CODICE_NAZIONALE CODICE_REGIONALE  \\\n0         308  ASL di Milano              2639           MI1735   \n1         308  ASL di Milano              2655           MI1800   \n2         308  ASL di Milano              2625           MI0063   \n3         308  ASL di Milano              2681           MI1661   \n4         308  ASL di Milano              2872           MI1320   \n\n            DENOM_FARMACIA               INDIRIZZO LOCALITA     TELEFONO  \\\n0    Farmacia Imbriani SNC  Via degli Imbriani, 28   Milano   0239311126   \n1          Farmacia Rocchi          VIA ALAMANNI 2   Milano   0257403150   \n2         Farmacia Ambreck       VIA STRADIVARI, 1   Milano  02-29526966   \n3  Farmacia Carlo Erba Sas         P.ZZA DUOMO, 21   Milano   0286464832   \n4           Farmacia Fusco          VIA BODONI, 19   Milano   0233002831   \n\n           FAX                          EMAIL CARATTERIZZAZIONE  \\\n0  239312898.0               farma.imb@tin.it            urbana   \n1  256814465.0  farmacia.rocchi@fastwebnet.it            urbana   \n2  229406405.0            farmacia@ambreck.it            urbana   \n3    2878668.0   farmacia.carloerba@gmail.com            urbana   \n4  233006544.0           farmafusco@gmail.com            urbana   \n\n  PRENOTAZIONI_CONSENSO  ESENZIONI  MUNICIPIO  ID_NIL  \\\n0                  True       True          9      77   \n1                   NaN       True          5      38   \n2                   NaN       True          3      21   \n3                   NaN       True          1       1   \n4                   NaN       True          8      71   \n\n                                             NIL       LNG        LAT  \\\n0                                         BOVISA  9.168808  45.499746   \n1                        VIGENTINO - Q.RE FATIMA  9.200700  45.434277   \n2  BUENOS AIRES - PORTA VENEZIA - PORTA MONFORTE  9.215779  45.484374   \n3                                          DUOMO  9.189570  45.464826   \n4            VILLAPIZZONE - CAGNOLA - BOLDINASCO  9.149238  45.493444   \n\n                LOCATION  \n0  (45.499746, 9.168808)  \n1    (45.434277, 9.2007)  \n2  (45.484374, 9.215779)  \n3   (45.464826, 9.18957)  \n4  (45.493444, 9.149238)  ",
      "text/html": "<div>\n<style scoped>\n    .dataframe tbody tr th:only-of-type {\n        vertical-align: middle;\n    }\n\n    .dataframe tbody tr th {\n        vertical-align: top;\n    }\n\n    .dataframe thead th {\n        text-align: right;\n    }\n</style>\n<table border=\"1\" class=\"dataframe\">\n  <thead>\n    <tr style=\"text-align: right;\">\n      <th></th>\n      <th>CODICE_ASL</th>\n      <th>DENOM_ASL</th>\n      <th>CODICE_NAZIONALE</th>\n      <th>CODICE_REGIONALE</th>\n      <th>DENOM_FARMACIA</th>\n      <th>INDIRIZZO</th>\n      <th>LOCALITA</th>\n      <th>TELEFONO</th>\n      <th>FAX</th>\n      <th>EMAIL</th>\n      <th>CARATTERIZZAZIONE</th>\n      <th>PRENOTAZIONI_CONSENSO</th>\n      <th>ESENZIONI</th>\n      <th>MUNICIPIO</th>\n      <th>ID_NIL</th>\n      <th>NIL</th>\n      <th>LNG</th>\n      <th>LAT</th>\n      <th>LOCATION</th>\n    </tr>\n  </thead>\n  <tbody>\n    <tr>\n      <th>0</th>\n      <td>308</td>\n      <td>ASL di Milano</td>\n      <td>2639</td>\n      <td>MI1735</td>\n      <td>Farmacia Imbriani SNC</td>\n      <td>Via degli Imbriani, 28</td>\n      <td>Milano</td>\n      <td>0239311126</td>\n      <td>239312898.0</td>\n      <td>farma.imb@tin.it</td>\n      <td>urbana</td>\n      <td>True</td>\n      <td>True</td>\n      <td>9</td>\n      <td>77</td>\n      <td>BOVISA</td>\n      <td>9.168808</td>\n      <td>45.499746</td>\n      <td>(45.499746, 9.168808)</td>\n    </tr>\n    <tr>\n      <th>1</th>\n      <td>308</td>\n      <td>ASL di Milano</td>\n      <td>2655</td>\n      <td>MI1800</td>\n      <td>Farmacia Rocchi</td>\n      <td>VIA ALAMANNI 2</td>\n      <td>Milano</td>\n      <td>0257403150</td>\n      <td>256814465.0</td>\n      <td>farmacia.rocchi@fastwebnet.it</td>\n      <td>urbana</td>\n      <td>NaN</td>\n      <td>True</td>\n      <td>5</td>\n      <td>38</td>\n      <td>VIGENTINO - Q.RE FATIMA</td>\n      <td>9.200700</td>\n      <td>45.434277</td>\n      <td>(45.434277, 9.2007)</td>\n    </tr>\n    <tr>\n      <th>2</th>\n      <td>308</td>\n      <td>ASL di Milano</td>\n      <td>2625</td>\n      <td>MI0063</td>\n      <td>Farmacia Ambreck</td>\n      <td>VIA STRADIVARI, 1</td>\n      <td>Milano</td>\n      <td>02-29526966</td>\n      <td>229406405.0</td>\n      <td>farmacia@ambreck.it</td>\n      <td>urbana</td>\n      <td>NaN</td>\n      <td>True</td>\n      <td>3</td>\n      <td>21</td>\n      <td>BUENOS AIRES - PORTA VENEZIA - PORTA MONFORTE</td>\n      <td>9.215779</td>\n      <td>45.484374</td>\n      <td>(45.484374, 9.215779)</td>\n    </tr>\n    <tr>\n      <th>3</th>\n      <td>308</td>\n      <td>ASL di Milano</td>\n      <td>2681</td>\n      <td>MI1661</td>\n      <td>Farmacia Carlo Erba Sas</td>\n      <td>P.ZZA DUOMO, 21</td>\n      <td>Milano</td>\n      <td>0286464832</td>\n      <td>2878668.0</td>\n      <td>farmacia.carloerba@gmail.com</td>\n      <td>urbana</td>\n      <td>NaN</td>\n      <td>True</td>\n      <td>1</td>\n      <td>1</td>\n      <td>DUOMO</td>\n      <td>9.189570</td>\n      <td>45.464826</td>\n      <td>(45.464826, 9.18957)</td>\n    </tr>\n    <tr>\n      <th>4</th>\n      <td>308</td>\n      <td>ASL di Milano</td>\n      <td>2872</td>\n      <td>MI1320</td>\n      <td>Farmacia Fusco</td>\n      <td>VIA BODONI, 19</td>\n      <td>Milano</td>\n      <td>0233002831</td>\n      <td>233006544.0</td>\n      <td>farmafusco@gmail.com</td>\n      <td>urbana</td>\n      <td>NaN</td>\n      <td>True</td>\n      <td>8</td>\n      <td>71</td>\n      <td>VILLAPIZZONE - CAGNOLA - BOLDINASCO</td>\n      <td>9.149238</td>\n      <td>45.493444</td>\n      <td>(45.493444, 9.149238)</td>\n    </tr>\n  </tbody>\n</table>\n</div>"
     },
     "execution_count": 109,
     "metadata": {},
     "output_type": "execute_result"
    }
   ],
   "source": [
    "farmacie_df = pd.read_csv('../datasets/ds501_elenco_farmacie_milano_final.csv', sep=';')\n",
    "farmacie_df.head()"
   ],
   "metadata": {
    "collapsed": false
   }
  },
  {
   "cell_type": "code",
   "execution_count": 110,
   "outputs": [
    {
     "data": {
      "text/plain": "            DENOM_FARMACIA       LNG        LAT\n0    Farmacia Imbriani SNC  9.168808  45.499746\n1          Farmacia Rocchi  9.200700  45.434277\n2         Farmacia Ambreck  9.215779  45.484374\n3  Farmacia Carlo Erba Sas  9.189570  45.464826\n4           Farmacia Fusco  9.149238  45.493444",
      "text/html": "<div>\n<style scoped>\n    .dataframe tbody tr th:only-of-type {\n        vertical-align: middle;\n    }\n\n    .dataframe tbody tr th {\n        vertical-align: top;\n    }\n\n    .dataframe thead th {\n        text-align: right;\n    }\n</style>\n<table border=\"1\" class=\"dataframe\">\n  <thead>\n    <tr style=\"text-align: right;\">\n      <th></th>\n      <th>DENOM_FARMACIA</th>\n      <th>LNG</th>\n      <th>LAT</th>\n    </tr>\n  </thead>\n  <tbody>\n    <tr>\n      <th>0</th>\n      <td>Farmacia Imbriani SNC</td>\n      <td>9.168808</td>\n      <td>45.499746</td>\n    </tr>\n    <tr>\n      <th>1</th>\n      <td>Farmacia Rocchi</td>\n      <td>9.200700</td>\n      <td>45.434277</td>\n    </tr>\n    <tr>\n      <th>2</th>\n      <td>Farmacia Ambreck</td>\n      <td>9.215779</td>\n      <td>45.484374</td>\n    </tr>\n    <tr>\n      <th>3</th>\n      <td>Farmacia Carlo Erba Sas</td>\n      <td>9.189570</td>\n      <td>45.464826</td>\n    </tr>\n    <tr>\n      <th>4</th>\n      <td>Farmacia Fusco</td>\n      <td>9.149238</td>\n      <td>45.493444</td>\n    </tr>\n  </tbody>\n</table>\n</div>"
     },
     "execution_count": 110,
     "metadata": {},
     "output_type": "execute_result"
    }
   ],
   "source": [
    "farmacie_df=farmacie_df[['DENOM_FARMACIA','LNG','LAT']]\n",
    "farmacie_len=len(farmacie_df)\n",
    "farmacie_df.head()"
   ],
   "metadata": {
    "collapsed": false
   }
  },
  {
   "cell_type": "markdown",
   "source": [
    "### Italian Schools"
   ],
   "metadata": {
    "collapsed": false
   }
  },
  {
   "cell_type": "code",
   "execution_count": 111,
   "outputs": [
    {
     "data": {
      "text/plain": "                                   Nome-associazione           tipo  \\\n0                                              Itama  Terzo Settore   \n1  Scuola Popolare di Italiano per Stranieri di R...  Terzo Settore   \n2                    Associazione Dimensioni Diverse  Terzo Settore   \n3                             Mamme a scuola Cadorna  Terzo Settore   \n4                           Mamme a scuola Pizzigoni  Terzo Settore   \n\n                                           permalink  \\\n0  http://milano.italianostranieri.org/it/locatio...   \n1  http://milano.italianostranieri.org/it/locatio...   \n2  http://milano.italianostranieri.org/it/locatio...   \n3  http://milano.italianostranieri.org/it/locatio...   \n4  http://milano.italianostranieri.org/it/locatio...   \n\n                         indirizzo  eta' tipologia utenti 1  \\\n0  Via Pier Alessandro Paravia, 83    18  Mamma con bambino   \n1            Via Monte Peralba, 15  > 18              tutti   \n2                Via due Giugno, 4    18              Donne   \n3                      Via Dolci 5    18  Mamma con bambino   \n4                Via Mac Mahon 100    18  Mamma con bambino   \n\n  tipologia utenti 2 tipologia utenti 3  \\\n0              Donne                NaN   \n1  mamme con bambini                NaN   \n2                NaN                NaN   \n3                NaN                NaN   \n4                NaN                NaN   \n\n   In regola con il permesso di soggiorno  requisito-alfabetizzazione  ...  \\\n0                                     NaN                         NaN  ...   \n1                                     NaN                         NaN  ...   \n2                                     NaN                         NaN  ...   \n3                                     NaN                         NaN  ...   \n4                                     NaN                         NaN  ...   \n\n  volontari  terzo-settore  privato  pubblico      cap  ID_NIL  \\\n0       1.0            1.0      NaN       NaN  20148.0    60.0   \n1       1.0            1.0      NaN       NaN      NaN    33.0   \n2       1.0            1.0      NaN       NaN  20153.0    55.0   \n3       1.0            1.0      NaN       NaN      NaN    57.0   \n4       1.0            1.0      NaN       NaN      NaN    71.0   \n\n                                        NIL LONG_X_4326 LAT_Y_4326  \\\n0                        STADIO - IPPODROMI    9.135581  45.474631   \n1                   ROGOREDO - SANTA GIULIA    9.243735  45.432111   \n2  BAGGIO - Q.RE DEGLI OLMI - Q.RE VALSESIA    9.088530  45.462246   \n3                                  SAN SIRO    9.143549  45.471620   \n4       VILLAPIZZONE - CAGNOLA - BOLDINASCO    9.156006  45.495474   \n\n                Location  \n0    45.474631, 9.135581  \n1  45.4321115, 9.2437353  \n2  45.4622458, 9.0885299  \n3  45.4716198, 9.1435486  \n4  45.4954744, 9.1560059  \n\n[5 rows x 76 columns]",
      "text/html": "<div>\n<style scoped>\n    .dataframe tbody tr th:only-of-type {\n        vertical-align: middle;\n    }\n\n    .dataframe tbody tr th {\n        vertical-align: top;\n    }\n\n    .dataframe thead th {\n        text-align: right;\n    }\n</style>\n<table border=\"1\" class=\"dataframe\">\n  <thead>\n    <tr style=\"text-align: right;\">\n      <th></th>\n      <th>Nome-associazione</th>\n      <th>tipo</th>\n      <th>permalink</th>\n      <th>indirizzo</th>\n      <th>eta'</th>\n      <th>tipologia utenti 1</th>\n      <th>tipologia utenti 2</th>\n      <th>tipologia utenti 3</th>\n      <th>In regola con il permesso di soggiorno</th>\n      <th>requisito-alfabetizzazione</th>\n      <th>...</th>\n      <th>volontari</th>\n      <th>terzo-settore</th>\n      <th>privato</th>\n      <th>pubblico</th>\n      <th>cap</th>\n      <th>ID_NIL</th>\n      <th>NIL</th>\n      <th>LONG_X_4326</th>\n      <th>LAT_Y_4326</th>\n      <th>Location</th>\n    </tr>\n  </thead>\n  <tbody>\n    <tr>\n      <th>0</th>\n      <td>Itama</td>\n      <td>Terzo Settore</td>\n      <td>http://milano.italianostranieri.org/it/locatio...</td>\n      <td>Via Pier Alessandro Paravia, 83</td>\n      <td>18</td>\n      <td>Mamma con bambino</td>\n      <td>Donne</td>\n      <td>NaN</td>\n      <td>NaN</td>\n      <td>NaN</td>\n      <td>...</td>\n      <td>1.0</td>\n      <td>1.0</td>\n      <td>NaN</td>\n      <td>NaN</td>\n      <td>20148.0</td>\n      <td>60.0</td>\n      <td>STADIO - IPPODROMI</td>\n      <td>9.135581</td>\n      <td>45.474631</td>\n      <td>45.474631, 9.135581</td>\n    </tr>\n    <tr>\n      <th>1</th>\n      <td>Scuola Popolare di Italiano per Stranieri di R...</td>\n      <td>Terzo Settore</td>\n      <td>http://milano.italianostranieri.org/it/locatio...</td>\n      <td>Via Monte Peralba, 15</td>\n      <td>&gt; 18</td>\n      <td>tutti</td>\n      <td>mamme con bambini</td>\n      <td>NaN</td>\n      <td>NaN</td>\n      <td>NaN</td>\n      <td>...</td>\n      <td>1.0</td>\n      <td>1.0</td>\n      <td>NaN</td>\n      <td>NaN</td>\n      <td>NaN</td>\n      <td>33.0</td>\n      <td>ROGOREDO - SANTA GIULIA</td>\n      <td>9.243735</td>\n      <td>45.432111</td>\n      <td>45.4321115, 9.2437353</td>\n    </tr>\n    <tr>\n      <th>2</th>\n      <td>Associazione Dimensioni Diverse</td>\n      <td>Terzo Settore</td>\n      <td>http://milano.italianostranieri.org/it/locatio...</td>\n      <td>Via due Giugno, 4</td>\n      <td>18</td>\n      <td>Donne</td>\n      <td>NaN</td>\n      <td>NaN</td>\n      <td>NaN</td>\n      <td>NaN</td>\n      <td>...</td>\n      <td>1.0</td>\n      <td>1.0</td>\n      <td>NaN</td>\n      <td>NaN</td>\n      <td>20153.0</td>\n      <td>55.0</td>\n      <td>BAGGIO - Q.RE DEGLI OLMI - Q.RE VALSESIA</td>\n      <td>9.088530</td>\n      <td>45.462246</td>\n      <td>45.4622458, 9.0885299</td>\n    </tr>\n    <tr>\n      <th>3</th>\n      <td>Mamme a scuola Cadorna</td>\n      <td>Terzo Settore</td>\n      <td>http://milano.italianostranieri.org/it/locatio...</td>\n      <td>Via Dolci 5</td>\n      <td>18</td>\n      <td>Mamma con bambino</td>\n      <td>NaN</td>\n      <td>NaN</td>\n      <td>NaN</td>\n      <td>NaN</td>\n      <td>...</td>\n      <td>1.0</td>\n      <td>1.0</td>\n      <td>NaN</td>\n      <td>NaN</td>\n      <td>NaN</td>\n      <td>57.0</td>\n      <td>SAN SIRO</td>\n      <td>9.143549</td>\n      <td>45.471620</td>\n      <td>45.4716198, 9.1435486</td>\n    </tr>\n    <tr>\n      <th>4</th>\n      <td>Mamme a scuola Pizzigoni</td>\n      <td>Terzo Settore</td>\n      <td>http://milano.italianostranieri.org/it/locatio...</td>\n      <td>Via Mac Mahon 100</td>\n      <td>18</td>\n      <td>Mamma con bambino</td>\n      <td>NaN</td>\n      <td>NaN</td>\n      <td>NaN</td>\n      <td>NaN</td>\n      <td>...</td>\n      <td>1.0</td>\n      <td>1.0</td>\n      <td>NaN</td>\n      <td>NaN</td>\n      <td>NaN</td>\n      <td>71.0</td>\n      <td>VILLAPIZZONE - CAGNOLA - BOLDINASCO</td>\n      <td>9.156006</td>\n      <td>45.495474</td>\n      <td>45.4954744, 9.1560059</td>\n    </tr>\n  </tbody>\n</table>\n<p>5 rows × 76 columns</p>\n</div>"
     },
     "execution_count": 111,
     "metadata": {},
     "output_type": "execute_result"
    }
   ],
   "source": [
    "sita_df = pd.read_csv('../datasets/ds551_scuole_di_italiano_e_cpia_hac_loc_final_.csv', sep=';')\n",
    "sita_df.head()"
   ],
   "metadata": {
    "collapsed": false
   }
  },
  {
   "cell_type": "code",
   "execution_count": 112,
   "outputs": [
    {
     "data": {
      "text/plain": "                                   Nome-associazione           tipo  \\\n0                                              Itama  Terzo Settore   \n1  Scuola Popolare di Italiano per Stranieri di R...  Terzo Settore   \n2                    Associazione Dimensioni Diverse  Terzo Settore   \n3                             Mamme a scuola Cadorna  Terzo Settore   \n4                           Mamme a scuola Pizzigoni  Terzo Settore   \n\n   LONG_X_4326  LAT_Y_4326  \n0     9.135581   45.474631  \n1     9.243735   45.432111  \n2     9.088530   45.462246  \n3     9.143549   45.471620  \n4     9.156006   45.495474  ",
      "text/html": "<div>\n<style scoped>\n    .dataframe tbody tr th:only-of-type {\n        vertical-align: middle;\n    }\n\n    .dataframe tbody tr th {\n        vertical-align: top;\n    }\n\n    .dataframe thead th {\n        text-align: right;\n    }\n</style>\n<table border=\"1\" class=\"dataframe\">\n  <thead>\n    <tr style=\"text-align: right;\">\n      <th></th>\n      <th>Nome-associazione</th>\n      <th>tipo</th>\n      <th>LONG_X_4326</th>\n      <th>LAT_Y_4326</th>\n    </tr>\n  </thead>\n  <tbody>\n    <tr>\n      <th>0</th>\n      <td>Itama</td>\n      <td>Terzo Settore</td>\n      <td>9.135581</td>\n      <td>45.474631</td>\n    </tr>\n    <tr>\n      <th>1</th>\n      <td>Scuola Popolare di Italiano per Stranieri di R...</td>\n      <td>Terzo Settore</td>\n      <td>9.243735</td>\n      <td>45.432111</td>\n    </tr>\n    <tr>\n      <th>2</th>\n      <td>Associazione Dimensioni Diverse</td>\n      <td>Terzo Settore</td>\n      <td>9.088530</td>\n      <td>45.462246</td>\n    </tr>\n    <tr>\n      <th>3</th>\n      <td>Mamme a scuola Cadorna</td>\n      <td>Terzo Settore</td>\n      <td>9.143549</td>\n      <td>45.471620</td>\n    </tr>\n    <tr>\n      <th>4</th>\n      <td>Mamme a scuola Pizzigoni</td>\n      <td>Terzo Settore</td>\n      <td>9.156006</td>\n      <td>45.495474</td>\n    </tr>\n  </tbody>\n</table>\n</div>"
     },
     "execution_count": 112,
     "metadata": {},
     "output_type": "execute_result"
    }
   ],
   "source": [
    "sita_df=sita_df[['Nome-associazione','tipo', 'LONG_X_4326', 'LAT_Y_4326']]\n",
    "sita_len=len(sita_df)\n",
    "sita_df.head()"
   ],
   "metadata": {
    "collapsed": false
   }
  },
  {
   "cell_type": "markdown",
   "source": [
    "### Family Counselling"
   ],
   "metadata": {
    "collapsed": false
   }
  },
  {
   "cell_type": "code",
   "execution_count": 113,
   "outputs": [
    {
     "data": {
      "text/plain": "   COD_ASL  COD_STRUTTURA                                     DENOM_STRUTTURA  \\\n0      308       308000006                                         LUISA RIVA   \n1      321             495     CONSULTORIO INTERDECANALE IL CAMINETTO - ONLUS   \n2      321            4813                   CONSULTORIO FAMILIARE LUISA RIVA   \n3      321             479        CONSULTORIO INTERDECANALE DI VIALE RESTELLI   \n4      321             510  CONSULTORIO PREMATRIMONIALE E MATRIMONIALE IST...   \n\n      INDIRIZZO_UBICAZIONE  COD_ISTAT_COMUNE_UBICAZIONE COMUNE_UBICAZIONE  \\\n0   VIA ASCANIO SFORZA  75                        15146            MILANO   \n1       PIAZZA BRUZZANO  8                        15146            MILANO   \n2   VIA ASCANIO SFORZA  75                        15146            MILANO   \n3       VIALE RESTELLI  25                        15146            MILANO   \n4  VIA PIETRO COLLETTA  31                        15146            MILANO   \n\n     CAP PROV_COMUNE_UBICAZIONE  \\\n0  20100                     MI   \n1  20100                     MI   \n2  20100                     MI   \n3  20100                     MI   \n4  20100                     MI   \n\n                                       DENOM_GESTORE         P_IVA  ...  \\\n0  ASSOCIAZIONE DONNA E MADRE E LEGATO MARIA PAOL...  1.401200e+09  ...   \n1  FONDAZIONE PER LA FAMIGLIA PROFUMO DI BETANIA ...  3.364670e+09  ...   \n2  ASSOCIAZIONE DONNA E MADRE E LEGATO MARIA PAOL...           NaN  ...   \n3                     FONDAZIONE G.B. GUZZETTI ONLUS  8.472781e+09  ...   \n4                                   ISTITUTO LA CASA  3.617601e+09  ...   \n\n  COMUNE_SEDE_LEGALE  PROV_SEDE_LEGALE NATURA_GIURIDICA ONLUS MUNICIPIO  \\\n0             MILANO                MI     ASSOCIAZIONE    SI         5   \n1            SARONNO                VA       FONDAZIONE    SI         9   \n2             MILANO                MI     ASSOCIAZIONE    SI         5   \n3             MILANO                MI       FONDAZIONE    SI         2   \n4             MILANO                MI     ASSOCIAZIONE    NO         4   \n\n  ID_NIL         NIL    WGS84_Y   WGS84_X                   location  \n0     43     TIBALDI  45.442362  9.176205  (45.44236164, 9.17620465)  \n1     83    BRUZZANO  45.527276  9.173891  (45.52727595, 9.17389084)  \n2     43     TIBALDI  45.442362  9.176205  (45.44236164, 9.17620465)  \n3     11       ISOLA  45.489997  9.196867   (45.48999709, 9.1968672)  \n4     27  PTA ROMANA  45.449729  9.209537  (45.44972931, 9.20953745)  \n\n[5 rows x 22 columns]",
      "text/html": "<div>\n<style scoped>\n    .dataframe tbody tr th:only-of-type {\n        vertical-align: middle;\n    }\n\n    .dataframe tbody tr th {\n        vertical-align: top;\n    }\n\n    .dataframe thead th {\n        text-align: right;\n    }\n</style>\n<table border=\"1\" class=\"dataframe\">\n  <thead>\n    <tr style=\"text-align: right;\">\n      <th></th>\n      <th>COD_ASL</th>\n      <th>COD_STRUTTURA</th>\n      <th>DENOM_STRUTTURA</th>\n      <th>INDIRIZZO_UBICAZIONE</th>\n      <th>COD_ISTAT_COMUNE_UBICAZIONE</th>\n      <th>COMUNE_UBICAZIONE</th>\n      <th>CAP</th>\n      <th>PROV_COMUNE_UBICAZIONE</th>\n      <th>DENOM_GESTORE</th>\n      <th>P_IVA</th>\n      <th>...</th>\n      <th>COMUNE_SEDE_LEGALE</th>\n      <th>PROV_SEDE_LEGALE</th>\n      <th>NATURA_GIURIDICA</th>\n      <th>ONLUS</th>\n      <th>MUNICIPIO</th>\n      <th>ID_NIL</th>\n      <th>NIL</th>\n      <th>WGS84_Y</th>\n      <th>WGS84_X</th>\n      <th>location</th>\n    </tr>\n  </thead>\n  <tbody>\n    <tr>\n      <th>0</th>\n      <td>308</td>\n      <td>308000006</td>\n      <td>LUISA RIVA</td>\n      <td>VIA ASCANIO SFORZA  75</td>\n      <td>15146</td>\n      <td>MILANO</td>\n      <td>20100</td>\n      <td>MI</td>\n      <td>ASSOCIAZIONE DONNA E MADRE E LEGATO MARIA PAOL...</td>\n      <td>1.401200e+09</td>\n      <td>...</td>\n      <td>MILANO</td>\n      <td>MI</td>\n      <td>ASSOCIAZIONE</td>\n      <td>SI</td>\n      <td>5</td>\n      <td>43</td>\n      <td>TIBALDI</td>\n      <td>45.442362</td>\n      <td>9.176205</td>\n      <td>(45.44236164, 9.17620465)</td>\n    </tr>\n    <tr>\n      <th>1</th>\n      <td>321</td>\n      <td>495</td>\n      <td>CONSULTORIO INTERDECANALE IL CAMINETTO - ONLUS</td>\n      <td>PIAZZA BRUZZANO  8</td>\n      <td>15146</td>\n      <td>MILANO</td>\n      <td>20100</td>\n      <td>MI</td>\n      <td>FONDAZIONE PER LA FAMIGLIA PROFUMO DI BETANIA ...</td>\n      <td>3.364670e+09</td>\n      <td>...</td>\n      <td>SARONNO</td>\n      <td>VA</td>\n      <td>FONDAZIONE</td>\n      <td>SI</td>\n      <td>9</td>\n      <td>83</td>\n      <td>BRUZZANO</td>\n      <td>45.527276</td>\n      <td>9.173891</td>\n      <td>(45.52727595, 9.17389084)</td>\n    </tr>\n    <tr>\n      <th>2</th>\n      <td>321</td>\n      <td>4813</td>\n      <td>CONSULTORIO FAMILIARE LUISA RIVA</td>\n      <td>VIA ASCANIO SFORZA  75</td>\n      <td>15146</td>\n      <td>MILANO</td>\n      <td>20100</td>\n      <td>MI</td>\n      <td>ASSOCIAZIONE DONNA E MADRE E LEGATO MARIA PAOL...</td>\n      <td>NaN</td>\n      <td>...</td>\n      <td>MILANO</td>\n      <td>MI</td>\n      <td>ASSOCIAZIONE</td>\n      <td>SI</td>\n      <td>5</td>\n      <td>43</td>\n      <td>TIBALDI</td>\n      <td>45.442362</td>\n      <td>9.176205</td>\n      <td>(45.44236164, 9.17620465)</td>\n    </tr>\n    <tr>\n      <th>3</th>\n      <td>321</td>\n      <td>479</td>\n      <td>CONSULTORIO INTERDECANALE DI VIALE RESTELLI</td>\n      <td>VIALE RESTELLI  25</td>\n      <td>15146</td>\n      <td>MILANO</td>\n      <td>20100</td>\n      <td>MI</td>\n      <td>FONDAZIONE G.B. GUZZETTI ONLUS</td>\n      <td>8.472781e+09</td>\n      <td>...</td>\n      <td>MILANO</td>\n      <td>MI</td>\n      <td>FONDAZIONE</td>\n      <td>SI</td>\n      <td>2</td>\n      <td>11</td>\n      <td>ISOLA</td>\n      <td>45.489997</td>\n      <td>9.196867</td>\n      <td>(45.48999709, 9.1968672)</td>\n    </tr>\n    <tr>\n      <th>4</th>\n      <td>321</td>\n      <td>510</td>\n      <td>CONSULTORIO PREMATRIMONIALE E MATRIMONIALE IST...</td>\n      <td>VIA PIETRO COLLETTA  31</td>\n      <td>15146</td>\n      <td>MILANO</td>\n      <td>20100</td>\n      <td>MI</td>\n      <td>ISTITUTO LA CASA</td>\n      <td>3.617601e+09</td>\n      <td>...</td>\n      <td>MILANO</td>\n      <td>MI</td>\n      <td>ASSOCIAZIONE</td>\n      <td>NO</td>\n      <td>4</td>\n      <td>27</td>\n      <td>PTA ROMANA</td>\n      <td>45.449729</td>\n      <td>9.209537</td>\n      <td>(45.44972931, 9.20953745)</td>\n    </tr>\n  </tbody>\n</table>\n<p>5 rows × 22 columns</p>\n</div>"
     },
     "execution_count": 113,
     "metadata": {},
     "output_type": "execute_result"
    }
   ],
   "source": [
    "consu_df = pd.read_csv('../datasets/ds560_consultori-privati-nel-comune-di-milano_b3eh-rm3t_final.csv', sep=';')\n",
    "consu_df.head()"
   ],
   "metadata": {
    "collapsed": false
   }
  },
  {
   "cell_type": "code",
   "execution_count": 114,
   "outputs": [
    {
     "data": {
      "text/plain": "                                     DENOM_STRUTTURA   WGS84_X    WGS84_Y\n0                                         LUISA RIVA  9.176205  45.442362\n1     CONSULTORIO INTERDECANALE IL CAMINETTO - ONLUS  9.173891  45.527276\n2                   CONSULTORIO FAMILIARE LUISA RIVA  9.176205  45.442362\n3        CONSULTORIO INTERDECANALE DI VIALE RESTELLI  9.196867  45.489997\n4  CONSULTORIO PREMATRIMONIALE E MATRIMONIALE IST...  9.209537  45.449729",
      "text/html": "<div>\n<style scoped>\n    .dataframe tbody tr th:only-of-type {\n        vertical-align: middle;\n    }\n\n    .dataframe tbody tr th {\n        vertical-align: top;\n    }\n\n    .dataframe thead th {\n        text-align: right;\n    }\n</style>\n<table border=\"1\" class=\"dataframe\">\n  <thead>\n    <tr style=\"text-align: right;\">\n      <th></th>\n      <th>DENOM_STRUTTURA</th>\n      <th>WGS84_X</th>\n      <th>WGS84_Y</th>\n    </tr>\n  </thead>\n  <tbody>\n    <tr>\n      <th>0</th>\n      <td>LUISA RIVA</td>\n      <td>9.176205</td>\n      <td>45.442362</td>\n    </tr>\n    <tr>\n      <th>1</th>\n      <td>CONSULTORIO INTERDECANALE IL CAMINETTO - ONLUS</td>\n      <td>9.173891</td>\n      <td>45.527276</td>\n    </tr>\n    <tr>\n      <th>2</th>\n      <td>CONSULTORIO FAMILIARE LUISA RIVA</td>\n      <td>9.176205</td>\n      <td>45.442362</td>\n    </tr>\n    <tr>\n      <th>3</th>\n      <td>CONSULTORIO INTERDECANALE DI VIALE RESTELLI</td>\n      <td>9.196867</td>\n      <td>45.489997</td>\n    </tr>\n    <tr>\n      <th>4</th>\n      <td>CONSULTORIO PREMATRIMONIALE E MATRIMONIALE IST...</td>\n      <td>9.209537</td>\n      <td>45.449729</td>\n    </tr>\n  </tbody>\n</table>\n</div>"
     },
     "execution_count": 114,
     "metadata": {},
     "output_type": "execute_result"
    }
   ],
   "source": [
    "consu_df = consu_df[['DENOM_STRUTTURA', 'WGS84_X', 'WGS84_Y']]\n",
    "consu_len = len(consu_df)\n",
    "consu_df.head()"
   ],
   "metadata": {
    "collapsed": false
   }
  },
  {
   "cell_type": "markdown",
   "source": [
    "### Kindergarden"
   ],
   "metadata": {
    "collapsed": false
   }
  },
  {
   "cell_type": "code",
   "execution_count": 115,
   "outputs": [
    {
     "data": {
      "text/plain": "     CODANNOSCOLASTICO                                         NOMINATIVO  \\\n0                 1819                       Ariberto, 12 Scuola Infanzia   \n1                 1819                          PIO ISTITUTO BUON PASTORE   \n2                 1819                                      MADRE CABRINI   \n3                 1819                                   SUORE CANOSSIANE   \n4                 1819              ISTITUTO GIACOMO LEOPARDI - SANT'ANNA   \n..                 ...                                                ...   \n295               1819                        De Curtis - Scuola Infanzia   \n296               1819                             Il Giardino degli Elfi   \n297               1819  Caduti in Missione di Pace, 10 (Rubattino) - S...   \n298               1819                           CANADIAN SCHOOL OF MILAN   \n299               1819                                    ST.LOUIS SCHOOL   \n\n    CLASSEETA                 GRADO         TIPO_STRUTTURA FLAGPARITARIA  \\\n0       Misti  Scuola dell'infanzia  Privato convenzionato             S   \n1       Misti  Scuola dell'infanzia         Ente religioso             S   \n2       Misti  Scuola dell'infanzia         Ente religioso             S   \n3       Misti  Scuola dell'infanzia  Privato convenzionato             S   \n4       Misti  Scuola dell'infanzia     Ente privato laico             S   \n..        ...                   ...                    ...           ...   \n295     Misti  Scuola dell'infanzia  Privato convenzionato             S   \n296     Misti  Scuola dell'infanzia     Ente privato laico             N   \n297     Misti  Scuola dell'infanzia               Comunale             S   \n298     Misti  Scuola dell'infanzia     Ente privato laico             N   \n299     Misti  Scuola dell'infanzia     Ente privato laico             N   \n\n    TIPO_VIA                   INDIRIZZO NUMEROCIVICO  \\\n0        VIA                SAN VINCENZO           30   \n1        VIA                 SAN VITTORE           29   \n2      CORSO             DI PORTA ROMANA          105   \n3        VIA                DELLA CHIUSA            9   \n4        VIA                       ARENA           13   \n..       ...                         ...          ...   \n295      VIA           DE CURTIS ANTONIO            7   \n296      VIA            CIRILLO DOMENICO           16   \n297      VIA  CADUTI IN MISSIONE DI PACE           10   \n298      VIA            GIOIA MELCHIORRE           42   \n299      VIA        COLONNA MARCOANTONIO           24   \n\n                                            NOME_LUNGO  ...  \\\n0    Scuola dell'infanzia - Ariberto, 12 Scuola Inf...  ...   \n1    Scuola dell'infanzia - PIO ISTITUTO BUON PASTO...  ...   \n2    Scuola dell'infanzia - MADRE CABRINI (Cso Di P...  ...   \n3    Scuola dell'infanzia - SUORE CANOSSIANE (Via D...  ...   \n4    Scuola dell'infanzia - ISTITUTO GIACOMO LEOPAR...  ...   \n..                                                 ...  ...   \n295  Scuola dell'infanzia - De Curtis - Scuola Infa...  ...   \n296  Scuola dell'infanzia - Il Giardino degli Elfi ...  ...   \n297  Scuola dell'infanzia - Caduti in Missione di P...  ...   \n298  Scuola dell'infanzia - CANADIAN SCHOOL OF MILA...  ...   \n299  Scuola dell'infanzia - ST.LOUIS SCHOOL (Via Co...  ...   \n\n                      TELEFONO CAPIENZA CODUNITAEDUCATIVA    CAP ID_NIL  \\\n0                          NaN      123               1.0  20123    7.0   \n1                  02-48007174        0               NaN  20123    7.0   \n2                   02-5450920        0               NaN  20122    4.0   \n3    02-58313640 - 02-58322578        0              81.0  20123    1.0   \n4                  02-89403482        0               NaN  20123    6.0   \n..                         ...      ...               ...    ...    ...   \n295                        NaN      102              11.0  20128    NaN   \n296                  02-341196        0              85.0  20154   69.0   \n297                        NaN      100              17.0  20134   23.0   \n298                02-67074775        0               NaN  20124   10.0   \n299                02-55231243        0               NaN  20149    NaN   \n\n                                     NIL  MUNICIPIO  LONG_WGS84  LAT_WGS84  \\\n0                   MAGENTA - S. VITTORE          1    9.174169  45.458499   \n1                   MAGENTA - S. VITTORE          1    9.169632  45.463443   \n2                              GUASTALLA          1    9.198924  45.454276   \n3                                  DUOMO          1    9.184498  45.457846   \n4    PORTA TICINESE - CONCA DEL NAVIGLIO          1    9.179353  45.455872   \n..                                   ...        ...         ...        ...   \n295                                  NaN          2         NaN        NaN   \n296                                SARPI          1    9.173252  45.477711   \n297                    LAMBRATE - ORTICA          3    9.250887  45.478005   \n298     STAZIONE CENTRALE - PONTE SEVESO          2    9.199135  45.487634   \n299                                  NaN          8         NaN        NaN   \n\n                           Location  \n0    (45.4584988593, 9.17416851912)  \n1     (45.4634431499, 9.1696323647)  \n2    (45.4542760424, 9.19892409768)  \n3     (45.457846245, 9.18449821333)  \n4    (45.4558715769, 9.17935340899)  \n..                              ...  \n295                             NaN  \n296  (45.4777109941, 9.17325157278)  \n297  (45.4780047769, 9.25088674554)  \n298   (45.4876338285, 9.1991351883)  \n299                             NaN  \n\n[300 rows x 24 columns]",
      "text/html": "<div>\n<style scoped>\n    .dataframe tbody tr th:only-of-type {\n        vertical-align: middle;\n    }\n\n    .dataframe tbody tr th {\n        vertical-align: top;\n    }\n\n    .dataframe thead th {\n        text-align: right;\n    }\n</style>\n<table border=\"1\" class=\"dataframe\">\n  <thead>\n    <tr style=\"text-align: right;\">\n      <th></th>\n      <th>CODANNOSCOLASTICO</th>\n      <th>NOMINATIVO</th>\n      <th>CLASSEETA</th>\n      <th>GRADO</th>\n      <th>TIPO_STRUTTURA</th>\n      <th>FLAGPARITARIA</th>\n      <th>TIPO_VIA</th>\n      <th>INDIRIZZO</th>\n      <th>NUMEROCIVICO</th>\n      <th>NOME_LUNGO</th>\n      <th>...</th>\n      <th>TELEFONO</th>\n      <th>CAPIENZA</th>\n      <th>CODUNITAEDUCATIVA</th>\n      <th>CAP</th>\n      <th>ID_NIL</th>\n      <th>NIL</th>\n      <th>MUNICIPIO</th>\n      <th>LONG_WGS84</th>\n      <th>LAT_WGS84</th>\n      <th>Location</th>\n    </tr>\n  </thead>\n  <tbody>\n    <tr>\n      <th>0</th>\n      <td>1819</td>\n      <td>Ariberto, 12 Scuola Infanzia</td>\n      <td>Misti</td>\n      <td>Scuola dell'infanzia</td>\n      <td>Privato convenzionato</td>\n      <td>S</td>\n      <td>VIA</td>\n      <td>SAN VINCENZO</td>\n      <td>30</td>\n      <td>Scuola dell'infanzia - Ariberto, 12 Scuola Inf...</td>\n      <td>...</td>\n      <td>NaN</td>\n      <td>123</td>\n      <td>1.0</td>\n      <td>20123</td>\n      <td>7.0</td>\n      <td>MAGENTA - S. VITTORE</td>\n      <td>1</td>\n      <td>9.174169</td>\n      <td>45.458499</td>\n      <td>(45.4584988593, 9.17416851912)</td>\n    </tr>\n    <tr>\n      <th>1</th>\n      <td>1819</td>\n      <td>PIO ISTITUTO BUON PASTORE</td>\n      <td>Misti</td>\n      <td>Scuola dell'infanzia</td>\n      <td>Ente religioso</td>\n      <td>S</td>\n      <td>VIA</td>\n      <td>SAN VITTORE</td>\n      <td>29</td>\n      <td>Scuola dell'infanzia - PIO ISTITUTO BUON PASTO...</td>\n      <td>...</td>\n      <td>02-48007174</td>\n      <td>0</td>\n      <td>NaN</td>\n      <td>20123</td>\n      <td>7.0</td>\n      <td>MAGENTA - S. VITTORE</td>\n      <td>1</td>\n      <td>9.169632</td>\n      <td>45.463443</td>\n      <td>(45.4634431499, 9.1696323647)</td>\n    </tr>\n    <tr>\n      <th>2</th>\n      <td>1819</td>\n      <td>MADRE CABRINI</td>\n      <td>Misti</td>\n      <td>Scuola dell'infanzia</td>\n      <td>Ente religioso</td>\n      <td>S</td>\n      <td>CORSO</td>\n      <td>DI PORTA ROMANA</td>\n      <td>105</td>\n      <td>Scuola dell'infanzia - MADRE CABRINI (Cso Di P...</td>\n      <td>...</td>\n      <td>02-5450920</td>\n      <td>0</td>\n      <td>NaN</td>\n      <td>20122</td>\n      <td>4.0</td>\n      <td>GUASTALLA</td>\n      <td>1</td>\n      <td>9.198924</td>\n      <td>45.454276</td>\n      <td>(45.4542760424, 9.19892409768)</td>\n    </tr>\n    <tr>\n      <th>3</th>\n      <td>1819</td>\n      <td>SUORE CANOSSIANE</td>\n      <td>Misti</td>\n      <td>Scuola dell'infanzia</td>\n      <td>Privato convenzionato</td>\n      <td>S</td>\n      <td>VIA</td>\n      <td>DELLA CHIUSA</td>\n      <td>9</td>\n      <td>Scuola dell'infanzia - SUORE CANOSSIANE (Via D...</td>\n      <td>...</td>\n      <td>02-58313640 - 02-58322578</td>\n      <td>0</td>\n      <td>81.0</td>\n      <td>20123</td>\n      <td>1.0</td>\n      <td>DUOMO</td>\n      <td>1</td>\n      <td>9.184498</td>\n      <td>45.457846</td>\n      <td>(45.457846245, 9.18449821333)</td>\n    </tr>\n    <tr>\n      <th>4</th>\n      <td>1819</td>\n      <td>ISTITUTO GIACOMO LEOPARDI - SANT'ANNA</td>\n      <td>Misti</td>\n      <td>Scuola dell'infanzia</td>\n      <td>Ente privato laico</td>\n      <td>S</td>\n      <td>VIA</td>\n      <td>ARENA</td>\n      <td>13</td>\n      <td>Scuola dell'infanzia - ISTITUTO GIACOMO LEOPAR...</td>\n      <td>...</td>\n      <td>02-89403482</td>\n      <td>0</td>\n      <td>NaN</td>\n      <td>20123</td>\n      <td>6.0</td>\n      <td>PORTA TICINESE - CONCA DEL NAVIGLIO</td>\n      <td>1</td>\n      <td>9.179353</td>\n      <td>45.455872</td>\n      <td>(45.4558715769, 9.17935340899)</td>\n    </tr>\n    <tr>\n      <th>...</th>\n      <td>...</td>\n      <td>...</td>\n      <td>...</td>\n      <td>...</td>\n      <td>...</td>\n      <td>...</td>\n      <td>...</td>\n      <td>...</td>\n      <td>...</td>\n      <td>...</td>\n      <td>...</td>\n      <td>...</td>\n      <td>...</td>\n      <td>...</td>\n      <td>...</td>\n      <td>...</td>\n      <td>...</td>\n      <td>...</td>\n      <td>...</td>\n      <td>...</td>\n      <td>...</td>\n    </tr>\n    <tr>\n      <th>295</th>\n      <td>1819</td>\n      <td>De Curtis - Scuola Infanzia</td>\n      <td>Misti</td>\n      <td>Scuola dell'infanzia</td>\n      <td>Privato convenzionato</td>\n      <td>S</td>\n      <td>VIA</td>\n      <td>DE CURTIS ANTONIO</td>\n      <td>7</td>\n      <td>Scuola dell'infanzia - De Curtis - Scuola Infa...</td>\n      <td>...</td>\n      <td>NaN</td>\n      <td>102</td>\n      <td>11.0</td>\n      <td>20128</td>\n      <td>NaN</td>\n      <td>NaN</td>\n      <td>2</td>\n      <td>NaN</td>\n      <td>NaN</td>\n      <td>NaN</td>\n    </tr>\n    <tr>\n      <th>296</th>\n      <td>1819</td>\n      <td>Il Giardino degli Elfi</td>\n      <td>Misti</td>\n      <td>Scuola dell'infanzia</td>\n      <td>Ente privato laico</td>\n      <td>N</td>\n      <td>VIA</td>\n      <td>CIRILLO DOMENICO</td>\n      <td>16</td>\n      <td>Scuola dell'infanzia - Il Giardino degli Elfi ...</td>\n      <td>...</td>\n      <td>02-341196</td>\n      <td>0</td>\n      <td>85.0</td>\n      <td>20154</td>\n      <td>69.0</td>\n      <td>SARPI</td>\n      <td>1</td>\n      <td>9.173252</td>\n      <td>45.477711</td>\n      <td>(45.4777109941, 9.17325157278)</td>\n    </tr>\n    <tr>\n      <th>297</th>\n      <td>1819</td>\n      <td>Caduti in Missione di Pace, 10 (Rubattino) - S...</td>\n      <td>Misti</td>\n      <td>Scuola dell'infanzia</td>\n      <td>Comunale</td>\n      <td>S</td>\n      <td>VIA</td>\n      <td>CADUTI IN MISSIONE DI PACE</td>\n      <td>10</td>\n      <td>Scuola dell'infanzia - Caduti in Missione di P...</td>\n      <td>...</td>\n      <td>NaN</td>\n      <td>100</td>\n      <td>17.0</td>\n      <td>20134</td>\n      <td>23.0</td>\n      <td>LAMBRATE - ORTICA</td>\n      <td>3</td>\n      <td>9.250887</td>\n      <td>45.478005</td>\n      <td>(45.4780047769, 9.25088674554)</td>\n    </tr>\n    <tr>\n      <th>298</th>\n      <td>1819</td>\n      <td>CANADIAN SCHOOL OF MILAN</td>\n      <td>Misti</td>\n      <td>Scuola dell'infanzia</td>\n      <td>Ente privato laico</td>\n      <td>N</td>\n      <td>VIA</td>\n      <td>GIOIA MELCHIORRE</td>\n      <td>42</td>\n      <td>Scuola dell'infanzia - CANADIAN SCHOOL OF MILA...</td>\n      <td>...</td>\n      <td>02-67074775</td>\n      <td>0</td>\n      <td>NaN</td>\n      <td>20124</td>\n      <td>10.0</td>\n      <td>STAZIONE CENTRALE - PONTE SEVESO</td>\n      <td>2</td>\n      <td>9.199135</td>\n      <td>45.487634</td>\n      <td>(45.4876338285, 9.1991351883)</td>\n    </tr>\n    <tr>\n      <th>299</th>\n      <td>1819</td>\n      <td>ST.LOUIS SCHOOL</td>\n      <td>Misti</td>\n      <td>Scuola dell'infanzia</td>\n      <td>Ente privato laico</td>\n      <td>N</td>\n      <td>VIA</td>\n      <td>COLONNA MARCOANTONIO</td>\n      <td>24</td>\n      <td>Scuola dell'infanzia - ST.LOUIS SCHOOL (Via Co...</td>\n      <td>...</td>\n      <td>02-55231243</td>\n      <td>0</td>\n      <td>NaN</td>\n      <td>20149</td>\n      <td>NaN</td>\n      <td>NaN</td>\n      <td>8</td>\n      <td>NaN</td>\n      <td>NaN</td>\n      <td>NaN</td>\n    </tr>\n  </tbody>\n</table>\n<p>300 rows × 24 columns</p>\n</div>"
     },
     "execution_count": 115,
     "metadata": {},
     "output_type": "execute_result"
    }
   ],
   "source": [
    "sinf_df = pd.read_csv('../datasets/ds672_scuoleinfanzia_.csv', sep=';')\n",
    "sinf_df"
   ],
   "metadata": {
    "collapsed": false
   }
  },
  {
   "cell_type": "code",
   "execution_count": 116,
   "outputs": [
    {
     "data": {
      "text/plain": "                              NOMINATIVO         TIPO_STRUTTURA  LONG_WGS84  \\\n0           Ariberto, 12 Scuola Infanzia  Privato convenzionato    9.174169   \n1              PIO ISTITUTO BUON PASTORE         Ente religioso    9.169632   \n2                          MADRE CABRINI         Ente religioso    9.198924   \n3                       SUORE CANOSSIANE  Privato convenzionato    9.184498   \n4  ISTITUTO GIACOMO LEOPARDI - SANT'ANNA     Ente privato laico    9.179353   \n\n   LAT_WGS84  \n0  45.458499  \n1  45.463443  \n2  45.454276  \n3  45.457846  \n4  45.455872  ",
      "text/html": "<div>\n<style scoped>\n    .dataframe tbody tr th:only-of-type {\n        vertical-align: middle;\n    }\n\n    .dataframe tbody tr th {\n        vertical-align: top;\n    }\n\n    .dataframe thead th {\n        text-align: right;\n    }\n</style>\n<table border=\"1\" class=\"dataframe\">\n  <thead>\n    <tr style=\"text-align: right;\">\n      <th></th>\n      <th>NOMINATIVO</th>\n      <th>TIPO_STRUTTURA</th>\n      <th>LONG_WGS84</th>\n      <th>LAT_WGS84</th>\n    </tr>\n  </thead>\n  <tbody>\n    <tr>\n      <th>0</th>\n      <td>Ariberto, 12 Scuola Infanzia</td>\n      <td>Privato convenzionato</td>\n      <td>9.174169</td>\n      <td>45.458499</td>\n    </tr>\n    <tr>\n      <th>1</th>\n      <td>PIO ISTITUTO BUON PASTORE</td>\n      <td>Ente religioso</td>\n      <td>9.169632</td>\n      <td>45.463443</td>\n    </tr>\n    <tr>\n      <th>2</th>\n      <td>MADRE CABRINI</td>\n      <td>Ente religioso</td>\n      <td>9.198924</td>\n      <td>45.454276</td>\n    </tr>\n    <tr>\n      <th>3</th>\n      <td>SUORE CANOSSIANE</td>\n      <td>Privato convenzionato</td>\n      <td>9.184498</td>\n      <td>45.457846</td>\n    </tr>\n    <tr>\n      <th>4</th>\n      <td>ISTITUTO GIACOMO LEOPARDI - SANT'ANNA</td>\n      <td>Ente privato laico</td>\n      <td>9.179353</td>\n      <td>45.455872</td>\n    </tr>\n  </tbody>\n</table>\n</div>"
     },
     "execution_count": 116,
     "metadata": {},
     "output_type": "execute_result"
    }
   ],
   "source": [
    "sinf_df=sinf_df[['NOMINATIVO', 'TIPO_STRUTTURA','LONG_WGS84', 'LAT_WGS84']]\n",
    "sinf_len=len(sinf_df)\n",
    "sinf_df.head()"
   ],
   "metadata": {
    "collapsed": false
   }
  },
  {
   "cell_type": "markdown",
   "source": [
    "### Addiction Counselling"
   ],
   "metadata": {
    "collapsed": false
   }
  },
  {
   "cell_type": "code",
   "execution_count": 117,
   "outputs": [
    {
     "data": {
      "text/plain": "  DENOMINAZIONE STRUTTURA             INDIRIZZO TELEFONO SEGRETERIA  \\\n0               SERD GOLA           Via Gola 24         02 81845180   \n1       SERD FORZE ARMATE  Via Forze Armate 381         02 81845239   \n2            SERD ALBENGA       Via Albenga 2/A         02 81845223   \n3            SERD BOIFAVA        Via Boifava 25         02 81845361   \n4              NOA BARONI         Via Baroni 48         02 81845310   \n\n                            INDIRIZZO EMAIL                     SITO WEB  \\\n0         serd.gola@asst-santipaolocarlo.it  www.asst-santipaolocarlo.it   \n1  serd.forzearmate@asst-santipaolocarlo.it  www.asst-santipaolocarlo.it   \n2      serd.albenga@asst-santipaolocarlo.it  www.asst-santipaolocarlo.it   \n3      serd.boifava@asst-santipaolocarlo.it  www.asst-santipaolocarlo.it   \n4        noa.baroni@asst-santipaolocarlo.it  www.asst-santipaolocarlo.it   \n\n                  ASST  MUNICIPIO  ID_NIL  \\\n0  SANTI PAOLO E CARLO          6      44   \n1  SANTI PAOLO E CARLO          7      55   \n2  SANTI PAOLO E CARLO          7      60   \n3  SANTI PAOLO E CARLO          5      42   \n4  SANTI PAOLO E CARLO          5      38   \n\n                                                 NIL  LONG_X_4326  LAT_Y_4326  \\\n0                         PORTA TICINESE - CONCHETTA     9.173628   45.448992   \n1           BAGGIO - Q.RE DEGLI OLMI - Q.RE VALSESIA     9.092817   45.460557   \n2                                 STADIO - IPPODROMI     9.119313   45.474075   \n3  STADERA - CHIESA ROSSA - Q.RE TORRETTA - CONCA...     9.175613   45.427446   \n4                            VIGENTINO - Q.RE FATIMA     9.205328   45.432001   \n\n                                  Location  \n0   (45.44899200000003, 9.173628000000065)  \n1   (45.46055700000005, 9.092817000000025)  \n2   (45.47407500000003, 9.119313000000034)  \n3   (45.42744600000003, 9.175612500000057)  \n4  (45.432000910000056, 9.205328033000058)  ",
      "text/html": "<div>\n<style scoped>\n    .dataframe tbody tr th:only-of-type {\n        vertical-align: middle;\n    }\n\n    .dataframe tbody tr th {\n        vertical-align: top;\n    }\n\n    .dataframe thead th {\n        text-align: right;\n    }\n</style>\n<table border=\"1\" class=\"dataframe\">\n  <thead>\n    <tr style=\"text-align: right;\">\n      <th></th>\n      <th>DENOMINAZIONE STRUTTURA</th>\n      <th>INDIRIZZO</th>\n      <th>TELEFONO SEGRETERIA</th>\n      <th>INDIRIZZO EMAIL</th>\n      <th>SITO WEB</th>\n      <th>ASST</th>\n      <th>MUNICIPIO</th>\n      <th>ID_NIL</th>\n      <th>NIL</th>\n      <th>LONG_X_4326</th>\n      <th>LAT_Y_4326</th>\n      <th>Location</th>\n    </tr>\n  </thead>\n  <tbody>\n    <tr>\n      <th>0</th>\n      <td>SERD GOLA</td>\n      <td>Via Gola 24</td>\n      <td>02 81845180</td>\n      <td>serd.gola@asst-santipaolocarlo.it</td>\n      <td>www.asst-santipaolocarlo.it</td>\n      <td>SANTI PAOLO E CARLO</td>\n      <td>6</td>\n      <td>44</td>\n      <td>PORTA TICINESE - CONCHETTA</td>\n      <td>9.173628</td>\n      <td>45.448992</td>\n      <td>(45.44899200000003, 9.173628000000065)</td>\n    </tr>\n    <tr>\n      <th>1</th>\n      <td>SERD FORZE ARMATE</td>\n      <td>Via Forze Armate 381</td>\n      <td>02 81845239</td>\n      <td>serd.forzearmate@asst-santipaolocarlo.it</td>\n      <td>www.asst-santipaolocarlo.it</td>\n      <td>SANTI PAOLO E CARLO</td>\n      <td>7</td>\n      <td>55</td>\n      <td>BAGGIO - Q.RE DEGLI OLMI - Q.RE VALSESIA</td>\n      <td>9.092817</td>\n      <td>45.460557</td>\n      <td>(45.46055700000005, 9.092817000000025)</td>\n    </tr>\n    <tr>\n      <th>2</th>\n      <td>SERD ALBENGA</td>\n      <td>Via Albenga 2/A</td>\n      <td>02 81845223</td>\n      <td>serd.albenga@asst-santipaolocarlo.it</td>\n      <td>www.asst-santipaolocarlo.it</td>\n      <td>SANTI PAOLO E CARLO</td>\n      <td>7</td>\n      <td>60</td>\n      <td>STADIO - IPPODROMI</td>\n      <td>9.119313</td>\n      <td>45.474075</td>\n      <td>(45.47407500000003, 9.119313000000034)</td>\n    </tr>\n    <tr>\n      <th>3</th>\n      <td>SERD BOIFAVA</td>\n      <td>Via Boifava 25</td>\n      <td>02 81845361</td>\n      <td>serd.boifava@asst-santipaolocarlo.it</td>\n      <td>www.asst-santipaolocarlo.it</td>\n      <td>SANTI PAOLO E CARLO</td>\n      <td>5</td>\n      <td>42</td>\n      <td>STADERA - CHIESA ROSSA - Q.RE TORRETTA - CONCA...</td>\n      <td>9.175613</td>\n      <td>45.427446</td>\n      <td>(45.42744600000003, 9.175612500000057)</td>\n    </tr>\n    <tr>\n      <th>4</th>\n      <td>NOA BARONI</td>\n      <td>Via Baroni 48</td>\n      <td>02 81845310</td>\n      <td>noa.baroni@asst-santipaolocarlo.it</td>\n      <td>www.asst-santipaolocarlo.it</td>\n      <td>SANTI PAOLO E CARLO</td>\n      <td>5</td>\n      <td>38</td>\n      <td>VIGENTINO - Q.RE FATIMA</td>\n      <td>9.205328</td>\n      <td>45.432001</td>\n      <td>(45.432000910000056, 9.205328033000058)</td>\n    </tr>\n  </tbody>\n</table>\n</div>"
     },
     "execution_count": 117,
     "metadata": {},
     "output_type": "execute_result"
    }
   ],
   "source": [
    "serd_df = pd.read_csv('../datasets/ds1324_serd_servizi-per-le-dipendenze-patologiche.csv', sep=';')\n",
    "serd_df.head()"
   ],
   "metadata": {
    "collapsed": false
   }
  },
  {
   "cell_type": "code",
   "execution_count": 118,
   "outputs": [
    {
     "data": {
      "text/plain": "  DENOMINAZIONE STRUTTURA  LONG_X_4326  LAT_Y_4326\n0               SERD GOLA     9.173628   45.448992\n1       SERD FORZE ARMATE     9.092817   45.460557\n2            SERD ALBENGA     9.119313   45.474075\n3            SERD BOIFAVA     9.175613   45.427446\n4              NOA BARONI     9.205328   45.432001",
      "text/html": "<div>\n<style scoped>\n    .dataframe tbody tr th:only-of-type {\n        vertical-align: middle;\n    }\n\n    .dataframe tbody tr th {\n        vertical-align: top;\n    }\n\n    .dataframe thead th {\n        text-align: right;\n    }\n</style>\n<table border=\"1\" class=\"dataframe\">\n  <thead>\n    <tr style=\"text-align: right;\">\n      <th></th>\n      <th>DENOMINAZIONE STRUTTURA</th>\n      <th>LONG_X_4326</th>\n      <th>LAT_Y_4326</th>\n    </tr>\n  </thead>\n  <tbody>\n    <tr>\n      <th>0</th>\n      <td>SERD GOLA</td>\n      <td>9.173628</td>\n      <td>45.448992</td>\n    </tr>\n    <tr>\n      <th>1</th>\n      <td>SERD FORZE ARMATE</td>\n      <td>9.092817</td>\n      <td>45.460557</td>\n    </tr>\n    <tr>\n      <th>2</th>\n      <td>SERD ALBENGA</td>\n      <td>9.119313</td>\n      <td>45.474075</td>\n    </tr>\n    <tr>\n      <th>3</th>\n      <td>SERD BOIFAVA</td>\n      <td>9.175613</td>\n      <td>45.427446</td>\n    </tr>\n    <tr>\n      <th>4</th>\n      <td>NOA BARONI</td>\n      <td>9.205328</td>\n      <td>45.432001</td>\n    </tr>\n  </tbody>\n</table>\n</div>"
     },
     "execution_count": 118,
     "metadata": {},
     "output_type": "execute_result"
    }
   ],
   "source": [
    "serd_df=serd_df[['DENOMINAZIONE STRUTTURA', 'LONG_X_4326', 'LAT_Y_4326']]\n",
    "serd_len=len(serd_df)\n",
    "serd_df.head()"
   ],
   "metadata": {
    "collapsed": false
   }
  },
  {
   "cell_type": "markdown",
   "source": [
    "### Elementary school"
   ],
   "metadata": {
    "collapsed": false
   }
  },
  {
   "cell_type": "code",
   "execution_count": 119,
   "outputs": [
    {
     "data": {
      "text/plain": "   ANNOSCOL  CODICE                                      DENOMINAZIONE  \\\n0      1415    2000                               PAOLO E LARISSA PINI   \n1      1415    2002                          ISTITUTO GIACOMO LEOPARDI   \n2      1415    2003  ARIBERTO DA INTIMIANO - SANTA MADDALENA DI CAN...   \n3      1415    2005                          PIO ISTITUTO BUON PASTORE   \n4      1415    2006                                 COLLEGIO SAN CARLO   \n\n             GRADO                TIPO PARITARIA  \\\n0  Scuola primaria             Statale        No   \n1  Scuola primaria  Ente privato laico        SI   \n2  Scuola primaria             Statale        No   \n3  Scuola primaria      Ente religioso        SI   \n4  Scuola primaria      Ente religioso        SI   \n\n                        INDIRIZZO  CODVIA  MUNICIPIO  ID_NIL  \\\n0  Via STEFANARDO DA VIMERCATE 14  2456.0        2.0      16   \n1                    Via ARENA 13  5182.0        1.0       6   \n2    Via ARIBERTO DA INTIMIANO 14  5092.0        1.0       7   \n3              Via SAN VITTORE 29   647.0        1.0       7   \n4                Corso MAGENTA 71   604.0        1.0       7   \n\n                                   NIL  LONG_X_4326  LAT_Y_4326  \\\n0                     GORLA - PRECOTTO     9.226482   45.506341   \n1  PORTA TICINESE - CONCA DEL NAVIGLIO     9.179353   45.455872   \n2                 MAGENTA - S. VITTORE     9.173278   45.458855   \n3                 MAGENTA - S. VITTORE     9.169632   45.463443   \n4                 MAGENTA - S. VITTORE     9.169772   45.465582   \n\n                         Location  \n0  (45.5063408362, 9.22648224656)  \n1  (45.4558715769, 9.17935340899)  \n2   (45.458854609, 9.17327758799)  \n3   (45.4634431499, 9.1696323647)  \n4  (45.4655815315, 9.16977229797)  ",
      "text/html": "<div>\n<style scoped>\n    .dataframe tbody tr th:only-of-type {\n        vertical-align: middle;\n    }\n\n    .dataframe tbody tr th {\n        vertical-align: top;\n    }\n\n    .dataframe thead th {\n        text-align: right;\n    }\n</style>\n<table border=\"1\" class=\"dataframe\">\n  <thead>\n    <tr style=\"text-align: right;\">\n      <th></th>\n      <th>ANNOSCOL</th>\n      <th>CODICE</th>\n      <th>DENOMINAZIONE</th>\n      <th>GRADO</th>\n      <th>TIPO</th>\n      <th>PARITARIA</th>\n      <th>INDIRIZZO</th>\n      <th>CODVIA</th>\n      <th>MUNICIPIO</th>\n      <th>ID_NIL</th>\n      <th>NIL</th>\n      <th>LONG_X_4326</th>\n      <th>LAT_Y_4326</th>\n      <th>Location</th>\n    </tr>\n  </thead>\n  <tbody>\n    <tr>\n      <th>0</th>\n      <td>1415</td>\n      <td>2000</td>\n      <td>PAOLO E LARISSA PINI</td>\n      <td>Scuola primaria</td>\n      <td>Statale</td>\n      <td>No</td>\n      <td>Via STEFANARDO DA VIMERCATE 14</td>\n      <td>2456.0</td>\n      <td>2.0</td>\n      <td>16</td>\n      <td>GORLA - PRECOTTO</td>\n      <td>9.226482</td>\n      <td>45.506341</td>\n      <td>(45.5063408362, 9.22648224656)</td>\n    </tr>\n    <tr>\n      <th>1</th>\n      <td>1415</td>\n      <td>2002</td>\n      <td>ISTITUTO GIACOMO LEOPARDI</td>\n      <td>Scuola primaria</td>\n      <td>Ente privato laico</td>\n      <td>SI</td>\n      <td>Via ARENA 13</td>\n      <td>5182.0</td>\n      <td>1.0</td>\n      <td>6</td>\n      <td>PORTA TICINESE - CONCA DEL NAVIGLIO</td>\n      <td>9.179353</td>\n      <td>45.455872</td>\n      <td>(45.4558715769, 9.17935340899)</td>\n    </tr>\n    <tr>\n      <th>2</th>\n      <td>1415</td>\n      <td>2003</td>\n      <td>ARIBERTO DA INTIMIANO - SANTA MADDALENA DI CAN...</td>\n      <td>Scuola primaria</td>\n      <td>Statale</td>\n      <td>No</td>\n      <td>Via ARIBERTO DA INTIMIANO 14</td>\n      <td>5092.0</td>\n      <td>1.0</td>\n      <td>7</td>\n      <td>MAGENTA - S. VITTORE</td>\n      <td>9.173278</td>\n      <td>45.458855</td>\n      <td>(45.458854609, 9.17327758799)</td>\n    </tr>\n    <tr>\n      <th>3</th>\n      <td>1415</td>\n      <td>2005</td>\n      <td>PIO ISTITUTO BUON PASTORE</td>\n      <td>Scuola primaria</td>\n      <td>Ente religioso</td>\n      <td>SI</td>\n      <td>Via SAN VITTORE 29</td>\n      <td>647.0</td>\n      <td>1.0</td>\n      <td>7</td>\n      <td>MAGENTA - S. VITTORE</td>\n      <td>9.169632</td>\n      <td>45.463443</td>\n      <td>(45.4634431499, 9.1696323647)</td>\n    </tr>\n    <tr>\n      <th>4</th>\n      <td>1415</td>\n      <td>2006</td>\n      <td>COLLEGIO SAN CARLO</td>\n      <td>Scuola primaria</td>\n      <td>Ente religioso</td>\n      <td>SI</td>\n      <td>Corso MAGENTA 71</td>\n      <td>604.0</td>\n      <td>1.0</td>\n      <td>7</td>\n      <td>MAGENTA - S. VITTORE</td>\n      <td>9.169772</td>\n      <td>45.465582</td>\n      <td>(45.4655815315, 9.16977229797)</td>\n    </tr>\n  </tbody>\n</table>\n</div>"
     },
     "execution_count": 119,
     "metadata": {},
     "output_type": "execute_result"
    }
   ],
   "source": [
    "sprim_df = pd.read_csv('../datasets/dst_an_statistica_totale_202209211022-2122_loc-scuola-primaria.csv', sep=';')\n",
    "sprim_df.head()"
   ],
   "metadata": {
    "collapsed": false
   }
  },
  {
   "cell_type": "code",
   "execution_count": 120,
   "outputs": [
    {
     "data": {
      "text/plain": "                                       DENOMINAZIONE                TIPO  \\\n0                               PAOLO E LARISSA PINI             Statale   \n1                          ISTITUTO GIACOMO LEOPARDI  Ente privato laico   \n2  ARIBERTO DA INTIMIANO - SANTA MADDALENA DI CAN...             Statale   \n3                          PIO ISTITUTO BUON PASTORE      Ente religioso   \n4                                 COLLEGIO SAN CARLO      Ente religioso   \n\n   LONG_X_4326  LAT_Y_4326  \n0     9.226482   45.506341  \n1     9.179353   45.455872  \n2     9.173278   45.458855  \n3     9.169632   45.463443  \n4     9.169772   45.465582  ",
      "text/html": "<div>\n<style scoped>\n    .dataframe tbody tr th:only-of-type {\n        vertical-align: middle;\n    }\n\n    .dataframe tbody tr th {\n        vertical-align: top;\n    }\n\n    .dataframe thead th {\n        text-align: right;\n    }\n</style>\n<table border=\"1\" class=\"dataframe\">\n  <thead>\n    <tr style=\"text-align: right;\">\n      <th></th>\n      <th>DENOMINAZIONE</th>\n      <th>TIPO</th>\n      <th>LONG_X_4326</th>\n      <th>LAT_Y_4326</th>\n    </tr>\n  </thead>\n  <tbody>\n    <tr>\n      <th>0</th>\n      <td>PAOLO E LARISSA PINI</td>\n      <td>Statale</td>\n      <td>9.226482</td>\n      <td>45.506341</td>\n    </tr>\n    <tr>\n      <th>1</th>\n      <td>ISTITUTO GIACOMO LEOPARDI</td>\n      <td>Ente privato laico</td>\n      <td>9.179353</td>\n      <td>45.455872</td>\n    </tr>\n    <tr>\n      <th>2</th>\n      <td>ARIBERTO DA INTIMIANO - SANTA MADDALENA DI CAN...</td>\n      <td>Statale</td>\n      <td>9.173278</td>\n      <td>45.458855</td>\n    </tr>\n    <tr>\n      <th>3</th>\n      <td>PIO ISTITUTO BUON PASTORE</td>\n      <td>Ente religioso</td>\n      <td>9.169632</td>\n      <td>45.463443</td>\n    </tr>\n    <tr>\n      <th>4</th>\n      <td>COLLEGIO SAN CARLO</td>\n      <td>Ente religioso</td>\n      <td>9.169772</td>\n      <td>45.465582</td>\n    </tr>\n  </tbody>\n</table>\n</div>"
     },
     "execution_count": 120,
     "metadata": {},
     "output_type": "execute_result"
    }
   ],
   "source": [
    "sprim_df=sprim_df[['DENOMINAZIONE', 'TIPO', 'LONG_X_4326', 'LAT_Y_4326']]\n",
    "sprim_len=len(sprim_df)\n",
    "sprim_df.head()"
   ],
   "metadata": {
    "collapsed": false
   }
  },
  {
   "cell_type": "markdown",
   "source": [
    "### Middle School"
   ],
   "metadata": {
    "collapsed": false
   }
  },
  {
   "cell_type": "code",
   "execution_count": 121,
   "outputs": [
    {
     "data": {
      "text/plain": "   ANNOSCOL  CODICE          DENOMINAZIONE              GRADO     TIPO  \\\n0      1415    3002          LUCA BELTRAMI  Scuola secondaria  Statale   \n1      1415    3003          LUIGI CAGNOLA  Scuola secondaria  Statale   \n2      1415    3004  CAVALIERI BONAVENTURA  Scuola secondaria  Statale   \n3      1415    3005         GIUSEPPE VERDI  Scuola secondaria  Statale   \n4      1415    3006            LUIGI MAJNO  Scuola secondaria  Statale   \n\n  PARITARIA                   INDIRIZZO  CODVIA  MUNICIPIO  ID_NIL  \\\n0        No  Piazza GUGLIELMO MASSAIA 2   559.0        1.0       1   \n1        No            Via SOLFERINO 52  1028.0        1.0       2   \n2        No           Via ANCO MARZIO 9  6231.0        1.0       7   \n3        No    Via FILIPPO CORRIDONI 34  3020.0        1.0       4   \n4        No   Corso DI PORTA ROMANA 112   402.0        1.0       5   \n\n                                NIL  LONG_X_4326  LAT_Y_4326  \\\n0                             DUOMO     9.181341   45.461671   \n1                             BRERA     9.188784   45.479491   \n2              MAGENTA - S. VITTORE     9.170282   45.459829   \n3                         GUASTALLA     9.203841   45.463535   \n4  PORTA VIGENTINA - PORTA LODOVICA     9.198227   45.454485   \n\n                         Location  \n0    (45.4616707127, 9.181341281)  \n1  (45.4794908375, 9.18878445105)  \n2  (45.4598291005, 9.17028238923)  \n3  (45.4635347875, 9.20384126085)  \n4   (45.454484756, 9.19822697807)  ",
      "text/html": "<div>\n<style scoped>\n    .dataframe tbody tr th:only-of-type {\n        vertical-align: middle;\n    }\n\n    .dataframe tbody tr th {\n        vertical-align: top;\n    }\n\n    .dataframe thead th {\n        text-align: right;\n    }\n</style>\n<table border=\"1\" class=\"dataframe\">\n  <thead>\n    <tr style=\"text-align: right;\">\n      <th></th>\n      <th>ANNOSCOL</th>\n      <th>CODICE</th>\n      <th>DENOMINAZIONE</th>\n      <th>GRADO</th>\n      <th>TIPO</th>\n      <th>PARITARIA</th>\n      <th>INDIRIZZO</th>\n      <th>CODVIA</th>\n      <th>MUNICIPIO</th>\n      <th>ID_NIL</th>\n      <th>NIL</th>\n      <th>LONG_X_4326</th>\n      <th>LAT_Y_4326</th>\n      <th>Location</th>\n    </tr>\n  </thead>\n  <tbody>\n    <tr>\n      <th>0</th>\n      <td>1415</td>\n      <td>3002</td>\n      <td>LUCA BELTRAMI</td>\n      <td>Scuola secondaria</td>\n      <td>Statale</td>\n      <td>No</td>\n      <td>Piazza GUGLIELMO MASSAIA 2</td>\n      <td>559.0</td>\n      <td>1.0</td>\n      <td>1</td>\n      <td>DUOMO</td>\n      <td>9.181341</td>\n      <td>45.461671</td>\n      <td>(45.4616707127, 9.181341281)</td>\n    </tr>\n    <tr>\n      <th>1</th>\n      <td>1415</td>\n      <td>3003</td>\n      <td>LUIGI CAGNOLA</td>\n      <td>Scuola secondaria</td>\n      <td>Statale</td>\n      <td>No</td>\n      <td>Via SOLFERINO 52</td>\n      <td>1028.0</td>\n      <td>1.0</td>\n      <td>2</td>\n      <td>BRERA</td>\n      <td>9.188784</td>\n      <td>45.479491</td>\n      <td>(45.4794908375, 9.18878445105)</td>\n    </tr>\n    <tr>\n      <th>2</th>\n      <td>1415</td>\n      <td>3004</td>\n      <td>CAVALIERI BONAVENTURA</td>\n      <td>Scuola secondaria</td>\n      <td>Statale</td>\n      <td>No</td>\n      <td>Via ANCO MARZIO 9</td>\n      <td>6231.0</td>\n      <td>1.0</td>\n      <td>7</td>\n      <td>MAGENTA - S. VITTORE</td>\n      <td>9.170282</td>\n      <td>45.459829</td>\n      <td>(45.4598291005, 9.17028238923)</td>\n    </tr>\n    <tr>\n      <th>3</th>\n      <td>1415</td>\n      <td>3005</td>\n      <td>GIUSEPPE VERDI</td>\n      <td>Scuola secondaria</td>\n      <td>Statale</td>\n      <td>No</td>\n      <td>Via FILIPPO CORRIDONI 34</td>\n      <td>3020.0</td>\n      <td>1.0</td>\n      <td>4</td>\n      <td>GUASTALLA</td>\n      <td>9.203841</td>\n      <td>45.463535</td>\n      <td>(45.4635347875, 9.20384126085)</td>\n    </tr>\n    <tr>\n      <th>4</th>\n      <td>1415</td>\n      <td>3006</td>\n      <td>LUIGI MAJNO</td>\n      <td>Scuola secondaria</td>\n      <td>Statale</td>\n      <td>No</td>\n      <td>Corso DI PORTA ROMANA 112</td>\n      <td>402.0</td>\n      <td>1.0</td>\n      <td>5</td>\n      <td>PORTA VIGENTINA - PORTA LODOVICA</td>\n      <td>9.198227</td>\n      <td>45.454485</td>\n      <td>(45.454484756, 9.19822697807)</td>\n    </tr>\n  </tbody>\n</table>\n</div>"
     },
     "execution_count": 121,
     "metadata": {},
     "output_type": "execute_result"
    }
   ],
   "source": [
    "ssec_df = pd.read_csv('../datasets/dst_an_statistica_totale_202209211022-2122_loc-scuola-secondaria.csv', sep=';')\n",
    "ssec_df.head()"
   ],
   "metadata": {
    "collapsed": false
   }
  },
  {
   "cell_type": "code",
   "execution_count": 122,
   "outputs": [
    {
     "data": {
      "text/plain": "           DENOMINAZIONE     TIPO  LONG_X_4326  LAT_Y_4326\n0          LUCA BELTRAMI  Statale     9.181341   45.461671\n1          LUIGI CAGNOLA  Statale     9.188784   45.479491\n2  CAVALIERI BONAVENTURA  Statale     9.170282   45.459829\n3         GIUSEPPE VERDI  Statale     9.203841   45.463535\n4            LUIGI MAJNO  Statale     9.198227   45.454485",
      "text/html": "<div>\n<style scoped>\n    .dataframe tbody tr th:only-of-type {\n        vertical-align: middle;\n    }\n\n    .dataframe tbody tr th {\n        vertical-align: top;\n    }\n\n    .dataframe thead th {\n        text-align: right;\n    }\n</style>\n<table border=\"1\" class=\"dataframe\">\n  <thead>\n    <tr style=\"text-align: right;\">\n      <th></th>\n      <th>DENOMINAZIONE</th>\n      <th>TIPO</th>\n      <th>LONG_X_4326</th>\n      <th>LAT_Y_4326</th>\n    </tr>\n  </thead>\n  <tbody>\n    <tr>\n      <th>0</th>\n      <td>LUCA BELTRAMI</td>\n      <td>Statale</td>\n      <td>9.181341</td>\n      <td>45.461671</td>\n    </tr>\n    <tr>\n      <th>1</th>\n      <td>LUIGI CAGNOLA</td>\n      <td>Statale</td>\n      <td>9.188784</td>\n      <td>45.479491</td>\n    </tr>\n    <tr>\n      <th>2</th>\n      <td>CAVALIERI BONAVENTURA</td>\n      <td>Statale</td>\n      <td>9.170282</td>\n      <td>45.459829</td>\n    </tr>\n    <tr>\n      <th>3</th>\n      <td>GIUSEPPE VERDI</td>\n      <td>Statale</td>\n      <td>9.203841</td>\n      <td>45.463535</td>\n    </tr>\n    <tr>\n      <th>4</th>\n      <td>LUIGI MAJNO</td>\n      <td>Statale</td>\n      <td>9.198227</td>\n      <td>45.454485</td>\n    </tr>\n  </tbody>\n</table>\n</div>"
     },
     "execution_count": 122,
     "metadata": {},
     "output_type": "execute_result"
    }
   ],
   "source": [
    "ssec_df=ssec_df[['DENOMINAZIONE', 'TIPO', 'LONG_X_4326', 'LAT_Y_4326']]\n",
    "ssec_len=len(ssec_df)\n",
    "ssec_df.head()"
   ],
   "metadata": {
    "collapsed": false
   }
  },
  {
   "cell_type": "markdown",
   "source": [
    "### Newsstand"
   ],
   "metadata": {
    "collapsed": false
   }
  },
  {
   "cell_type": "code",
   "execution_count": 123,
   "outputs": [
    {
     "data": {
      "text/plain": "    Codice                                         Ubicazione  \\\n0  ED/3044                     VIALE FAMAGOSTA N. 56 (z.d. 6)   \n1  ED/2948                        Viale UMBRIA N. 28 (z.d. 4)   \n2  ED/2887                         Via MECENATE N. 2 (z.d. 4)   \n3  ED/2908           Via PISINO N. 1 ang. via asiago (z.d. 2)   \n4  ED/2999  Via TRAIANO MARCO ULPIO N. 11 ang. via teodori...   \n\n                    Area di Competenza           DescrizioneVia Civico  \\\n0  AREE PUBBLICHE - Giornali e riviste          VIALE FAMAGOSTA     56   \n1  AREE PUBBLICHE - Giornali e riviste             Viale UMBRIA     28   \n2  AREE PUBBLICHE - Giornali e riviste             Via MECENATE      2   \n3  AREE PUBBLICHE - Giornali e riviste               Via PISINO      1   \n4  AREE PUBBLICHE - Giornali e riviste  Via TRAIANO MARCO ULPIO     11   \n\n   CodiceVia            Localita      forma_vendita_edicole vendita_esclusiva  \\\n0     5353.0                 NaN  rivendita in supermercato                No   \n1     3145.0                 NaN  rivendita in supermercato                No   \n2     3323.0                 NaN       rivendita in negozio                Si   \n3     2460.0     ang. via asiago       rivendita in negozio                Si   \n4     7157.0  ANG. VIA TEODORICO  edicola su suolo pubblico                No   \n\n       CAP  MUNICIPIO  ID_NIL                                    NIL  \\\n0  20142.0        6.0    46.0                                 BARONA   \n1  20135.0        4.0    28.0           UMBRIA - MOLISE - CALVAIRATE   \n2  20138.0        4.0    30.0  TALIEDO - MORSENCHIO - Q.RE FORLANINI   \n3  20128.0        2.0    16.0                       GORLA - PRECOTTO   \n4  20149.0        8.0    67.0                               PORTELLO   \n\n   LONG_X_4326  LAT_Y_4326                              Location  \n0     9.167505   45.437121  (45.4371214488939, 9.16750549367106)  \n1     9.212785   45.450235        (45.4502345606, 9.21278494068)  \n2     9.242266   45.456869        (45.4568691836, 9.24226558714)  \n3     9.228569   45.505852           (45.5058519, 9.22856895832)  \n4     9.151691   45.485193          (45.485193484, 9.1516912608)  ",
      "text/html": "<div>\n<style scoped>\n    .dataframe tbody tr th:only-of-type {\n        vertical-align: middle;\n    }\n\n    .dataframe tbody tr th {\n        vertical-align: top;\n    }\n\n    .dataframe thead th {\n        text-align: right;\n    }\n</style>\n<table border=\"1\" class=\"dataframe\">\n  <thead>\n    <tr style=\"text-align: right;\">\n      <th></th>\n      <th>Codice</th>\n      <th>Ubicazione</th>\n      <th>Area di Competenza</th>\n      <th>DescrizioneVia</th>\n      <th>Civico</th>\n      <th>CodiceVia</th>\n      <th>Localita</th>\n      <th>forma_vendita_edicole</th>\n      <th>vendita_esclusiva</th>\n      <th>CAP</th>\n      <th>MUNICIPIO</th>\n      <th>ID_NIL</th>\n      <th>NIL</th>\n      <th>LONG_X_4326</th>\n      <th>LAT_Y_4326</th>\n      <th>Location</th>\n    </tr>\n  </thead>\n  <tbody>\n    <tr>\n      <th>0</th>\n      <td>ED/3044</td>\n      <td>VIALE FAMAGOSTA N. 56 (z.d. 6)</td>\n      <td>AREE PUBBLICHE - Giornali e riviste</td>\n      <td>VIALE FAMAGOSTA</td>\n      <td>56</td>\n      <td>5353.0</td>\n      <td>NaN</td>\n      <td>rivendita in supermercato</td>\n      <td>No</td>\n      <td>20142.0</td>\n      <td>6.0</td>\n      <td>46.0</td>\n      <td>BARONA</td>\n      <td>9.167505</td>\n      <td>45.437121</td>\n      <td>(45.4371214488939, 9.16750549367106)</td>\n    </tr>\n    <tr>\n      <th>1</th>\n      <td>ED/2948</td>\n      <td>Viale UMBRIA N. 28 (z.d. 4)</td>\n      <td>AREE PUBBLICHE - Giornali e riviste</td>\n      <td>Viale UMBRIA</td>\n      <td>28</td>\n      <td>3145.0</td>\n      <td>NaN</td>\n      <td>rivendita in supermercato</td>\n      <td>No</td>\n      <td>20135.0</td>\n      <td>4.0</td>\n      <td>28.0</td>\n      <td>UMBRIA - MOLISE - CALVAIRATE</td>\n      <td>9.212785</td>\n      <td>45.450235</td>\n      <td>(45.4502345606, 9.21278494068)</td>\n    </tr>\n    <tr>\n      <th>2</th>\n      <td>ED/2887</td>\n      <td>Via MECENATE N. 2 (z.d. 4)</td>\n      <td>AREE PUBBLICHE - Giornali e riviste</td>\n      <td>Via MECENATE</td>\n      <td>2</td>\n      <td>3323.0</td>\n      <td>NaN</td>\n      <td>rivendita in negozio</td>\n      <td>Si</td>\n      <td>20138.0</td>\n      <td>4.0</td>\n      <td>30.0</td>\n      <td>TALIEDO - MORSENCHIO - Q.RE FORLANINI</td>\n      <td>9.242266</td>\n      <td>45.456869</td>\n      <td>(45.4568691836, 9.24226558714)</td>\n    </tr>\n    <tr>\n      <th>3</th>\n      <td>ED/2908</td>\n      <td>Via PISINO N. 1 ang. via asiago (z.d. 2)</td>\n      <td>AREE PUBBLICHE - Giornali e riviste</td>\n      <td>Via PISINO</td>\n      <td>1</td>\n      <td>2460.0</td>\n      <td>ang. via asiago</td>\n      <td>rivendita in negozio</td>\n      <td>Si</td>\n      <td>20128.0</td>\n      <td>2.0</td>\n      <td>16.0</td>\n      <td>GORLA - PRECOTTO</td>\n      <td>9.228569</td>\n      <td>45.505852</td>\n      <td>(45.5058519, 9.22856895832)</td>\n    </tr>\n    <tr>\n      <th>4</th>\n      <td>ED/2999</td>\n      <td>Via TRAIANO MARCO ULPIO N. 11 ang. via teodori...</td>\n      <td>AREE PUBBLICHE - Giornali e riviste</td>\n      <td>Via TRAIANO MARCO ULPIO</td>\n      <td>11</td>\n      <td>7157.0</td>\n      <td>ANG. VIA TEODORICO</td>\n      <td>edicola su suolo pubblico</td>\n      <td>No</td>\n      <td>20149.0</td>\n      <td>8.0</td>\n      <td>67.0</td>\n      <td>PORTELLO</td>\n      <td>9.151691</td>\n      <td>45.485193</td>\n      <td>(45.485193484, 9.1516912608)</td>\n    </tr>\n  </tbody>\n</table>\n</div>"
     },
     "execution_count": 123,
     "metadata": {},
     "output_type": "execute_result"
    }
   ],
   "source": [
    "edicole_df = pd.read_csv('../datasets/edicole.csv', sep=';')\n",
    "edicole_df.head()"
   ],
   "metadata": {
    "collapsed": false
   }
  },
  {
   "cell_type": "code",
   "execution_count": 124,
   "outputs": [
    {
     "data": {
      "text/plain": "                                          Ubicazione  LONG_X_4326  LAT_Y_4326\n0                     VIALE FAMAGOSTA N. 56 (z.d. 6)     9.167505   45.437121\n1                        Viale UMBRIA N. 28 (z.d. 4)     9.212785   45.450235\n2                         Via MECENATE N. 2 (z.d. 4)     9.242266   45.456869\n3           Via PISINO N. 1 ang. via asiago (z.d. 2)     9.228569   45.505852\n4  Via TRAIANO MARCO ULPIO N. 11 ang. via teodori...     9.151691   45.485193",
      "text/html": "<div>\n<style scoped>\n    .dataframe tbody tr th:only-of-type {\n        vertical-align: middle;\n    }\n\n    .dataframe tbody tr th {\n        vertical-align: top;\n    }\n\n    .dataframe thead th {\n        text-align: right;\n    }\n</style>\n<table border=\"1\" class=\"dataframe\">\n  <thead>\n    <tr style=\"text-align: right;\">\n      <th></th>\n      <th>Ubicazione</th>\n      <th>LONG_X_4326</th>\n      <th>LAT_Y_4326</th>\n    </tr>\n  </thead>\n  <tbody>\n    <tr>\n      <th>0</th>\n      <td>VIALE FAMAGOSTA N. 56 (z.d. 6)</td>\n      <td>9.167505</td>\n      <td>45.437121</td>\n    </tr>\n    <tr>\n      <th>1</th>\n      <td>Viale UMBRIA N. 28 (z.d. 4)</td>\n      <td>9.212785</td>\n      <td>45.450235</td>\n    </tr>\n    <tr>\n      <th>2</th>\n      <td>Via MECENATE N. 2 (z.d. 4)</td>\n      <td>9.242266</td>\n      <td>45.456869</td>\n    </tr>\n    <tr>\n      <th>3</th>\n      <td>Via PISINO N. 1 ang. via asiago (z.d. 2)</td>\n      <td>9.228569</td>\n      <td>45.505852</td>\n    </tr>\n    <tr>\n      <th>4</th>\n      <td>Via TRAIANO MARCO ULPIO N. 11 ang. via teodori...</td>\n      <td>9.151691</td>\n      <td>45.485193</td>\n    </tr>\n  </tbody>\n</table>\n</div>"
     },
     "execution_count": 124,
     "metadata": {},
     "output_type": "execute_result"
    }
   ],
   "source": [
    "edicole_df=edicole_df[['Ubicazione','LONG_X_4326', 'LAT_Y_4326']]\n",
    "edicole_len=len(edicole_df)\n",
    "edicole_df.head()"
   ],
   "metadata": {
    "collapsed": false
   }
  },
  {
   "cell_type": "markdown",
   "source": [
    "### Stores"
   ],
   "metadata": {
    "collapsed": false
   }
  },
  {
   "cell_type": "code",
   "execution_count": 125,
   "outputs": [
    {
     "data": {
      "text/plain": "   _id      Codice                                         Ubicazione  \\\n0    1  C-EV/17620  Via VENINI GIULIO E CORRADO N. 46| isolato:346...   \n1    2  C-EV/49066  Via SANDRI SANDRO N. 2| isolato:179| accesso: ...   \n2    3  C-EV/43378  Via VILLAPIZZONE num.012| isolato:171| accesso...   \n3    4  C-EV/31778  Via SARPI FRA' PAOLO N. 44| isolato:073| acces...   \n4    5  C-EV/46073  Via MUSSI GIUSEPPE N. 5| isolato:056| accesso:...   \n\n        Area di Competenza               DescrizioneVia Civico  CodiceVia  \\\n0  VENDITA - In sede fissa  Via VENINI GIULIO E CORRADO     46     2258.0   \n1  VENDITA - In sede fissa            Via SANDRI SANDRO      2     1046.0   \n2  VENDITA - In sede fissa             Via VILLAPIZZONE    NaN     7272.0   \n3  VENDITA - In sede fissa         Via SARPI FRA' PAOLO     44     7210.0   \n4  VENDITA - In sede fissa           Via MUSSI GIUSEPPE      5     7199.0   \n\n                    insegna       settore_merceologico  \\\n0                       NaN             non alimentare   \n1                       NaN             non alimentare   \n2                   verzeri             non alimentare   \n3                       NaN  alimentare|non alimentare   \n4  riparaz. contachilometri             non alimentare   \n\n                                settore_storico_cf_n  ...  \\\n0                                                NaN  ...   \n1            |(con esclusione di giornali e riviste)  ...   \n2  |cartoleria cancelleria giocattoli macchine e ...  ...   \n3                                                NaN  ...   \n4                                                NaN  ...   \n\n                                settore_storico_cf_s superficie_totale  \\\n0                    xii sub 2|xii sub 1|x|xii sub 3             273.0   \n1  xii-radio e tv|xiv prod. culturali arte e col|...             251.0   \n2                                   xiii (libri)|xiv             252.0   \n3  surgelati|iii (cont.antec. d.m. 27/6/86)|xii s...             252.0   \n4                     xiv-contach.access.iner.volan.             252.0   \n\n   superficie_vendita      CAP  ID_NIL     NIL MUNICIPIO  LONG_WGS84  \\\n0                 251  20127.0    20.0  LORETO       2.0    9.215730   \n1                 251  20121.0     2.0   BRERA       1.0    9.192669   \n2                 252      NaN     NaN     NaN       NaN         NaN   \n3                 252  20154.0    69.0   SARPI       8.0    9.174148   \n4                 252  20154.0    69.0   SARPI       8.0    9.166031   \n\n   LAT_WGS84                      Location  \n0  45.490859  45.4908592205, 9.21573025945  \n1  45.475107   45.475106513, 9.19266934526  \n2        NaN                           NaN  \n3  45.481307  45.4813065886, 9.17414836917  \n4  45.481957  45.4819567894, 9.16603062658  \n\n[5 rows x 21 columns]",
      "text/html": "<div>\n<style scoped>\n    .dataframe tbody tr th:only-of-type {\n        vertical-align: middle;\n    }\n\n    .dataframe tbody tr th {\n        vertical-align: top;\n    }\n\n    .dataframe thead th {\n        text-align: right;\n    }\n</style>\n<table border=\"1\" class=\"dataframe\">\n  <thead>\n    <tr style=\"text-align: right;\">\n      <th></th>\n      <th>_id</th>\n      <th>Codice</th>\n      <th>Ubicazione</th>\n      <th>Area di Competenza</th>\n      <th>DescrizioneVia</th>\n      <th>Civico</th>\n      <th>CodiceVia</th>\n      <th>insegna</th>\n      <th>settore_merceologico</th>\n      <th>settore_storico_cf_n</th>\n      <th>...</th>\n      <th>settore_storico_cf_s</th>\n      <th>superficie_totale</th>\n      <th>superficie_vendita</th>\n      <th>CAP</th>\n      <th>ID_NIL</th>\n      <th>NIL</th>\n      <th>MUNICIPIO</th>\n      <th>LONG_WGS84</th>\n      <th>LAT_WGS84</th>\n      <th>Location</th>\n    </tr>\n  </thead>\n  <tbody>\n    <tr>\n      <th>0</th>\n      <td>1</td>\n      <td>C-EV/17620</td>\n      <td>Via VENINI GIULIO E CORRADO N. 46| isolato:346...</td>\n      <td>VENDITA - In sede fissa</td>\n      <td>Via VENINI GIULIO E CORRADO</td>\n      <td>46</td>\n      <td>2258.0</td>\n      <td>NaN</td>\n      <td>non alimentare</td>\n      <td>NaN</td>\n      <td>...</td>\n      <td>xii sub 2|xii sub 1|x|xii sub 3</td>\n      <td>273.0</td>\n      <td>251</td>\n      <td>20127.0</td>\n      <td>20.0</td>\n      <td>LORETO</td>\n      <td>2.0</td>\n      <td>9.215730</td>\n      <td>45.490859</td>\n      <td>45.4908592205, 9.21573025945</td>\n    </tr>\n    <tr>\n      <th>1</th>\n      <td>2</td>\n      <td>C-EV/49066</td>\n      <td>Via SANDRI SANDRO N. 2| isolato:179| accesso: ...</td>\n      <td>VENDITA - In sede fissa</td>\n      <td>Via SANDRI SANDRO</td>\n      <td>2</td>\n      <td>1046.0</td>\n      <td>NaN</td>\n      <td>non alimentare</td>\n      <td>|(con esclusione di giornali e riviste)</td>\n      <td>...</td>\n      <td>xii-radio e tv|xiv prod. culturali arte e col|...</td>\n      <td>251.0</td>\n      <td>251</td>\n      <td>20121.0</td>\n      <td>2.0</td>\n      <td>BRERA</td>\n      <td>1.0</td>\n      <td>9.192669</td>\n      <td>45.475107</td>\n      <td>45.475106513, 9.19266934526</td>\n    </tr>\n    <tr>\n      <th>2</th>\n      <td>3</td>\n      <td>C-EV/43378</td>\n      <td>Via VILLAPIZZONE num.012| isolato:171| accesso...</td>\n      <td>VENDITA - In sede fissa</td>\n      <td>Via VILLAPIZZONE</td>\n      <td>NaN</td>\n      <td>7272.0</td>\n      <td>verzeri</td>\n      <td>non alimentare</td>\n      <td>|cartoleria cancelleria giocattoli macchine e ...</td>\n      <td>...</td>\n      <td>xiii (libri)|xiv</td>\n      <td>252.0</td>\n      <td>252</td>\n      <td>NaN</td>\n      <td>NaN</td>\n      <td>NaN</td>\n      <td>NaN</td>\n      <td>NaN</td>\n      <td>NaN</td>\n      <td>NaN</td>\n    </tr>\n    <tr>\n      <th>3</th>\n      <td>4</td>\n      <td>C-EV/31778</td>\n      <td>Via SARPI FRA' PAOLO N. 44| isolato:073| acces...</td>\n      <td>VENDITA - In sede fissa</td>\n      <td>Via SARPI FRA' PAOLO</td>\n      <td>44</td>\n      <td>7210.0</td>\n      <td>NaN</td>\n      <td>alimentare|non alimentare</td>\n      <td>NaN</td>\n      <td>...</td>\n      <td>surgelati|iii (cont.antec. d.m. 27/6/86)|xii s...</td>\n      <td>252.0</td>\n      <td>252</td>\n      <td>20154.0</td>\n      <td>69.0</td>\n      <td>SARPI</td>\n      <td>8.0</td>\n      <td>9.174148</td>\n      <td>45.481307</td>\n      <td>45.4813065886, 9.17414836917</td>\n    </tr>\n    <tr>\n      <th>4</th>\n      <td>5</td>\n      <td>C-EV/46073</td>\n      <td>Via MUSSI GIUSEPPE N. 5| isolato:056| accesso:...</td>\n      <td>VENDITA - In sede fissa</td>\n      <td>Via MUSSI GIUSEPPE</td>\n      <td>5</td>\n      <td>7199.0</td>\n      <td>riparaz. contachilometri</td>\n      <td>non alimentare</td>\n      <td>NaN</td>\n      <td>...</td>\n      <td>xiv-contach.access.iner.volan.</td>\n      <td>252.0</td>\n      <td>252</td>\n      <td>20154.0</td>\n      <td>69.0</td>\n      <td>SARPI</td>\n      <td>8.0</td>\n      <td>9.166031</td>\n      <td>45.481957</td>\n      <td>45.4819567894, 9.16603062658</td>\n    </tr>\n  </tbody>\n</table>\n<p>5 rows × 21 columns</p>\n</div>"
     },
     "execution_count": 125,
     "metadata": {},
     "output_type": "execute_result"
    }
   ],
   "source": [
    "distr_df = pd.read_csv('../datasets/grande_distribuzione.csv', sep=',')\n",
    "distr_df.head()"
   ],
   "metadata": {
    "collapsed": false
   }
  },
  {
   "cell_type": "code",
   "execution_count": 126,
   "outputs": [
    {
     "data": {
      "text/plain": "                    insegna       settore_merceologico  LONG_WGS84  LAT_WGS84\n0                       NaN             non alimentare    9.215730  45.490859\n1                       NaN             non alimentare    9.192669  45.475107\n2                   verzeri             non alimentare         NaN        NaN\n3                       NaN  alimentare|non alimentare    9.174148  45.481307\n4  riparaz. contachilometri             non alimentare    9.166031  45.481957",
      "text/html": "<div>\n<style scoped>\n    .dataframe tbody tr th:only-of-type {\n        vertical-align: middle;\n    }\n\n    .dataframe tbody tr th {\n        vertical-align: top;\n    }\n\n    .dataframe thead th {\n        text-align: right;\n    }\n</style>\n<table border=\"1\" class=\"dataframe\">\n  <thead>\n    <tr style=\"text-align: right;\">\n      <th></th>\n      <th>insegna</th>\n      <th>settore_merceologico</th>\n      <th>LONG_WGS84</th>\n      <th>LAT_WGS84</th>\n    </tr>\n  </thead>\n  <tbody>\n    <tr>\n      <th>0</th>\n      <td>NaN</td>\n      <td>non alimentare</td>\n      <td>9.215730</td>\n      <td>45.490859</td>\n    </tr>\n    <tr>\n      <th>1</th>\n      <td>NaN</td>\n      <td>non alimentare</td>\n      <td>9.192669</td>\n      <td>45.475107</td>\n    </tr>\n    <tr>\n      <th>2</th>\n      <td>verzeri</td>\n      <td>non alimentare</td>\n      <td>NaN</td>\n      <td>NaN</td>\n    </tr>\n    <tr>\n      <th>3</th>\n      <td>NaN</td>\n      <td>alimentare|non alimentare</td>\n      <td>9.174148</td>\n      <td>45.481307</td>\n    </tr>\n    <tr>\n      <th>4</th>\n      <td>riparaz. contachilometri</td>\n      <td>non alimentare</td>\n      <td>9.166031</td>\n      <td>45.481957</td>\n    </tr>\n  </tbody>\n</table>\n</div>"
     },
     "execution_count": 126,
     "metadata": {},
     "output_type": "execute_result"
    }
   ],
   "source": [
    "distr_df=distr_df[['insegna', 'settore_merceologico', 'LONG_WGS84', 'LAT_WGS84']]\n",
    "distr_len=len(distr_df)\n",
    "distr_df.head()"
   ],
   "metadata": {
    "collapsed": false
   }
  },
  {
   "cell_type": "markdown",
   "source": [
    "### Public WIFI"
   ],
   "metadata": {
    "collapsed": false
   }
  },
  {
   "cell_type": "code",
   "execution_count": 127,
   "outputs": [
    {
     "data": {
      "text/plain": "   OBJECTID                  Area Funzionante VIA___P_zza___Corso  \\\n0         1  Piazza San Gioachimo          SI                 Via   \n1         2               Lagosta          SI               Viale   \n2         9      Piazzale Segrino          SI            Piazzale   \n3        10      Via G.B. Pirelli          SI                 Via   \n4        15         G.ni Montello          SI               Viale   \n\n      Indirizzo Civico   Città      CAP  MUNICIPIO  ID_NIL  \\\n0       Viviani      2  MILANO  20124.0        2.0    10.0   \n1          Zara      2  MILANO  20124.0        2.0    11.0   \n2       Segrino      2  MILANO  20159.0        9.0    11.0   \n3  del Borromeo    NaN  MILANO  20124.0        9.0     9.0   \n4      Montello      8  MILANO  20154.0        1.0    69.0   \n\n                                NIL  LONG_X_4326  LAT_Y_4326  \\\n0  STAZIONE CENTRALE - PONTE SEVESO      9.19779    45.48121   \n1                             ISOLA      9.19155    45.48994   \n2                             ISOLA      9.18930    45.49010   \n3     PORTA GARIBALDI - PORTA NUOVA      9.19607    45.48522   \n4                             SARPI      9.18121    45.48093   \n\n                                 Location  \n0  (45.48121000000003, 9.197790000000055)  \n1  (45.48994000000005, 9.191550000000063)  \n2   (45.49010000000004, 9.18930000000006)  \n3  (45.48522000000003, 9.196070000000077)  \n4  (45.48093000000006, 9.181210000000021)  ",
      "text/html": "<div>\n<style scoped>\n    .dataframe tbody tr th:only-of-type {\n        vertical-align: middle;\n    }\n\n    .dataframe tbody tr th {\n        vertical-align: top;\n    }\n\n    .dataframe thead th {\n        text-align: right;\n    }\n</style>\n<table border=\"1\" class=\"dataframe\">\n  <thead>\n    <tr style=\"text-align: right;\">\n      <th></th>\n      <th>OBJECTID</th>\n      <th>Area</th>\n      <th>Funzionante</th>\n      <th>VIA___P_zza___Corso</th>\n      <th>Indirizzo</th>\n      <th>Civico</th>\n      <th>Città</th>\n      <th>CAP</th>\n      <th>MUNICIPIO</th>\n      <th>ID_NIL</th>\n      <th>NIL</th>\n      <th>LONG_X_4326</th>\n      <th>LAT_Y_4326</th>\n      <th>Location</th>\n    </tr>\n  </thead>\n  <tbody>\n    <tr>\n      <th>0</th>\n      <td>1</td>\n      <td>Piazza San Gioachimo</td>\n      <td>SI</td>\n      <td>Via</td>\n      <td>Viviani</td>\n      <td>2</td>\n      <td>MILANO</td>\n      <td>20124.0</td>\n      <td>2.0</td>\n      <td>10.0</td>\n      <td>STAZIONE CENTRALE - PONTE SEVESO</td>\n      <td>9.19779</td>\n      <td>45.48121</td>\n      <td>(45.48121000000003, 9.197790000000055)</td>\n    </tr>\n    <tr>\n      <th>1</th>\n      <td>2</td>\n      <td>Lagosta</td>\n      <td>SI</td>\n      <td>Viale</td>\n      <td>Zara</td>\n      <td>2</td>\n      <td>MILANO</td>\n      <td>20124.0</td>\n      <td>2.0</td>\n      <td>11.0</td>\n      <td>ISOLA</td>\n      <td>9.19155</td>\n      <td>45.48994</td>\n      <td>(45.48994000000005, 9.191550000000063)</td>\n    </tr>\n    <tr>\n      <th>2</th>\n      <td>9</td>\n      <td>Piazzale Segrino</td>\n      <td>SI</td>\n      <td>Piazzale</td>\n      <td>Segrino</td>\n      <td>2</td>\n      <td>MILANO</td>\n      <td>20159.0</td>\n      <td>9.0</td>\n      <td>11.0</td>\n      <td>ISOLA</td>\n      <td>9.18930</td>\n      <td>45.49010</td>\n      <td>(45.49010000000004, 9.18930000000006)</td>\n    </tr>\n    <tr>\n      <th>3</th>\n      <td>10</td>\n      <td>Via G.B. Pirelli</td>\n      <td>SI</td>\n      <td>Via</td>\n      <td>del Borromeo</td>\n      <td>NaN</td>\n      <td>MILANO</td>\n      <td>20124.0</td>\n      <td>9.0</td>\n      <td>9.0</td>\n      <td>PORTA GARIBALDI - PORTA NUOVA</td>\n      <td>9.19607</td>\n      <td>45.48522</td>\n      <td>(45.48522000000003, 9.196070000000077)</td>\n    </tr>\n    <tr>\n      <th>4</th>\n      <td>15</td>\n      <td>G.ni Montello</td>\n      <td>SI</td>\n      <td>Viale</td>\n      <td>Montello</td>\n      <td>8</td>\n      <td>MILANO</td>\n      <td>20154.0</td>\n      <td>1.0</td>\n      <td>69.0</td>\n      <td>SARPI</td>\n      <td>9.18121</td>\n      <td>45.48093</td>\n      <td>(45.48093000000006, 9.181210000000021)</td>\n    </tr>\n  </tbody>\n</table>\n</div>"
     },
     "execution_count": 127,
     "metadata": {},
     "output_type": "execute_result"
    }
   ],
   "source": [
    "wifi_df = pd.read_csv('../datasets/openwifi_layer_0_open_wifi_outdoor_4326_final.csv', sep=';')\n",
    "wifi_df.head()"
   ],
   "metadata": {
    "collapsed": false
   }
  },
  {
   "cell_type": "code",
   "execution_count": 128,
   "outputs": [
    {
     "data": {
      "text/plain": "                   Area  LONG_X_4326  LAT_Y_4326\n0  Piazza San Gioachimo      9.19779    45.48121\n1               Lagosta      9.19155    45.48994\n2      Piazzale Segrino      9.18930    45.49010\n3      Via G.B. Pirelli      9.19607    45.48522\n4         G.ni Montello      9.18121    45.48093",
      "text/html": "<div>\n<style scoped>\n    .dataframe tbody tr th:only-of-type {\n        vertical-align: middle;\n    }\n\n    .dataframe tbody tr th {\n        vertical-align: top;\n    }\n\n    .dataframe thead th {\n        text-align: right;\n    }\n</style>\n<table border=\"1\" class=\"dataframe\">\n  <thead>\n    <tr style=\"text-align: right;\">\n      <th></th>\n      <th>Area</th>\n      <th>LONG_X_4326</th>\n      <th>LAT_Y_4326</th>\n    </tr>\n  </thead>\n  <tbody>\n    <tr>\n      <th>0</th>\n      <td>Piazza San Gioachimo</td>\n      <td>9.19779</td>\n      <td>45.48121</td>\n    </tr>\n    <tr>\n      <th>1</th>\n      <td>Lagosta</td>\n      <td>9.19155</td>\n      <td>45.48994</td>\n    </tr>\n    <tr>\n      <th>2</th>\n      <td>Piazzale Segrino</td>\n      <td>9.18930</td>\n      <td>45.49010</td>\n    </tr>\n    <tr>\n      <th>3</th>\n      <td>Via G.B. Pirelli</td>\n      <td>9.19607</td>\n      <td>45.48522</td>\n    </tr>\n    <tr>\n      <th>4</th>\n      <td>G.ni Montello</td>\n      <td>9.18121</td>\n      <td>45.48093</td>\n    </tr>\n  </tbody>\n</table>\n</div>"
     },
     "execution_count": 128,
     "metadata": {},
     "output_type": "execute_result"
    }
   ],
   "source": [
    "wifi_df=wifi_df[['Area', 'LONG_X_4326', 'LAT_Y_4326']]\n",
    "wifi_len=len(wifi_df)\n",
    "wifi_df.head()"
   ],
   "metadata": {
    "collapsed": false
   }
  },
  {
   "cell_type": "markdown",
   "source": [
    "### Parchi"
   ],
   "metadata": {
    "collapsed": false
   }
  },
  {
   "cell_type": "code",
   "execution_count": 129,
   "outputs": [
    {
     "data": {
      "text/plain": "   _id  ZONA  CODICE_AREA       AREA_MQ      PERIM_M  \\\n0    1     6          233  49230.077148  1250.112521   \n1    2     9           97   1451.261719   155.573346   \n2    3     1           92    351.915039    76.270063   \n3    4     2          119    973.018555   449.585187   \n4    5     7          338   1640.686523   196.330801   \n\n                       PARCO  LONG_X_4326_CENTROID  LAT_Y_4326_CENTROID  \\\n0   PARCO DELLE CROCEROSSINE              9.123539            45.450540   \n1  GIARDINO VIA PORRO JENNER              9.179612            45.496733   \n2    GIARDINO ROBERTO BAZLEN              9.197675            45.453966   \n3       GIARDINO ALDO PROTTI              9.200186            45.493943   \n4            PARCO ANNARUMMA              9.118195            45.460160   \n\n                                  Location  \n0     (45.450540350583, 9.123538873757788)  \n1   (45.49673274762278, 9.179612184430283)  \n2   (45.45396567857214, 9.197674637015329)  \n3  (45.493943233013376, 9.200185684311482)  \n4  (45.460159863066025, 9.118195341433292)  ",
      "text/html": "<div>\n<style scoped>\n    .dataframe tbody tr th:only-of-type {\n        vertical-align: middle;\n    }\n\n    .dataframe tbody tr th {\n        vertical-align: top;\n    }\n\n    .dataframe thead th {\n        text-align: right;\n    }\n</style>\n<table border=\"1\" class=\"dataframe\">\n  <thead>\n    <tr style=\"text-align: right;\">\n      <th></th>\n      <th>_id</th>\n      <th>ZONA</th>\n      <th>CODICE_AREA</th>\n      <th>AREA_MQ</th>\n      <th>PERIM_M</th>\n      <th>PARCO</th>\n      <th>LONG_X_4326_CENTROID</th>\n      <th>LAT_Y_4326_CENTROID</th>\n      <th>Location</th>\n    </tr>\n  </thead>\n  <tbody>\n    <tr>\n      <th>0</th>\n      <td>1</td>\n      <td>6</td>\n      <td>233</td>\n      <td>49230.077148</td>\n      <td>1250.112521</td>\n      <td>PARCO DELLE CROCEROSSINE</td>\n      <td>9.123539</td>\n      <td>45.450540</td>\n      <td>(45.450540350583, 9.123538873757788)</td>\n    </tr>\n    <tr>\n      <th>1</th>\n      <td>2</td>\n      <td>9</td>\n      <td>97</td>\n      <td>1451.261719</td>\n      <td>155.573346</td>\n      <td>GIARDINO VIA PORRO JENNER</td>\n      <td>9.179612</td>\n      <td>45.496733</td>\n      <td>(45.49673274762278, 9.179612184430283)</td>\n    </tr>\n    <tr>\n      <th>2</th>\n      <td>3</td>\n      <td>1</td>\n      <td>92</td>\n      <td>351.915039</td>\n      <td>76.270063</td>\n      <td>GIARDINO ROBERTO BAZLEN</td>\n      <td>9.197675</td>\n      <td>45.453966</td>\n      <td>(45.45396567857214, 9.197674637015329)</td>\n    </tr>\n    <tr>\n      <th>3</th>\n      <td>4</td>\n      <td>2</td>\n      <td>119</td>\n      <td>973.018555</td>\n      <td>449.585187</td>\n      <td>GIARDINO ALDO PROTTI</td>\n      <td>9.200186</td>\n      <td>45.493943</td>\n      <td>(45.493943233013376, 9.200185684311482)</td>\n    </tr>\n    <tr>\n      <th>4</th>\n      <td>5</td>\n      <td>7</td>\n      <td>338</td>\n      <td>1640.686523</td>\n      <td>196.330801</td>\n      <td>PARCO ANNARUMMA</td>\n      <td>9.118195</td>\n      <td>45.460160</td>\n      <td>(45.460159863066025, 9.118195341433292)</td>\n    </tr>\n  </tbody>\n</table>\n</div>"
     },
     "execution_count": 129,
     "metadata": {},
     "output_type": "execute_result"
    }
   ],
   "source": [
    "parchi_df = pd.read_csv('../datasets/parchi_giardini.csv', sep=',')\n",
    "parchi_df.head()"
   ],
   "metadata": {
    "collapsed": false
   }
  },
  {
   "cell_type": "code",
   "execution_count": 130,
   "outputs": [
    {
     "data": {
      "text/plain": "                       PARCO       AREA_MQ  LONG_X_4326_CENTROID  \\\n0   PARCO DELLE CROCEROSSINE  49230.077148              9.123539   \n1  GIARDINO VIA PORRO JENNER   1451.261719              9.179612   \n2    GIARDINO ROBERTO BAZLEN    351.915039              9.197675   \n3       GIARDINO ALDO PROTTI    973.018555              9.200186   \n4            PARCO ANNARUMMA   1640.686523              9.118195   \n\n   LAT_Y_4326_CENTROID  \n0            45.450540  \n1            45.496733  \n2            45.453966  \n3            45.493943  \n4            45.460160  ",
      "text/html": "<div>\n<style scoped>\n    .dataframe tbody tr th:only-of-type {\n        vertical-align: middle;\n    }\n\n    .dataframe tbody tr th {\n        vertical-align: top;\n    }\n\n    .dataframe thead th {\n        text-align: right;\n    }\n</style>\n<table border=\"1\" class=\"dataframe\">\n  <thead>\n    <tr style=\"text-align: right;\">\n      <th></th>\n      <th>PARCO</th>\n      <th>AREA_MQ</th>\n      <th>LONG_X_4326_CENTROID</th>\n      <th>LAT_Y_4326_CENTROID</th>\n    </tr>\n  </thead>\n  <tbody>\n    <tr>\n      <th>0</th>\n      <td>PARCO DELLE CROCEROSSINE</td>\n      <td>49230.077148</td>\n      <td>9.123539</td>\n      <td>45.450540</td>\n    </tr>\n    <tr>\n      <th>1</th>\n      <td>GIARDINO VIA PORRO JENNER</td>\n      <td>1451.261719</td>\n      <td>9.179612</td>\n      <td>45.496733</td>\n    </tr>\n    <tr>\n      <th>2</th>\n      <td>GIARDINO ROBERTO BAZLEN</td>\n      <td>351.915039</td>\n      <td>9.197675</td>\n      <td>45.453966</td>\n    </tr>\n    <tr>\n      <th>3</th>\n      <td>GIARDINO ALDO PROTTI</td>\n      <td>973.018555</td>\n      <td>9.200186</td>\n      <td>45.493943</td>\n    </tr>\n    <tr>\n      <th>4</th>\n      <td>PARCO ANNARUMMA</td>\n      <td>1640.686523</td>\n      <td>9.118195</td>\n      <td>45.460160</td>\n    </tr>\n  </tbody>\n</table>\n</div>"
     },
     "execution_count": 130,
     "metadata": {},
     "output_type": "execute_result"
    }
   ],
   "source": [
    "parchi_df=parchi_df[['PARCO', 'AREA_MQ', 'LONG_X_4326_CENTROID', 'LAT_Y_4326_CENTROID']]\n",
    "parchi_len=len(parchi_df)\n",
    "parchi_df.head()"
   ],
   "metadata": {
    "collapsed": false
   }
  },
  {
   "cell_type": "markdown",
   "source": [
    "### Train stations"
   ],
   "metadata": {
    "collapsed": false
   }
  },
  {
   "cell_type": "code",
   "execution_count": 131,
   "outputs": [
    {
     "data": {
      "text/plain": "                       Stazione   Ubicazione            Linee  \\\n0               Milano Lancetti  Sotterranea  S1 S2 S5 S6 S13   \n1               Milano Centrale   Superficie   Interregionali   \n2   Milano Porta Garibaldi Sup.   Superficie              S11   \n3               Milano Lambrate   Superficie               S9   \n4  Milano Porta Garibaldi Sott.  Sotterranea  S1 S2 S5 S6 S13   \n\n                             Note  MUNICIPIO  ID_NIL  \\\n0  Dati indicativi non ufficiali.          9      78   \n1  Dati indicativi non ufficiali.          2      10   \n2  Dati indicativi non ufficiali.          9       9   \n3  Dati indicativi non ufficiali.          3      22   \n4  Dati indicativi non ufficiali.          9       9   \n\n                                NIL  LONG_X_4326  LAT_Y_4326  \\\n0                            FARINI     9.177123   45.493741   \n1  STAZIONE CENTRALE - PONTE SEVESO     9.204197   45.486161   \n2     PORTA GARIBALDI - PORTA NUOVA     9.186751   45.485593   \n3                      CITTA' STUDI     9.236898   45.484872   \n4     PORTA GARIBALDI - PORTA NUOVA     9.186162   45.484334   \n\n                               Location  \n0  (45.4937410910517, 9.17712322085963)  \n1   (45.486161235226, 9.20419675790644)  \n2    (45.485593393828, 9.1867506782341)  \n3  (45.4848723299094, 9.23689818170729)  \n4  (45.4843344249528, 9.18616229197573)  ",
      "text/html": "<div>\n<style scoped>\n    .dataframe tbody tr th:only-of-type {\n        vertical-align: middle;\n    }\n\n    .dataframe tbody tr th {\n        vertical-align: top;\n    }\n\n    .dataframe thead th {\n        text-align: right;\n    }\n</style>\n<table border=\"1\" class=\"dataframe\">\n  <thead>\n    <tr style=\"text-align: right;\">\n      <th></th>\n      <th>Stazione</th>\n      <th>Ubicazione</th>\n      <th>Linee</th>\n      <th>Note</th>\n      <th>MUNICIPIO</th>\n      <th>ID_NIL</th>\n      <th>NIL</th>\n      <th>LONG_X_4326</th>\n      <th>LAT_Y_4326</th>\n      <th>Location</th>\n    </tr>\n  </thead>\n  <tbody>\n    <tr>\n      <th>0</th>\n      <td>Milano Lancetti</td>\n      <td>Sotterranea</td>\n      <td>S1 S2 S5 S6 S13</td>\n      <td>Dati indicativi non ufficiali.</td>\n      <td>9</td>\n      <td>78</td>\n      <td>FARINI</td>\n      <td>9.177123</td>\n      <td>45.493741</td>\n      <td>(45.4937410910517, 9.17712322085963)</td>\n    </tr>\n    <tr>\n      <th>1</th>\n      <td>Milano Centrale</td>\n      <td>Superficie</td>\n      <td>Interregionali</td>\n      <td>Dati indicativi non ufficiali.</td>\n      <td>2</td>\n      <td>10</td>\n      <td>STAZIONE CENTRALE - PONTE SEVESO</td>\n      <td>9.204197</td>\n      <td>45.486161</td>\n      <td>(45.486161235226, 9.20419675790644)</td>\n    </tr>\n    <tr>\n      <th>2</th>\n      <td>Milano Porta Garibaldi Sup.</td>\n      <td>Superficie</td>\n      <td>S11</td>\n      <td>Dati indicativi non ufficiali.</td>\n      <td>9</td>\n      <td>9</td>\n      <td>PORTA GARIBALDI - PORTA NUOVA</td>\n      <td>9.186751</td>\n      <td>45.485593</td>\n      <td>(45.485593393828, 9.1867506782341)</td>\n    </tr>\n    <tr>\n      <th>3</th>\n      <td>Milano Lambrate</td>\n      <td>Superficie</td>\n      <td>S9</td>\n      <td>Dati indicativi non ufficiali.</td>\n      <td>3</td>\n      <td>22</td>\n      <td>CITTA' STUDI</td>\n      <td>9.236898</td>\n      <td>45.484872</td>\n      <td>(45.4848723299094, 9.23689818170729)</td>\n    </tr>\n    <tr>\n      <th>4</th>\n      <td>Milano Porta Garibaldi Sott.</td>\n      <td>Sotterranea</td>\n      <td>S1 S2 S5 S6 S13</td>\n      <td>Dati indicativi non ufficiali.</td>\n      <td>9</td>\n      <td>9</td>\n      <td>PORTA GARIBALDI - PORTA NUOVA</td>\n      <td>9.186162</td>\n      <td>45.484334</td>\n      <td>(45.4843344249528, 9.18616229197573)</td>\n    </tr>\n  </tbody>\n</table>\n</div>"
     },
     "execution_count": 131,
     "metadata": {},
     "output_type": "execute_result"
    }
   ],
   "source": [
    "treni_df = pd.read_csv('../datasets/sistema_ferroviario_urbano_layer_0_stazioni__final.csv', sep=';')\n",
    "treni_df.head()"
   ],
   "metadata": {
    "collapsed": false
   }
  },
  {
   "cell_type": "code",
   "execution_count": 132,
   "outputs": [],
   "source": [
    "treni_df=treni_df[['Stazione', 'Linee', 'LONG_X_4326', 'LAT_Y_4326']]"
   ],
   "metadata": {
    "collapsed": false
   }
  },
  {
   "cell_type": "markdown",
   "source": [
    "### Metro stations"
   ],
   "metadata": {
    "collapsed": false
   }
  },
  {
   "cell_type": "code",
   "execution_count": 133,
   "outputs": [
    {
     "data": {
      "text/plain": "   id_amat        nome linee  LONG_X_4326  LAT_Y_4326  \\\n0      889   TRE TORRI     5     9.156675   45.478140   \n1      890        ZARA   3,5     9.192601   45.492664   \n2      891      WAGNER     1     9.155914   45.467950   \n3      892   VIMODRONE     2     9.285989   45.515783   \n4      893  VILLA S.G.     1     9.226130   45.517455   \n\n                               Location  \n0  (45.4781401846813, 9.15667532734003)  \n1   (45.4926644010357, 9.1926011078845)  \n2  (45.4679501010405, 9.15591440789603)  \n3  (45.5157833010269, 9.28598910784986)  \n4   (45.517454501031, 9.22613020787426)  ",
      "text/html": "<div>\n<style scoped>\n    .dataframe tbody tr th:only-of-type {\n        vertical-align: middle;\n    }\n\n    .dataframe tbody tr th {\n        vertical-align: top;\n    }\n\n    .dataframe thead th {\n        text-align: right;\n    }\n</style>\n<table border=\"1\" class=\"dataframe\">\n  <thead>\n    <tr style=\"text-align: right;\">\n      <th></th>\n      <th>id_amat</th>\n      <th>nome</th>\n      <th>linee</th>\n      <th>LONG_X_4326</th>\n      <th>LAT_Y_4326</th>\n      <th>Location</th>\n    </tr>\n  </thead>\n  <tbody>\n    <tr>\n      <th>0</th>\n      <td>889</td>\n      <td>TRE TORRI</td>\n      <td>5</td>\n      <td>9.156675</td>\n      <td>45.478140</td>\n      <td>(45.4781401846813, 9.15667532734003)</td>\n    </tr>\n    <tr>\n      <th>1</th>\n      <td>890</td>\n      <td>ZARA</td>\n      <td>3,5</td>\n      <td>9.192601</td>\n      <td>45.492664</td>\n      <td>(45.4926644010357, 9.1926011078845)</td>\n    </tr>\n    <tr>\n      <th>2</th>\n      <td>891</td>\n      <td>WAGNER</td>\n      <td>1</td>\n      <td>9.155914</td>\n      <td>45.467950</td>\n      <td>(45.4679501010405, 9.15591440789603)</td>\n    </tr>\n    <tr>\n      <th>3</th>\n      <td>892</td>\n      <td>VIMODRONE</td>\n      <td>2</td>\n      <td>9.285989</td>\n      <td>45.515783</td>\n      <td>(45.5157833010269, 9.28598910784986)</td>\n    </tr>\n    <tr>\n      <th>4</th>\n      <td>893</td>\n      <td>VILLA S.G.</td>\n      <td>1</td>\n      <td>9.226130</td>\n      <td>45.517455</td>\n      <td>(45.517454501031, 9.22613020787426)</td>\n    </tr>\n  </tbody>\n</table>\n</div>"
     },
     "execution_count": 133,
     "metadata": {},
     "output_type": "execute_result"
    }
   ],
   "source": [
    "metro_df = pd.read_csv('../datasets/tpl_metrofermate.csv', sep=';')\n",
    "metro_df.head()"
   ],
   "metadata": {
    "collapsed": false
   }
  },
  {
   "cell_type": "code",
   "execution_count": 134,
   "outputs": [
    {
     "data": {
      "text/plain": "         nome linee  LONG_X_4326  LAT_Y_4326\n0   TRE TORRI     5     9.156675   45.478140\n1        ZARA   3,5     9.192601   45.492664\n2      WAGNER     1     9.155914   45.467950\n3   VIMODRONE     2     9.285989   45.515783\n4  VILLA S.G.     1     9.226130   45.517455",
      "text/html": "<div>\n<style scoped>\n    .dataframe tbody tr th:only-of-type {\n        vertical-align: middle;\n    }\n\n    .dataframe tbody tr th {\n        vertical-align: top;\n    }\n\n    .dataframe thead th {\n        text-align: right;\n    }\n</style>\n<table border=\"1\" class=\"dataframe\">\n  <thead>\n    <tr style=\"text-align: right;\">\n      <th></th>\n      <th>nome</th>\n      <th>linee</th>\n      <th>LONG_X_4326</th>\n      <th>LAT_Y_4326</th>\n    </tr>\n  </thead>\n  <tbody>\n    <tr>\n      <th>0</th>\n      <td>TRE TORRI</td>\n      <td>5</td>\n      <td>9.156675</td>\n      <td>45.478140</td>\n    </tr>\n    <tr>\n      <th>1</th>\n      <td>ZARA</td>\n      <td>3,5</td>\n      <td>9.192601</td>\n      <td>45.492664</td>\n    </tr>\n    <tr>\n      <th>2</th>\n      <td>WAGNER</td>\n      <td>1</td>\n      <td>9.155914</td>\n      <td>45.467950</td>\n    </tr>\n    <tr>\n      <th>3</th>\n      <td>VIMODRONE</td>\n      <td>2</td>\n      <td>9.285989</td>\n      <td>45.515783</td>\n    </tr>\n    <tr>\n      <th>4</th>\n      <td>VILLA S.G.</td>\n      <td>1</td>\n      <td>9.226130</td>\n      <td>45.517455</td>\n    </tr>\n  </tbody>\n</table>\n</div>"
     },
     "execution_count": 134,
     "metadata": {},
     "output_type": "execute_result"
    }
   ],
   "source": [
    "metro_df=metro_df[['nome', 'linee', 'LONG_X_4326', 'LAT_Y_4326']]\n",
    "metro_len=len(metro_df)\n",
    "metro_df.head()"
   ],
   "metadata": {
    "collapsed": false
   }
  },
  {
   "cell_type": "markdown",
   "source": [
    "### Post office"
   ],
   "metadata": {
    "collapsed": false
   }
  },
  {
   "cell_type": "code",
   "execution_count": 135,
   "outputs": [
    {
     "data": {
      "text/plain": "   _id        Ente                     Indirizzo     Telefono          Fax  \\\n0    1  Ufficio PT    BASTIONI DI PORTA VOLTA, 7   02-6572655  02-29002004   \n1    2  Ufficio PT  CORSO DI PORTA VIGENTINA, 35  02-58320771  02-58319779   \n2    3  Ufficio PT              CORSO ITALIA, 16    02-804336  02-86454450   \n3    4  Ufficio PT            CORSO SEMPIONE, 94          NaN          NaN   \n4    5  Ufficio PT             CORSO VENEZIA, 42  02-76023056   02-7837251   \n\n     CAP  MUNICIPIO  ID_NIL                               NIL  LONG_X_4326  \\\n0  20121          1       2                             BRERA     9.182151   \n1  20122          1       5  PORTA VIGENTINA - PORTA LODOVICA     9.196520   \n2  20122          1       1                             DUOMO     9.187470   \n3  20154          8      69                             SARPI     9.158508   \n4  20121          1       4                         GUASTALLA     9.202703   \n\n   LAT_Y_4326                                Location  \n0   45.479601  (45.47960100000006, 9.182151000000033)  \n1   45.452538  (45.45253800000006, 9.196519500000022)  \n2   45.457893  (45.45789300000007, 9.187470000000076)  \n3   45.486540   (45.48654000000005, 9.15850800000004)  \n4   45.471861  (45.47186100000005, 9.202702500000044)  ",
      "text/html": "<div>\n<style scoped>\n    .dataframe tbody tr th:only-of-type {\n        vertical-align: middle;\n    }\n\n    .dataframe tbody tr th {\n        vertical-align: top;\n    }\n\n    .dataframe thead th {\n        text-align: right;\n    }\n</style>\n<table border=\"1\" class=\"dataframe\">\n  <thead>\n    <tr style=\"text-align: right;\">\n      <th></th>\n      <th>_id</th>\n      <th>Ente</th>\n      <th>Indirizzo</th>\n      <th>Telefono</th>\n      <th>Fax</th>\n      <th>CAP</th>\n      <th>MUNICIPIO</th>\n      <th>ID_NIL</th>\n      <th>NIL</th>\n      <th>LONG_X_4326</th>\n      <th>LAT_Y_4326</th>\n      <th>Location</th>\n    </tr>\n  </thead>\n  <tbody>\n    <tr>\n      <th>0</th>\n      <td>1</td>\n      <td>Ufficio PT</td>\n      <td>BASTIONI DI PORTA VOLTA, 7</td>\n      <td>02-6572655</td>\n      <td>02-29002004</td>\n      <td>20121</td>\n      <td>1</td>\n      <td>2</td>\n      <td>BRERA</td>\n      <td>9.182151</td>\n      <td>45.479601</td>\n      <td>(45.47960100000006, 9.182151000000033)</td>\n    </tr>\n    <tr>\n      <th>1</th>\n      <td>2</td>\n      <td>Ufficio PT</td>\n      <td>CORSO DI PORTA VIGENTINA, 35</td>\n      <td>02-58320771</td>\n      <td>02-58319779</td>\n      <td>20122</td>\n      <td>1</td>\n      <td>5</td>\n      <td>PORTA VIGENTINA - PORTA LODOVICA</td>\n      <td>9.196520</td>\n      <td>45.452538</td>\n      <td>(45.45253800000006, 9.196519500000022)</td>\n    </tr>\n    <tr>\n      <th>2</th>\n      <td>3</td>\n      <td>Ufficio PT</td>\n      <td>CORSO ITALIA, 16</td>\n      <td>02-804336</td>\n      <td>02-86454450</td>\n      <td>20122</td>\n      <td>1</td>\n      <td>1</td>\n      <td>DUOMO</td>\n      <td>9.187470</td>\n      <td>45.457893</td>\n      <td>(45.45789300000007, 9.187470000000076)</td>\n    </tr>\n    <tr>\n      <th>3</th>\n      <td>4</td>\n      <td>Ufficio PT</td>\n      <td>CORSO SEMPIONE, 94</td>\n      <td>NaN</td>\n      <td>NaN</td>\n      <td>20154</td>\n      <td>8</td>\n      <td>69</td>\n      <td>SARPI</td>\n      <td>9.158508</td>\n      <td>45.486540</td>\n      <td>(45.48654000000005, 9.15850800000004)</td>\n    </tr>\n    <tr>\n      <th>4</th>\n      <td>5</td>\n      <td>Ufficio PT</td>\n      <td>CORSO VENEZIA, 42</td>\n      <td>02-76023056</td>\n      <td>02-7837251</td>\n      <td>20121</td>\n      <td>1</td>\n      <td>4</td>\n      <td>GUASTALLA</td>\n      <td>9.202703</td>\n      <td>45.471861</td>\n      <td>(45.47186100000005, 9.202702500000044)</td>\n    </tr>\n  </tbody>\n</table>\n</div>"
     },
     "execution_count": 135,
     "metadata": {},
     "output_type": "execute_result"
    }
   ],
   "source": [
    "posta_df = pd.read_csv('../datasets/uffici_postali.csv', sep=',')\n",
    "posta_df.head()"
   ],
   "metadata": {
    "collapsed": false
   }
  },
  {
   "cell_type": "code",
   "execution_count": 136,
   "outputs": [
    {
     "data": {
      "text/plain": "                      Indirizzo  LONG_X_4326  LAT_Y_4326\n0    BASTIONI DI PORTA VOLTA, 7     9.182151   45.479601\n1  CORSO DI PORTA VIGENTINA, 35     9.196520   45.452538\n2              CORSO ITALIA, 16     9.187470   45.457893\n3            CORSO SEMPIONE, 94     9.158508   45.486540\n4             CORSO VENEZIA, 42     9.202703   45.471861",
      "text/html": "<div>\n<style scoped>\n    .dataframe tbody tr th:only-of-type {\n        vertical-align: middle;\n    }\n\n    .dataframe tbody tr th {\n        vertical-align: top;\n    }\n\n    .dataframe thead th {\n        text-align: right;\n    }\n</style>\n<table border=\"1\" class=\"dataframe\">\n  <thead>\n    <tr style=\"text-align: right;\">\n      <th></th>\n      <th>Indirizzo</th>\n      <th>LONG_X_4326</th>\n      <th>LAT_Y_4326</th>\n    </tr>\n  </thead>\n  <tbody>\n    <tr>\n      <th>0</th>\n      <td>BASTIONI DI PORTA VOLTA, 7</td>\n      <td>9.182151</td>\n      <td>45.479601</td>\n    </tr>\n    <tr>\n      <th>1</th>\n      <td>CORSO DI PORTA VIGENTINA, 35</td>\n      <td>9.196520</td>\n      <td>45.452538</td>\n    </tr>\n    <tr>\n      <th>2</th>\n      <td>CORSO ITALIA, 16</td>\n      <td>9.187470</td>\n      <td>45.457893</td>\n    </tr>\n    <tr>\n      <th>3</th>\n      <td>CORSO SEMPIONE, 94</td>\n      <td>9.158508</td>\n      <td>45.486540</td>\n    </tr>\n    <tr>\n      <th>4</th>\n      <td>CORSO VENEZIA, 42</td>\n      <td>9.202703</td>\n      <td>45.471861</td>\n    </tr>\n  </tbody>\n</table>\n</div>"
     },
     "execution_count": 136,
     "metadata": {},
     "output_type": "execute_result"
    }
   ],
   "source": [
    "posta_df=posta_df[['Indirizzo', 'LONG_X_4326', 'LAT_Y_4326']]\n",
    "posta_len=len(posta_df)\n",
    "posta_df.head()"
   ],
   "metadata": {
    "collapsed": false
   }
  },
  {
   "cell_type": "markdown",
   "source": [
    "All dataframes names for future reference"
   ],
   "metadata": {
    "collapsed": false
   }
  },
  {
   "cell_type": "markdown",
   "source": [
    "acqua_df\n",
    "biblio_df\n",
    "ciclabili_df\n",
    "consu_df\n",
    "cult_df\n",
    "distr_df\n",
    "edicole_df\n",
    "farmacie_df\n",
    "metro_df\n",
    "parchi_df\n",
    "posta_df\n",
    "serd_df\n",
    "sinf_df\n",
    "sita_df\n",
    "sport_df\n",
    "sprim_df\n",
    "ss2_df\n",
    "ssec_df\n",
    "treni_df\n",
    "uni_df\n",
    "wifi_df"
   ],
   "metadata": {
    "collapsed": false
   }
  },
  {
   "cell_type": "code",
   "execution_count": 137,
   "outputs": [],
   "source": [
    "df_list=[acqua_df, biblio_df, ciclabili_df, consu_df, cult_df, distr_df, edicole_df, farmacie_df, metro_df, parchi_df, posta_df, serd_df, sinf_df ,sita_df ,sport_df ,sprim_df ,ss2_df ,ssec_df ,treni_df ,uni_df, wifi_df]"
   ],
   "metadata": {
    "collapsed": false
   }
  },
  {
   "cell_type": "markdown",
   "source": [
    "The following cell creates a dictionary with dataframes names and assignes them."
   ],
   "metadata": {
    "collapsed": false
   }
  },
  {
   "cell_type": "code",
   "execution_count": 138,
   "outputs": [],
   "source": [
    "df_names_dict = {\n",
    "    'acqua_df': acqua_df,\n",
    "    'biblio_df': biblio_df,\n",
    "    'ciclabili_df': ciclabili_df,\n",
    "    'consu_df': consu_df,\n",
    "    'cult_df': cult_df,\n",
    "    'distr_df': distr_df,\n",
    "    'edicole_df': edicole_df,\n",
    "    'farmacie_df': farmacie_df,\n",
    "    'metro_df': metro_df,\n",
    "    'parchi_df': parchi_df,\n",
    "    'posta_df': posta_df,\n",
    "    'serd_df': serd_df,\n",
    "    'sinf_df': sinf_df,\n",
    "    'sita_df': sita_df,\n",
    "    'sport_df': sport_df,\n",
    "    'sprim_df': sprim_df,\n",
    "    'ss2_df': ss2_df,\n",
    "    'ssec_df': ssec_df,\n",
    "    'treni_df': treni_df,\n",
    "    'uni_df': uni_df,\n",
    "    'wifi_df': wifi_df\n",
    "}\n",
    "\n",
    "for key, value  in df_names_dict.items():\n",
    "    value.name=key[:-3]"
   ],
   "metadata": {
    "collapsed": false
   }
  },
  {
   "cell_type": "markdown",
   "source": [
    "# Dataset creation"
   ],
   "metadata": {
    "collapsed": false
   }
  },
  {
   "cell_type": "code",
   "execution_count": 139,
   "outputs": [],
   "source": [
    "def create_lengths_dataset(list):\n",
    "    \"\"\"\n",
    "    This function creates a dataset with the lengths of the varius indiivudal dataset. It will be used to check that no data is lost doring the data cleaning process.\n",
    "    :param list: list of the datasets to include\n",
    "    :return: dataset with names and number of elements\n",
    "    \"\"\"\n",
    "    names_col=[]\n",
    "    len_col=[]\n",
    "    for dataframe in list:\n",
    "        nam_dataset=dataframe.name\n",
    "        len_dataset=len(dataframe)\n",
    "        names_col.append(nam_dataset)\n",
    "        len_col.append(len_dataset)\n",
    "    df = pd.DataFrame({'DF_names': names_col, 'DF_len': len_col})\n",
    "    print('Total number of elements:',sum(len_col))\n",
    "    return df"
   ],
   "metadata": {
    "collapsed": false
   }
  },
  {
   "cell_type": "code",
   "execution_count": 140,
   "outputs": [
    {
     "name": "stdout",
     "output_type": "stream",
     "text": [
      "Total number of elements: 13275\n"
     ]
    },
    {
     "data": {
      "text/plain": "     DF_names  DF_len\n0       acqua      52\n1      biblio      26\n2   ciclabili    3722\n3       consu      21\n4        cult     322\n5       distr    1027\n6     edicole     577\n7    farmacie     414\n8       metro     110\n9      parchi    1065\n10      posta      82\n11       serd      15\n12       sinf     300\n13       sita     115\n14      sport    1041\n15      sprim    1734\n16        ss2     174\n17       ssec    1146\n18      treni      24\n19        uni     711\n20       wifi     597",
      "text/html": "<div>\n<style scoped>\n    .dataframe tbody tr th:only-of-type {\n        vertical-align: middle;\n    }\n\n    .dataframe tbody tr th {\n        vertical-align: top;\n    }\n\n    .dataframe thead th {\n        text-align: right;\n    }\n</style>\n<table border=\"1\" class=\"dataframe\">\n  <thead>\n    <tr style=\"text-align: right;\">\n      <th></th>\n      <th>DF_names</th>\n      <th>DF_len</th>\n    </tr>\n  </thead>\n  <tbody>\n    <tr>\n      <th>0</th>\n      <td>acqua</td>\n      <td>52</td>\n    </tr>\n    <tr>\n      <th>1</th>\n      <td>biblio</td>\n      <td>26</td>\n    </tr>\n    <tr>\n      <th>2</th>\n      <td>ciclabili</td>\n      <td>3722</td>\n    </tr>\n    <tr>\n      <th>3</th>\n      <td>consu</td>\n      <td>21</td>\n    </tr>\n    <tr>\n      <th>4</th>\n      <td>cult</td>\n      <td>322</td>\n    </tr>\n    <tr>\n      <th>5</th>\n      <td>distr</td>\n      <td>1027</td>\n    </tr>\n    <tr>\n      <th>6</th>\n      <td>edicole</td>\n      <td>577</td>\n    </tr>\n    <tr>\n      <th>7</th>\n      <td>farmacie</td>\n      <td>414</td>\n    </tr>\n    <tr>\n      <th>8</th>\n      <td>metro</td>\n      <td>110</td>\n    </tr>\n    <tr>\n      <th>9</th>\n      <td>parchi</td>\n      <td>1065</td>\n    </tr>\n    <tr>\n      <th>10</th>\n      <td>posta</td>\n      <td>82</td>\n    </tr>\n    <tr>\n      <th>11</th>\n      <td>serd</td>\n      <td>15</td>\n    </tr>\n    <tr>\n      <th>12</th>\n      <td>sinf</td>\n      <td>300</td>\n    </tr>\n    <tr>\n      <th>13</th>\n      <td>sita</td>\n      <td>115</td>\n    </tr>\n    <tr>\n      <th>14</th>\n      <td>sport</td>\n      <td>1041</td>\n    </tr>\n    <tr>\n      <th>15</th>\n      <td>sprim</td>\n      <td>1734</td>\n    </tr>\n    <tr>\n      <th>16</th>\n      <td>ss2</td>\n      <td>174</td>\n    </tr>\n    <tr>\n      <th>17</th>\n      <td>ssec</td>\n      <td>1146</td>\n    </tr>\n    <tr>\n      <th>18</th>\n      <td>treni</td>\n      <td>24</td>\n    </tr>\n    <tr>\n      <th>19</th>\n      <td>uni</td>\n      <td>711</td>\n    </tr>\n    <tr>\n      <th>20</th>\n      <td>wifi</td>\n      <td>597</td>\n    </tr>\n  </tbody>\n</table>\n</div>"
     },
     "execution_count": 140,
     "metadata": {},
     "output_type": "execute_result"
    }
   ],
   "source": [
    "create_lengths_dataset(df_list)"
   ],
   "metadata": {
    "collapsed": false
   }
  },
  {
   "cell_type": "code",
   "execution_count": 141,
   "outputs": [],
   "source": [
    "def rename(df):\n",
    "    df_list_col=list(df.columns)\n",
    "    df_num_col=len(list(df.columns))\n",
    "    if df_num_col==3:\n",
    "        df.columns=['name', 'long', 'lat']\n",
    "    if df_num_col==4:\n",
    "        df.columns=['name','cat1','long', 'lat']\n",
    "        df['cat1_name']=df_list_col[1]\n",
    "    if df_num_col==5:\n",
    "        df.columns=['name','cat1', 'cat2', 'long', 'lat']\n",
    "        df['cat1_name']=df_list_col[1]\n",
    "        df['cat2_name']=df_list_col[2]\n",
    "    df['df_name']=df.name\n",
    "    return df"
   ],
   "metadata": {
    "collapsed": false
   }
  },
  {
   "cell_type": "code",
   "execution_count": 142,
   "outputs": [
    {
     "name": "stderr",
     "output_type": "stream",
     "text": [
      "C:\\Users\\iodio\\AppData\\Local\\Temp\\ipykernel_18448\\2602432827.py:8: SettingWithCopyWarning: \n",
      "A value is trying to be set on a copy of a slice from a DataFrame.\n",
      "Try using .loc[row_indexer,col_indexer] = value instead\n",
      "\n",
      "See the caveats in the documentation: https://pandas.pydata.org/pandas-docs/stable/user_guide/indexing.html#returning-a-view-versus-a-copy\n",
      "  df['cat1_name']=df_list_col[1]\n",
      "C:\\Users\\iodio\\AppData\\Local\\Temp\\ipykernel_18448\\2602432827.py:13: SettingWithCopyWarning: \n",
      "A value is trying to be set on a copy of a slice from a DataFrame.\n",
      "Try using .loc[row_indexer,col_indexer] = value instead\n",
      "\n",
      "See the caveats in the documentation: https://pandas.pydata.org/pandas-docs/stable/user_guide/indexing.html#returning-a-view-versus-a-copy\n",
      "  df['df_name']=df.name\n"
     ]
    },
    {
     "data": {
      "text/plain": "                                           name      long        lat df_name  \\\n0                                  FORZE ARMATE  9.107364  45.456290   acqua   \n1                                   LORENTEGGIO  9.125151  45.458188   acqua   \n2                                    BANDE NERE  9.136149  45.461792   acqua   \n3                                   GIAMBELLINO  9.153322  45.452348   acqua   \n4  GRATOSOGLIO - Q.RE MISSAGLIA - Q.RE TERRAZZE  9.171006  45.408128   acqua   \n\n  cat1 cat2 cat1_name cat2_name  \n0  NaN  NaN       NaN       NaN  \n1  NaN  NaN       NaN       NaN  \n2  NaN  NaN       NaN       NaN  \n3  NaN  NaN       NaN       NaN  \n4  NaN  NaN       NaN       NaN  ",
      "text/html": "<div>\n<style scoped>\n    .dataframe tbody tr th:only-of-type {\n        vertical-align: middle;\n    }\n\n    .dataframe tbody tr th {\n        vertical-align: top;\n    }\n\n    .dataframe thead th {\n        text-align: right;\n    }\n</style>\n<table border=\"1\" class=\"dataframe\">\n  <thead>\n    <tr style=\"text-align: right;\">\n      <th></th>\n      <th>name</th>\n      <th>long</th>\n      <th>lat</th>\n      <th>df_name</th>\n      <th>cat1</th>\n      <th>cat2</th>\n      <th>cat1_name</th>\n      <th>cat2_name</th>\n    </tr>\n  </thead>\n  <tbody>\n    <tr>\n      <th>0</th>\n      <td>FORZE ARMATE</td>\n      <td>9.107364</td>\n      <td>45.456290</td>\n      <td>acqua</td>\n      <td>NaN</td>\n      <td>NaN</td>\n      <td>NaN</td>\n      <td>NaN</td>\n    </tr>\n    <tr>\n      <th>1</th>\n      <td>LORENTEGGIO</td>\n      <td>9.125151</td>\n      <td>45.458188</td>\n      <td>acqua</td>\n      <td>NaN</td>\n      <td>NaN</td>\n      <td>NaN</td>\n      <td>NaN</td>\n    </tr>\n    <tr>\n      <th>2</th>\n      <td>BANDE NERE</td>\n      <td>9.136149</td>\n      <td>45.461792</td>\n      <td>acqua</td>\n      <td>NaN</td>\n      <td>NaN</td>\n      <td>NaN</td>\n      <td>NaN</td>\n    </tr>\n    <tr>\n      <th>3</th>\n      <td>GIAMBELLINO</td>\n      <td>9.153322</td>\n      <td>45.452348</td>\n      <td>acqua</td>\n      <td>NaN</td>\n      <td>NaN</td>\n      <td>NaN</td>\n      <td>NaN</td>\n    </tr>\n    <tr>\n      <th>4</th>\n      <td>GRATOSOGLIO - Q.RE MISSAGLIA - Q.RE TERRAZZE</td>\n      <td>9.171006</td>\n      <td>45.408128</td>\n      <td>acqua</td>\n      <td>NaN</td>\n      <td>NaN</td>\n      <td>NaN</td>\n      <td>NaN</td>\n    </tr>\n  </tbody>\n</table>\n</div>"
     },
     "execution_count": 142,
     "metadata": {},
     "output_type": "execute_result"
    }
   ],
   "source": [
    "df_list=[rename(dataset) for dataset in df_list]\n",
    "merged_df=pd.concat(df_list, axis=0)\n",
    "merged_df.head()"
   ],
   "metadata": {
    "collapsed": false
   }
  },
  {
   "cell_type": "code",
   "execution_count": 145,
   "outputs": [],
   "source": [
    "merged_df.to_csv('../outputs/services_df.csv')"
   ],
   "metadata": {
    "collapsed": false
   }
  }
 ],
 "metadata": {
  "kernelspec": {
   "display_name": "Python 3",
   "language": "python",
   "name": "python3"
  },
  "language_info": {
   "codemirror_mode": {
    "name": "ipython",
    "version": 2
   },
   "file_extension": ".py",
   "mimetype": "text/x-python",
   "name": "python",
   "nbconvert_exporter": "python",
   "pygments_lexer": "ipython2",
   "version": "2.7.6"
  }
 },
 "nbformat": 4,
 "nbformat_minor": 0
}
