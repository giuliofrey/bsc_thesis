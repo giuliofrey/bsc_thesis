{
 "cells": [
  {
   "cell_type": "code",
   "execution_count": 1,
   "metadata": {
    "collapsed": true,
    "ExecuteTime": {
     "end_time": "2023-06-29T13:31:46.429819900Z",
     "start_time": "2023-06-29T13:31:45.371789300Z"
    }
   },
   "outputs": [],
   "source": [
    "import pandas as pd"
   ]
  },
  {
   "cell_type": "markdown",
   "source": [
    "## Constructing fixed dataset\n",
    "\n",
    "We encountered some problems in geocoding of `distr_df`, we recalculateed all distances for this dataset using `calculator_fixer.py`. In this notebook we merge the newly created dataset with the existing one"
   ],
   "metadata": {
    "collapsed": false
   }
  },
  {
   "cell_type": "code",
   "execution_count": 2,
   "outputs": [
    {
     "data": {
      "text/plain": "                                           name      long        lat df_name  \\\n0                                  FORZE ARMATE  9.107364  45.456290   acqua   \n1                                   LORENTEGGIO  9.125151  45.458188   acqua   \n2                                    BANDE NERE  9.136149  45.461792   acqua   \n3                                   GIAMBELLINO  9.153322  45.452348   acqua   \n4  GRATOSOGLIO - Q.RE MISSAGLIA - Q.RE TERRAZZE  9.171006  45.408128   acqua   \n\n  cat1 cat2 cat1_name cat2_name  10001708  10001709  ...  51039101  51039401  \\\n0  NaN  NaN       NaN       NaN    7540.1    7540.1  ...    4609.7    8467.6   \n1  NaN  NaN       NaN       NaN    6445.5    6445.5  ...    3735.9    7593.8   \n2  NaN  NaN       NaN       NaN    5797.8    5797.8  ...    3165.9    7023.8   \n3  NaN  NaN       NaN       NaN    4673.6    4673.6  ...    3846.8    7651.5   \n4  NaN  NaN       NaN       NaN    5655.9    5655.9  ...    8094.3   10803.3   \n\n   51039402  51039403  51039404  51039405  51039406  51039407  51039408  \\\n0    8467.6    8467.6    8467.6    8467.6    8467.6    8467.6    8467.6   \n1    7593.8    7593.8    7593.8    7593.8    7593.8    7593.8    7593.8   \n2    7023.8    7023.8    7023.8    7023.8    7023.8    7023.8    7023.8   \n3    7651.5    7651.5    7651.5    7651.5    7651.5    7651.5    7651.5   \n4   10803.3   10803.3   10803.3   10803.3   10803.3   10803.3   10803.3   \n\n   51039410  \n0    8467.6  \n1    7593.8  \n2    7023.8  \n3    7651.5  \n4   10803.3  \n\n[5 rows x 988 columns]",
      "text/html": "<div>\n<style scoped>\n    .dataframe tbody tr th:only-of-type {\n        vertical-align: middle;\n    }\n\n    .dataframe tbody tr th {\n        vertical-align: top;\n    }\n\n    .dataframe thead th {\n        text-align: right;\n    }\n</style>\n<table border=\"1\" class=\"dataframe\">\n  <thead>\n    <tr style=\"text-align: right;\">\n      <th></th>\n      <th>name</th>\n      <th>long</th>\n      <th>lat</th>\n      <th>df_name</th>\n      <th>cat1</th>\n      <th>cat2</th>\n      <th>cat1_name</th>\n      <th>cat2_name</th>\n      <th>10001708</th>\n      <th>10001709</th>\n      <th>...</th>\n      <th>51039101</th>\n      <th>51039401</th>\n      <th>51039402</th>\n      <th>51039403</th>\n      <th>51039404</th>\n      <th>51039405</th>\n      <th>51039406</th>\n      <th>51039407</th>\n      <th>51039408</th>\n      <th>51039410</th>\n    </tr>\n  </thead>\n  <tbody>\n    <tr>\n      <th>0</th>\n      <td>FORZE ARMATE</td>\n      <td>9.107364</td>\n      <td>45.456290</td>\n      <td>acqua</td>\n      <td>NaN</td>\n      <td>NaN</td>\n      <td>NaN</td>\n      <td>NaN</td>\n      <td>7540.1</td>\n      <td>7540.1</td>\n      <td>...</td>\n      <td>4609.7</td>\n      <td>8467.6</td>\n      <td>8467.6</td>\n      <td>8467.6</td>\n      <td>8467.6</td>\n      <td>8467.6</td>\n      <td>8467.6</td>\n      <td>8467.6</td>\n      <td>8467.6</td>\n      <td>8467.6</td>\n    </tr>\n    <tr>\n      <th>1</th>\n      <td>LORENTEGGIO</td>\n      <td>9.125151</td>\n      <td>45.458188</td>\n      <td>acqua</td>\n      <td>NaN</td>\n      <td>NaN</td>\n      <td>NaN</td>\n      <td>NaN</td>\n      <td>6445.5</td>\n      <td>6445.5</td>\n      <td>...</td>\n      <td>3735.9</td>\n      <td>7593.8</td>\n      <td>7593.8</td>\n      <td>7593.8</td>\n      <td>7593.8</td>\n      <td>7593.8</td>\n      <td>7593.8</td>\n      <td>7593.8</td>\n      <td>7593.8</td>\n      <td>7593.8</td>\n    </tr>\n    <tr>\n      <th>2</th>\n      <td>BANDE NERE</td>\n      <td>9.136149</td>\n      <td>45.461792</td>\n      <td>acqua</td>\n      <td>NaN</td>\n      <td>NaN</td>\n      <td>NaN</td>\n      <td>NaN</td>\n      <td>5797.8</td>\n      <td>5797.8</td>\n      <td>...</td>\n      <td>3165.9</td>\n      <td>7023.8</td>\n      <td>7023.8</td>\n      <td>7023.8</td>\n      <td>7023.8</td>\n      <td>7023.8</td>\n      <td>7023.8</td>\n      <td>7023.8</td>\n      <td>7023.8</td>\n      <td>7023.8</td>\n    </tr>\n    <tr>\n      <th>3</th>\n      <td>GIAMBELLINO</td>\n      <td>9.153322</td>\n      <td>45.452348</td>\n      <td>acqua</td>\n      <td>NaN</td>\n      <td>NaN</td>\n      <td>NaN</td>\n      <td>NaN</td>\n      <td>4673.6</td>\n      <td>4673.6</td>\n      <td>...</td>\n      <td>3846.8</td>\n      <td>7651.5</td>\n      <td>7651.5</td>\n      <td>7651.5</td>\n      <td>7651.5</td>\n      <td>7651.5</td>\n      <td>7651.5</td>\n      <td>7651.5</td>\n      <td>7651.5</td>\n      <td>7651.5</td>\n    </tr>\n    <tr>\n      <th>4</th>\n      <td>GRATOSOGLIO - Q.RE MISSAGLIA - Q.RE TERRAZZE</td>\n      <td>9.171006</td>\n      <td>45.408128</td>\n      <td>acqua</td>\n      <td>NaN</td>\n      <td>NaN</td>\n      <td>NaN</td>\n      <td>NaN</td>\n      <td>5655.9</td>\n      <td>5655.9</td>\n      <td>...</td>\n      <td>8094.3</td>\n      <td>10803.3</td>\n      <td>10803.3</td>\n      <td>10803.3</td>\n      <td>10803.3</td>\n      <td>10803.3</td>\n      <td>10803.3</td>\n      <td>10803.3</td>\n      <td>10803.3</td>\n      <td>10803.3</td>\n    </tr>\n  </tbody>\n</table>\n<p>5 rows × 988 columns</p>\n</div>"
     },
     "execution_count": 2,
     "metadata": {},
     "output_type": "execute_result"
    }
   ],
   "source": [
    "calc_df=pd.read_csv('../outputs/calc_dataset.csv', low_memory=False)\n",
    "calc_df=calc_df.drop(['Unnamed: 0',], axis=1)\n",
    "calc_df.head()"
   ],
   "metadata": {
    "collapsed": false,
    "ExecuteTime": {
     "end_time": "2023-06-29T13:31:48.939967400Z",
     "start_time": "2023-06-29T13:31:46.429819900Z"
    }
   }
  },
  {
   "cell_type": "code",
   "execution_count": 3,
   "outputs": [
    {
     "data": {
      "text/plain": "                          name      long        lat df_name  \\\n0                          NaN  9.215730  45.490859   distr   \n1                          NaN  9.192669  45.475107   distr   \n2                      verzeri       NaN        NaN   distr   \n3                          NaN  9.174148  45.481307   distr   \n4     riparaz. contachilometri  9.166031  45.481957   distr   \n...                        ...       ...        ...     ...   \n1022                       NaN       NaN        NaN   distr   \n1023      la rinascente s.p.a.  9.191865  45.465372   distr   \n1024                       NaN       NaN        NaN   distr   \n1025                       NaN       NaN        NaN   distr   \n1026                       NaN       NaN        NaN   distr   \n\n                                                   cat1  cat2  \\\n0                                        non alimentare   NaN   \n1                                        non alimentare   NaN   \n2                                        non alimentare   NaN   \n3                             alimentare|non alimentare   NaN   \n4                                        non alimentare   NaN   \n...                                                 ...   ...   \n1022                                                NaN   NaN   \n1023                          Alimentare|Non Alimentare   NaN   \n1024                                                NaN   NaN   \n1025                          alimentare|non alimentare   NaN   \n1026  Alimentare|Non Alimentare|Tabella speciale Far...   NaN   \n\n                 cat1_name  cat2_name  10001708  10001709  ...  51039101  \\\n0     settore_merceologico        NaN    3715.7    3715.7  ...    5219.2   \n1     settore_merceologico        NaN    3227.0    3227.0  ...    3868.7   \n2     settore_merceologico        NaN       NaN       NaN  ...       NaN   \n3     settore_merceologico        NaN    4480.2    4480.2  ...    2663.2   \n4     settore_merceologico        NaN    4809.1    4809.1  ...    2140.9   \n...                    ...        ...       ...       ...  ...       ...   \n1022  settore_merceologico        NaN       NaN       NaN  ...       NaN   \n1023  settore_merceologico        NaN    2627.3    2627.3  ...    4258.5   \n1024  settore_merceologico        NaN       NaN       NaN  ...       NaN   \n1025  settore_merceologico        NaN       NaN       NaN  ...       NaN   \n1026  settore_merceologico        NaN       NaN       NaN  ...       NaN   \n\n      51039401  51039402  51039403  51039404  51039405  51039406  51039407  \\\n0       5117.1    5117.1    5117.1    5117.1    5117.1    5117.1    5117.1   \n1       5256.0    5256.0    5256.0    5256.0    5256.0    5256.0    5256.0   \n2          NaN       NaN       NaN       NaN       NaN       NaN       NaN   \n3       4789.7    4789.7    4789.7    4789.7    4789.7    4789.7    4789.7   \n4       5045.4    5045.4    5045.4    5045.4    5045.4    5045.4    5045.4   \n...        ...       ...       ...       ...       ...       ...       ...   \n1022       NaN       NaN       NaN       NaN       NaN       NaN       NaN   \n1023    5986.6    5986.6    5986.6    5986.6    5986.6    5986.6    5986.6   \n1024       NaN       NaN       NaN       NaN       NaN       NaN       NaN   \n1025       NaN       NaN       NaN       NaN       NaN       NaN       NaN   \n1026       NaN       NaN       NaN       NaN       NaN       NaN       NaN   \n\n      51039408  51039410  \n0       5117.1    5117.1  \n1       5256.0    5256.0  \n2          NaN       NaN  \n3       4789.7    4789.7  \n4       5045.4    5045.4  \n...        ...       ...  \n1022       NaN       NaN  \n1023    5986.6    5986.6  \n1024       NaN       NaN  \n1025       NaN       NaN  \n1026       NaN       NaN  \n\n[1027 rows x 988 columns]",
      "text/html": "<div>\n<style scoped>\n    .dataframe tbody tr th:only-of-type {\n        vertical-align: middle;\n    }\n\n    .dataframe tbody tr th {\n        vertical-align: top;\n    }\n\n    .dataframe thead th {\n        text-align: right;\n    }\n</style>\n<table border=\"1\" class=\"dataframe\">\n  <thead>\n    <tr style=\"text-align: right;\">\n      <th></th>\n      <th>name</th>\n      <th>long</th>\n      <th>lat</th>\n      <th>df_name</th>\n      <th>cat1</th>\n      <th>cat2</th>\n      <th>cat1_name</th>\n      <th>cat2_name</th>\n      <th>10001708</th>\n      <th>10001709</th>\n      <th>...</th>\n      <th>51039101</th>\n      <th>51039401</th>\n      <th>51039402</th>\n      <th>51039403</th>\n      <th>51039404</th>\n      <th>51039405</th>\n      <th>51039406</th>\n      <th>51039407</th>\n      <th>51039408</th>\n      <th>51039410</th>\n    </tr>\n  </thead>\n  <tbody>\n    <tr>\n      <th>0</th>\n      <td>NaN</td>\n      <td>9.215730</td>\n      <td>45.490859</td>\n      <td>distr</td>\n      <td>non alimentare</td>\n      <td>NaN</td>\n      <td>settore_merceologico</td>\n      <td>NaN</td>\n      <td>3715.7</td>\n      <td>3715.7</td>\n      <td>...</td>\n      <td>5219.2</td>\n      <td>5117.1</td>\n      <td>5117.1</td>\n      <td>5117.1</td>\n      <td>5117.1</td>\n      <td>5117.1</td>\n      <td>5117.1</td>\n      <td>5117.1</td>\n      <td>5117.1</td>\n      <td>5117.1</td>\n    </tr>\n    <tr>\n      <th>1</th>\n      <td>NaN</td>\n      <td>9.192669</td>\n      <td>45.475107</td>\n      <td>distr</td>\n      <td>non alimentare</td>\n      <td>NaN</td>\n      <td>settore_merceologico</td>\n      <td>NaN</td>\n      <td>3227.0</td>\n      <td>3227.0</td>\n      <td>...</td>\n      <td>3868.7</td>\n      <td>5256.0</td>\n      <td>5256.0</td>\n      <td>5256.0</td>\n      <td>5256.0</td>\n      <td>5256.0</td>\n      <td>5256.0</td>\n      <td>5256.0</td>\n      <td>5256.0</td>\n      <td>5256.0</td>\n    </tr>\n    <tr>\n      <th>2</th>\n      <td>verzeri</td>\n      <td>NaN</td>\n      <td>NaN</td>\n      <td>distr</td>\n      <td>non alimentare</td>\n      <td>NaN</td>\n      <td>settore_merceologico</td>\n      <td>NaN</td>\n      <td>NaN</td>\n      <td>NaN</td>\n      <td>...</td>\n      <td>NaN</td>\n      <td>NaN</td>\n      <td>NaN</td>\n      <td>NaN</td>\n      <td>NaN</td>\n      <td>NaN</td>\n      <td>NaN</td>\n      <td>NaN</td>\n      <td>NaN</td>\n      <td>NaN</td>\n    </tr>\n    <tr>\n      <th>3</th>\n      <td>NaN</td>\n      <td>9.174148</td>\n      <td>45.481307</td>\n      <td>distr</td>\n      <td>alimentare|non alimentare</td>\n      <td>NaN</td>\n      <td>settore_merceologico</td>\n      <td>NaN</td>\n      <td>4480.2</td>\n      <td>4480.2</td>\n      <td>...</td>\n      <td>2663.2</td>\n      <td>4789.7</td>\n      <td>4789.7</td>\n      <td>4789.7</td>\n      <td>4789.7</td>\n      <td>4789.7</td>\n      <td>4789.7</td>\n      <td>4789.7</td>\n      <td>4789.7</td>\n      <td>4789.7</td>\n    </tr>\n    <tr>\n      <th>4</th>\n      <td>riparaz. contachilometri</td>\n      <td>9.166031</td>\n      <td>45.481957</td>\n      <td>distr</td>\n      <td>non alimentare</td>\n      <td>NaN</td>\n      <td>settore_merceologico</td>\n      <td>NaN</td>\n      <td>4809.1</td>\n      <td>4809.1</td>\n      <td>...</td>\n      <td>2140.9</td>\n      <td>5045.4</td>\n      <td>5045.4</td>\n      <td>5045.4</td>\n      <td>5045.4</td>\n      <td>5045.4</td>\n      <td>5045.4</td>\n      <td>5045.4</td>\n      <td>5045.4</td>\n      <td>5045.4</td>\n    </tr>\n    <tr>\n      <th>...</th>\n      <td>...</td>\n      <td>...</td>\n      <td>...</td>\n      <td>...</td>\n      <td>...</td>\n      <td>...</td>\n      <td>...</td>\n      <td>...</td>\n      <td>...</td>\n      <td>...</td>\n      <td>...</td>\n      <td>...</td>\n      <td>...</td>\n      <td>...</td>\n      <td>...</td>\n      <td>...</td>\n      <td>...</td>\n      <td>...</td>\n      <td>...</td>\n      <td>...</td>\n      <td>...</td>\n    </tr>\n    <tr>\n      <th>1022</th>\n      <td>NaN</td>\n      <td>NaN</td>\n      <td>NaN</td>\n      <td>distr</td>\n      <td>NaN</td>\n      <td>NaN</td>\n      <td>settore_merceologico</td>\n      <td>NaN</td>\n      <td>NaN</td>\n      <td>NaN</td>\n      <td>...</td>\n      <td>NaN</td>\n      <td>NaN</td>\n      <td>NaN</td>\n      <td>NaN</td>\n      <td>NaN</td>\n      <td>NaN</td>\n      <td>NaN</td>\n      <td>NaN</td>\n      <td>NaN</td>\n      <td>NaN</td>\n    </tr>\n    <tr>\n      <th>1023</th>\n      <td>la rinascente s.p.a.</td>\n      <td>9.191865</td>\n      <td>45.465372</td>\n      <td>distr</td>\n      <td>Alimentare|Non Alimentare</td>\n      <td>NaN</td>\n      <td>settore_merceologico</td>\n      <td>NaN</td>\n      <td>2627.3</td>\n      <td>2627.3</td>\n      <td>...</td>\n      <td>4258.5</td>\n      <td>5986.6</td>\n      <td>5986.6</td>\n      <td>5986.6</td>\n      <td>5986.6</td>\n      <td>5986.6</td>\n      <td>5986.6</td>\n      <td>5986.6</td>\n      <td>5986.6</td>\n      <td>5986.6</td>\n    </tr>\n    <tr>\n      <th>1024</th>\n      <td>NaN</td>\n      <td>NaN</td>\n      <td>NaN</td>\n      <td>distr</td>\n      <td>NaN</td>\n      <td>NaN</td>\n      <td>settore_merceologico</td>\n      <td>NaN</td>\n      <td>NaN</td>\n      <td>NaN</td>\n      <td>...</td>\n      <td>NaN</td>\n      <td>NaN</td>\n      <td>NaN</td>\n      <td>NaN</td>\n      <td>NaN</td>\n      <td>NaN</td>\n      <td>NaN</td>\n      <td>NaN</td>\n      <td>NaN</td>\n      <td>NaN</td>\n    </tr>\n    <tr>\n      <th>1025</th>\n      <td>NaN</td>\n      <td>NaN</td>\n      <td>NaN</td>\n      <td>distr</td>\n      <td>alimentare|non alimentare</td>\n      <td>NaN</td>\n      <td>settore_merceologico</td>\n      <td>NaN</td>\n      <td>NaN</td>\n      <td>NaN</td>\n      <td>...</td>\n      <td>NaN</td>\n      <td>NaN</td>\n      <td>NaN</td>\n      <td>NaN</td>\n      <td>NaN</td>\n      <td>NaN</td>\n      <td>NaN</td>\n      <td>NaN</td>\n      <td>NaN</td>\n      <td>NaN</td>\n    </tr>\n    <tr>\n      <th>1026</th>\n      <td>NaN</td>\n      <td>NaN</td>\n      <td>NaN</td>\n      <td>distr</td>\n      <td>Alimentare|Non Alimentare|Tabella speciale Far...</td>\n      <td>NaN</td>\n      <td>settore_merceologico</td>\n      <td>NaN</td>\n      <td>NaN</td>\n      <td>NaN</td>\n      <td>...</td>\n      <td>NaN</td>\n      <td>NaN</td>\n      <td>NaN</td>\n      <td>NaN</td>\n      <td>NaN</td>\n      <td>NaN</td>\n      <td>NaN</td>\n      <td>NaN</td>\n      <td>NaN</td>\n      <td>NaN</td>\n    </tr>\n  </tbody>\n</table>\n<p>1027 rows × 988 columns</p>\n</div>"
     },
     "execution_count": 3,
     "metadata": {},
     "output_type": "execute_result"
    }
   ],
   "source": [
    "distr_df=pd.read_csv('../outputs/fixed_dataset.csv', low_memory=False)\n",
    "distr_df=distr_df.drop(['Unnamed: 0',], axis=1)\n",
    "distr_df"
   ],
   "metadata": {
    "collapsed": false,
    "ExecuteTime": {
     "end_time": "2023-06-29T13:31:49.222460900Z",
     "start_time": "2023-06-29T13:31:48.939967400Z"
    }
   }
  },
  {
   "cell_type": "code",
   "execution_count": 4,
   "outputs": [
    {
     "name": "stdout",
     "output_type": "stream",
     "text": [
      "Fixed and original dataset have same lenght? True\n"
     ]
    }
   ],
   "source": [
    "#replacing distr_df as they were not correctly geocoded\n",
    "calc_df_fixed = calc_df.drop(calc_df[calc_df.df_name=='distr'].index)\n",
    "calc_df_fixed = pd.concat([calc_df_fixed, distr_df])\n",
    "print('Fixed and original dataset have same lenght?', len(calc_df_fixed)==len(calc_df))\n",
    "if len(calc_df_fixed)==len(calc_df):\n",
    "    calc_df_fixed.to_csv('../outputs/calc_fixed_df.csv', index=False)"
   ],
   "metadata": {
    "collapsed": false,
    "ExecuteTime": {
     "end_time": "2023-06-29T13:31:49.479106400Z",
     "start_time": "2023-06-29T13:31:49.222460900Z"
    }
   }
  }
 ],
 "metadata": {
  "kernelspec": {
   "display_name": "Python 3",
   "language": "python",
   "name": "python3"
  },
  "language_info": {
   "codemirror_mode": {
    "name": "ipython",
    "version": 2
   },
   "file_extension": ".py",
   "mimetype": "text/x-python",
   "name": "python",
   "nbconvert_exporter": "python",
   "pygments_lexer": "ipython2",
   "version": "2.7.6"
  }
 },
 "nbformat": 4,
 "nbformat_minor": 0
}
